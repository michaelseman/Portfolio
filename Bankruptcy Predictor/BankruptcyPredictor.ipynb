{
  "cells": [
    {
      "cell_type": "code",
      "source": [
        "# https://colab.research.google.com/drive/1frKGhhGeYSlIIxfmbZOHyaO_AQxmBZzs?usp=sharing#scrollTo=kGLd3nEREA0M"
      ],
      "metadata": {
        "id": "KbEZ9kFB2YTF"
      },
      "execution_count": null,
      "outputs": []
    },
    {
      "cell_type": "markdown",
      "metadata": {
        "id": "u3PcHspuyPXq"
      },
      "source": [
        "**Building a ML Model for the Bankruptcy Dataset**\n",
        "---\n",
        "- Joemichael Alvarez\n",
        "- Frank Rodriguez\n",
        "- Michael Seman\n",
        "\n",
        "\n",
        "Here is the link to our dataset:\n",
        "https://www.kaggle.com/datasets/fedesoriano/company-bankruptcy-prediction\n",
        "\n",
        "With this dataset, we will build a ML model that predict if a company will go bankrupt or not.\n",
        "\n",
        "We will perform EDA, Data Cleaning, Model Building, Testing, and Tuning."
      ]
    },
    {
      "cell_type": "markdown",
      "metadata": {
        "id": "qCP_uKYQ41I4"
      },
      "source": [
        "A machine learning project may not be linear, but it has a number of well known steps:\n",
        "\n",
        "\n",
        "\n",
        "1.   Define Problem\n",
        "2.   Prepare Data\n",
        "3.   Evaluate Algorithms\n",
        "4.   Improve Results\n",
        "5.   Present Results\n",
        "\n",
        "\n"
      ]
    },
    {
      "cell_type": "code",
      "execution_count": null,
      "metadata": {
        "colab": {
          "base_uri": "https://localhost:8080/"
        },
        "id": "a0d-DfkG5QtS",
        "outputId": "a4bb5abc-e7e9-45ed-9896-ce3c51f607b7"
      },
      "outputs": [
        {
          "output_type": "stream",
          "name": "stdout",
          "text": [
            "Python: 3.8.15 (default, Oct 12 2022, 19:14:39) \n",
            "[GCC 7.5.0]\n",
            "scipy: 1.7.3\n",
            "numpy: 1.21.6\n",
            "matplotlib: 3.2.2\n",
            "pandas: 1.3.5\n",
            "sklearn: 1.0.2\n"
          ]
        }
      ],
      "source": [
        "# Check the versions of libraries\n",
        " \n",
        "# Python version\n",
        "import sys\n",
        "print('Python: {}'.format(sys.version))\n",
        "# scipy\n",
        "import scipy\n",
        "print('scipy: {}'.format(scipy.__version__))\n",
        "# numpy\n",
        "import numpy as np\n",
        "print('numpy: {}'.format(np.__version__))\n",
        "# matplotlib\n",
        "import matplotlib\n",
        "print('matplotlib: {}'.format(matplotlib.__version__))\n",
        "# pandas\n",
        "import pandas as pd\n",
        "print('pandas: {}'.format(pd.__version__))\n",
        "# scikit-learn\n",
        "import sklearn\n",
        "print('sklearn: {}'.format(sklearn.__version__))"
      ]
    },
    {
      "cell_type": "code",
      "execution_count": null,
      "metadata": {
        "id": "uqNPX4rajN_5"
      },
      "outputs": [],
      "source": [
        "# Set the Environment\n",
        "# Ignore Warnings\n",
        "import warnings\n",
        "warnings.simplefilter(action='ignore', category=FutureWarning)\n",
        "\n",
        "#Write out the versions of all packages to requirements.txt\n",
        "!pip freeze >> requirements.txt\n",
        "\n",
        "# Remove the restriction on Jupyter that limits the columns displayed (the ... in the middle)\n",
        "pd.set_option('max_columns',None)\n",
        "pd.set_option('display.max_rows', None)\n",
        "# Docs: https://pandas.pydata.org/pandas-docs/stable/reference/api/pandas.set_option.html#\n",
        "\n",
        "# Pretty Display of variables.  for instance, you can call df.head() and df.tail() in the same cell and BOTH display w/o print\n",
        "from IPython.core.interactiveshell import InteractiveShell\n",
        "InteractiveShell.ast_node_interactivity = \"all\"\n",
        "\n",
        "# List of ALL Magic Commands.  To run a magic command %var  --- i.e.:  %env\n",
        "%lsmagic\n",
        "# %env  -- list environment variables\n",
        "# %%time  -- gives you information about how long a cel took to run\n",
        "# %%timeit -- runs a cell 100,000 times and then gives you the average time the cell will take to run (can be LONG)\n",
        "# %pdb -- python debugger\n",
        "\n",
        "# to display nice model diagram\n",
        "from sklearn import set_config\n",
        "set_config(display='diagram')\n",
        "\n",
        "# Python ≥3.5 is required\n",
        "import sys\n",
        "assert sys.version_info >= (3, 5)\n",
        "\n",
        "# Scikit-Learn ≥0.20 is required\n",
        "import sklearn\n",
        "assert sklearn.__version__ >= \"0.20\"\n"
      ]
    },
    {
      "cell_type": "markdown",
      "metadata": {
        "id": "lKQiIpLP5zmn"
      },
      "source": [
        "**Load The Data**\n",
        "---\n",
        "We are going to use the iris flowers dataset. This dataset is famous because it is used as the “hello world” dataset in machine learning and statistics by pretty much everyone.\n",
        "\n",
        "The dataset contains 150 observations of iris flowers. There are four columns of measurements of the flowers in centimeters. The fifth column is the species of the flower observed. All observed flowers belong to one of three species.\n",
        "\n",
        "```\n",
        "# This is formatted as code\n",
        "```\n",
        "\n",
        "\n"
      ]
    },
    {
      "cell_type": "code",
      "execution_count": null,
      "metadata": {
        "id": "xJBaDish53DM"
      },
      "outputs": [],
      "source": [
        "# Imported and loaded additional libraries\n",
        "\n",
        "import matplotlib.pyplot as plt\n",
        "import seaborn as sns\n",
        "from pandas import read_csv\n",
        "from pandas.plotting import scatter_matrix\n",
        "from matplotlib import pyplot\n",
        "from sklearn.model_selection import train_test_split\n",
        "from sklearn.model_selection import cross_val_score\n",
        "from sklearn.model_selection import StratifiedKFold\n",
        "from sklearn.metrics import classification_report\n",
        "from sklearn.metrics import confusion_matrix\n",
        "from sklearn.metrics import accuracy_score\n",
        "from sklearn.linear_model import LogisticRegression\n",
        "from sklearn.tree import DecisionTreeClassifier\n",
        "from sklearn.neighbors import KNeighborsClassifier\n",
        "from sklearn.discriminant_analysis import LinearDiscriminantAnalysis\n",
        "from sklearn.naive_bayes import GaussianNB\n",
        "from sklearn.svm import SVC"
      ]
    },
    {
      "cell_type": "code",
      "execution_count": null,
      "metadata": {
        "id": "6qCf1YMP6eFJ"
      },
      "outputs": [],
      "source": [
        "# Loading the Dataset \n",
        "\n",
        "url = \"https://github.com/AlvarezJoe/Datasets/raw/main/bankruptcy_data.csv\"\n",
        "df = read_csv(url)"
      ]
    },
    {
      "cell_type": "markdown",
      "metadata": {
        "id": "L56VrCKtlHo1"
      },
      "source": []
    },
    {
      "cell_type": "markdown",
      "metadata": {
        "id": "Lwb1U0TG8GLX"
      },
      "source": [
        "**Summarize the Dataset**\n",
        "---\n",
        "Now it is time to take a look at the data. In this step we are going to take a look at the data a few different ways:\n",
        "\n",
        "\n",
        "\n",
        "1.   Dimensions of the dataset.\n",
        "2.   Peek at the data itself.\n",
        "3.   Statistical summary of all attributes.\n",
        "4.   Breakdown of the data by the class variable.\n",
        "\n",
        "Don’t worry, each look at the data is one command. These are useful\n",
        "commands that you can use again and again on future projects."
      ]
    },
    {
      "cell_type": "markdown",
      "metadata": {
        "id": "N4Ri7zhg87-W"
      },
      "source": [
        "Dimensions of Dataset\n",
        "---\n",
        "We can get a quick idea of how many instances (rows) and how many attributes (columns) the data contains with the shape property."
      ]
    },
    {
      "cell_type": "code",
      "execution_count": null,
      "metadata": {
        "colab": {
          "base_uri": "https://localhost:8080/"
        },
        "id": "wZUpy_BPova1",
        "outputId": "56485b77-89eb-49eb-92dc-3fe33211a9c1"
      },
      "outputs": [
        {
          "output_type": "execute_result",
          "data": {
            "text/plain": [
              "(6819, 96)"
            ]
          },
          "metadata": {},
          "execution_count": 65
        }
      ],
      "source": [
        "# The function below shows the dimensions of our dataset: 6819 rows and 96 different columns\n",
        "\n",
        "df.shape"
      ]
    },
    {
      "cell_type": "code",
      "source": [
        "df.shape"
      ],
      "metadata": {
        "colab": {
          "base_uri": "https://localhost:8080/"
        },
        "id": "dxayo8gWzK97",
        "outputId": "1aed2536-a008-4bed-da1d-8536bdb92e49"
      },
      "execution_count": null,
      "outputs": [
        {
          "output_type": "execute_result",
          "data": {
            "text/plain": [
              "(6819, 96)"
            ]
          },
          "metadata": {},
          "execution_count": 20
        }
      ]
    },
    {
      "cell_type": "code",
      "execution_count": null,
      "metadata": {
        "colab": {
          "base_uri": "https://localhost:8080/",
          "height": 298
        },
        "id": "P70SHhVAhHKc",
        "outputId": "be8c5646-abf5-4dd9-bafb-e3505777fdcd"
      },
      "outputs": [
        {
          "output_type": "execute_result",
          "data": {
            "text/plain": [
              "   Bankrupt?   ROA(C) before interest and depreciation before interest  \\\n",
              "0          1                                           0.370594          \n",
              "1          1                                           0.464291          \n",
              "\n",
              "    ROA(A) before interest and % after tax  \\\n",
              "0                                 0.424389   \n",
              "1                                 0.538214   \n",
              "\n",
              "    ROA(B) before interest and depreciation after tax  \\\n",
              "0                                            0.40575    \n",
              "1                                            0.51673    \n",
              "\n",
              "    Operating Gross Margin   Realized Sales Gross Margin  \\\n",
              "0                 0.601457                      0.601457   \n",
              "1                 0.610235                      0.610235   \n",
              "\n",
              "    Operating Profit Rate   Pre-tax net Interest Rate  \\\n",
              "0                0.998969                    0.796887   \n",
              "1                0.998946                    0.797380   \n",
              "\n",
              "    After-tax net Interest Rate   Non-industry income and expenditure/revenue  \\\n",
              "0                      0.808809                                      0.302646   \n",
              "1                      0.809301                                      0.303556   \n",
              "\n",
              "    Continuous interest rate (after tax)   Operating Expense Rate  \\\n",
              "0                               0.780985                 0.000126   \n",
              "1                               0.781506                 0.000290   \n",
              "\n",
              "    Research and development expense rate   Cash flow rate  \\\n",
              "0                                     0.0         0.458143   \n",
              "1                                     0.0         0.461867   \n",
              "\n",
              "    Interest-bearing debt interest rate   Tax rate (A)  \\\n",
              "0                              0.000725            0.0   \n",
              "1                              0.000647            0.0   \n",
              "\n",
              "    Net Value Per Share (B)   Net Value Per Share (A)  \\\n",
              "0                  0.147950                  0.147950   \n",
              "1                  0.182251                  0.182251   \n",
              "\n",
              "    Net Value Per Share (C)   Persistent EPS in the Last Four Seasons  \\\n",
              "0                  0.147950                                  0.169141   \n",
              "1                  0.182251                                  0.208944   \n",
              "\n",
              "    Cash Flow Per Share   Revenue Per Share (Yuan ¥)  \\\n",
              "0              0.311664                     0.017560   \n",
              "1              0.318137                     0.021144   \n",
              "\n",
              "    Operating Profit Per Share (Yuan ¥)  \\\n",
              "0                              0.095921   \n",
              "1                              0.093722   \n",
              "\n",
              "    Per Share Net profit before tax (Yuan ¥)  \\\n",
              "0                                   0.138736   \n",
              "1                                   0.169918   \n",
              "\n",
              "    Realized Sales Gross Profit Growth Rate   Operating Profit Growth Rate  \\\n",
              "0                                  0.022102                       0.848195   \n",
              "1                                  0.022080                       0.848088   \n",
              "\n",
              "    After-tax Net Profit Growth Rate   Regular Net Profit Growth Rate  \\\n",
              "0                           0.688979                         0.688979   \n",
              "1                           0.689693                         0.689702   \n",
              "\n",
              "    Continuous Net Profit Growth Rate   Total Asset Growth Rate  \\\n",
              "0                            0.217535              4.980000e+09   \n",
              "1                            0.217620              6.110000e+09   \n",
              "\n",
              "    Net Value Growth Rate   Total Asset Return Growth Rate Ratio  \\\n",
              "0                0.000327                               0.263100   \n",
              "1                0.000443                               0.264516   \n",
              "\n",
              "    Cash Reinvestment %   Current Ratio   Quick Ratio  \\\n",
              "0              0.363725        0.002259      0.001208   \n",
              "1              0.376709        0.006016      0.004039   \n",
              "\n",
              "    Interest Expense Ratio   Total debt/Total net worth   Debt ratio %  \\\n",
              "0                 0.629951                     0.021266       0.207576   \n",
              "1                 0.635172                     0.012502       0.171176   \n",
              "\n",
              "    Net worth/Assets   Long-term fund suitability ratio (A)  \\\n",
              "0           0.792424                               0.005024   \n",
              "1           0.828824                               0.005059   \n",
              "\n",
              "    Borrowing dependency   Contingent liabilities/Net worth  \\\n",
              "0               0.390284                           0.006479   \n",
              "1               0.376760                           0.005835   \n",
              "\n",
              "    Operating profit/Paid-in capital   Net profit before tax/Paid-in capital  \\\n",
              "0                           0.095885                                0.137757   \n",
              "1                           0.093743                                0.168962   \n",
              "\n",
              "    Inventory and accounts receivable/Net value   Total Asset Turnover  \\\n",
              "0                                      0.398036               0.086957   \n",
              "1                                      0.397725               0.064468   \n",
              "\n",
              "    Accounts Receivable Turnover   Average Collection Days  \\\n",
              "0                       0.001814                  0.003487   \n",
              "1                       0.001286                  0.004917   \n",
              "\n",
              "    Inventory Turnover Rate (times)   Fixed Assets Turnover Frequency  \\\n",
              "0                      1.820926e-04                      1.165007e-04   \n",
              "1                      9.360000e+09                      7.190000e+08   \n",
              "\n",
              "    Net Worth Turnover Rate (times)   Revenue per person  \\\n",
              "0                          0.032903             0.034164   \n",
              "1                          0.025484             0.006889   \n",
              "\n",
              "    Operating profit per person   Allocation rate per person  \\\n",
              "0                      0.392913                     0.037135   \n",
              "1                      0.391590                     0.012335   \n",
              "\n",
              "    Working Capital to Total Assets   Quick Assets/Total Assets  \\\n",
              "0                          0.672775                    0.166673   \n",
              "1                          0.751111                    0.127236   \n",
              "\n",
              "    Current Assets/Total Assets   Cash/Total Assets  \\\n",
              "0                      0.190643            0.004094   \n",
              "1                      0.182419            0.014948   \n",
              "\n",
              "    Quick Assets/Current Liability   Cash/Current Liability  \\\n",
              "0                         0.001997                 0.000147   \n",
              "1                         0.004136                 0.001384   \n",
              "\n",
              "    Current Liability to Assets   Operating Funds to Liability  \\\n",
              "0                      0.147308                       0.334015   \n",
              "1                      0.056963                       0.341106   \n",
              "\n",
              "    Inventory/Working Capital   Inventory/Current Liability  \\\n",
              "0                    0.276920                      0.001036   \n",
              "1                    0.289642                      0.005210   \n",
              "\n",
              "    Current Liabilities/Liability   Working Capital/Equity  \\\n",
              "0                        0.676269                 0.721275   \n",
              "1                        0.308589                 0.731975   \n",
              "\n",
              "    Current Liabilities/Equity   Long-term Liability to Current Assets  \\\n",
              "0                     0.339077                                0.025592   \n",
              "1                     0.329740                                0.023947   \n",
              "\n",
              "    Retained Earnings to Total Assets   Total income/Total expense  \\\n",
              "0                            0.903225                     0.002022   \n",
              "1                            0.931065                     0.002226   \n",
              "\n",
              "    Total expense/Assets   Current Asset Turnover Rate  \\\n",
              "0               0.064856                  7.010000e+08   \n",
              "1               0.025516                  1.065198e-04   \n",
              "\n",
              "    Quick Asset Turnover Rate   Working capitcal Turnover Rate  \\\n",
              "0                6.550000e+09                         0.593831   \n",
              "1                7.700000e+09                         0.593916   \n",
              "\n",
              "    Cash Turnover Rate   Cash Flow to Sales   Fixed Assets to Assets  \\\n",
              "0         4.580000e+08             0.671568                 0.424206   \n",
              "1         2.490000e+09             0.671570                 0.468828   \n",
              "\n",
              "    Current Liability to Liability   Current Liability to Equity  \\\n",
              "0                         0.676269                      0.339077   \n",
              "1                         0.308589                      0.329740   \n",
              "\n",
              "    Equity to Long-term Liability   Cash Flow to Total Assets  \\\n",
              "0                        0.126549                    0.637555   \n",
              "1                        0.120916                    0.641100   \n",
              "\n",
              "    Cash Flow to Liability   CFO to Assets   Cash Flow to Equity  \\\n",
              "0                 0.458609        0.520382              0.312905   \n",
              "1                 0.459001        0.567101              0.314163   \n",
              "\n",
              "    Current Liability to Current Assets   Liability-Assets Flag  \\\n",
              "0                              0.118250                       0   \n",
              "1                              0.047775                       0   \n",
              "\n",
              "    Net Income to Total Assets   Total assets to GNP price  \\\n",
              "0                     0.716845                    0.009219   \n",
              "1                     0.795297                    0.008323   \n",
              "\n",
              "    No-credit Interval   Gross Profit to Sales  \\\n",
              "0             0.622879                0.601453   \n",
              "1             0.623652                0.610237   \n",
              "\n",
              "    Net Income to Stockholder's Equity   Liability to Equity  \\\n",
              "0                             0.827890              0.290202   \n",
              "1                             0.839969              0.283846   \n",
              "\n",
              "    Degree of Financial Leverage (DFL)  \\\n",
              "0                             0.026601   \n",
              "1                             0.264577   \n",
              "\n",
              "    Interest Coverage Ratio (Interest expense to EBIT)   Net Income Flag  \\\n",
              "0                                           0.564050                   1   \n",
              "1                                           0.570175                   1   \n",
              "\n",
              "    Equity to Liability  \n",
              "0              0.016469  \n",
              "1              0.020794  "
            ],
            "text/html": [
              "\n",
              "  <div id=\"df-18395ef0-ef86-405f-8007-5a721963cd35\">\n",
              "    <div class=\"colab-df-container\">\n",
              "      <div>\n",
              "<style scoped>\n",
              "    .dataframe tbody tr th:only-of-type {\n",
              "        vertical-align: middle;\n",
              "    }\n",
              "\n",
              "    .dataframe tbody tr th {\n",
              "        vertical-align: top;\n",
              "    }\n",
              "\n",
              "    .dataframe thead th {\n",
              "        text-align: right;\n",
              "    }\n",
              "</style>\n",
              "<table border=\"1\" class=\"dataframe\">\n",
              "  <thead>\n",
              "    <tr style=\"text-align: right;\">\n",
              "      <th></th>\n",
              "      <th>Bankrupt?</th>\n",
              "      <th>ROA(C) before interest and depreciation before interest</th>\n",
              "      <th>ROA(A) before interest and % after tax</th>\n",
              "      <th>ROA(B) before interest and depreciation after tax</th>\n",
              "      <th>Operating Gross Margin</th>\n",
              "      <th>Realized Sales Gross Margin</th>\n",
              "      <th>Operating Profit Rate</th>\n",
              "      <th>Pre-tax net Interest Rate</th>\n",
              "      <th>After-tax net Interest Rate</th>\n",
              "      <th>Non-industry income and expenditure/revenue</th>\n",
              "      <th>Continuous interest rate (after tax)</th>\n",
              "      <th>Operating Expense Rate</th>\n",
              "      <th>Research and development expense rate</th>\n",
              "      <th>Cash flow rate</th>\n",
              "      <th>Interest-bearing debt interest rate</th>\n",
              "      <th>Tax rate (A)</th>\n",
              "      <th>Net Value Per Share (B)</th>\n",
              "      <th>Net Value Per Share (A)</th>\n",
              "      <th>Net Value Per Share (C)</th>\n",
              "      <th>Persistent EPS in the Last Four Seasons</th>\n",
              "      <th>Cash Flow Per Share</th>\n",
              "      <th>Revenue Per Share (Yuan ¥)</th>\n",
              "      <th>Operating Profit Per Share (Yuan ¥)</th>\n",
              "      <th>Per Share Net profit before tax (Yuan ¥)</th>\n",
              "      <th>Realized Sales Gross Profit Growth Rate</th>\n",
              "      <th>Operating Profit Growth Rate</th>\n",
              "      <th>After-tax Net Profit Growth Rate</th>\n",
              "      <th>Regular Net Profit Growth Rate</th>\n",
              "      <th>Continuous Net Profit Growth Rate</th>\n",
              "      <th>Total Asset Growth Rate</th>\n",
              "      <th>Net Value Growth Rate</th>\n",
              "      <th>Total Asset Return Growth Rate Ratio</th>\n",
              "      <th>Cash Reinvestment %</th>\n",
              "      <th>Current Ratio</th>\n",
              "      <th>Quick Ratio</th>\n",
              "      <th>Interest Expense Ratio</th>\n",
              "      <th>Total debt/Total net worth</th>\n",
              "      <th>Debt ratio %</th>\n",
              "      <th>Net worth/Assets</th>\n",
              "      <th>Long-term fund suitability ratio (A)</th>\n",
              "      <th>Borrowing dependency</th>\n",
              "      <th>Contingent liabilities/Net worth</th>\n",
              "      <th>Operating profit/Paid-in capital</th>\n",
              "      <th>Net profit before tax/Paid-in capital</th>\n",
              "      <th>Inventory and accounts receivable/Net value</th>\n",
              "      <th>Total Asset Turnover</th>\n",
              "      <th>Accounts Receivable Turnover</th>\n",
              "      <th>Average Collection Days</th>\n",
              "      <th>Inventory Turnover Rate (times)</th>\n",
              "      <th>Fixed Assets Turnover Frequency</th>\n",
              "      <th>Net Worth Turnover Rate (times)</th>\n",
              "      <th>Revenue per person</th>\n",
              "      <th>Operating profit per person</th>\n",
              "      <th>Allocation rate per person</th>\n",
              "      <th>Working Capital to Total Assets</th>\n",
              "      <th>Quick Assets/Total Assets</th>\n",
              "      <th>Current Assets/Total Assets</th>\n",
              "      <th>Cash/Total Assets</th>\n",
              "      <th>Quick Assets/Current Liability</th>\n",
              "      <th>Cash/Current Liability</th>\n",
              "      <th>Current Liability to Assets</th>\n",
              "      <th>Operating Funds to Liability</th>\n",
              "      <th>Inventory/Working Capital</th>\n",
              "      <th>Inventory/Current Liability</th>\n",
              "      <th>Current Liabilities/Liability</th>\n",
              "      <th>Working Capital/Equity</th>\n",
              "      <th>Current Liabilities/Equity</th>\n",
              "      <th>Long-term Liability to Current Assets</th>\n",
              "      <th>Retained Earnings to Total Assets</th>\n",
              "      <th>Total income/Total expense</th>\n",
              "      <th>Total expense/Assets</th>\n",
              "      <th>Current Asset Turnover Rate</th>\n",
              "      <th>Quick Asset Turnover Rate</th>\n",
              "      <th>Working capitcal Turnover Rate</th>\n",
              "      <th>Cash Turnover Rate</th>\n",
              "      <th>Cash Flow to Sales</th>\n",
              "      <th>Fixed Assets to Assets</th>\n",
              "      <th>Current Liability to Liability</th>\n",
              "      <th>Current Liability to Equity</th>\n",
              "      <th>Equity to Long-term Liability</th>\n",
              "      <th>Cash Flow to Total Assets</th>\n",
              "      <th>Cash Flow to Liability</th>\n",
              "      <th>CFO to Assets</th>\n",
              "      <th>Cash Flow to Equity</th>\n",
              "      <th>Current Liability to Current Assets</th>\n",
              "      <th>Liability-Assets Flag</th>\n",
              "      <th>Net Income to Total Assets</th>\n",
              "      <th>Total assets to GNP price</th>\n",
              "      <th>No-credit Interval</th>\n",
              "      <th>Gross Profit to Sales</th>\n",
              "      <th>Net Income to Stockholder's Equity</th>\n",
              "      <th>Liability to Equity</th>\n",
              "      <th>Degree of Financial Leverage (DFL)</th>\n",
              "      <th>Interest Coverage Ratio (Interest expense to EBIT)</th>\n",
              "      <th>Net Income Flag</th>\n",
              "      <th>Equity to Liability</th>\n",
              "    </tr>\n",
              "  </thead>\n",
              "  <tbody>\n",
              "    <tr>\n",
              "      <th>0</th>\n",
              "      <td>1</td>\n",
              "      <td>0.370594</td>\n",
              "      <td>0.424389</td>\n",
              "      <td>0.40575</td>\n",
              "      <td>0.601457</td>\n",
              "      <td>0.601457</td>\n",
              "      <td>0.998969</td>\n",
              "      <td>0.796887</td>\n",
              "      <td>0.808809</td>\n",
              "      <td>0.302646</td>\n",
              "      <td>0.780985</td>\n",
              "      <td>0.000126</td>\n",
              "      <td>0.0</td>\n",
              "      <td>0.458143</td>\n",
              "      <td>0.000725</td>\n",
              "      <td>0.0</td>\n",
              "      <td>0.147950</td>\n",
              "      <td>0.147950</td>\n",
              "      <td>0.147950</td>\n",
              "      <td>0.169141</td>\n",
              "      <td>0.311664</td>\n",
              "      <td>0.017560</td>\n",
              "      <td>0.095921</td>\n",
              "      <td>0.138736</td>\n",
              "      <td>0.022102</td>\n",
              "      <td>0.848195</td>\n",
              "      <td>0.688979</td>\n",
              "      <td>0.688979</td>\n",
              "      <td>0.217535</td>\n",
              "      <td>4.980000e+09</td>\n",
              "      <td>0.000327</td>\n",
              "      <td>0.263100</td>\n",
              "      <td>0.363725</td>\n",
              "      <td>0.002259</td>\n",
              "      <td>0.001208</td>\n",
              "      <td>0.629951</td>\n",
              "      <td>0.021266</td>\n",
              "      <td>0.207576</td>\n",
              "      <td>0.792424</td>\n",
              "      <td>0.005024</td>\n",
              "      <td>0.390284</td>\n",
              "      <td>0.006479</td>\n",
              "      <td>0.095885</td>\n",
              "      <td>0.137757</td>\n",
              "      <td>0.398036</td>\n",
              "      <td>0.086957</td>\n",
              "      <td>0.001814</td>\n",
              "      <td>0.003487</td>\n",
              "      <td>1.820926e-04</td>\n",
              "      <td>1.165007e-04</td>\n",
              "      <td>0.032903</td>\n",
              "      <td>0.034164</td>\n",
              "      <td>0.392913</td>\n",
              "      <td>0.037135</td>\n",
              "      <td>0.672775</td>\n",
              "      <td>0.166673</td>\n",
              "      <td>0.190643</td>\n",
              "      <td>0.004094</td>\n",
              "      <td>0.001997</td>\n",
              "      <td>0.000147</td>\n",
              "      <td>0.147308</td>\n",
              "      <td>0.334015</td>\n",
              "      <td>0.276920</td>\n",
              "      <td>0.001036</td>\n",
              "      <td>0.676269</td>\n",
              "      <td>0.721275</td>\n",
              "      <td>0.339077</td>\n",
              "      <td>0.025592</td>\n",
              "      <td>0.903225</td>\n",
              "      <td>0.002022</td>\n",
              "      <td>0.064856</td>\n",
              "      <td>7.010000e+08</td>\n",
              "      <td>6.550000e+09</td>\n",
              "      <td>0.593831</td>\n",
              "      <td>4.580000e+08</td>\n",
              "      <td>0.671568</td>\n",
              "      <td>0.424206</td>\n",
              "      <td>0.676269</td>\n",
              "      <td>0.339077</td>\n",
              "      <td>0.126549</td>\n",
              "      <td>0.637555</td>\n",
              "      <td>0.458609</td>\n",
              "      <td>0.520382</td>\n",
              "      <td>0.312905</td>\n",
              "      <td>0.118250</td>\n",
              "      <td>0</td>\n",
              "      <td>0.716845</td>\n",
              "      <td>0.009219</td>\n",
              "      <td>0.622879</td>\n",
              "      <td>0.601453</td>\n",
              "      <td>0.827890</td>\n",
              "      <td>0.290202</td>\n",
              "      <td>0.026601</td>\n",
              "      <td>0.564050</td>\n",
              "      <td>1</td>\n",
              "      <td>0.016469</td>\n",
              "    </tr>\n",
              "    <tr>\n",
              "      <th>1</th>\n",
              "      <td>1</td>\n",
              "      <td>0.464291</td>\n",
              "      <td>0.538214</td>\n",
              "      <td>0.51673</td>\n",
              "      <td>0.610235</td>\n",
              "      <td>0.610235</td>\n",
              "      <td>0.998946</td>\n",
              "      <td>0.797380</td>\n",
              "      <td>0.809301</td>\n",
              "      <td>0.303556</td>\n",
              "      <td>0.781506</td>\n",
              "      <td>0.000290</td>\n",
              "      <td>0.0</td>\n",
              "      <td>0.461867</td>\n",
              "      <td>0.000647</td>\n",
              "      <td>0.0</td>\n",
              "      <td>0.182251</td>\n",
              "      <td>0.182251</td>\n",
              "      <td>0.182251</td>\n",
              "      <td>0.208944</td>\n",
              "      <td>0.318137</td>\n",
              "      <td>0.021144</td>\n",
              "      <td>0.093722</td>\n",
              "      <td>0.169918</td>\n",
              "      <td>0.022080</td>\n",
              "      <td>0.848088</td>\n",
              "      <td>0.689693</td>\n",
              "      <td>0.689702</td>\n",
              "      <td>0.217620</td>\n",
              "      <td>6.110000e+09</td>\n",
              "      <td>0.000443</td>\n",
              "      <td>0.264516</td>\n",
              "      <td>0.376709</td>\n",
              "      <td>0.006016</td>\n",
              "      <td>0.004039</td>\n",
              "      <td>0.635172</td>\n",
              "      <td>0.012502</td>\n",
              "      <td>0.171176</td>\n",
              "      <td>0.828824</td>\n",
              "      <td>0.005059</td>\n",
              "      <td>0.376760</td>\n",
              "      <td>0.005835</td>\n",
              "      <td>0.093743</td>\n",
              "      <td>0.168962</td>\n",
              "      <td>0.397725</td>\n",
              "      <td>0.064468</td>\n",
              "      <td>0.001286</td>\n",
              "      <td>0.004917</td>\n",
              "      <td>9.360000e+09</td>\n",
              "      <td>7.190000e+08</td>\n",
              "      <td>0.025484</td>\n",
              "      <td>0.006889</td>\n",
              "      <td>0.391590</td>\n",
              "      <td>0.012335</td>\n",
              "      <td>0.751111</td>\n",
              "      <td>0.127236</td>\n",
              "      <td>0.182419</td>\n",
              "      <td>0.014948</td>\n",
              "      <td>0.004136</td>\n",
              "      <td>0.001384</td>\n",
              "      <td>0.056963</td>\n",
              "      <td>0.341106</td>\n",
              "      <td>0.289642</td>\n",
              "      <td>0.005210</td>\n",
              "      <td>0.308589</td>\n",
              "      <td>0.731975</td>\n",
              "      <td>0.329740</td>\n",
              "      <td>0.023947</td>\n",
              "      <td>0.931065</td>\n",
              "      <td>0.002226</td>\n",
              "      <td>0.025516</td>\n",
              "      <td>1.065198e-04</td>\n",
              "      <td>7.700000e+09</td>\n",
              "      <td>0.593916</td>\n",
              "      <td>2.490000e+09</td>\n",
              "      <td>0.671570</td>\n",
              "      <td>0.468828</td>\n",
              "      <td>0.308589</td>\n",
              "      <td>0.329740</td>\n",
              "      <td>0.120916</td>\n",
              "      <td>0.641100</td>\n",
              "      <td>0.459001</td>\n",
              "      <td>0.567101</td>\n",
              "      <td>0.314163</td>\n",
              "      <td>0.047775</td>\n",
              "      <td>0</td>\n",
              "      <td>0.795297</td>\n",
              "      <td>0.008323</td>\n",
              "      <td>0.623652</td>\n",
              "      <td>0.610237</td>\n",
              "      <td>0.839969</td>\n",
              "      <td>0.283846</td>\n",
              "      <td>0.264577</td>\n",
              "      <td>0.570175</td>\n",
              "      <td>1</td>\n",
              "      <td>0.020794</td>\n",
              "    </tr>\n",
              "  </tbody>\n",
              "</table>\n",
              "</div>\n",
              "      <button class=\"colab-df-convert\" onclick=\"convertToInteractive('df-18395ef0-ef86-405f-8007-5a721963cd35')\"\n",
              "              title=\"Convert this dataframe to an interactive table.\"\n",
              "              style=\"display:none;\">\n",
              "        \n",
              "  <svg xmlns=\"http://www.w3.org/2000/svg\" height=\"24px\"viewBox=\"0 0 24 24\"\n",
              "       width=\"24px\">\n",
              "    <path d=\"M0 0h24v24H0V0z\" fill=\"none\"/>\n",
              "    <path d=\"M18.56 5.44l.94 2.06.94-2.06 2.06-.94-2.06-.94-.94-2.06-.94 2.06-2.06.94zm-11 1L8.5 8.5l.94-2.06 2.06-.94-2.06-.94L8.5 2.5l-.94 2.06-2.06.94zm10 10l.94 2.06.94-2.06 2.06-.94-2.06-.94-.94-2.06-.94 2.06-2.06.94z\"/><path d=\"M17.41 7.96l-1.37-1.37c-.4-.4-.92-.59-1.43-.59-.52 0-1.04.2-1.43.59L10.3 9.45l-7.72 7.72c-.78.78-.78 2.05 0 2.83L4 21.41c.39.39.9.59 1.41.59.51 0 1.02-.2 1.41-.59l7.78-7.78 2.81-2.81c.8-.78.8-2.07 0-2.86zM5.41 20L4 18.59l7.72-7.72 1.47 1.35L5.41 20z\"/>\n",
              "  </svg>\n",
              "      </button>\n",
              "      \n",
              "  <style>\n",
              "    .colab-df-container {\n",
              "      display:flex;\n",
              "      flex-wrap:wrap;\n",
              "      gap: 12px;\n",
              "    }\n",
              "\n",
              "    .colab-df-convert {\n",
              "      background-color: #E8F0FE;\n",
              "      border: none;\n",
              "      border-radius: 50%;\n",
              "      cursor: pointer;\n",
              "      display: none;\n",
              "      fill: #1967D2;\n",
              "      height: 32px;\n",
              "      padding: 0 0 0 0;\n",
              "      width: 32px;\n",
              "    }\n",
              "\n",
              "    .colab-df-convert:hover {\n",
              "      background-color: #E2EBFA;\n",
              "      box-shadow: 0px 1px 2px rgba(60, 64, 67, 0.3), 0px 1px 3px 1px rgba(60, 64, 67, 0.15);\n",
              "      fill: #174EA6;\n",
              "    }\n",
              "\n",
              "    [theme=dark] .colab-df-convert {\n",
              "      background-color: #3B4455;\n",
              "      fill: #D2E3FC;\n",
              "    }\n",
              "\n",
              "    [theme=dark] .colab-df-convert:hover {\n",
              "      background-color: #434B5C;\n",
              "      box-shadow: 0px 1px 3px 1px rgba(0, 0, 0, 0.15);\n",
              "      filter: drop-shadow(0px 1px 2px rgba(0, 0, 0, 0.3));\n",
              "      fill: #FFFFFF;\n",
              "    }\n",
              "  </style>\n",
              "\n",
              "      <script>\n",
              "        const buttonEl =\n",
              "          document.querySelector('#df-18395ef0-ef86-405f-8007-5a721963cd35 button.colab-df-convert');\n",
              "        buttonEl.style.display =\n",
              "          google.colab.kernel.accessAllowed ? 'block' : 'none';\n",
              "\n",
              "        async function convertToInteractive(key) {\n",
              "          const element = document.querySelector('#df-18395ef0-ef86-405f-8007-5a721963cd35');\n",
              "          const dataTable =\n",
              "            await google.colab.kernel.invokeFunction('convertToInteractive',\n",
              "                                                     [key], {});\n",
              "          if (!dataTable) return;\n",
              "\n",
              "          const docLinkHtml = 'Like what you see? Visit the ' +\n",
              "            '<a target=\"_blank\" href=https://colab.research.google.com/notebooks/data_table.ipynb>data table notebook</a>'\n",
              "            + ' to learn more about interactive tables.';\n",
              "          element.innerHTML = '';\n",
              "          dataTable['output_type'] = 'display_data';\n",
              "          await google.colab.output.renderOutput(dataTable, element);\n",
              "          const docLink = document.createElement('div');\n",
              "          docLink.innerHTML = docLinkHtml;\n",
              "          element.appendChild(docLink);\n",
              "        }\n",
              "      </script>\n",
              "    </div>\n",
              "  </div>\n",
              "  "
            ]
          },
          "metadata": {},
          "execution_count": 21
        }
      ],
      "source": [
        "# The head function gets the first n many rows and in the case below, I just wanted the first 2 rows so n = 2, just trying to take a peek into the data\n",
        "\n",
        "df.head(2)"
      ]
    },
    {
      "cell_type": "markdown",
      "metadata": {
        "id": "X3Fml3Fg9deW"
      },
      "source": [
        "Statistical Summary\n",
        "---\n",
        "Now we can take a look at a summary of each attribute.This includes the count, mean, the min and max values as well as some percentiles."
      ]
    },
    {
      "cell_type": "code",
      "execution_count": null,
      "metadata": {
        "colab": {
          "base_uri": "https://localhost:8080/",
          "height": 451
        },
        "id": "ZrV_aZZ6o5tI",
        "outputId": "c4b8fe45-1a28-4697-fc3d-bfca6002c032"
      },
      "outputs": [
        {
          "output_type": "execute_result",
          "data": {
            "text/plain": [
              "         Bankrupt?   ROA(C) before interest and depreciation before interest  \\\n",
              "count  6819.000000                                        6819.000000          \n",
              "mean      0.032263                                           0.505180          \n",
              "std       0.176710                                           0.060686          \n",
              "min       0.000000                                           0.000000          \n",
              "25%       0.000000                                           0.476527          \n",
              "50%       0.000000                                           0.502706          \n",
              "75%       0.000000                                           0.535563          \n",
              "max       1.000000                                           1.000000          \n",
              "\n",
              "        ROA(A) before interest and % after tax  \\\n",
              "count                              6819.000000   \n",
              "mean                                  0.558625   \n",
              "std                                   0.065620   \n",
              "min                                   0.000000   \n",
              "25%                                   0.535543   \n",
              "50%                                   0.559802   \n",
              "75%                                   0.589157   \n",
              "max                                   1.000000   \n",
              "\n",
              "        ROA(B) before interest and depreciation after tax  \\\n",
              "count                                        6819.000000    \n",
              "mean                                            0.553589    \n",
              "std                                             0.061595    \n",
              "min                                             0.000000    \n",
              "25%                                             0.527277    \n",
              "50%                                             0.552278    \n",
              "75%                                             0.584105    \n",
              "max                                             1.000000    \n",
              "\n",
              "        Operating Gross Margin   Realized Sales Gross Margin  \\\n",
              "count              6819.000000                   6819.000000   \n",
              "mean                  0.607948                      0.607929   \n",
              "std                   0.016934                      0.016916   \n",
              "min                   0.000000                      0.000000   \n",
              "25%                   0.600445                      0.600434   \n",
              "50%                   0.605997                      0.605976   \n",
              "75%                   0.613914                      0.613842   \n",
              "max                   1.000000                      1.000000   \n",
              "\n",
              "        Operating Profit Rate   Pre-tax net Interest Rate  \\\n",
              "count             6819.000000                 6819.000000   \n",
              "mean                 0.998755                    0.797190   \n",
              "std                  0.013010                    0.012869   \n",
              "min                  0.000000                    0.000000   \n",
              "25%                  0.998969                    0.797386   \n",
              "50%                  0.999022                    0.797464   \n",
              "75%                  0.999095                    0.797579   \n",
              "max                  1.000000                    1.000000   \n",
              "\n",
              "        After-tax net Interest Rate  \\\n",
              "count                   6819.000000   \n",
              "mean                       0.809084   \n",
              "std                        0.013601   \n",
              "min                        0.000000   \n",
              "25%                        0.809312   \n",
              "50%                        0.809375   \n",
              "75%                        0.809469   \n",
              "max                        1.000000   \n",
              "\n",
              "        Non-industry income and expenditure/revenue  \\\n",
              "count                                   6819.000000   \n",
              "mean                                       0.303623   \n",
              "std                                        0.011163   \n",
              "min                                        0.000000   \n",
              "25%                                        0.303466   \n",
              "50%                                        0.303525   \n",
              "75%                                        0.303585   \n",
              "max                                        1.000000   \n",
              "\n",
              "        Continuous interest rate (after tax)   Operating Expense Rate  \\\n",
              "count                            6819.000000             6.819000e+03   \n",
              "mean                                0.781381             1.995347e+09   \n",
              "std                                 0.012679             3.237684e+09   \n",
              "min                                 0.000000             0.000000e+00   \n",
              "25%                                 0.781567             1.566874e-04   \n",
              "50%                                 0.781635             2.777589e-04   \n",
              "75%                                 0.781735             4.145000e+09   \n",
              "max                                 1.000000             9.990000e+09   \n",
              "\n",
              "        Research and development expense rate   Cash flow rate  \\\n",
              "count                            6.819000e+03      6819.000000   \n",
              "mean                             1.950427e+09         0.467431   \n",
              "std                              2.598292e+09         0.017036   \n",
              "min                              0.000000e+00         0.000000   \n",
              "25%                              1.281880e-04         0.461558   \n",
              "50%                              5.090000e+08         0.465080   \n",
              "75%                              3.450000e+09         0.471004   \n",
              "max                              9.980000e+09         1.000000   \n",
              "\n",
              "        Interest-bearing debt interest rate   Tax rate (A)  \\\n",
              "count                          6.819000e+03    6819.000000   \n",
              "mean                           1.644801e+07       0.115001   \n",
              "std                            1.082750e+08       0.138667   \n",
              "min                            0.000000e+00       0.000000   \n",
              "25%                            2.030203e-04       0.000000   \n",
              "50%                            3.210321e-04       0.073489   \n",
              "75%                            5.325533e-04       0.205841   \n",
              "max                            9.900000e+08       1.000000   \n",
              "\n",
              "        Net Value Per Share (B)   Net Value Per Share (A)  \\\n",
              "count               6819.000000               6819.000000   \n",
              "mean                   0.190661                  0.190633   \n",
              "std                    0.033390                  0.033474   \n",
              "min                    0.000000                  0.000000   \n",
              "25%                    0.173613                  0.173613   \n",
              "50%                    0.184400                  0.184400   \n",
              "75%                    0.199570                  0.199570   \n",
              "max                    1.000000                  1.000000   \n",
              "\n",
              "        Net Value Per Share (C)   Persistent EPS in the Last Four Seasons  \\\n",
              "count               6819.000000                               6819.000000   \n",
              "mean                   0.190672                                  0.228813   \n",
              "std                    0.033480                                  0.033263   \n",
              "min                    0.000000                                  0.000000   \n",
              "25%                    0.173676                                  0.214711   \n",
              "50%                    0.184400                                  0.224544   \n",
              "75%                    0.199612                                  0.238820   \n",
              "max                    1.000000                                  1.000000   \n",
              "\n",
              "        Cash Flow Per Share   Revenue Per Share (Yuan ¥)  \\\n",
              "count           6819.000000                 6.819000e+03   \n",
              "mean               0.323482                 1.328641e+06   \n",
              "std                0.017611                 5.170709e+07   \n",
              "min                0.000000                 0.000000e+00   \n",
              "25%                0.317748                 1.563138e-02   \n",
              "50%                0.322487                 2.737571e-02   \n",
              "75%                0.328623                 4.635722e-02   \n",
              "max                1.000000                 3.020000e+09   \n",
              "\n",
              "        Operating Profit Per Share (Yuan ¥)  \\\n",
              "count                           6819.000000   \n",
              "mean                               0.109091   \n",
              "std                                0.027942   \n",
              "min                                0.000000   \n",
              "25%                                0.096083   \n",
              "50%                                0.104226   \n",
              "75%                                0.116155   \n",
              "max                                1.000000   \n",
              "\n",
              "        Per Share Net profit before tax (Yuan ¥)  \\\n",
              "count                                6819.000000   \n",
              "mean                                    0.184361   \n",
              "std                                     0.033180   \n",
              "min                                     0.000000   \n",
              "25%                                     0.170370   \n",
              "50%                                     0.179709   \n",
              "75%                                     0.193493   \n",
              "max                                     1.000000   \n",
              "\n",
              "        Realized Sales Gross Profit Growth Rate  \\\n",
              "count                               6819.000000   \n",
              "mean                                   0.022408   \n",
              "std                                    0.012079   \n",
              "min                                    0.000000   \n",
              "25%                                    0.022065   \n",
              "50%                                    0.022102   \n",
              "75%                                    0.022153   \n",
              "max                                    1.000000   \n",
              "\n",
              "        Operating Profit Growth Rate   After-tax Net Profit Growth Rate  \\\n",
              "count                    6819.000000                        6819.000000   \n",
              "mean                        0.847980                           0.689146   \n",
              "std                         0.010752                           0.013853   \n",
              "min                         0.000000                           0.000000   \n",
              "25%                         0.847984                           0.689270   \n",
              "50%                         0.848044                           0.689439   \n",
              "75%                         0.848123                           0.689647   \n",
              "max                         1.000000                           1.000000   \n",
              "\n",
              "        Regular Net Profit Growth Rate   Continuous Net Profit Growth Rate  \\\n",
              "count                      6819.000000                         6819.000000   \n",
              "mean                          0.689150                            0.217639   \n",
              "std                           0.013910                            0.010063   \n",
              "min                           0.000000                            0.000000   \n",
              "25%                           0.689270                            0.217580   \n",
              "50%                           0.689439                            0.217598   \n",
              "75%                           0.689647                            0.217622   \n",
              "max                           1.000000                            1.000000   \n",
              "\n",
              "        Total Asset Growth Rate   Net Value Growth Rate  \\\n",
              "count              6.819000e+03            6.819000e+03   \n",
              "mean               5.508097e+09            1.566212e+06   \n",
              "std                2.897718e+09            1.141594e+08   \n",
              "min                0.000000e+00            0.000000e+00   \n",
              "25%                4.860000e+09            4.409689e-04   \n",
              "50%                6.400000e+09            4.619555e-04   \n",
              "75%                7.390000e+09            4.993621e-04   \n",
              "max                9.990000e+09            9.330000e+09   \n",
              "\n",
              "        Total Asset Return Growth Rate Ratio   Cash Reinvestment %  \\\n",
              "count                            6819.000000           6819.000000   \n",
              "mean                                0.264248              0.379677   \n",
              "std                                 0.009634              0.020737   \n",
              "min                                 0.000000              0.000000   \n",
              "25%                                 0.263759              0.374749   \n",
              "50%                                 0.264050              0.380425   \n",
              "75%                                 0.264388              0.386731   \n",
              "max                                 1.000000              1.000000   \n",
              "\n",
              "        Current Ratio   Quick Ratio   Interest Expense Ratio  \\\n",
              "count    6.819000e+03  6.819000e+03              6819.000000   \n",
              "mean     4.032850e+05  8.376595e+06                 0.630991   \n",
              "std      3.330216e+07  2.446847e+08                 0.011238   \n",
              "min      0.000000e+00  0.000000e+00                 0.000000   \n",
              "25%      7.555047e-03  4.725903e-03                 0.630612   \n",
              "50%      1.058717e-02  7.412472e-03                 0.630698   \n",
              "75%      1.626953e-02  1.224911e-02                 0.631125   \n",
              "max      2.750000e+09  9.230000e+09                 1.000000   \n",
              "\n",
              "        Total debt/Total net worth   Debt ratio %   Net worth/Assets  \\\n",
              "count                 6.819000e+03    6819.000000        6819.000000   \n",
              "mean                  4.416337e+06       0.113177           0.886823   \n",
              "std                   1.684069e+08       0.053920           0.053920   \n",
              "min                   0.000000e+00       0.000000           0.000000   \n",
              "25%                   3.007049e-03       0.072891           0.851196   \n",
              "50%                   5.546284e-03       0.111407           0.888593   \n",
              "75%                   9.273293e-03       0.148804           0.927109   \n",
              "max                   9.940000e+09       1.000000           1.000000   \n",
              "\n",
              "        Long-term fund suitability ratio (A)   Borrowing dependency  \\\n",
              "count                            6819.000000            6819.000000   \n",
              "mean                                0.008783               0.374654   \n",
              "std                                 0.028153               0.016286   \n",
              "min                                 0.000000               0.000000   \n",
              "25%                                 0.005244               0.370168   \n",
              "50%                                 0.005665               0.372624   \n",
              "75%                                 0.006847               0.376271   \n",
              "max                                 1.000000               1.000000   \n",
              "\n",
              "        Contingent liabilities/Net worth   Operating profit/Paid-in capital  \\\n",
              "count                        6819.000000                        6819.000000   \n",
              "mean                            0.005968                           0.108977   \n",
              "std                             0.012188                           0.027782   \n",
              "min                             0.000000                           0.000000   \n",
              "25%                             0.005366                           0.096105   \n",
              "50%                             0.005366                           0.104133   \n",
              "75%                             0.005764                           0.115927   \n",
              "max                             1.000000                           1.000000   \n",
              "\n",
              "        Net profit before tax/Paid-in capital  \\\n",
              "count                             6819.000000   \n",
              "mean                                 0.182715   \n",
              "std                                  0.030785   \n",
              "min                                  0.000000   \n",
              "25%                                  0.169376   \n",
              "50%                                  0.178456   \n",
              "75%                                  0.191607   \n",
              "max                                  1.000000   \n",
              "\n",
              "        Inventory and accounts receivable/Net value   Total Asset Turnover  \\\n",
              "count                                   6819.000000            6819.000000   \n",
              "mean                                       0.402459               0.141606   \n",
              "std                                        0.013324               0.101145   \n",
              "min                                        0.000000               0.000000   \n",
              "25%                                        0.397403               0.076462   \n",
              "50%                                        0.400131               0.118441   \n",
              "75%                                        0.404551               0.176912   \n",
              "max                                        1.000000               1.000000   \n",
              "\n",
              "        Accounts Receivable Turnover   Average Collection Days  \\\n",
              "count                   6.819000e+03              6.819000e+03   \n",
              "mean                    1.278971e+07              9.826221e+06   \n",
              "std                     2.782598e+08              2.563589e+08   \n",
              "min                     0.000000e+00              0.000000e+00   \n",
              "25%                     7.101336e-04              4.386530e-03   \n",
              "50%                     9.678107e-04              6.572537e-03   \n",
              "75%                     1.454759e-03              8.972876e-03   \n",
              "max                     9.740000e+09              9.730000e+09   \n",
              "\n",
              "        Inventory Turnover Rate (times)   Fixed Assets Turnover Frequency  \\\n",
              "count                      6.819000e+03                      6.819000e+03   \n",
              "mean                       2.149106e+09                      1.008596e+09   \n",
              "std                        3.247967e+09                      2.477557e+09   \n",
              "min                        0.000000e+00                      0.000000e+00   \n",
              "25%                        1.728256e-04                      2.330013e-04   \n",
              "50%                        7.646743e-04                      5.930942e-04   \n",
              "75%                        4.620000e+09                      3.652371e-03   \n",
              "max                        9.990000e+09                      9.990000e+09   \n",
              "\n",
              "        Net Worth Turnover Rate (times)   Revenue per person  \\\n",
              "count                       6819.000000         6.819000e+03   \n",
              "mean                           0.038595         2.325854e+06   \n",
              "std                            0.036680         1.366327e+08   \n",
              "min                            0.000000         0.000000e+00   \n",
              "25%                            0.021774         1.043285e-02   \n",
              "50%                            0.029516         1.861551e-02   \n",
              "75%                            0.042903         3.585477e-02   \n",
              "max                            1.000000         8.810000e+09   \n",
              "\n",
              "        Operating profit per person   Allocation rate per person  \\\n",
              "count                   6819.000000                 6.819000e+03   \n",
              "mean                       0.400671                 1.125579e+07   \n",
              "std                        0.032720                 2.945063e+08   \n",
              "min                        0.000000                 0.000000e+00   \n",
              "25%                        0.392438                 4.120529e-03   \n",
              "50%                        0.395898                 7.844373e-03   \n",
              "75%                        0.401851                 1.502031e-02   \n",
              "max                        1.000000                 9.570000e+09   \n",
              "\n",
              "        Working Capital to Total Assets   Quick Assets/Total Assets  \\\n",
              "count                       6819.000000                 6819.000000   \n",
              "mean                           0.814125                    0.400132   \n",
              "std                            0.059054                    0.201998   \n",
              "min                            0.000000                    0.000000   \n",
              "25%                            0.774309                    0.241973   \n",
              "50%                            0.810275                    0.386451   \n",
              "75%                            0.850383                    0.540594   \n",
              "max                            1.000000                    1.000000   \n",
              "\n",
              "        Current Assets/Total Assets   Cash/Total Assets  \\\n",
              "count                   6819.000000         6819.000000   \n",
              "mean                       0.522273            0.124095   \n",
              "std                        0.218112            0.139251   \n",
              "min                        0.000000            0.000000   \n",
              "25%                        0.352845            0.033543   \n",
              "50%                        0.514830            0.074887   \n",
              "75%                        0.689051            0.161073   \n",
              "max                        1.000000            1.000000   \n",
              "\n",
              "        Quick Assets/Current Liability   Cash/Current Liability  \\\n",
              "count                     6.819000e+03             6.819000e+03   \n",
              "mean                      3.592902e+06             3.715999e+07   \n",
              "std                       1.716209e+08             5.103509e+08   \n",
              "min                       0.000000e+00             0.000000e+00   \n",
              "25%                       5.239776e-03             1.973008e-03   \n",
              "50%                       7.908898e-03             4.903886e-03   \n",
              "75%                       1.295091e-02             1.280557e-02   \n",
              "max                       8.820000e+09             9.650000e+09   \n",
              "\n",
              "        Current Liability to Assets   Operating Funds to Liability  \\\n",
              "count                   6819.000000                    6819.000000   \n",
              "mean                       0.090673                       0.353828   \n",
              "std                        0.050290                       0.035147   \n",
              "min                        0.000000                       0.000000   \n",
              "25%                        0.053301                       0.341023   \n",
              "50%                        0.082705                       0.348597   \n",
              "75%                        0.119523                       0.360915   \n",
              "max                        1.000000                       1.000000   \n",
              "\n",
              "        Inventory/Working Capital   Inventory/Current Liability  \\\n",
              "count                 6819.000000                  6.819000e+03   \n",
              "mean                     0.277395                  5.580680e+07   \n",
              "std                      0.010469                  5.820516e+08   \n",
              "min                      0.000000                  0.000000e+00   \n",
              "25%                      0.277034                  3.163148e-03   \n",
              "50%                      0.277178                  6.497335e-03   \n",
              "75%                      0.277429                  1.114677e-02   \n",
              "max                      1.000000                  9.910000e+09   \n",
              "\n",
              "        Current Liabilities/Liability   Working Capital/Equity  \\\n",
              "count                     6819.000000              6819.000000   \n",
              "mean                         0.761599                 0.735817   \n",
              "std                          0.206677                 0.011678   \n",
              "min                          0.000000                 0.000000   \n",
              "25%                          0.626981                 0.733612   \n",
              "50%                          0.806881                 0.736013   \n",
              "75%                          0.942027                 0.738560   \n",
              "max                          1.000000                 1.000000   \n",
              "\n",
              "        Current Liabilities/Equity   Long-term Liability to Current Assets  \\\n",
              "count                  6819.000000                            6.819000e+03   \n",
              "mean                      0.331410                            5.416004e+07   \n",
              "std                       0.013488                            5.702706e+08   \n",
              "min                       0.000000                            0.000000e+00   \n",
              "25%                       0.328096                            0.000000e+00   \n",
              "50%                       0.329685                            1.974619e-03   \n",
              "75%                       0.332322                            9.005946e-03   \n",
              "max                       1.000000                            9.540000e+09   \n",
              "\n",
              "        Retained Earnings to Total Assets   Total income/Total expense  \\\n",
              "count                         6819.000000                  6819.000000   \n",
              "mean                             0.934733                     0.002549   \n",
              "std                              0.025564                     0.012093   \n",
              "min                              0.000000                     0.000000   \n",
              "25%                              0.931097                     0.002236   \n",
              "50%                              0.937672                     0.002336   \n",
              "75%                              0.944811                     0.002492   \n",
              "max                              1.000000                     1.000000   \n",
              "\n",
              "        Total expense/Assets   Current Asset Turnover Rate  \\\n",
              "count            6819.000000                  6.819000e+03   \n",
              "mean                0.029184                  1.195856e+09   \n",
              "std                 0.027149                  2.821161e+09   \n",
              "min                 0.000000                  0.000000e+00   \n",
              "25%                 0.014567                  1.456236e-04   \n",
              "50%                 0.022674                  1.987816e-04   \n",
              "75%                 0.035930                  4.525945e-04   \n",
              "max                 1.000000                  1.000000e+10   \n",
              "\n",
              "        Quick Asset Turnover Rate   Working capitcal Turnover Rate  \\\n",
              "count                6.819000e+03                      6819.000000   \n",
              "mean                 2.163735e+09                         0.594006   \n",
              "std                  3.374944e+09                         0.008959   \n",
              "min                  0.000000e+00                         0.000000   \n",
              "25%                  1.417149e-04                         0.593934   \n",
              "50%                  2.247728e-04                         0.593963   \n",
              "75%                  4.900000e+09                         0.594002   \n",
              "max                  1.000000e+10                         1.000000   \n",
              "\n",
              "        Cash Turnover Rate   Cash Flow to Sales   Fixed Assets to Assets  \\\n",
              "count         6.819000e+03          6819.000000             6.819000e+03   \n",
              "mean          2.471977e+09             0.671531             1.220121e+06   \n",
              "std           2.938623e+09             0.009341             1.007542e+08   \n",
              "min           0.000000e+00             0.000000             0.000000e+00   \n",
              "25%           2.735337e-04             0.671565             8.536037e-02   \n",
              "50%           1.080000e+09             0.671574             1.968810e-01   \n",
              "75%           4.510000e+09             0.671587             3.722000e-01   \n",
              "max           1.000000e+10             1.000000             8.320000e+09   \n",
              "\n",
              "        Current Liability to Liability   Current Liability to Equity  \\\n",
              "count                      6819.000000                   6819.000000   \n",
              "mean                          0.761599                      0.331410   \n",
              "std                           0.206677                      0.013488   \n",
              "min                           0.000000                      0.000000   \n",
              "25%                           0.626981                      0.328096   \n",
              "50%                           0.806881                      0.329685   \n",
              "75%                           0.942027                      0.332322   \n",
              "max                           1.000000                      1.000000   \n",
              "\n",
              "        Equity to Long-term Liability   Cash Flow to Total Assets  \\\n",
              "count                     6819.000000                 6819.000000   \n",
              "mean                         0.115645                    0.649731   \n",
              "std                          0.019529                    0.047372   \n",
              "min                          0.000000                    0.000000   \n",
              "25%                          0.110933                    0.633265   \n",
              "50%                          0.112340                    0.645366   \n",
              "75%                          0.117106                    0.663062   \n",
              "max                          1.000000                    1.000000   \n",
              "\n",
              "        Cash Flow to Liability   CFO to Assets   Cash Flow to Equity  \\\n",
              "count              6819.000000     6819.000000           6819.000000   \n",
              "mean                  0.461849        0.593415              0.315582   \n",
              "std                   0.029943        0.058561              0.012961   \n",
              "min                   0.000000        0.000000              0.000000   \n",
              "25%                   0.457116        0.565987              0.312995   \n",
              "50%                   0.459750        0.593266              0.314953   \n",
              "75%                   0.464236        0.624769              0.317707   \n",
              "max                   1.000000        1.000000              1.000000   \n",
              "\n",
              "        Current Liability to Current Assets   Liability-Assets Flag  \\\n",
              "count                           6819.000000             6819.000000   \n",
              "mean                               0.031506                0.001173   \n",
              "std                                0.030845                0.034234   \n",
              "min                                0.000000                0.000000   \n",
              "25%                                0.018034                0.000000   \n",
              "50%                                0.027597                0.000000   \n",
              "75%                                0.038375                0.000000   \n",
              "max                                1.000000                1.000000   \n",
              "\n",
              "        Net Income to Total Assets   Total assets to GNP price  \\\n",
              "count                  6819.000000                6.819000e+03   \n",
              "mean                      0.807760                1.862942e+07   \n",
              "std                       0.040332                3.764501e+08   \n",
              "min                       0.000000                0.000000e+00   \n",
              "25%                       0.796750                9.036205e-04   \n",
              "50%                       0.810619                2.085213e-03   \n",
              "75%                       0.826455                5.269777e-03   \n",
              "max                       1.000000                9.820000e+09   \n",
              "\n",
              "        No-credit Interval   Gross Profit to Sales  \\\n",
              "count          6819.000000             6819.000000   \n",
              "mean              0.623915                0.607946   \n",
              "std               0.012290                0.016934   \n",
              "min               0.000000                0.000000   \n",
              "25%               0.623636                0.600443   \n",
              "50%               0.623879                0.605998   \n",
              "75%               0.624168                0.613913   \n",
              "max               1.000000                1.000000   \n",
              "\n",
              "        Net Income to Stockholder's Equity   Liability to Equity  \\\n",
              "count                          6819.000000           6819.000000   \n",
              "mean                              0.840402              0.280365   \n",
              "std                               0.014523              0.014463   \n",
              "min                               0.000000              0.000000   \n",
              "25%                               0.840115              0.276944   \n",
              "50%                               0.841179              0.278778   \n",
              "75%                               0.842357              0.281449   \n",
              "max                               1.000000              1.000000   \n",
              "\n",
              "        Degree of Financial Leverage (DFL)  \\\n",
              "count                          6819.000000   \n",
              "mean                              0.027541   \n",
              "std                               0.015668   \n",
              "min                               0.000000   \n",
              "25%                               0.026791   \n",
              "50%                               0.026808   \n",
              "75%                               0.026913   \n",
              "max                               1.000000   \n",
              "\n",
              "        Interest Coverage Ratio (Interest expense to EBIT)   Net Income Flag  \\\n",
              "count                                        6819.000000              6819.0   \n",
              "mean                                            0.565358                 1.0   \n",
              "std                                             0.013214                 0.0   \n",
              "min                                             0.000000                 1.0   \n",
              "25%                                             0.565158                 1.0   \n",
              "50%                                             0.565252                 1.0   \n",
              "75%                                             0.565725                 1.0   \n",
              "max                                             1.000000                 1.0   \n",
              "\n",
              "        Equity to Liability  \n",
              "count           6819.000000  \n",
              "mean               0.047578  \n",
              "std                0.050014  \n",
              "min                0.000000  \n",
              "25%                0.024477  \n",
              "50%                0.033798  \n",
              "75%                0.052838  \n",
              "max                1.000000  "
            ],
            "text/html": [
              "\n",
              "  <div id=\"df-45bc8149-f63c-44dc-a8fb-bc007e3e729d\">\n",
              "    <div class=\"colab-df-container\">\n",
              "      <div>\n",
              "<style scoped>\n",
              "    .dataframe tbody tr th:only-of-type {\n",
              "        vertical-align: middle;\n",
              "    }\n",
              "\n",
              "    .dataframe tbody tr th {\n",
              "        vertical-align: top;\n",
              "    }\n",
              "\n",
              "    .dataframe thead th {\n",
              "        text-align: right;\n",
              "    }\n",
              "</style>\n",
              "<table border=\"1\" class=\"dataframe\">\n",
              "  <thead>\n",
              "    <tr style=\"text-align: right;\">\n",
              "      <th></th>\n",
              "      <th>Bankrupt?</th>\n",
              "      <th>ROA(C) before interest and depreciation before interest</th>\n",
              "      <th>ROA(A) before interest and % after tax</th>\n",
              "      <th>ROA(B) before interest and depreciation after tax</th>\n",
              "      <th>Operating Gross Margin</th>\n",
              "      <th>Realized Sales Gross Margin</th>\n",
              "      <th>Operating Profit Rate</th>\n",
              "      <th>Pre-tax net Interest Rate</th>\n",
              "      <th>After-tax net Interest Rate</th>\n",
              "      <th>Non-industry income and expenditure/revenue</th>\n",
              "      <th>Continuous interest rate (after tax)</th>\n",
              "      <th>Operating Expense Rate</th>\n",
              "      <th>Research and development expense rate</th>\n",
              "      <th>Cash flow rate</th>\n",
              "      <th>Interest-bearing debt interest rate</th>\n",
              "      <th>Tax rate (A)</th>\n",
              "      <th>Net Value Per Share (B)</th>\n",
              "      <th>Net Value Per Share (A)</th>\n",
              "      <th>Net Value Per Share (C)</th>\n",
              "      <th>Persistent EPS in the Last Four Seasons</th>\n",
              "      <th>Cash Flow Per Share</th>\n",
              "      <th>Revenue Per Share (Yuan ¥)</th>\n",
              "      <th>Operating Profit Per Share (Yuan ¥)</th>\n",
              "      <th>Per Share Net profit before tax (Yuan ¥)</th>\n",
              "      <th>Realized Sales Gross Profit Growth Rate</th>\n",
              "      <th>Operating Profit Growth Rate</th>\n",
              "      <th>After-tax Net Profit Growth Rate</th>\n",
              "      <th>Regular Net Profit Growth Rate</th>\n",
              "      <th>Continuous Net Profit Growth Rate</th>\n",
              "      <th>Total Asset Growth Rate</th>\n",
              "      <th>Net Value Growth Rate</th>\n",
              "      <th>Total Asset Return Growth Rate Ratio</th>\n",
              "      <th>Cash Reinvestment %</th>\n",
              "      <th>Current Ratio</th>\n",
              "      <th>Quick Ratio</th>\n",
              "      <th>Interest Expense Ratio</th>\n",
              "      <th>Total debt/Total net worth</th>\n",
              "      <th>Debt ratio %</th>\n",
              "      <th>Net worth/Assets</th>\n",
              "      <th>Long-term fund suitability ratio (A)</th>\n",
              "      <th>Borrowing dependency</th>\n",
              "      <th>Contingent liabilities/Net worth</th>\n",
              "      <th>Operating profit/Paid-in capital</th>\n",
              "      <th>Net profit before tax/Paid-in capital</th>\n",
              "      <th>Inventory and accounts receivable/Net value</th>\n",
              "      <th>Total Asset Turnover</th>\n",
              "      <th>Accounts Receivable Turnover</th>\n",
              "      <th>Average Collection Days</th>\n",
              "      <th>Inventory Turnover Rate (times)</th>\n",
              "      <th>Fixed Assets Turnover Frequency</th>\n",
              "      <th>Net Worth Turnover Rate (times)</th>\n",
              "      <th>Revenue per person</th>\n",
              "      <th>Operating profit per person</th>\n",
              "      <th>Allocation rate per person</th>\n",
              "      <th>Working Capital to Total Assets</th>\n",
              "      <th>Quick Assets/Total Assets</th>\n",
              "      <th>Current Assets/Total Assets</th>\n",
              "      <th>Cash/Total Assets</th>\n",
              "      <th>Quick Assets/Current Liability</th>\n",
              "      <th>Cash/Current Liability</th>\n",
              "      <th>Current Liability to Assets</th>\n",
              "      <th>Operating Funds to Liability</th>\n",
              "      <th>Inventory/Working Capital</th>\n",
              "      <th>Inventory/Current Liability</th>\n",
              "      <th>Current Liabilities/Liability</th>\n",
              "      <th>Working Capital/Equity</th>\n",
              "      <th>Current Liabilities/Equity</th>\n",
              "      <th>Long-term Liability to Current Assets</th>\n",
              "      <th>Retained Earnings to Total Assets</th>\n",
              "      <th>Total income/Total expense</th>\n",
              "      <th>Total expense/Assets</th>\n",
              "      <th>Current Asset Turnover Rate</th>\n",
              "      <th>Quick Asset Turnover Rate</th>\n",
              "      <th>Working capitcal Turnover Rate</th>\n",
              "      <th>Cash Turnover Rate</th>\n",
              "      <th>Cash Flow to Sales</th>\n",
              "      <th>Fixed Assets to Assets</th>\n",
              "      <th>Current Liability to Liability</th>\n",
              "      <th>Current Liability to Equity</th>\n",
              "      <th>Equity to Long-term Liability</th>\n",
              "      <th>Cash Flow to Total Assets</th>\n",
              "      <th>Cash Flow to Liability</th>\n",
              "      <th>CFO to Assets</th>\n",
              "      <th>Cash Flow to Equity</th>\n",
              "      <th>Current Liability to Current Assets</th>\n",
              "      <th>Liability-Assets Flag</th>\n",
              "      <th>Net Income to Total Assets</th>\n",
              "      <th>Total assets to GNP price</th>\n",
              "      <th>No-credit Interval</th>\n",
              "      <th>Gross Profit to Sales</th>\n",
              "      <th>Net Income to Stockholder's Equity</th>\n",
              "      <th>Liability to Equity</th>\n",
              "      <th>Degree of Financial Leverage (DFL)</th>\n",
              "      <th>Interest Coverage Ratio (Interest expense to EBIT)</th>\n",
              "      <th>Net Income Flag</th>\n",
              "      <th>Equity to Liability</th>\n",
              "    </tr>\n",
              "  </thead>\n",
              "  <tbody>\n",
              "    <tr>\n",
              "      <th>count</th>\n",
              "      <td>6819.000000</td>\n",
              "      <td>6819.000000</td>\n",
              "      <td>6819.000000</td>\n",
              "      <td>6819.000000</td>\n",
              "      <td>6819.000000</td>\n",
              "      <td>6819.000000</td>\n",
              "      <td>6819.000000</td>\n",
              "      <td>6819.000000</td>\n",
              "      <td>6819.000000</td>\n",
              "      <td>6819.000000</td>\n",
              "      <td>6819.000000</td>\n",
              "      <td>6.819000e+03</td>\n",
              "      <td>6.819000e+03</td>\n",
              "      <td>6819.000000</td>\n",
              "      <td>6.819000e+03</td>\n",
              "      <td>6819.000000</td>\n",
              "      <td>6819.000000</td>\n",
              "      <td>6819.000000</td>\n",
              "      <td>6819.000000</td>\n",
              "      <td>6819.000000</td>\n",
              "      <td>6819.000000</td>\n",
              "      <td>6.819000e+03</td>\n",
              "      <td>6819.000000</td>\n",
              "      <td>6819.000000</td>\n",
              "      <td>6819.000000</td>\n",
              "      <td>6819.000000</td>\n",
              "      <td>6819.000000</td>\n",
              "      <td>6819.000000</td>\n",
              "      <td>6819.000000</td>\n",
              "      <td>6.819000e+03</td>\n",
              "      <td>6.819000e+03</td>\n",
              "      <td>6819.000000</td>\n",
              "      <td>6819.000000</td>\n",
              "      <td>6.819000e+03</td>\n",
              "      <td>6.819000e+03</td>\n",
              "      <td>6819.000000</td>\n",
              "      <td>6.819000e+03</td>\n",
              "      <td>6819.000000</td>\n",
              "      <td>6819.000000</td>\n",
              "      <td>6819.000000</td>\n",
              "      <td>6819.000000</td>\n",
              "      <td>6819.000000</td>\n",
              "      <td>6819.000000</td>\n",
              "      <td>6819.000000</td>\n",
              "      <td>6819.000000</td>\n",
              "      <td>6819.000000</td>\n",
              "      <td>6.819000e+03</td>\n",
              "      <td>6.819000e+03</td>\n",
              "      <td>6.819000e+03</td>\n",
              "      <td>6.819000e+03</td>\n",
              "      <td>6819.000000</td>\n",
              "      <td>6.819000e+03</td>\n",
              "      <td>6819.000000</td>\n",
              "      <td>6.819000e+03</td>\n",
              "      <td>6819.000000</td>\n",
              "      <td>6819.000000</td>\n",
              "      <td>6819.000000</td>\n",
              "      <td>6819.000000</td>\n",
              "      <td>6.819000e+03</td>\n",
              "      <td>6.819000e+03</td>\n",
              "      <td>6819.000000</td>\n",
              "      <td>6819.000000</td>\n",
              "      <td>6819.000000</td>\n",
              "      <td>6.819000e+03</td>\n",
              "      <td>6819.000000</td>\n",
              "      <td>6819.000000</td>\n",
              "      <td>6819.000000</td>\n",
              "      <td>6.819000e+03</td>\n",
              "      <td>6819.000000</td>\n",
              "      <td>6819.000000</td>\n",
              "      <td>6819.000000</td>\n",
              "      <td>6.819000e+03</td>\n",
              "      <td>6.819000e+03</td>\n",
              "      <td>6819.000000</td>\n",
              "      <td>6.819000e+03</td>\n",
              "      <td>6819.000000</td>\n",
              "      <td>6.819000e+03</td>\n",
              "      <td>6819.000000</td>\n",
              "      <td>6819.000000</td>\n",
              "      <td>6819.000000</td>\n",
              "      <td>6819.000000</td>\n",
              "      <td>6819.000000</td>\n",
              "      <td>6819.000000</td>\n",
              "      <td>6819.000000</td>\n",
              "      <td>6819.000000</td>\n",
              "      <td>6819.000000</td>\n",
              "      <td>6819.000000</td>\n",
              "      <td>6.819000e+03</td>\n",
              "      <td>6819.000000</td>\n",
              "      <td>6819.000000</td>\n",
              "      <td>6819.000000</td>\n",
              "      <td>6819.000000</td>\n",
              "      <td>6819.000000</td>\n",
              "      <td>6819.000000</td>\n",
              "      <td>6819.0</td>\n",
              "      <td>6819.000000</td>\n",
              "    </tr>\n",
              "    <tr>\n",
              "      <th>mean</th>\n",
              "      <td>0.032263</td>\n",
              "      <td>0.505180</td>\n",
              "      <td>0.558625</td>\n",
              "      <td>0.553589</td>\n",
              "      <td>0.607948</td>\n",
              "      <td>0.607929</td>\n",
              "      <td>0.998755</td>\n",
              "      <td>0.797190</td>\n",
              "      <td>0.809084</td>\n",
              "      <td>0.303623</td>\n",
              "      <td>0.781381</td>\n",
              "      <td>1.995347e+09</td>\n",
              "      <td>1.950427e+09</td>\n",
              "      <td>0.467431</td>\n",
              "      <td>1.644801e+07</td>\n",
              "      <td>0.115001</td>\n",
              "      <td>0.190661</td>\n",
              "      <td>0.190633</td>\n",
              "      <td>0.190672</td>\n",
              "      <td>0.228813</td>\n",
              "      <td>0.323482</td>\n",
              "      <td>1.328641e+06</td>\n",
              "      <td>0.109091</td>\n",
              "      <td>0.184361</td>\n",
              "      <td>0.022408</td>\n",
              "      <td>0.847980</td>\n",
              "      <td>0.689146</td>\n",
              "      <td>0.689150</td>\n",
              "      <td>0.217639</td>\n",
              "      <td>5.508097e+09</td>\n",
              "      <td>1.566212e+06</td>\n",
              "      <td>0.264248</td>\n",
              "      <td>0.379677</td>\n",
              "      <td>4.032850e+05</td>\n",
              "      <td>8.376595e+06</td>\n",
              "      <td>0.630991</td>\n",
              "      <td>4.416337e+06</td>\n",
              "      <td>0.113177</td>\n",
              "      <td>0.886823</td>\n",
              "      <td>0.008783</td>\n",
              "      <td>0.374654</td>\n",
              "      <td>0.005968</td>\n",
              "      <td>0.108977</td>\n",
              "      <td>0.182715</td>\n",
              "      <td>0.402459</td>\n",
              "      <td>0.141606</td>\n",
              "      <td>1.278971e+07</td>\n",
              "      <td>9.826221e+06</td>\n",
              "      <td>2.149106e+09</td>\n",
              "      <td>1.008596e+09</td>\n",
              "      <td>0.038595</td>\n",
              "      <td>2.325854e+06</td>\n",
              "      <td>0.400671</td>\n",
              "      <td>1.125579e+07</td>\n",
              "      <td>0.814125</td>\n",
              "      <td>0.400132</td>\n",
              "      <td>0.522273</td>\n",
              "      <td>0.124095</td>\n",
              "      <td>3.592902e+06</td>\n",
              "      <td>3.715999e+07</td>\n",
              "      <td>0.090673</td>\n",
              "      <td>0.353828</td>\n",
              "      <td>0.277395</td>\n",
              "      <td>5.580680e+07</td>\n",
              "      <td>0.761599</td>\n",
              "      <td>0.735817</td>\n",
              "      <td>0.331410</td>\n",
              "      <td>5.416004e+07</td>\n",
              "      <td>0.934733</td>\n",
              "      <td>0.002549</td>\n",
              "      <td>0.029184</td>\n",
              "      <td>1.195856e+09</td>\n",
              "      <td>2.163735e+09</td>\n",
              "      <td>0.594006</td>\n",
              "      <td>2.471977e+09</td>\n",
              "      <td>0.671531</td>\n",
              "      <td>1.220121e+06</td>\n",
              "      <td>0.761599</td>\n",
              "      <td>0.331410</td>\n",
              "      <td>0.115645</td>\n",
              "      <td>0.649731</td>\n",
              "      <td>0.461849</td>\n",
              "      <td>0.593415</td>\n",
              "      <td>0.315582</td>\n",
              "      <td>0.031506</td>\n",
              "      <td>0.001173</td>\n",
              "      <td>0.807760</td>\n",
              "      <td>1.862942e+07</td>\n",
              "      <td>0.623915</td>\n",
              "      <td>0.607946</td>\n",
              "      <td>0.840402</td>\n",
              "      <td>0.280365</td>\n",
              "      <td>0.027541</td>\n",
              "      <td>0.565358</td>\n",
              "      <td>1.0</td>\n",
              "      <td>0.047578</td>\n",
              "    </tr>\n",
              "    <tr>\n",
              "      <th>std</th>\n",
              "      <td>0.176710</td>\n",
              "      <td>0.060686</td>\n",
              "      <td>0.065620</td>\n",
              "      <td>0.061595</td>\n",
              "      <td>0.016934</td>\n",
              "      <td>0.016916</td>\n",
              "      <td>0.013010</td>\n",
              "      <td>0.012869</td>\n",
              "      <td>0.013601</td>\n",
              "      <td>0.011163</td>\n",
              "      <td>0.012679</td>\n",
              "      <td>3.237684e+09</td>\n",
              "      <td>2.598292e+09</td>\n",
              "      <td>0.017036</td>\n",
              "      <td>1.082750e+08</td>\n",
              "      <td>0.138667</td>\n",
              "      <td>0.033390</td>\n",
              "      <td>0.033474</td>\n",
              "      <td>0.033480</td>\n",
              "      <td>0.033263</td>\n",
              "      <td>0.017611</td>\n",
              "      <td>5.170709e+07</td>\n",
              "      <td>0.027942</td>\n",
              "      <td>0.033180</td>\n",
              "      <td>0.012079</td>\n",
              "      <td>0.010752</td>\n",
              "      <td>0.013853</td>\n",
              "      <td>0.013910</td>\n",
              "      <td>0.010063</td>\n",
              "      <td>2.897718e+09</td>\n",
              "      <td>1.141594e+08</td>\n",
              "      <td>0.009634</td>\n",
              "      <td>0.020737</td>\n",
              "      <td>3.330216e+07</td>\n",
              "      <td>2.446847e+08</td>\n",
              "      <td>0.011238</td>\n",
              "      <td>1.684069e+08</td>\n",
              "      <td>0.053920</td>\n",
              "      <td>0.053920</td>\n",
              "      <td>0.028153</td>\n",
              "      <td>0.016286</td>\n",
              "      <td>0.012188</td>\n",
              "      <td>0.027782</td>\n",
              "      <td>0.030785</td>\n",
              "      <td>0.013324</td>\n",
              "      <td>0.101145</td>\n",
              "      <td>2.782598e+08</td>\n",
              "      <td>2.563589e+08</td>\n",
              "      <td>3.247967e+09</td>\n",
              "      <td>2.477557e+09</td>\n",
              "      <td>0.036680</td>\n",
              "      <td>1.366327e+08</td>\n",
              "      <td>0.032720</td>\n",
              "      <td>2.945063e+08</td>\n",
              "      <td>0.059054</td>\n",
              "      <td>0.201998</td>\n",
              "      <td>0.218112</td>\n",
              "      <td>0.139251</td>\n",
              "      <td>1.716209e+08</td>\n",
              "      <td>5.103509e+08</td>\n",
              "      <td>0.050290</td>\n",
              "      <td>0.035147</td>\n",
              "      <td>0.010469</td>\n",
              "      <td>5.820516e+08</td>\n",
              "      <td>0.206677</td>\n",
              "      <td>0.011678</td>\n",
              "      <td>0.013488</td>\n",
              "      <td>5.702706e+08</td>\n",
              "      <td>0.025564</td>\n",
              "      <td>0.012093</td>\n",
              "      <td>0.027149</td>\n",
              "      <td>2.821161e+09</td>\n",
              "      <td>3.374944e+09</td>\n",
              "      <td>0.008959</td>\n",
              "      <td>2.938623e+09</td>\n",
              "      <td>0.009341</td>\n",
              "      <td>1.007542e+08</td>\n",
              "      <td>0.206677</td>\n",
              "      <td>0.013488</td>\n",
              "      <td>0.019529</td>\n",
              "      <td>0.047372</td>\n",
              "      <td>0.029943</td>\n",
              "      <td>0.058561</td>\n",
              "      <td>0.012961</td>\n",
              "      <td>0.030845</td>\n",
              "      <td>0.034234</td>\n",
              "      <td>0.040332</td>\n",
              "      <td>3.764501e+08</td>\n",
              "      <td>0.012290</td>\n",
              "      <td>0.016934</td>\n",
              "      <td>0.014523</td>\n",
              "      <td>0.014463</td>\n",
              "      <td>0.015668</td>\n",
              "      <td>0.013214</td>\n",
              "      <td>0.0</td>\n",
              "      <td>0.050014</td>\n",
              "    </tr>\n",
              "    <tr>\n",
              "      <th>min</th>\n",
              "      <td>0.000000</td>\n",
              "      <td>0.000000</td>\n",
              "      <td>0.000000</td>\n",
              "      <td>0.000000</td>\n",
              "      <td>0.000000</td>\n",
              "      <td>0.000000</td>\n",
              "      <td>0.000000</td>\n",
              "      <td>0.000000</td>\n",
              "      <td>0.000000</td>\n",
              "      <td>0.000000</td>\n",
              "      <td>0.000000</td>\n",
              "      <td>0.000000e+00</td>\n",
              "      <td>0.000000e+00</td>\n",
              "      <td>0.000000</td>\n",
              "      <td>0.000000e+00</td>\n",
              "      <td>0.000000</td>\n",
              "      <td>0.000000</td>\n",
              "      <td>0.000000</td>\n",
              "      <td>0.000000</td>\n",
              "      <td>0.000000</td>\n",
              "      <td>0.000000</td>\n",
              "      <td>0.000000e+00</td>\n",
              "      <td>0.000000</td>\n",
              "      <td>0.000000</td>\n",
              "      <td>0.000000</td>\n",
              "      <td>0.000000</td>\n",
              "      <td>0.000000</td>\n",
              "      <td>0.000000</td>\n",
              "      <td>0.000000</td>\n",
              "      <td>0.000000e+00</td>\n",
              "      <td>0.000000e+00</td>\n",
              "      <td>0.000000</td>\n",
              "      <td>0.000000</td>\n",
              "      <td>0.000000e+00</td>\n",
              "      <td>0.000000e+00</td>\n",
              "      <td>0.000000</td>\n",
              "      <td>0.000000e+00</td>\n",
              "      <td>0.000000</td>\n",
              "      <td>0.000000</td>\n",
              "      <td>0.000000</td>\n",
              "      <td>0.000000</td>\n",
              "      <td>0.000000</td>\n",
              "      <td>0.000000</td>\n",
              "      <td>0.000000</td>\n",
              "      <td>0.000000</td>\n",
              "      <td>0.000000</td>\n",
              "      <td>0.000000e+00</td>\n",
              "      <td>0.000000e+00</td>\n",
              "      <td>0.000000e+00</td>\n",
              "      <td>0.000000e+00</td>\n",
              "      <td>0.000000</td>\n",
              "      <td>0.000000e+00</td>\n",
              "      <td>0.000000</td>\n",
              "      <td>0.000000e+00</td>\n",
              "      <td>0.000000</td>\n",
              "      <td>0.000000</td>\n",
              "      <td>0.000000</td>\n",
              "      <td>0.000000</td>\n",
              "      <td>0.000000e+00</td>\n",
              "      <td>0.000000e+00</td>\n",
              "      <td>0.000000</td>\n",
              "      <td>0.000000</td>\n",
              "      <td>0.000000</td>\n",
              "      <td>0.000000e+00</td>\n",
              "      <td>0.000000</td>\n",
              "      <td>0.000000</td>\n",
              "      <td>0.000000</td>\n",
              "      <td>0.000000e+00</td>\n",
              "      <td>0.000000</td>\n",
              "      <td>0.000000</td>\n",
              "      <td>0.000000</td>\n",
              "      <td>0.000000e+00</td>\n",
              "      <td>0.000000e+00</td>\n",
              "      <td>0.000000</td>\n",
              "      <td>0.000000e+00</td>\n",
              "      <td>0.000000</td>\n",
              "      <td>0.000000e+00</td>\n",
              "      <td>0.000000</td>\n",
              "      <td>0.000000</td>\n",
              "      <td>0.000000</td>\n",
              "      <td>0.000000</td>\n",
              "      <td>0.000000</td>\n",
              "      <td>0.000000</td>\n",
              "      <td>0.000000</td>\n",
              "      <td>0.000000</td>\n",
              "      <td>0.000000</td>\n",
              "      <td>0.000000</td>\n",
              "      <td>0.000000e+00</td>\n",
              "      <td>0.000000</td>\n",
              "      <td>0.000000</td>\n",
              "      <td>0.000000</td>\n",
              "      <td>0.000000</td>\n",
              "      <td>0.000000</td>\n",
              "      <td>0.000000</td>\n",
              "      <td>1.0</td>\n",
              "      <td>0.000000</td>\n",
              "    </tr>\n",
              "    <tr>\n",
              "      <th>25%</th>\n",
              "      <td>0.000000</td>\n",
              "      <td>0.476527</td>\n",
              "      <td>0.535543</td>\n",
              "      <td>0.527277</td>\n",
              "      <td>0.600445</td>\n",
              "      <td>0.600434</td>\n",
              "      <td>0.998969</td>\n",
              "      <td>0.797386</td>\n",
              "      <td>0.809312</td>\n",
              "      <td>0.303466</td>\n",
              "      <td>0.781567</td>\n",
              "      <td>1.566874e-04</td>\n",
              "      <td>1.281880e-04</td>\n",
              "      <td>0.461558</td>\n",
              "      <td>2.030203e-04</td>\n",
              "      <td>0.000000</td>\n",
              "      <td>0.173613</td>\n",
              "      <td>0.173613</td>\n",
              "      <td>0.173676</td>\n",
              "      <td>0.214711</td>\n",
              "      <td>0.317748</td>\n",
              "      <td>1.563138e-02</td>\n",
              "      <td>0.096083</td>\n",
              "      <td>0.170370</td>\n",
              "      <td>0.022065</td>\n",
              "      <td>0.847984</td>\n",
              "      <td>0.689270</td>\n",
              "      <td>0.689270</td>\n",
              "      <td>0.217580</td>\n",
              "      <td>4.860000e+09</td>\n",
              "      <td>4.409689e-04</td>\n",
              "      <td>0.263759</td>\n",
              "      <td>0.374749</td>\n",
              "      <td>7.555047e-03</td>\n",
              "      <td>4.725903e-03</td>\n",
              "      <td>0.630612</td>\n",
              "      <td>3.007049e-03</td>\n",
              "      <td>0.072891</td>\n",
              "      <td>0.851196</td>\n",
              "      <td>0.005244</td>\n",
              "      <td>0.370168</td>\n",
              "      <td>0.005366</td>\n",
              "      <td>0.096105</td>\n",
              "      <td>0.169376</td>\n",
              "      <td>0.397403</td>\n",
              "      <td>0.076462</td>\n",
              "      <td>7.101336e-04</td>\n",
              "      <td>4.386530e-03</td>\n",
              "      <td>1.728256e-04</td>\n",
              "      <td>2.330013e-04</td>\n",
              "      <td>0.021774</td>\n",
              "      <td>1.043285e-02</td>\n",
              "      <td>0.392438</td>\n",
              "      <td>4.120529e-03</td>\n",
              "      <td>0.774309</td>\n",
              "      <td>0.241973</td>\n",
              "      <td>0.352845</td>\n",
              "      <td>0.033543</td>\n",
              "      <td>5.239776e-03</td>\n",
              "      <td>1.973008e-03</td>\n",
              "      <td>0.053301</td>\n",
              "      <td>0.341023</td>\n",
              "      <td>0.277034</td>\n",
              "      <td>3.163148e-03</td>\n",
              "      <td>0.626981</td>\n",
              "      <td>0.733612</td>\n",
              "      <td>0.328096</td>\n",
              "      <td>0.000000e+00</td>\n",
              "      <td>0.931097</td>\n",
              "      <td>0.002236</td>\n",
              "      <td>0.014567</td>\n",
              "      <td>1.456236e-04</td>\n",
              "      <td>1.417149e-04</td>\n",
              "      <td>0.593934</td>\n",
              "      <td>2.735337e-04</td>\n",
              "      <td>0.671565</td>\n",
              "      <td>8.536037e-02</td>\n",
              "      <td>0.626981</td>\n",
              "      <td>0.328096</td>\n",
              "      <td>0.110933</td>\n",
              "      <td>0.633265</td>\n",
              "      <td>0.457116</td>\n",
              "      <td>0.565987</td>\n",
              "      <td>0.312995</td>\n",
              "      <td>0.018034</td>\n",
              "      <td>0.000000</td>\n",
              "      <td>0.796750</td>\n",
              "      <td>9.036205e-04</td>\n",
              "      <td>0.623636</td>\n",
              "      <td>0.600443</td>\n",
              "      <td>0.840115</td>\n",
              "      <td>0.276944</td>\n",
              "      <td>0.026791</td>\n",
              "      <td>0.565158</td>\n",
              "      <td>1.0</td>\n",
              "      <td>0.024477</td>\n",
              "    </tr>\n",
              "    <tr>\n",
              "      <th>50%</th>\n",
              "      <td>0.000000</td>\n",
              "      <td>0.502706</td>\n",
              "      <td>0.559802</td>\n",
              "      <td>0.552278</td>\n",
              "      <td>0.605997</td>\n",
              "      <td>0.605976</td>\n",
              "      <td>0.999022</td>\n",
              "      <td>0.797464</td>\n",
              "      <td>0.809375</td>\n",
              "      <td>0.303525</td>\n",
              "      <td>0.781635</td>\n",
              "      <td>2.777589e-04</td>\n",
              "      <td>5.090000e+08</td>\n",
              "      <td>0.465080</td>\n",
              "      <td>3.210321e-04</td>\n",
              "      <td>0.073489</td>\n",
              "      <td>0.184400</td>\n",
              "      <td>0.184400</td>\n",
              "      <td>0.184400</td>\n",
              "      <td>0.224544</td>\n",
              "      <td>0.322487</td>\n",
              "      <td>2.737571e-02</td>\n",
              "      <td>0.104226</td>\n",
              "      <td>0.179709</td>\n",
              "      <td>0.022102</td>\n",
              "      <td>0.848044</td>\n",
              "      <td>0.689439</td>\n",
              "      <td>0.689439</td>\n",
              "      <td>0.217598</td>\n",
              "      <td>6.400000e+09</td>\n",
              "      <td>4.619555e-04</td>\n",
              "      <td>0.264050</td>\n",
              "      <td>0.380425</td>\n",
              "      <td>1.058717e-02</td>\n",
              "      <td>7.412472e-03</td>\n",
              "      <td>0.630698</td>\n",
              "      <td>5.546284e-03</td>\n",
              "      <td>0.111407</td>\n",
              "      <td>0.888593</td>\n",
              "      <td>0.005665</td>\n",
              "      <td>0.372624</td>\n",
              "      <td>0.005366</td>\n",
              "      <td>0.104133</td>\n",
              "      <td>0.178456</td>\n",
              "      <td>0.400131</td>\n",
              "      <td>0.118441</td>\n",
              "      <td>9.678107e-04</td>\n",
              "      <td>6.572537e-03</td>\n",
              "      <td>7.646743e-04</td>\n",
              "      <td>5.930942e-04</td>\n",
              "      <td>0.029516</td>\n",
              "      <td>1.861551e-02</td>\n",
              "      <td>0.395898</td>\n",
              "      <td>7.844373e-03</td>\n",
              "      <td>0.810275</td>\n",
              "      <td>0.386451</td>\n",
              "      <td>0.514830</td>\n",
              "      <td>0.074887</td>\n",
              "      <td>7.908898e-03</td>\n",
              "      <td>4.903886e-03</td>\n",
              "      <td>0.082705</td>\n",
              "      <td>0.348597</td>\n",
              "      <td>0.277178</td>\n",
              "      <td>6.497335e-03</td>\n",
              "      <td>0.806881</td>\n",
              "      <td>0.736013</td>\n",
              "      <td>0.329685</td>\n",
              "      <td>1.974619e-03</td>\n",
              "      <td>0.937672</td>\n",
              "      <td>0.002336</td>\n",
              "      <td>0.022674</td>\n",
              "      <td>1.987816e-04</td>\n",
              "      <td>2.247728e-04</td>\n",
              "      <td>0.593963</td>\n",
              "      <td>1.080000e+09</td>\n",
              "      <td>0.671574</td>\n",
              "      <td>1.968810e-01</td>\n",
              "      <td>0.806881</td>\n",
              "      <td>0.329685</td>\n",
              "      <td>0.112340</td>\n",
              "      <td>0.645366</td>\n",
              "      <td>0.459750</td>\n",
              "      <td>0.593266</td>\n",
              "      <td>0.314953</td>\n",
              "      <td>0.027597</td>\n",
              "      <td>0.000000</td>\n",
              "      <td>0.810619</td>\n",
              "      <td>2.085213e-03</td>\n",
              "      <td>0.623879</td>\n",
              "      <td>0.605998</td>\n",
              "      <td>0.841179</td>\n",
              "      <td>0.278778</td>\n",
              "      <td>0.026808</td>\n",
              "      <td>0.565252</td>\n",
              "      <td>1.0</td>\n",
              "      <td>0.033798</td>\n",
              "    </tr>\n",
              "    <tr>\n",
              "      <th>75%</th>\n",
              "      <td>0.000000</td>\n",
              "      <td>0.535563</td>\n",
              "      <td>0.589157</td>\n",
              "      <td>0.584105</td>\n",
              "      <td>0.613914</td>\n",
              "      <td>0.613842</td>\n",
              "      <td>0.999095</td>\n",
              "      <td>0.797579</td>\n",
              "      <td>0.809469</td>\n",
              "      <td>0.303585</td>\n",
              "      <td>0.781735</td>\n",
              "      <td>4.145000e+09</td>\n",
              "      <td>3.450000e+09</td>\n",
              "      <td>0.471004</td>\n",
              "      <td>5.325533e-04</td>\n",
              "      <td>0.205841</td>\n",
              "      <td>0.199570</td>\n",
              "      <td>0.199570</td>\n",
              "      <td>0.199612</td>\n",
              "      <td>0.238820</td>\n",
              "      <td>0.328623</td>\n",
              "      <td>4.635722e-02</td>\n",
              "      <td>0.116155</td>\n",
              "      <td>0.193493</td>\n",
              "      <td>0.022153</td>\n",
              "      <td>0.848123</td>\n",
              "      <td>0.689647</td>\n",
              "      <td>0.689647</td>\n",
              "      <td>0.217622</td>\n",
              "      <td>7.390000e+09</td>\n",
              "      <td>4.993621e-04</td>\n",
              "      <td>0.264388</td>\n",
              "      <td>0.386731</td>\n",
              "      <td>1.626953e-02</td>\n",
              "      <td>1.224911e-02</td>\n",
              "      <td>0.631125</td>\n",
              "      <td>9.273293e-03</td>\n",
              "      <td>0.148804</td>\n",
              "      <td>0.927109</td>\n",
              "      <td>0.006847</td>\n",
              "      <td>0.376271</td>\n",
              "      <td>0.005764</td>\n",
              "      <td>0.115927</td>\n",
              "      <td>0.191607</td>\n",
              "      <td>0.404551</td>\n",
              "      <td>0.176912</td>\n",
              "      <td>1.454759e-03</td>\n",
              "      <td>8.972876e-03</td>\n",
              "      <td>4.620000e+09</td>\n",
              "      <td>3.652371e-03</td>\n",
              "      <td>0.042903</td>\n",
              "      <td>3.585477e-02</td>\n",
              "      <td>0.401851</td>\n",
              "      <td>1.502031e-02</td>\n",
              "      <td>0.850383</td>\n",
              "      <td>0.540594</td>\n",
              "      <td>0.689051</td>\n",
              "      <td>0.161073</td>\n",
              "      <td>1.295091e-02</td>\n",
              "      <td>1.280557e-02</td>\n",
              "      <td>0.119523</td>\n",
              "      <td>0.360915</td>\n",
              "      <td>0.277429</td>\n",
              "      <td>1.114677e-02</td>\n",
              "      <td>0.942027</td>\n",
              "      <td>0.738560</td>\n",
              "      <td>0.332322</td>\n",
              "      <td>9.005946e-03</td>\n",
              "      <td>0.944811</td>\n",
              "      <td>0.002492</td>\n",
              "      <td>0.035930</td>\n",
              "      <td>4.525945e-04</td>\n",
              "      <td>4.900000e+09</td>\n",
              "      <td>0.594002</td>\n",
              "      <td>4.510000e+09</td>\n",
              "      <td>0.671587</td>\n",
              "      <td>3.722000e-01</td>\n",
              "      <td>0.942027</td>\n",
              "      <td>0.332322</td>\n",
              "      <td>0.117106</td>\n",
              "      <td>0.663062</td>\n",
              "      <td>0.464236</td>\n",
              "      <td>0.624769</td>\n",
              "      <td>0.317707</td>\n",
              "      <td>0.038375</td>\n",
              "      <td>0.000000</td>\n",
              "      <td>0.826455</td>\n",
              "      <td>5.269777e-03</td>\n",
              "      <td>0.624168</td>\n",
              "      <td>0.613913</td>\n",
              "      <td>0.842357</td>\n",
              "      <td>0.281449</td>\n",
              "      <td>0.026913</td>\n",
              "      <td>0.565725</td>\n",
              "      <td>1.0</td>\n",
              "      <td>0.052838</td>\n",
              "    </tr>\n",
              "    <tr>\n",
              "      <th>max</th>\n",
              "      <td>1.000000</td>\n",
              "      <td>1.000000</td>\n",
              "      <td>1.000000</td>\n",
              "      <td>1.000000</td>\n",
              "      <td>1.000000</td>\n",
              "      <td>1.000000</td>\n",
              "      <td>1.000000</td>\n",
              "      <td>1.000000</td>\n",
              "      <td>1.000000</td>\n",
              "      <td>1.000000</td>\n",
              "      <td>1.000000</td>\n",
              "      <td>9.990000e+09</td>\n",
              "      <td>9.980000e+09</td>\n",
              "      <td>1.000000</td>\n",
              "      <td>9.900000e+08</td>\n",
              "      <td>1.000000</td>\n",
              "      <td>1.000000</td>\n",
              "      <td>1.000000</td>\n",
              "      <td>1.000000</td>\n",
              "      <td>1.000000</td>\n",
              "      <td>1.000000</td>\n",
              "      <td>3.020000e+09</td>\n",
              "      <td>1.000000</td>\n",
              "      <td>1.000000</td>\n",
              "      <td>1.000000</td>\n",
              "      <td>1.000000</td>\n",
              "      <td>1.000000</td>\n",
              "      <td>1.000000</td>\n",
              "      <td>1.000000</td>\n",
              "      <td>9.990000e+09</td>\n",
              "      <td>9.330000e+09</td>\n",
              "      <td>1.000000</td>\n",
              "      <td>1.000000</td>\n",
              "      <td>2.750000e+09</td>\n",
              "      <td>9.230000e+09</td>\n",
              "      <td>1.000000</td>\n",
              "      <td>9.940000e+09</td>\n",
              "      <td>1.000000</td>\n",
              "      <td>1.000000</td>\n",
              "      <td>1.000000</td>\n",
              "      <td>1.000000</td>\n",
              "      <td>1.000000</td>\n",
              "      <td>1.000000</td>\n",
              "      <td>1.000000</td>\n",
              "      <td>1.000000</td>\n",
              "      <td>1.000000</td>\n",
              "      <td>9.740000e+09</td>\n",
              "      <td>9.730000e+09</td>\n",
              "      <td>9.990000e+09</td>\n",
              "      <td>9.990000e+09</td>\n",
              "      <td>1.000000</td>\n",
              "      <td>8.810000e+09</td>\n",
              "      <td>1.000000</td>\n",
              "      <td>9.570000e+09</td>\n",
              "      <td>1.000000</td>\n",
              "      <td>1.000000</td>\n",
              "      <td>1.000000</td>\n",
              "      <td>1.000000</td>\n",
              "      <td>8.820000e+09</td>\n",
              "      <td>9.650000e+09</td>\n",
              "      <td>1.000000</td>\n",
              "      <td>1.000000</td>\n",
              "      <td>1.000000</td>\n",
              "      <td>9.910000e+09</td>\n",
              "      <td>1.000000</td>\n",
              "      <td>1.000000</td>\n",
              "      <td>1.000000</td>\n",
              "      <td>9.540000e+09</td>\n",
              "      <td>1.000000</td>\n",
              "      <td>1.000000</td>\n",
              "      <td>1.000000</td>\n",
              "      <td>1.000000e+10</td>\n",
              "      <td>1.000000e+10</td>\n",
              "      <td>1.000000</td>\n",
              "      <td>1.000000e+10</td>\n",
              "      <td>1.000000</td>\n",
              "      <td>8.320000e+09</td>\n",
              "      <td>1.000000</td>\n",
              "      <td>1.000000</td>\n",
              "      <td>1.000000</td>\n",
              "      <td>1.000000</td>\n",
              "      <td>1.000000</td>\n",
              "      <td>1.000000</td>\n",
              "      <td>1.000000</td>\n",
              "      <td>1.000000</td>\n",
              "      <td>1.000000</td>\n",
              "      <td>1.000000</td>\n",
              "      <td>9.820000e+09</td>\n",
              "      <td>1.000000</td>\n",
              "      <td>1.000000</td>\n",
              "      <td>1.000000</td>\n",
              "      <td>1.000000</td>\n",
              "      <td>1.000000</td>\n",
              "      <td>1.000000</td>\n",
              "      <td>1.0</td>\n",
              "      <td>1.000000</td>\n",
              "    </tr>\n",
              "  </tbody>\n",
              "</table>\n",
              "</div>\n",
              "      <button class=\"colab-df-convert\" onclick=\"convertToInteractive('df-45bc8149-f63c-44dc-a8fb-bc007e3e729d')\"\n",
              "              title=\"Convert this dataframe to an interactive table.\"\n",
              "              style=\"display:none;\">\n",
              "        \n",
              "  <svg xmlns=\"http://www.w3.org/2000/svg\" height=\"24px\"viewBox=\"0 0 24 24\"\n",
              "       width=\"24px\">\n",
              "    <path d=\"M0 0h24v24H0V0z\" fill=\"none\"/>\n",
              "    <path d=\"M18.56 5.44l.94 2.06.94-2.06 2.06-.94-2.06-.94-.94-2.06-.94 2.06-2.06.94zm-11 1L8.5 8.5l.94-2.06 2.06-.94-2.06-.94L8.5 2.5l-.94 2.06-2.06.94zm10 10l.94 2.06.94-2.06 2.06-.94-2.06-.94-.94-2.06-.94 2.06-2.06.94z\"/><path d=\"M17.41 7.96l-1.37-1.37c-.4-.4-.92-.59-1.43-.59-.52 0-1.04.2-1.43.59L10.3 9.45l-7.72 7.72c-.78.78-.78 2.05 0 2.83L4 21.41c.39.39.9.59 1.41.59.51 0 1.02-.2 1.41-.59l7.78-7.78 2.81-2.81c.8-.78.8-2.07 0-2.86zM5.41 20L4 18.59l7.72-7.72 1.47 1.35L5.41 20z\"/>\n",
              "  </svg>\n",
              "      </button>\n",
              "      \n",
              "  <style>\n",
              "    .colab-df-container {\n",
              "      display:flex;\n",
              "      flex-wrap:wrap;\n",
              "      gap: 12px;\n",
              "    }\n",
              "\n",
              "    .colab-df-convert {\n",
              "      background-color: #E8F0FE;\n",
              "      border: none;\n",
              "      border-radius: 50%;\n",
              "      cursor: pointer;\n",
              "      display: none;\n",
              "      fill: #1967D2;\n",
              "      height: 32px;\n",
              "      padding: 0 0 0 0;\n",
              "      width: 32px;\n",
              "    }\n",
              "\n",
              "    .colab-df-convert:hover {\n",
              "      background-color: #E2EBFA;\n",
              "      box-shadow: 0px 1px 2px rgba(60, 64, 67, 0.3), 0px 1px 3px 1px rgba(60, 64, 67, 0.15);\n",
              "      fill: #174EA6;\n",
              "    }\n",
              "\n",
              "    [theme=dark] .colab-df-convert {\n",
              "      background-color: #3B4455;\n",
              "      fill: #D2E3FC;\n",
              "    }\n",
              "\n",
              "    [theme=dark] .colab-df-convert:hover {\n",
              "      background-color: #434B5C;\n",
              "      box-shadow: 0px 1px 3px 1px rgba(0, 0, 0, 0.15);\n",
              "      filter: drop-shadow(0px 1px 2px rgba(0, 0, 0, 0.3));\n",
              "      fill: #FFFFFF;\n",
              "    }\n",
              "  </style>\n",
              "\n",
              "      <script>\n",
              "        const buttonEl =\n",
              "          document.querySelector('#df-45bc8149-f63c-44dc-a8fb-bc007e3e729d button.colab-df-convert');\n",
              "        buttonEl.style.display =\n",
              "          google.colab.kernel.accessAllowed ? 'block' : 'none';\n",
              "\n",
              "        async function convertToInteractive(key) {\n",
              "          const element = document.querySelector('#df-45bc8149-f63c-44dc-a8fb-bc007e3e729d');\n",
              "          const dataTable =\n",
              "            await google.colab.kernel.invokeFunction('convertToInteractive',\n",
              "                                                     [key], {});\n",
              "          if (!dataTable) return;\n",
              "\n",
              "          const docLinkHtml = 'Like what you see? Visit the ' +\n",
              "            '<a target=\"_blank\" href=https://colab.research.google.com/notebooks/data_table.ipynb>data table notebook</a>'\n",
              "            + ' to learn more about interactive tables.';\n",
              "          element.innerHTML = '';\n",
              "          dataTable['output_type'] = 'display_data';\n",
              "          await google.colab.output.renderOutput(dataTable, element);\n",
              "          const docLink = document.createElement('div');\n",
              "          docLink.innerHTML = docLinkHtml;\n",
              "          element.appendChild(docLink);\n",
              "        }\n",
              "      </script>\n",
              "    </div>\n",
              "  </div>\n",
              "  "
            ]
          },
          "metadata": {},
          "execution_count": 22
        }
      ],
      "source": [
        "# Statistical description of each column/variable\n",
        "\n",
        "df.describe()"
      ]
    },
    {
      "cell_type": "markdown",
      "metadata": {
        "id": "T0Pfigti9wsQ"
      },
      "source": [
        "Class Distribution\n",
        "---\n",
        "Let’s now take a look at the number of instances (rows) that belong to each class. We can view this as an absolute count."
      ]
    },
    {
      "cell_type": "code",
      "execution_count": null,
      "metadata": {
        "colab": {
          "base_uri": "https://localhost:8080/"
        },
        "id": "jwSyFvQg9zM9",
        "outputId": "792332b4-d79b-4378-82fd-aebebf12b48e"
      },
      "outputs": [
        {
          "output_type": "stream",
          "name": "stdout",
          "text": [
            "Bankrupt?\n",
            "0    6599\n",
            "1     220\n",
            "dtype: int64\n"
          ]
        }
      ],
      "source": [
        "# The code below shows the amount of businesses (220) that went bankrupt and those that did not (6599), so like in most cases we have an imbalanced dataset\n",
        "print(df.groupby('Bankrupt?').size())\n"
      ]
    },
    {
      "cell_type": "markdown",
      "metadata": {
        "id": "jOL_MighsGj1"
      },
      "source": [
        "# Additional Data Inspection & Cleaning"
      ]
    },
    {
      "cell_type": "markdown",
      "metadata": {
        "id": "Is9ZXipXskbz"
      },
      "source": [
        "# Data inspection"
      ]
    },
    {
      "cell_type": "code",
      "execution_count": null,
      "metadata": {
        "colab": {
          "base_uri": "https://localhost:8080/"
        },
        "id": "Nw_vHaHK6nW8",
        "outputId": "98708793-6de6-4b42-80a1-ee4547b1650a"
      },
      "outputs": [
        {
          "output_type": "stream",
          "name": "stdout",
          "text": [
            "<class 'pandas.core.frame.DataFrame'>\n",
            "RangeIndex: 6819 entries, 0 to 6818\n",
            "Data columns (total 96 columns):\n",
            " #   Column                                                    Non-Null Count  Dtype  \n",
            "---  ------                                                    --------------  -----  \n",
            " 0   Bankrupt?                                                 6819 non-null   int64  \n",
            " 1    ROA(C) before interest and depreciation before interest  6819 non-null   float64\n",
            " 2    ROA(A) before interest and % after tax                   6819 non-null   float64\n",
            " 3    ROA(B) before interest and depreciation after tax        6819 non-null   float64\n",
            " 4    Operating Gross Margin                                   6819 non-null   float64\n",
            " 5    Realized Sales Gross Margin                              6819 non-null   float64\n",
            " 6    Operating Profit Rate                                    6819 non-null   float64\n",
            " 7    Pre-tax net Interest Rate                                6819 non-null   float64\n",
            " 8    After-tax net Interest Rate                              6819 non-null   float64\n",
            " 9    Non-industry income and expenditure/revenue              6819 non-null   float64\n",
            " 10   Continuous interest rate (after tax)                     6819 non-null   float64\n",
            " 11   Operating Expense Rate                                   6819 non-null   float64\n",
            " 12   Research and development expense rate                    6819 non-null   float64\n",
            " 13   Cash flow rate                                           6819 non-null   float64\n",
            " 14   Interest-bearing debt interest rate                      6819 non-null   float64\n",
            " 15   Tax rate (A)                                             6819 non-null   float64\n",
            " 16   Net Value Per Share (B)                                  6819 non-null   float64\n",
            " 17   Net Value Per Share (A)                                  6819 non-null   float64\n",
            " 18   Net Value Per Share (C)                                  6819 non-null   float64\n",
            " 19   Persistent EPS in the Last Four Seasons                  6819 non-null   float64\n",
            " 20   Cash Flow Per Share                                      6819 non-null   float64\n",
            " 21   Revenue Per Share (Yuan ¥)                               6819 non-null   float64\n",
            " 22   Operating Profit Per Share (Yuan ¥)                      6819 non-null   float64\n",
            " 23   Per Share Net profit before tax (Yuan ¥)                 6819 non-null   float64\n",
            " 24   Realized Sales Gross Profit Growth Rate                  6819 non-null   float64\n",
            " 25   Operating Profit Growth Rate                             6819 non-null   float64\n",
            " 26   After-tax Net Profit Growth Rate                         6819 non-null   float64\n",
            " 27   Regular Net Profit Growth Rate                           6819 non-null   float64\n",
            " 28   Continuous Net Profit Growth Rate                        6819 non-null   float64\n",
            " 29   Total Asset Growth Rate                                  6819 non-null   float64\n",
            " 30   Net Value Growth Rate                                    6819 non-null   float64\n",
            " 31   Total Asset Return Growth Rate Ratio                     6819 non-null   float64\n",
            " 32   Cash Reinvestment %                                      6819 non-null   float64\n",
            " 33   Current Ratio                                            6819 non-null   float64\n",
            " 34   Quick Ratio                                              6819 non-null   float64\n",
            " 35   Interest Expense Ratio                                   6819 non-null   float64\n",
            " 36   Total debt/Total net worth                               6819 non-null   float64\n",
            " 37   Debt ratio %                                             6819 non-null   float64\n",
            " 38   Net worth/Assets                                         6819 non-null   float64\n",
            " 39   Long-term fund suitability ratio (A)                     6819 non-null   float64\n",
            " 40   Borrowing dependency                                     6819 non-null   float64\n",
            " 41   Contingent liabilities/Net worth                         6819 non-null   float64\n",
            " 42   Operating profit/Paid-in capital                         6819 non-null   float64\n",
            " 43   Net profit before tax/Paid-in capital                    6819 non-null   float64\n",
            " 44   Inventory and accounts receivable/Net value              6819 non-null   float64\n",
            " 45   Total Asset Turnover                                     6819 non-null   float64\n",
            " 46   Accounts Receivable Turnover                             6819 non-null   float64\n",
            " 47   Average Collection Days                                  6819 non-null   float64\n",
            " 48   Inventory Turnover Rate (times)                          6819 non-null   float64\n",
            " 49   Fixed Assets Turnover Frequency                          6819 non-null   float64\n",
            " 50   Net Worth Turnover Rate (times)                          6819 non-null   float64\n",
            " 51   Revenue per person                                       6819 non-null   float64\n",
            " 52   Operating profit per person                              6819 non-null   float64\n",
            " 53   Allocation rate per person                               6819 non-null   float64\n",
            " 54   Working Capital to Total Assets                          6819 non-null   float64\n",
            " 55   Quick Assets/Total Assets                                6819 non-null   float64\n",
            " 56   Current Assets/Total Assets                              6819 non-null   float64\n",
            " 57   Cash/Total Assets                                        6819 non-null   float64\n",
            " 58   Quick Assets/Current Liability                           6819 non-null   float64\n",
            " 59   Cash/Current Liability                                   6819 non-null   float64\n",
            " 60   Current Liability to Assets                              6819 non-null   float64\n",
            " 61   Operating Funds to Liability                             6819 non-null   float64\n",
            " 62   Inventory/Working Capital                                6819 non-null   float64\n",
            " 63   Inventory/Current Liability                              6819 non-null   float64\n",
            " 64   Current Liabilities/Liability                            6819 non-null   float64\n",
            " 65   Working Capital/Equity                                   6819 non-null   float64\n",
            " 66   Current Liabilities/Equity                               6819 non-null   float64\n",
            " 67   Long-term Liability to Current Assets                    6819 non-null   float64\n",
            " 68   Retained Earnings to Total Assets                        6819 non-null   float64\n",
            " 69   Total income/Total expense                               6819 non-null   float64\n",
            " 70   Total expense/Assets                                     6819 non-null   float64\n",
            " 71   Current Asset Turnover Rate                              6819 non-null   float64\n",
            " 72   Quick Asset Turnover Rate                                6819 non-null   float64\n",
            " 73   Working capitcal Turnover Rate                           6819 non-null   float64\n",
            " 74   Cash Turnover Rate                                       6819 non-null   float64\n",
            " 75   Cash Flow to Sales                                       6819 non-null   float64\n",
            " 76   Fixed Assets to Assets                                   6819 non-null   float64\n",
            " 77   Current Liability to Liability                           6819 non-null   float64\n",
            " 78   Current Liability to Equity                              6819 non-null   float64\n",
            " 79   Equity to Long-term Liability                            6819 non-null   float64\n",
            " 80   Cash Flow to Total Assets                                6819 non-null   float64\n",
            " 81   Cash Flow to Liability                                   6819 non-null   float64\n",
            " 82   CFO to Assets                                            6819 non-null   float64\n",
            " 83   Cash Flow to Equity                                      6819 non-null   float64\n",
            " 84   Current Liability to Current Assets                      6819 non-null   float64\n",
            " 85   Liability-Assets Flag                                    6819 non-null   int64  \n",
            " 86   Net Income to Total Assets                               6819 non-null   float64\n",
            " 87   Total assets to GNP price                                6819 non-null   float64\n",
            " 88   No-credit Interval                                       6819 non-null   float64\n",
            " 89   Gross Profit to Sales                                    6819 non-null   float64\n",
            " 90   Net Income to Stockholder's Equity                       6819 non-null   float64\n",
            " 91   Liability to Equity                                      6819 non-null   float64\n",
            " 92   Degree of Financial Leverage (DFL)                       6819 non-null   float64\n",
            " 93   Interest Coverage Ratio (Interest expense to EBIT)       6819 non-null   float64\n",
            " 94   Net Income Flag                                          6819 non-null   int64  \n",
            " 95   Equity to Liability                                      6819 non-null   float64\n",
            "dtypes: float64(93), int64(3)\n",
            "memory usage: 5.0 MB\n"
          ]
        }
      ],
      "source": [
        "# Looking at the datatypes for each column in the dataframe to see if there are any categorical ones hiding as a numeric column\n",
        "# Also checking at the same time if there are any null values in any of the columns, which after a review there does not seem to be\n",
        "\n",
        "df.info()"
      ]
    },
    {
      "cell_type": "code",
      "source": [
        "df.dtypes.value_counts()\n"
      ],
      "metadata": {
        "colab": {
          "base_uri": "https://localhost:8080/"
        },
        "id": "zS-8Yqk6EXqr",
        "outputId": "f7f3f283-d165-4aea-e422-54db9c6eb024"
      },
      "execution_count": null,
      "outputs": [
        {
          "output_type": "execute_result",
          "data": {
            "text/plain": [
              "float64    93\n",
              "int64       3\n",
              "dtype: int64"
            ]
          },
          "metadata": {},
          "execution_count": 67
        }
      ]
    },
    {
      "cell_type": "code",
      "execution_count": null,
      "metadata": {
        "colab": {
          "base_uri": "https://localhost:8080/"
        },
        "id": "5mlVP5CJKv8D",
        "outputId": "c4dfeb5d-d99d-4a1a-b3d5-4f3b9080f7d8"
      },
      "outputs": [
        {
          "output_type": "execute_result",
          "data": {
            "text/plain": [
              "Bankrupt?                                                      2\n",
              " ROA(C) before interest and depreciation before interest    3333\n",
              " ROA(A) before interest and % after tax                     3151\n",
              " ROA(B) before interest and depreciation after tax          3160\n",
              " Operating Gross Margin                                     3781\n",
              " Realized Sales Gross Margin                                3788\n",
              " Operating Profit Rate                                      3376\n",
              " Pre-tax net Interest Rate                                  3789\n",
              " After-tax net Interest Rate                                3604\n",
              " Non-industry income and expenditure/revenue                2551\n",
              " Continuous interest rate (after tax)                       3617\n",
              " Operating Expense Rate                                     2966\n",
              " Research and development expense rate                      1536\n",
              " Cash flow rate                                             5557\n",
              " Interest-bearing debt interest rate                        1080\n",
              " Tax rate (A)                                               2488\n",
              " Net Value Per Share (B)                                    2278\n",
              " Net Value Per Share (A)                                    2285\n",
              " Net Value Per Share (C)                                    2284\n",
              " Persistent EPS in the Last Four Seasons                    1358\n",
              " Cash Flow Per Share                                        1545\n",
              " Revenue Per Share (Yuan ¥)                                 3807\n",
              " Operating Profit Per Share (Yuan ¥)                        1236\n",
              " Per Share Net profit before tax (Yuan ¥)                   1522\n",
              " Realized Sales Gross Profit Growth Rate                    5583\n",
              " Operating Profit Growth Rate                               6249\n",
              " After-tax Net Profit Growth Rate                           6246\n",
              " Regular Net Profit Growth Rate                             6253\n",
              " Continuous Net Profit Growth Rate                          6270\n",
              " Total Asset Growth Rate                                    1751\n",
              " Net Value Growth Rate                                      4502\n",
              " Total Asset Return Growth Rate Ratio                       2903\n",
              " Cash Reinvestment %                                        3599\n",
              " Current Ratio                                              6132\n",
              " Quick Ratio                                                6094\n",
              " Interest Expense Ratio                                     3794\n",
              " Total debt/Total net worth                                 5518\n",
              " Debt ratio %                                               4208\n",
              " Net worth/Assets                                           4208\n",
              " Long-term fund suitability ratio (A)                       6523\n",
              " Borrowing dependency                                       4338\n",
              " Contingent liabilities/Net worth                           1855\n",
              " Operating profit/Paid-in capital                           4423\n",
              " Net profit before tax/Paid-in capital                      4785\n",
              " Inventory and accounts receivable/Net value                5289\n",
              " Total Asset Turnover                                        381\n",
              " Accounts Receivable Turnover                               1593\n",
              " Average Collection Days                                    5451\n",
              " Inventory Turnover Rate (times)                            2397\n",
              " Fixed Assets Turnover Frequency                            2451\n",
              " Net Worth Turnover Rate (times)                             741\n",
              " Revenue per person                                         5667\n",
              " Operating profit per person                                3023\n",
              " Allocation rate per person                                 6768\n",
              " Working Capital to Total Assets                            6819\n",
              " Quick Assets/Total Assets                                  6819\n",
              " Current Assets/Total Assets                                6819\n",
              " Cash/Total Assets                                          6819\n",
              " Quick Assets/Current Liability                             6819\n",
              " Cash/Current Liability                                     6816\n",
              " Current Liability to Assets                                6819\n",
              " Operating Funds to Liability                               6819\n",
              " Inventory/Working Capital                                  6593\n",
              " Inventory/Current Liability                                6590\n",
              " Current Liabilities/Liability                              6627\n",
              " Working Capital/Equity                                     6819\n",
              " Current Liabilities/Equity                                 6819\n",
              " Long-term Liability to Current Assets                      4249\n",
              " Retained Earnings to Total Assets                          6819\n",
              " Total income/Total expense                                 6819\n",
              " Total expense/Assets                                       6819\n",
              " Current Asset Turnover Rate                                6261\n",
              " Quick Asset Turnover Rate                                  5377\n",
              " Working capitcal Turnover Rate                             6819\n",
              " Cash Turnover Rate                                         4023\n",
              " Cash Flow to Sales                                         6819\n",
              " Fixed Assets to Assets                                     6814\n",
              " Current Liability to Liability                             6627\n",
              " Current Liability to Equity                                6819\n",
              " Equity to Long-term Liability                              4251\n",
              " Cash Flow to Total Assets                                  6819\n",
              " Cash Flow to Liability                                     6819\n",
              " CFO to Assets                                              6819\n",
              " Cash Flow to Equity                                        6819\n",
              " Current Liability to Current Assets                        6819\n",
              " Liability-Assets Flag                                         2\n",
              " Net Income to Total Assets                                 6819\n",
              " Total assets to GNP price                                  6818\n",
              " No-credit Interval                                         6819\n",
              " Gross Profit to Sales                                      6816\n",
              " Net Income to Stockholder's Equity                         6819\n",
              " Liability to Equity                                        6819\n",
              " Degree of Financial Leverage (DFL)                         6240\n",
              " Interest Coverage Ratio (Interest expense to EBIT)         6240\n",
              " Net Income Flag                                               1\n",
              " Equity to Liability                                        6819\n",
              "dtype: int64"
            ]
          },
          "metadata": {},
          "execution_count": 25
        }
      ],
      "source": [
        "# Now checking to see how many unique values are in each column\n",
        "\n",
        "df.nunique()"
      ]
    },
    {
      "cell_type": "markdown",
      "metadata": {
        "id": "kxg4fMIDtDcs"
      },
      "source": [
        "# Data Cleaning"
      ]
    },
    {
      "cell_type": "code",
      "execution_count": null,
      "metadata": {
        "id": "UwdPMTO4Q-04"
      },
      "outputs": [],
      "source": [
        "# Realized that the Bankruptcy column is missing a space in the beginning the rest of the columns have and so I am using the strip method to remove any whitespace before and after the string of words in each column header\n",
        "\n",
        "df.columns = df.columns.str.strip()"
      ]
    },
    {
      "cell_type": "code",
      "execution_count": null,
      "metadata": {
        "id": "4M6OIs2YOJV8"
      },
      "outputs": [],
      "source": [
        "# Dropping the Net Income Flag because only has one unique value which is useless in any kind of model and moving the 'Liability-Assets Flag' column as it looks like a categorical variable disguised as numeric/continuous variable with only 2 unique values\n",
        "#netInCol = df['Net Income Flag']\n",
        "df.drop(labels=['Net Income Flag'], axis=1, inplace = True)\n",
        "#df.insert(len(df.columns),'Net Income Flag', netInCol)\n",
        "\n",
        "LAFlag = df['Liability-Assets Flag']\n",
        "df.drop(labels=['Liability-Assets Flag'], axis=1, inplace = True)\n",
        "df.insert(len(df.columns),'Liability-Assets Flag', LAFlag)"
      ]
    },
    {
      "cell_type": "code",
      "execution_count": null,
      "metadata": {
        "colab": {
          "base_uri": "https://localhost:8080/"
        },
        "id": "p1N9T2g56_tE",
        "outputId": "9f1f5d92-de43-49f4-ba77-63ef9cb44191"
      },
      "outputs": [
        {
          "output_type": "execute_result",
          "data": {
            "text/plain": [
              "{0: 'Bankrupt?',\n",
              " 1: 'ROA(C) before interest and depreciation before interest',\n",
              " 2: 'ROA(A) before interest and % after tax',\n",
              " 3: 'ROA(B) before interest and depreciation after tax',\n",
              " 4: 'Operating Gross Margin',\n",
              " 5: 'Realized Sales Gross Margin',\n",
              " 6: 'Operating Profit Rate',\n",
              " 7: 'Pre-tax net Interest Rate',\n",
              " 8: 'After-tax net Interest Rate',\n",
              " 9: 'Non-industry income and expenditure/revenue',\n",
              " 10: 'Continuous interest rate (after tax)',\n",
              " 11: 'Operating Expense Rate',\n",
              " 12: 'Research and development expense rate',\n",
              " 13: 'Cash flow rate',\n",
              " 14: 'Interest-bearing debt interest rate',\n",
              " 15: 'Tax rate (A)',\n",
              " 16: 'Net Value Per Share (B)',\n",
              " 17: 'Net Value Per Share (A)',\n",
              " 18: 'Net Value Per Share (C)',\n",
              " 19: 'Persistent EPS in the Last Four Seasons',\n",
              " 20: 'Cash Flow Per Share',\n",
              " 21: 'Revenue Per Share (Yuan ¥)',\n",
              " 22: 'Operating Profit Per Share (Yuan ¥)',\n",
              " 23: 'Per Share Net profit before tax (Yuan ¥)',\n",
              " 24: 'Realized Sales Gross Profit Growth Rate',\n",
              " 25: 'Operating Profit Growth Rate',\n",
              " 26: 'After-tax Net Profit Growth Rate',\n",
              " 27: 'Regular Net Profit Growth Rate',\n",
              " 28: 'Continuous Net Profit Growth Rate',\n",
              " 29: 'Total Asset Growth Rate',\n",
              " 30: 'Net Value Growth Rate',\n",
              " 31: 'Total Asset Return Growth Rate Ratio',\n",
              " 32: 'Cash Reinvestment %',\n",
              " 33: 'Current Ratio',\n",
              " 34: 'Quick Ratio',\n",
              " 35: 'Interest Expense Ratio',\n",
              " 36: 'Total debt/Total net worth',\n",
              " 37: 'Debt ratio %',\n",
              " 38: 'Net worth/Assets',\n",
              " 39: 'Long-term fund suitability ratio (A)',\n",
              " 40: 'Borrowing dependency',\n",
              " 41: 'Contingent liabilities/Net worth',\n",
              " 42: 'Operating profit/Paid-in capital',\n",
              " 43: 'Net profit before tax/Paid-in capital',\n",
              " 44: 'Inventory and accounts receivable/Net value',\n",
              " 45: 'Total Asset Turnover',\n",
              " 46: 'Accounts Receivable Turnover',\n",
              " 47: 'Average Collection Days',\n",
              " 48: 'Inventory Turnover Rate (times)',\n",
              " 49: 'Fixed Assets Turnover Frequency',\n",
              " 50: 'Net Worth Turnover Rate (times)',\n",
              " 51: 'Revenue per person',\n",
              " 52: 'Operating profit per person',\n",
              " 53: 'Allocation rate per person',\n",
              " 54: 'Working Capital to Total Assets',\n",
              " 55: 'Quick Assets/Total Assets',\n",
              " 56: 'Current Assets/Total Assets',\n",
              " 57: 'Cash/Total Assets',\n",
              " 58: 'Quick Assets/Current Liability',\n",
              " 59: 'Cash/Current Liability',\n",
              " 60: 'Current Liability to Assets',\n",
              " 61: 'Operating Funds to Liability',\n",
              " 62: 'Inventory/Working Capital',\n",
              " 63: 'Inventory/Current Liability',\n",
              " 64: 'Current Liabilities/Liability',\n",
              " 65: 'Working Capital/Equity',\n",
              " 66: 'Current Liabilities/Equity',\n",
              " 67: 'Long-term Liability to Current Assets',\n",
              " 68: 'Retained Earnings to Total Assets',\n",
              " 69: 'Total income/Total expense',\n",
              " 70: 'Total expense/Assets',\n",
              " 71: 'Current Asset Turnover Rate',\n",
              " 72: 'Quick Asset Turnover Rate',\n",
              " 73: 'Working capitcal Turnover Rate',\n",
              " 74: 'Cash Turnover Rate',\n",
              " 75: 'Cash Flow to Sales',\n",
              " 76: 'Fixed Assets to Assets',\n",
              " 77: 'Current Liability to Liability',\n",
              " 78: 'Current Liability to Equity',\n",
              " 79: 'Equity to Long-term Liability',\n",
              " 80: 'Cash Flow to Total Assets',\n",
              " 81: 'Cash Flow to Liability',\n",
              " 82: 'CFO to Assets',\n",
              " 83: 'Cash Flow to Equity',\n",
              " 84: 'Current Liability to Current Assets',\n",
              " 85: 'Net Income to Total Assets',\n",
              " 86: 'Total assets to GNP price',\n",
              " 87: 'No-credit Interval',\n",
              " 88: 'Gross Profit to Sales',\n",
              " 89: \"Net Income to Stockholder's Equity\",\n",
              " 90: 'Liability to Equity',\n",
              " 91: 'Degree of Financial Leverage (DFL)',\n",
              " 92: 'Interest Coverage Ratio (Interest expense to EBIT)',\n",
              " 93: 'Equity to Liability',\n",
              " 94: 'Liability-Assets Flag'}"
            ]
          },
          "metadata": {},
          "execution_count": 28
        }
      ],
      "source": [
        "# On a recomendation from Dr Lee, with 96 different columns I decided to create a dictionary of the column names indexed by numbers. \n",
        "# I will now replace the current column names in the dataset, to use the column indexes more effeciently and also not lose the context of what each column means\n",
        "\n",
        "columnIndexDict = {}\n",
        "colNum = 0\n",
        "\n",
        "for col in df.columns: \n",
        "  columnIndexDict[colNum] = col\n",
        "  colNum += 1\n",
        "\n",
        "columnIndexDict"
      ]
    },
    {
      "cell_type": "code",
      "execution_count": null,
      "metadata": {
        "id": "l8khclaQsUVP"
      },
      "outputs": [],
      "source": [
        "# Changing the column names into numbers to work with them more easily\n",
        "i = 0\n",
        "\n",
        "for col in df:\n",
        "  \n",
        "  if columnIndexDict[i] == col:\n",
        "    df.rename(columns = {col:i}, inplace = True)\n",
        "    i += 1"
      ]
    },
    {
      "cell_type": "code",
      "execution_count": null,
      "metadata": {
        "colab": {
          "base_uri": "https://localhost:8080/",
          "height": 176
        },
        "id": "sJVP8MqJztCc",
        "outputId": "e6ea1fed-dcbb-4021-d48e-950db6b70042"
      },
      "outputs": [
        {
          "output_type": "execute_result",
          "data": {
            "text/plain": [
              "   0         1         2        3         4         5         6         7   \\\n",
              "0   1  0.370594  0.424389  0.40575  0.601457  0.601457  0.998969  0.796887   \n",
              "1   1  0.464291  0.538214  0.51673  0.610235  0.610235  0.998946  0.797380   \n",
              "\n",
              "         8         9         10        11   12        13        14   15  \\\n",
              "0  0.808809  0.302646  0.780985  0.000126  0.0  0.458143  0.000725  0.0   \n",
              "1  0.809301  0.303556  0.781506  0.000290  0.0  0.461867  0.000647  0.0   \n",
              "\n",
              "         16        17        18        19        20        21        22  \\\n",
              "0  0.147950  0.147950  0.147950  0.169141  0.311664  0.017560  0.095921   \n",
              "1  0.182251  0.182251  0.182251  0.208944  0.318137  0.021144  0.093722   \n",
              "\n",
              "         23        24        25        26        27        28            29  \\\n",
              "0  0.138736  0.022102  0.848195  0.688979  0.688979  0.217535  4.980000e+09   \n",
              "1  0.169918  0.022080  0.848088  0.689693  0.689702  0.217620  6.110000e+09   \n",
              "\n",
              "         30        31        32        33        34        35        36  \\\n",
              "0  0.000327  0.263100  0.363725  0.002259  0.001208  0.629951  0.021266   \n",
              "1  0.000443  0.264516  0.376709  0.006016  0.004039  0.635172  0.012502   \n",
              "\n",
              "         37        38        39        40        41        42        43  \\\n",
              "0  0.207576  0.792424  0.005024  0.390284  0.006479  0.095885  0.137757   \n",
              "1  0.171176  0.828824  0.005059  0.376760  0.005835  0.093743  0.168962   \n",
              "\n",
              "         44        45        46        47            48            49  \\\n",
              "0  0.398036  0.086957  0.001814  0.003487  1.820926e-04  1.165007e-04   \n",
              "1  0.397725  0.064468  0.001286  0.004917  9.360000e+09  7.190000e+08   \n",
              "\n",
              "         50        51        52        53        54        55        56  \\\n",
              "0  0.032903  0.034164  0.392913  0.037135  0.672775  0.166673  0.190643   \n",
              "1  0.025484  0.006889  0.391590  0.012335  0.751111  0.127236  0.182419   \n",
              "\n",
              "         57        58        59        60        61        62        63  \\\n",
              "0  0.004094  0.001997  0.000147  0.147308  0.334015  0.276920  0.001036   \n",
              "1  0.014948  0.004136  0.001384  0.056963  0.341106  0.289642  0.005210   \n",
              "\n",
              "         64        65        66        67        68        69        70  \\\n",
              "0  0.676269  0.721275  0.339077  0.025592  0.903225  0.002022  0.064856   \n",
              "1  0.308589  0.731975  0.329740  0.023947  0.931065  0.002226  0.025516   \n",
              "\n",
              "             71            72        73            74        75        76  \\\n",
              "0  7.010000e+08  6.550000e+09  0.593831  4.580000e+08  0.671568  0.424206   \n",
              "1  1.065198e-04  7.700000e+09  0.593916  2.490000e+09  0.671570  0.468828   \n",
              "\n",
              "         77        78        79        80        81        82        83  \\\n",
              "0  0.676269  0.339077  0.126549  0.637555  0.458609  0.520382  0.312905   \n",
              "1  0.308589  0.329740  0.120916  0.641100  0.459001  0.567101  0.314163   \n",
              "\n",
              "         84        85        86        87        88        89        90  \\\n",
              "0  0.118250  0.716845  0.009219  0.622879  0.601453  0.827890  0.290202   \n",
              "1  0.047775  0.795297  0.008323  0.623652  0.610237  0.839969  0.283846   \n",
              "\n",
              "         91        92        93  94  \n",
              "0  0.026601  0.564050  0.016469   0  \n",
              "1  0.264577  0.570175  0.020794   0  "
            ],
            "text/html": [
              "\n",
              "  <div id=\"df-75ec1110-f661-403f-a802-d5347f9fae3a\">\n",
              "    <div class=\"colab-df-container\">\n",
              "      <div>\n",
              "<style scoped>\n",
              "    .dataframe tbody tr th:only-of-type {\n",
              "        vertical-align: middle;\n",
              "    }\n",
              "\n",
              "    .dataframe tbody tr th {\n",
              "        vertical-align: top;\n",
              "    }\n",
              "\n",
              "    .dataframe thead th {\n",
              "        text-align: right;\n",
              "    }\n",
              "</style>\n",
              "<table border=\"1\" class=\"dataframe\">\n",
              "  <thead>\n",
              "    <tr style=\"text-align: right;\">\n",
              "      <th></th>\n",
              "      <th>0</th>\n",
              "      <th>1</th>\n",
              "      <th>2</th>\n",
              "      <th>3</th>\n",
              "      <th>4</th>\n",
              "      <th>5</th>\n",
              "      <th>6</th>\n",
              "      <th>7</th>\n",
              "      <th>8</th>\n",
              "      <th>9</th>\n",
              "      <th>10</th>\n",
              "      <th>11</th>\n",
              "      <th>12</th>\n",
              "      <th>13</th>\n",
              "      <th>14</th>\n",
              "      <th>15</th>\n",
              "      <th>16</th>\n",
              "      <th>17</th>\n",
              "      <th>18</th>\n",
              "      <th>19</th>\n",
              "      <th>20</th>\n",
              "      <th>21</th>\n",
              "      <th>22</th>\n",
              "      <th>23</th>\n",
              "      <th>24</th>\n",
              "      <th>25</th>\n",
              "      <th>26</th>\n",
              "      <th>27</th>\n",
              "      <th>28</th>\n",
              "      <th>29</th>\n",
              "      <th>30</th>\n",
              "      <th>31</th>\n",
              "      <th>32</th>\n",
              "      <th>33</th>\n",
              "      <th>34</th>\n",
              "      <th>35</th>\n",
              "      <th>36</th>\n",
              "      <th>37</th>\n",
              "      <th>38</th>\n",
              "      <th>39</th>\n",
              "      <th>40</th>\n",
              "      <th>41</th>\n",
              "      <th>42</th>\n",
              "      <th>43</th>\n",
              "      <th>44</th>\n",
              "      <th>45</th>\n",
              "      <th>46</th>\n",
              "      <th>47</th>\n",
              "      <th>48</th>\n",
              "      <th>49</th>\n",
              "      <th>50</th>\n",
              "      <th>51</th>\n",
              "      <th>52</th>\n",
              "      <th>53</th>\n",
              "      <th>54</th>\n",
              "      <th>55</th>\n",
              "      <th>56</th>\n",
              "      <th>57</th>\n",
              "      <th>58</th>\n",
              "      <th>59</th>\n",
              "      <th>60</th>\n",
              "      <th>61</th>\n",
              "      <th>62</th>\n",
              "      <th>63</th>\n",
              "      <th>64</th>\n",
              "      <th>65</th>\n",
              "      <th>66</th>\n",
              "      <th>67</th>\n",
              "      <th>68</th>\n",
              "      <th>69</th>\n",
              "      <th>70</th>\n",
              "      <th>71</th>\n",
              "      <th>72</th>\n",
              "      <th>73</th>\n",
              "      <th>74</th>\n",
              "      <th>75</th>\n",
              "      <th>76</th>\n",
              "      <th>77</th>\n",
              "      <th>78</th>\n",
              "      <th>79</th>\n",
              "      <th>80</th>\n",
              "      <th>81</th>\n",
              "      <th>82</th>\n",
              "      <th>83</th>\n",
              "      <th>84</th>\n",
              "      <th>85</th>\n",
              "      <th>86</th>\n",
              "      <th>87</th>\n",
              "      <th>88</th>\n",
              "      <th>89</th>\n",
              "      <th>90</th>\n",
              "      <th>91</th>\n",
              "      <th>92</th>\n",
              "      <th>93</th>\n",
              "      <th>94</th>\n",
              "    </tr>\n",
              "  </thead>\n",
              "  <tbody>\n",
              "    <tr>\n",
              "      <th>0</th>\n",
              "      <td>1</td>\n",
              "      <td>0.370594</td>\n",
              "      <td>0.424389</td>\n",
              "      <td>0.40575</td>\n",
              "      <td>0.601457</td>\n",
              "      <td>0.601457</td>\n",
              "      <td>0.998969</td>\n",
              "      <td>0.796887</td>\n",
              "      <td>0.808809</td>\n",
              "      <td>0.302646</td>\n",
              "      <td>0.780985</td>\n",
              "      <td>0.000126</td>\n",
              "      <td>0.0</td>\n",
              "      <td>0.458143</td>\n",
              "      <td>0.000725</td>\n",
              "      <td>0.0</td>\n",
              "      <td>0.147950</td>\n",
              "      <td>0.147950</td>\n",
              "      <td>0.147950</td>\n",
              "      <td>0.169141</td>\n",
              "      <td>0.311664</td>\n",
              "      <td>0.017560</td>\n",
              "      <td>0.095921</td>\n",
              "      <td>0.138736</td>\n",
              "      <td>0.022102</td>\n",
              "      <td>0.848195</td>\n",
              "      <td>0.688979</td>\n",
              "      <td>0.688979</td>\n",
              "      <td>0.217535</td>\n",
              "      <td>4.980000e+09</td>\n",
              "      <td>0.000327</td>\n",
              "      <td>0.263100</td>\n",
              "      <td>0.363725</td>\n",
              "      <td>0.002259</td>\n",
              "      <td>0.001208</td>\n",
              "      <td>0.629951</td>\n",
              "      <td>0.021266</td>\n",
              "      <td>0.207576</td>\n",
              "      <td>0.792424</td>\n",
              "      <td>0.005024</td>\n",
              "      <td>0.390284</td>\n",
              "      <td>0.006479</td>\n",
              "      <td>0.095885</td>\n",
              "      <td>0.137757</td>\n",
              "      <td>0.398036</td>\n",
              "      <td>0.086957</td>\n",
              "      <td>0.001814</td>\n",
              "      <td>0.003487</td>\n",
              "      <td>1.820926e-04</td>\n",
              "      <td>1.165007e-04</td>\n",
              "      <td>0.032903</td>\n",
              "      <td>0.034164</td>\n",
              "      <td>0.392913</td>\n",
              "      <td>0.037135</td>\n",
              "      <td>0.672775</td>\n",
              "      <td>0.166673</td>\n",
              "      <td>0.190643</td>\n",
              "      <td>0.004094</td>\n",
              "      <td>0.001997</td>\n",
              "      <td>0.000147</td>\n",
              "      <td>0.147308</td>\n",
              "      <td>0.334015</td>\n",
              "      <td>0.276920</td>\n",
              "      <td>0.001036</td>\n",
              "      <td>0.676269</td>\n",
              "      <td>0.721275</td>\n",
              "      <td>0.339077</td>\n",
              "      <td>0.025592</td>\n",
              "      <td>0.903225</td>\n",
              "      <td>0.002022</td>\n",
              "      <td>0.064856</td>\n",
              "      <td>7.010000e+08</td>\n",
              "      <td>6.550000e+09</td>\n",
              "      <td>0.593831</td>\n",
              "      <td>4.580000e+08</td>\n",
              "      <td>0.671568</td>\n",
              "      <td>0.424206</td>\n",
              "      <td>0.676269</td>\n",
              "      <td>0.339077</td>\n",
              "      <td>0.126549</td>\n",
              "      <td>0.637555</td>\n",
              "      <td>0.458609</td>\n",
              "      <td>0.520382</td>\n",
              "      <td>0.312905</td>\n",
              "      <td>0.118250</td>\n",
              "      <td>0.716845</td>\n",
              "      <td>0.009219</td>\n",
              "      <td>0.622879</td>\n",
              "      <td>0.601453</td>\n",
              "      <td>0.827890</td>\n",
              "      <td>0.290202</td>\n",
              "      <td>0.026601</td>\n",
              "      <td>0.564050</td>\n",
              "      <td>0.016469</td>\n",
              "      <td>0</td>\n",
              "    </tr>\n",
              "    <tr>\n",
              "      <th>1</th>\n",
              "      <td>1</td>\n",
              "      <td>0.464291</td>\n",
              "      <td>0.538214</td>\n",
              "      <td>0.51673</td>\n",
              "      <td>0.610235</td>\n",
              "      <td>0.610235</td>\n",
              "      <td>0.998946</td>\n",
              "      <td>0.797380</td>\n",
              "      <td>0.809301</td>\n",
              "      <td>0.303556</td>\n",
              "      <td>0.781506</td>\n",
              "      <td>0.000290</td>\n",
              "      <td>0.0</td>\n",
              "      <td>0.461867</td>\n",
              "      <td>0.000647</td>\n",
              "      <td>0.0</td>\n",
              "      <td>0.182251</td>\n",
              "      <td>0.182251</td>\n",
              "      <td>0.182251</td>\n",
              "      <td>0.208944</td>\n",
              "      <td>0.318137</td>\n",
              "      <td>0.021144</td>\n",
              "      <td>0.093722</td>\n",
              "      <td>0.169918</td>\n",
              "      <td>0.022080</td>\n",
              "      <td>0.848088</td>\n",
              "      <td>0.689693</td>\n",
              "      <td>0.689702</td>\n",
              "      <td>0.217620</td>\n",
              "      <td>6.110000e+09</td>\n",
              "      <td>0.000443</td>\n",
              "      <td>0.264516</td>\n",
              "      <td>0.376709</td>\n",
              "      <td>0.006016</td>\n",
              "      <td>0.004039</td>\n",
              "      <td>0.635172</td>\n",
              "      <td>0.012502</td>\n",
              "      <td>0.171176</td>\n",
              "      <td>0.828824</td>\n",
              "      <td>0.005059</td>\n",
              "      <td>0.376760</td>\n",
              "      <td>0.005835</td>\n",
              "      <td>0.093743</td>\n",
              "      <td>0.168962</td>\n",
              "      <td>0.397725</td>\n",
              "      <td>0.064468</td>\n",
              "      <td>0.001286</td>\n",
              "      <td>0.004917</td>\n",
              "      <td>9.360000e+09</td>\n",
              "      <td>7.190000e+08</td>\n",
              "      <td>0.025484</td>\n",
              "      <td>0.006889</td>\n",
              "      <td>0.391590</td>\n",
              "      <td>0.012335</td>\n",
              "      <td>0.751111</td>\n",
              "      <td>0.127236</td>\n",
              "      <td>0.182419</td>\n",
              "      <td>0.014948</td>\n",
              "      <td>0.004136</td>\n",
              "      <td>0.001384</td>\n",
              "      <td>0.056963</td>\n",
              "      <td>0.341106</td>\n",
              "      <td>0.289642</td>\n",
              "      <td>0.005210</td>\n",
              "      <td>0.308589</td>\n",
              "      <td>0.731975</td>\n",
              "      <td>0.329740</td>\n",
              "      <td>0.023947</td>\n",
              "      <td>0.931065</td>\n",
              "      <td>0.002226</td>\n",
              "      <td>0.025516</td>\n",
              "      <td>1.065198e-04</td>\n",
              "      <td>7.700000e+09</td>\n",
              "      <td>0.593916</td>\n",
              "      <td>2.490000e+09</td>\n",
              "      <td>0.671570</td>\n",
              "      <td>0.468828</td>\n",
              "      <td>0.308589</td>\n",
              "      <td>0.329740</td>\n",
              "      <td>0.120916</td>\n",
              "      <td>0.641100</td>\n",
              "      <td>0.459001</td>\n",
              "      <td>0.567101</td>\n",
              "      <td>0.314163</td>\n",
              "      <td>0.047775</td>\n",
              "      <td>0.795297</td>\n",
              "      <td>0.008323</td>\n",
              "      <td>0.623652</td>\n",
              "      <td>0.610237</td>\n",
              "      <td>0.839969</td>\n",
              "      <td>0.283846</td>\n",
              "      <td>0.264577</td>\n",
              "      <td>0.570175</td>\n",
              "      <td>0.020794</td>\n",
              "      <td>0</td>\n",
              "    </tr>\n",
              "  </tbody>\n",
              "</table>\n",
              "</div>\n",
              "      <button class=\"colab-df-convert\" onclick=\"convertToInteractive('df-75ec1110-f661-403f-a802-d5347f9fae3a')\"\n",
              "              title=\"Convert this dataframe to an interactive table.\"\n",
              "              style=\"display:none;\">\n",
              "        \n",
              "  <svg xmlns=\"http://www.w3.org/2000/svg\" height=\"24px\"viewBox=\"0 0 24 24\"\n",
              "       width=\"24px\">\n",
              "    <path d=\"M0 0h24v24H0V0z\" fill=\"none\"/>\n",
              "    <path d=\"M18.56 5.44l.94 2.06.94-2.06 2.06-.94-2.06-.94-.94-2.06-.94 2.06-2.06.94zm-11 1L8.5 8.5l.94-2.06 2.06-.94-2.06-.94L8.5 2.5l-.94 2.06-2.06.94zm10 10l.94 2.06.94-2.06 2.06-.94-2.06-.94-.94-2.06-.94 2.06-2.06.94z\"/><path d=\"M17.41 7.96l-1.37-1.37c-.4-.4-.92-.59-1.43-.59-.52 0-1.04.2-1.43.59L10.3 9.45l-7.72 7.72c-.78.78-.78 2.05 0 2.83L4 21.41c.39.39.9.59 1.41.59.51 0 1.02-.2 1.41-.59l7.78-7.78 2.81-2.81c.8-.78.8-2.07 0-2.86zM5.41 20L4 18.59l7.72-7.72 1.47 1.35L5.41 20z\"/>\n",
              "  </svg>\n",
              "      </button>\n",
              "      \n",
              "  <style>\n",
              "    .colab-df-container {\n",
              "      display:flex;\n",
              "      flex-wrap:wrap;\n",
              "      gap: 12px;\n",
              "    }\n",
              "\n",
              "    .colab-df-convert {\n",
              "      background-color: #E8F0FE;\n",
              "      border: none;\n",
              "      border-radius: 50%;\n",
              "      cursor: pointer;\n",
              "      display: none;\n",
              "      fill: #1967D2;\n",
              "      height: 32px;\n",
              "      padding: 0 0 0 0;\n",
              "      width: 32px;\n",
              "    }\n",
              "\n",
              "    .colab-df-convert:hover {\n",
              "      background-color: #E2EBFA;\n",
              "      box-shadow: 0px 1px 2px rgba(60, 64, 67, 0.3), 0px 1px 3px 1px rgba(60, 64, 67, 0.15);\n",
              "      fill: #174EA6;\n",
              "    }\n",
              "\n",
              "    [theme=dark] .colab-df-convert {\n",
              "      background-color: #3B4455;\n",
              "      fill: #D2E3FC;\n",
              "    }\n",
              "\n",
              "    [theme=dark] .colab-df-convert:hover {\n",
              "      background-color: #434B5C;\n",
              "      box-shadow: 0px 1px 3px 1px rgba(0, 0, 0, 0.15);\n",
              "      filter: drop-shadow(0px 1px 2px rgba(0, 0, 0, 0.3));\n",
              "      fill: #FFFFFF;\n",
              "    }\n",
              "  </style>\n",
              "\n",
              "      <script>\n",
              "        const buttonEl =\n",
              "          document.querySelector('#df-75ec1110-f661-403f-a802-d5347f9fae3a button.colab-df-convert');\n",
              "        buttonEl.style.display =\n",
              "          google.colab.kernel.accessAllowed ? 'block' : 'none';\n",
              "\n",
              "        async function convertToInteractive(key) {\n",
              "          const element = document.querySelector('#df-75ec1110-f661-403f-a802-d5347f9fae3a');\n",
              "          const dataTable =\n",
              "            await google.colab.kernel.invokeFunction('convertToInteractive',\n",
              "                                                     [key], {});\n",
              "          if (!dataTable) return;\n",
              "\n",
              "          const docLinkHtml = 'Like what you see? Visit the ' +\n",
              "            '<a target=\"_blank\" href=https://colab.research.google.com/notebooks/data_table.ipynb>data table notebook</a>'\n",
              "            + ' to learn more about interactive tables.';\n",
              "          element.innerHTML = '';\n",
              "          dataTable['output_type'] = 'display_data';\n",
              "          await google.colab.output.renderOutput(dataTable, element);\n",
              "          const docLink = document.createElement('div');\n",
              "          docLink.innerHTML = docLinkHtml;\n",
              "          element.appendChild(docLink);\n",
              "        }\n",
              "      </script>\n",
              "    </div>\n",
              "  </div>\n",
              "  "
            ]
          },
          "metadata": {},
          "execution_count": 30
        }
      ],
      "source": [
        "# Just to confirm that the change worked\n",
        "\n",
        "df.head(2)"
      ]
    },
    {
      "cell_type": "code",
      "execution_count": null,
      "metadata": {
        "colab": {
          "base_uri": "https://localhost:8080/"
        },
        "id": "k465RxlttSda",
        "outputId": "be9b2590-3077-4c11-ad77-9d54d827d6bc"
      },
      "outputs": [
        {
          "output_type": "execute_result",
          "data": {
            "text/plain": [
              "0    6599\n",
              "1     220\n",
              "Name: 0, dtype: int64"
            ]
          },
          "metadata": {},
          "execution_count": 31
        }
      ],
      "source": [
        "df[0].value_counts()"
      ]
    },
    {
      "cell_type": "code",
      "execution_count": null,
      "metadata": {
        "colab": {
          "base_uri": "https://localhost:8080/",
          "height": 145
        },
        "id": "QYnOS_A0LFOk",
        "outputId": "fd2a5327-835e-436a-f505-443826ab4693"
      },
      "outputs": [
        {
          "output_type": "execute_result",
          "data": {
            "text/plain": [
              "         1         2        3         4         5         6         7   \\\n",
              "0  0.370594  0.424389  0.40575  0.601457  0.601457  0.998969  0.796887   \n",
              "\n",
              "         8         9         10        11   12        13        14   15  \\\n",
              "0  0.808809  0.302646  0.780985  0.000126  0.0  0.458143  0.000725  0.0   \n",
              "\n",
              "        16       17       18        19        20       21        22        23  \\\n",
              "0  0.14795  0.14795  0.14795  0.169141  0.311664  0.01756  0.095921  0.138736   \n",
              "\n",
              "         24        25        26        27        28            29        30  \\\n",
              "0  0.022102  0.848195  0.688979  0.688979  0.217535  4.980000e+09  0.000327   \n",
              "\n",
              "       31        32        33        34        35        36        37  \\\n",
              "0  0.2631  0.363725  0.002259  0.001208  0.629951  0.021266  0.207576   \n",
              "\n",
              "         38        39        40        41        42        43        44  \\\n",
              "0  0.792424  0.005024  0.390284  0.006479  0.095885  0.137757  0.398036   \n",
              "\n",
              "         45        46        47        48        49        50        51  \\\n",
              "0  0.086957  0.001814  0.003487  0.000182  0.000117  0.032903  0.034164   \n",
              "\n",
              "         52        53        54        55        56        57        58  \\\n",
              "0  0.392913  0.037135  0.672775  0.166673  0.190643  0.004094  0.001997   \n",
              "\n",
              "         59        60        61       62        63        64        65  \\\n",
              "0  0.000147  0.147308  0.334015  0.27692  0.001036  0.676269  0.721275   \n",
              "\n",
              "         66        67        68        69        70           71  \\\n",
              "0  0.339077  0.025592  0.903225  0.002022  0.064856  701000000.0   \n",
              "\n",
              "             72        73           74        75        76        77  \\\n",
              "0  6.550000e+09  0.593831  458000000.0  0.671568  0.424206  0.676269   \n",
              "\n",
              "         78        79        80        81        82        83       84  \\\n",
              "0  0.339077  0.126549  0.637555  0.458609  0.520382  0.312905  0.11825   \n",
              "\n",
              "         85        86        87        88       89        90        91  \\\n",
              "0  0.716845  0.009219  0.622879  0.601453  0.82789  0.290202  0.026601   \n",
              "\n",
              "        92        93  94  \n",
              "0  0.56405  0.016469   0  "
            ],
            "text/html": [
              "\n",
              "  <div id=\"df-02992536-b77f-47b3-9a43-648269ea8dca\">\n",
              "    <div class=\"colab-df-container\">\n",
              "      <div>\n",
              "<style scoped>\n",
              "    .dataframe tbody tr th:only-of-type {\n",
              "        vertical-align: middle;\n",
              "    }\n",
              "\n",
              "    .dataframe tbody tr th {\n",
              "        vertical-align: top;\n",
              "    }\n",
              "\n",
              "    .dataframe thead th {\n",
              "        text-align: right;\n",
              "    }\n",
              "</style>\n",
              "<table border=\"1\" class=\"dataframe\">\n",
              "  <thead>\n",
              "    <tr style=\"text-align: right;\">\n",
              "      <th></th>\n",
              "      <th>1</th>\n",
              "      <th>2</th>\n",
              "      <th>3</th>\n",
              "      <th>4</th>\n",
              "      <th>5</th>\n",
              "      <th>6</th>\n",
              "      <th>7</th>\n",
              "      <th>8</th>\n",
              "      <th>9</th>\n",
              "      <th>10</th>\n",
              "      <th>11</th>\n",
              "      <th>12</th>\n",
              "      <th>13</th>\n",
              "      <th>14</th>\n",
              "      <th>15</th>\n",
              "      <th>16</th>\n",
              "      <th>17</th>\n",
              "      <th>18</th>\n",
              "      <th>19</th>\n",
              "      <th>20</th>\n",
              "      <th>21</th>\n",
              "      <th>22</th>\n",
              "      <th>23</th>\n",
              "      <th>24</th>\n",
              "      <th>25</th>\n",
              "      <th>26</th>\n",
              "      <th>27</th>\n",
              "      <th>28</th>\n",
              "      <th>29</th>\n",
              "      <th>30</th>\n",
              "      <th>31</th>\n",
              "      <th>32</th>\n",
              "      <th>33</th>\n",
              "      <th>34</th>\n",
              "      <th>35</th>\n",
              "      <th>36</th>\n",
              "      <th>37</th>\n",
              "      <th>38</th>\n",
              "      <th>39</th>\n",
              "      <th>40</th>\n",
              "      <th>41</th>\n",
              "      <th>42</th>\n",
              "      <th>43</th>\n",
              "      <th>44</th>\n",
              "      <th>45</th>\n",
              "      <th>46</th>\n",
              "      <th>47</th>\n",
              "      <th>48</th>\n",
              "      <th>49</th>\n",
              "      <th>50</th>\n",
              "      <th>51</th>\n",
              "      <th>52</th>\n",
              "      <th>53</th>\n",
              "      <th>54</th>\n",
              "      <th>55</th>\n",
              "      <th>56</th>\n",
              "      <th>57</th>\n",
              "      <th>58</th>\n",
              "      <th>59</th>\n",
              "      <th>60</th>\n",
              "      <th>61</th>\n",
              "      <th>62</th>\n",
              "      <th>63</th>\n",
              "      <th>64</th>\n",
              "      <th>65</th>\n",
              "      <th>66</th>\n",
              "      <th>67</th>\n",
              "      <th>68</th>\n",
              "      <th>69</th>\n",
              "      <th>70</th>\n",
              "      <th>71</th>\n",
              "      <th>72</th>\n",
              "      <th>73</th>\n",
              "      <th>74</th>\n",
              "      <th>75</th>\n",
              "      <th>76</th>\n",
              "      <th>77</th>\n",
              "      <th>78</th>\n",
              "      <th>79</th>\n",
              "      <th>80</th>\n",
              "      <th>81</th>\n",
              "      <th>82</th>\n",
              "      <th>83</th>\n",
              "      <th>84</th>\n",
              "      <th>85</th>\n",
              "      <th>86</th>\n",
              "      <th>87</th>\n",
              "      <th>88</th>\n",
              "      <th>89</th>\n",
              "      <th>90</th>\n",
              "      <th>91</th>\n",
              "      <th>92</th>\n",
              "      <th>93</th>\n",
              "      <th>94</th>\n",
              "    </tr>\n",
              "  </thead>\n",
              "  <tbody>\n",
              "    <tr>\n",
              "      <th>0</th>\n",
              "      <td>0.370594</td>\n",
              "      <td>0.424389</td>\n",
              "      <td>0.40575</td>\n",
              "      <td>0.601457</td>\n",
              "      <td>0.601457</td>\n",
              "      <td>0.998969</td>\n",
              "      <td>0.796887</td>\n",
              "      <td>0.808809</td>\n",
              "      <td>0.302646</td>\n",
              "      <td>0.780985</td>\n",
              "      <td>0.000126</td>\n",
              "      <td>0.0</td>\n",
              "      <td>0.458143</td>\n",
              "      <td>0.000725</td>\n",
              "      <td>0.0</td>\n",
              "      <td>0.14795</td>\n",
              "      <td>0.14795</td>\n",
              "      <td>0.14795</td>\n",
              "      <td>0.169141</td>\n",
              "      <td>0.311664</td>\n",
              "      <td>0.01756</td>\n",
              "      <td>0.095921</td>\n",
              "      <td>0.138736</td>\n",
              "      <td>0.022102</td>\n",
              "      <td>0.848195</td>\n",
              "      <td>0.688979</td>\n",
              "      <td>0.688979</td>\n",
              "      <td>0.217535</td>\n",
              "      <td>4.980000e+09</td>\n",
              "      <td>0.000327</td>\n",
              "      <td>0.2631</td>\n",
              "      <td>0.363725</td>\n",
              "      <td>0.002259</td>\n",
              "      <td>0.001208</td>\n",
              "      <td>0.629951</td>\n",
              "      <td>0.021266</td>\n",
              "      <td>0.207576</td>\n",
              "      <td>0.792424</td>\n",
              "      <td>0.005024</td>\n",
              "      <td>0.390284</td>\n",
              "      <td>0.006479</td>\n",
              "      <td>0.095885</td>\n",
              "      <td>0.137757</td>\n",
              "      <td>0.398036</td>\n",
              "      <td>0.086957</td>\n",
              "      <td>0.001814</td>\n",
              "      <td>0.003487</td>\n",
              "      <td>0.000182</td>\n",
              "      <td>0.000117</td>\n",
              "      <td>0.032903</td>\n",
              "      <td>0.034164</td>\n",
              "      <td>0.392913</td>\n",
              "      <td>0.037135</td>\n",
              "      <td>0.672775</td>\n",
              "      <td>0.166673</td>\n",
              "      <td>0.190643</td>\n",
              "      <td>0.004094</td>\n",
              "      <td>0.001997</td>\n",
              "      <td>0.000147</td>\n",
              "      <td>0.147308</td>\n",
              "      <td>0.334015</td>\n",
              "      <td>0.27692</td>\n",
              "      <td>0.001036</td>\n",
              "      <td>0.676269</td>\n",
              "      <td>0.721275</td>\n",
              "      <td>0.339077</td>\n",
              "      <td>0.025592</td>\n",
              "      <td>0.903225</td>\n",
              "      <td>0.002022</td>\n",
              "      <td>0.064856</td>\n",
              "      <td>701000000.0</td>\n",
              "      <td>6.550000e+09</td>\n",
              "      <td>0.593831</td>\n",
              "      <td>458000000.0</td>\n",
              "      <td>0.671568</td>\n",
              "      <td>0.424206</td>\n",
              "      <td>0.676269</td>\n",
              "      <td>0.339077</td>\n",
              "      <td>0.126549</td>\n",
              "      <td>0.637555</td>\n",
              "      <td>0.458609</td>\n",
              "      <td>0.520382</td>\n",
              "      <td>0.312905</td>\n",
              "      <td>0.11825</td>\n",
              "      <td>0.716845</td>\n",
              "      <td>0.009219</td>\n",
              "      <td>0.622879</td>\n",
              "      <td>0.601453</td>\n",
              "      <td>0.82789</td>\n",
              "      <td>0.290202</td>\n",
              "      <td>0.026601</td>\n",
              "      <td>0.56405</td>\n",
              "      <td>0.016469</td>\n",
              "      <td>0</td>\n",
              "    </tr>\n",
              "  </tbody>\n",
              "</table>\n",
              "</div>\n",
              "      <button class=\"colab-df-convert\" onclick=\"convertToInteractive('df-02992536-b77f-47b3-9a43-648269ea8dca')\"\n",
              "              title=\"Convert this dataframe to an interactive table.\"\n",
              "              style=\"display:none;\">\n",
              "        \n",
              "  <svg xmlns=\"http://www.w3.org/2000/svg\" height=\"24px\"viewBox=\"0 0 24 24\"\n",
              "       width=\"24px\">\n",
              "    <path d=\"M0 0h24v24H0V0z\" fill=\"none\"/>\n",
              "    <path d=\"M18.56 5.44l.94 2.06.94-2.06 2.06-.94-2.06-.94-.94-2.06-.94 2.06-2.06.94zm-11 1L8.5 8.5l.94-2.06 2.06-.94-2.06-.94L8.5 2.5l-.94 2.06-2.06.94zm10 10l.94 2.06.94-2.06 2.06-.94-2.06-.94-.94-2.06-.94 2.06-2.06.94z\"/><path d=\"M17.41 7.96l-1.37-1.37c-.4-.4-.92-.59-1.43-.59-.52 0-1.04.2-1.43.59L10.3 9.45l-7.72 7.72c-.78.78-.78 2.05 0 2.83L4 21.41c.39.39.9.59 1.41.59.51 0 1.02-.2 1.41-.59l7.78-7.78 2.81-2.81c.8-.78.8-2.07 0-2.86zM5.41 20L4 18.59l7.72-7.72 1.47 1.35L5.41 20z\"/>\n",
              "  </svg>\n",
              "      </button>\n",
              "      \n",
              "  <style>\n",
              "    .colab-df-container {\n",
              "      display:flex;\n",
              "      flex-wrap:wrap;\n",
              "      gap: 12px;\n",
              "    }\n",
              "\n",
              "    .colab-df-convert {\n",
              "      background-color: #E8F0FE;\n",
              "      border: none;\n",
              "      border-radius: 50%;\n",
              "      cursor: pointer;\n",
              "      display: none;\n",
              "      fill: #1967D2;\n",
              "      height: 32px;\n",
              "      padding: 0 0 0 0;\n",
              "      width: 32px;\n",
              "    }\n",
              "\n",
              "    .colab-df-convert:hover {\n",
              "      background-color: #E2EBFA;\n",
              "      box-shadow: 0px 1px 2px rgba(60, 64, 67, 0.3), 0px 1px 3px 1px rgba(60, 64, 67, 0.15);\n",
              "      fill: #174EA6;\n",
              "    }\n",
              "\n",
              "    [theme=dark] .colab-df-convert {\n",
              "      background-color: #3B4455;\n",
              "      fill: #D2E3FC;\n",
              "    }\n",
              "\n",
              "    [theme=dark] .colab-df-convert:hover {\n",
              "      background-color: #434B5C;\n",
              "      box-shadow: 0px 1px 3px 1px rgba(0, 0, 0, 0.15);\n",
              "      filter: drop-shadow(0px 1px 2px rgba(0, 0, 0, 0.3));\n",
              "      fill: #FFFFFF;\n",
              "    }\n",
              "  </style>\n",
              "\n",
              "      <script>\n",
              "        const buttonEl =\n",
              "          document.querySelector('#df-02992536-b77f-47b3-9a43-648269ea8dca button.colab-df-convert');\n",
              "        buttonEl.style.display =\n",
              "          google.colab.kernel.accessAllowed ? 'block' : 'none';\n",
              "\n",
              "        async function convertToInteractive(key) {\n",
              "          const element = document.querySelector('#df-02992536-b77f-47b3-9a43-648269ea8dca');\n",
              "          const dataTable =\n",
              "            await google.colab.kernel.invokeFunction('convertToInteractive',\n",
              "                                                     [key], {});\n",
              "          if (!dataTable) return;\n",
              "\n",
              "          const docLinkHtml = 'Like what you see? Visit the ' +\n",
              "            '<a target=\"_blank\" href=https://colab.research.google.com/notebooks/data_table.ipynb>data table notebook</a>'\n",
              "            + ' to learn more about interactive tables.';\n",
              "          element.innerHTML = '';\n",
              "          dataTable['output_type'] = 'display_data';\n",
              "          await google.colab.output.renderOutput(dataTable, element);\n",
              "          const docLink = document.createElement('div');\n",
              "          docLink.innerHTML = docLinkHtml;\n",
              "          element.appendChild(docLink);\n",
              "        }\n",
              "      </script>\n",
              "    </div>\n",
              "  </div>\n",
              "  "
            ]
          },
          "metadata": {},
          "execution_count": 34
        }
      ],
      "source": [
        "df_X = df.loc[:, 1:len(df)]\n",
        "df_y = df.loc[:,0]\n",
        "\n",
        "df_X.head(1)"
      ]
    },
    {
      "cell_type": "markdown",
      "metadata": {
        "id": "y52S4f4fyRab"
      },
      "source": [
        "# Basic Visualizations"
      ]
    },
    {
      "cell_type": "markdown",
      "metadata": {
        "id": "LDo9yP9Z_d3Q"
      },
      "source": [
        "## Univariate Plots\n",
        "\n",
        "We are going to visualize our first four columns to just get a better idea of the data we are working with.\n",
        "\n",
        "**First, let's see some histograms to see how our values are distributed.**\n"
      ]
    },
    {
      "cell_type": "code",
      "execution_count": null,
      "metadata": {
        "colab": {
          "base_uri": "https://localhost:8080/",
          "height": 728
        },
        "id": "zG2Lcxl7zcFv",
        "outputId": "8b744f80-977c-4af6-86d5-06ebce7b7993"
      },
      "outputs": [
        {
          "output_type": "execute_result",
          "data": {
            "text/plain": [
              "<Figure size 144x144 with 0 Axes>"
            ]
          },
          "metadata": {},
          "execution_count": 340
        },
        {
          "output_type": "execute_result",
          "data": {
            "text/plain": [
              "<matplotlib.axes._subplots.AxesSubplot at 0x7f48e0601820>"
            ]
          },
          "metadata": {},
          "execution_count": 340
        },
        {
          "output_type": "execute_result",
          "data": {
            "text/plain": [
              "Text(0.5, 1.0, 'ROA(C) before interest and depreciation before interest')"
            ]
          },
          "metadata": {},
          "execution_count": 340
        },
        {
          "output_type": "execute_result",
          "data": {
            "text/plain": [
              "<Figure size 144x144 with 0 Axes>"
            ]
          },
          "metadata": {},
          "execution_count": 340
        },
        {
          "output_type": "execute_result",
          "data": {
            "text/plain": [
              "<matplotlib.axes._subplots.AxesSubplot at 0x7f48e0176c10>"
            ]
          },
          "metadata": {},
          "execution_count": 340
        },
        {
          "output_type": "execute_result",
          "data": {
            "text/plain": [
              "Text(0.5, 1.0, 'ROA(A) before interest and % after tax')"
            ]
          },
          "metadata": {},
          "execution_count": 340
        },
        {
          "output_type": "execute_result",
          "data": {
            "text/plain": [
              "<Figure size 144x144 with 0 Axes>"
            ]
          },
          "metadata": {},
          "execution_count": 340
        },
        {
          "output_type": "execute_result",
          "data": {
            "text/plain": [
              "<matplotlib.axes._subplots.AxesSubplot at 0x7f48df8bd5e0>"
            ]
          },
          "metadata": {},
          "execution_count": 340
        },
        {
          "output_type": "execute_result",
          "data": {
            "text/plain": [
              "Text(0.5, 1.0, 'ROA(B) before interest and depreciation after tax')"
            ]
          },
          "metadata": {},
          "execution_count": 340
        },
        {
          "output_type": "execute_result",
          "data": {
            "text/plain": [
              "<Figure size 144x144 with 0 Axes>"
            ]
          },
          "metadata": {},
          "execution_count": 340
        },
        {
          "output_type": "execute_result",
          "data": {
            "text/plain": [
              "<matplotlib.axes._subplots.AxesSubplot at 0x7f48df8330d0>"
            ]
          },
          "metadata": {},
          "execution_count": 340
        },
        {
          "output_type": "execute_result",
          "data": {
            "text/plain": [
              "Text(0.5, 1.0, 'Operating Gross Margin')"
            ]
          },
          "metadata": {},
          "execution_count": 340
        },
        {
          "output_type": "display_data",
          "data": {
            "text/plain": [
              "<Figure size 144x144 with 1 Axes>"
            ],
            "image/png": "[encoded data removed]"
          },
          "metadata": {
            "needs_background": "light"
          }
        },
        {
          "output_type": "display_data",
          "data": {
            "text/plain": [
              "<Figure size 144x144 with 1 Axes>"
            ],
            "image/png": "[encoded data removed]"
          },
          "metadata": {
            "needs_background": "light"
          }
        },
        {
          "output_type": "display_data",
          "data": {
            "text/plain": [
              "<Figure size 144x144 with 1 Axes>"
            ],
            "image/png": "[encoded data removed]"
          },
          "metadata": {
            "needs_background": "light"
          }
        },
        {
          "output_type": "display_data",
          "data": {
            "text/plain": [
              "<Figure size 144x144 with 1 Axes>"
            ],
            "image/png": "[encoded data removed]"
          },
          "metadata": {
            "needs_background": "light"
          }
        }
      ],
      "source": [
        "for i in range(1,5):\n",
        "  plt.figure(figsize =(2, 2))\n",
        "  df[i].hist()\n",
        "  title = columnIndexDict[i]\n",
        "  plt.title(title)\n",
        "plt.show()"
      ]
    },
    {
      "cell_type": "markdown",
      "metadata": {
        "id": "3Ya8pP77-dGC"
      },
      "source": [
        "**Now let's do some box plots.**"
      ]
    },
    {
      "cell_type": "code",
      "execution_count": null,
      "metadata": {
        "colab": {
          "base_uri": "https://localhost:8080/",
          "height": 1000
        },
        "id": "Vq96bGuE7Wqr",
        "outputId": "878fe238-d51b-4dbc-b3cb-31bbb770a0e0"
      },
      "outputs": [
        {
          "output_type": "execute_result",
          "data": {
            "text/plain": [
              "<Figure size 216x216 with 0 Axes>"
            ]
          },
          "metadata": {},
          "execution_count": 341
        },
        {
          "output_type": "execute_result",
          "data": {
            "text/plain": [
              "{'whiskers': [<matplotlib.lines.Line2D at 0x7f48e08bbc70>,\n",
              "  <matplotlib.lines.Line2D at 0x7f48e08bb790>],\n",
              " 'caps': [<matplotlib.lines.Line2D at 0x7f48e0abad90>,\n",
              "  <matplotlib.lines.Line2D at 0x7f48e094f7f0>],\n",
              " 'boxes': [<matplotlib.lines.Line2D at 0x7f48e2fc22e0>],\n",
              " 'medians': [<matplotlib.lines.Line2D at 0x7f48e07d05e0>],\n",
              " 'fliers': [<matplotlib.lines.Line2D at 0x7f48dfef5520>],\n",
              " 'means': []}"
            ]
          },
          "metadata": {},
          "execution_count": 341
        },
        {
          "output_type": "execute_result",
          "data": {
            "text/plain": [
              "Text(0.5, 1.0, 'ROA(C) before interest and depreciation before interest')"
            ]
          },
          "metadata": {},
          "execution_count": 341
        },
        {
          "output_type": "execute_result",
          "data": {
            "text/plain": [
              "<Figure size 216x216 with 0 Axes>"
            ]
          },
          "metadata": {},
          "execution_count": 341
        },
        {
          "output_type": "execute_result",
          "data": {
            "text/plain": [
              "{'whiskers': [<matplotlib.lines.Line2D at 0x7f48df871f70>,\n",
              "  <matplotlib.lines.Line2D at 0x7f48df8710d0>],\n",
              " 'caps': [<matplotlib.lines.Line2D at 0x7f48df8711f0>,\n",
              "  <matplotlib.lines.Line2D at 0x7f48df7af640>],\n",
              " 'boxes': [<matplotlib.lines.Line2D at 0x7f48df871460>],\n",
              " 'medians': [<matplotlib.lines.Line2D at 0x7f48df7aff40>],\n",
              " 'fliers': [<matplotlib.lines.Line2D at 0x7f48df7af550>],\n",
              " 'means': []}"
            ]
          },
          "metadata": {},
          "execution_count": 341
        },
        {
          "output_type": "execute_result",
          "data": {
            "text/plain": [
              "Text(0.5, 1.0, 'ROA(A) before interest and % after tax')"
            ]
          },
          "metadata": {},
          "execution_count": 341
        },
        {
          "output_type": "execute_result",
          "data": {
            "text/plain": [
              "<Figure size 216x216 with 0 Axes>"
            ]
          },
          "metadata": {},
          "execution_count": 341
        },
        {
          "output_type": "execute_result",
          "data": {
            "text/plain": [
              "{'whiskers': [<matplotlib.lines.Line2D at 0x7f48df8d3fd0>,\n",
              "  <matplotlib.lines.Line2D at 0x7f48df8d38e0>],\n",
              " 'caps': [<matplotlib.lines.Line2D at 0x7f48df8d3400>,\n",
              "  <matplotlib.lines.Line2D at 0x7f48dfa01070>],\n",
              " 'boxes': [<matplotlib.lines.Line2D at 0x7f48df8d3ac0>],\n",
              " 'medians': [<matplotlib.lines.Line2D at 0x7f48dfa015e0>],\n",
              " 'fliers': [<matplotlib.lines.Line2D at 0x7f48dfa015b0>],\n",
              " 'means': []}"
            ]
          },
          "metadata": {},
          "execution_count": 341
        },
        {
          "output_type": "execute_result",
          "data": {
            "text/plain": [
              "Text(0.5, 1.0, 'ROA(B) before interest and depreciation after tax')"
            ]
          },
          "metadata": {},
          "execution_count": 341
        },
        {
          "output_type": "execute_result",
          "data": {
            "text/plain": [
              "<Figure size 216x216 with 0 Axes>"
            ]
          },
          "metadata": {},
          "execution_count": 341
        },
        {
          "output_type": "execute_result",
          "data": {
            "text/plain": [
              "{'whiskers': [<matplotlib.lines.Line2D at 0x7f48df9e4e50>,\n",
              "  <matplotlib.lines.Line2D at 0x7f48df9e43d0>],\n",
              " 'caps': [<matplotlib.lines.Line2D at 0x7f48df9e4100>,\n",
              "  <matplotlib.lines.Line2D at 0x7f48df9e4cd0>],\n",
              " 'boxes': [<matplotlib.lines.Line2D at 0x7f48df9e41f0>],\n",
              " 'medians': [<matplotlib.lines.Line2D at 0x7f48dfa29160>],\n",
              " 'fliers': [<matplotlib.lines.Line2D at 0x7f48df9da9a0>],\n",
              " 'means': []}"
            ]
          },
          "metadata": {},
          "execution_count": 341
        },
        {
          "output_type": "execute_result",
          "data": {
            "text/plain": [
              "Text(0.5, 1.0, 'Operating Gross Margin')"
            ]
          },
          "metadata": {},
          "execution_count": 341
        },
        {
          "output_type": "display_data",
          "data": {
            "text/plain": [
              "<Figure size 216x216 with 1 Axes>"
            ],
            "image/png": "[encoded data removed]"
          },
          "metadata": {
            "needs_background": "light"
          }
        },
        {
          "output_type": "display_data",
          "data": {
            "text/plain": [
              "<Figure size 216x216 with 1 Axes>"
            ],
            "image/png": "[encoded data removed]"
          },
          "metadata": {
            "needs_background": "light"
          }
        },
        {
          "output_type": "display_data",
          "data": {
            "text/plain": [
              "<Figure size 216x216 with 1 Axes>"
            ],
            "image/png": "[encoded data removed]"
          },
          "metadata": {
            "needs_background": "light"
          }
        },
        {
          "output_type": "display_data",
          "data": {
            "text/plain": [
              "<Figure size 216x216 with 1 Axes>"
            ],
            "image/png": "[encoded data removed]"
          },
          "metadata": {
            "needs_background": "light"
          }
        }
      ],
      "source": [
        "for i in range(1,5):\n",
        "  plt.figure(figsize =(3, 3))\n",
        "  plt.boxplot( df[i])\n",
        "  title = columnIndexDict[i]\n",
        "  plt.title(title)\n",
        "plt.show()"
      ]
    },
    {
      "cell_type": "markdown",
      "source": [
        "**Let's look at our next 4 columns as histograms grouped together**"
      ],
      "metadata": {
        "id": "Y-wTk3_AIJk1"
      }
    },
    {
      "cell_type": "code",
      "execution_count": null,
      "metadata": {
        "colab": {
          "base_uri": "https://localhost:8080/",
          "height": 368
        },
        "id": "gIMEjE1GAG3Z",
        "outputId": "a10b4ac1-3ede-4a21-a361-88039e1e070a"
      },
      "outputs": [
        {
          "output_type": "execute_result",
          "data": {
            "text/plain": [
              "array([[<matplotlib.axes._subplots.AxesSubplot object at 0x7f48e0056280>,\n",
              "        <matplotlib.axes._subplots.AxesSubplot object at 0x7f48e006da60>],\n",
              "       [<matplotlib.axes._subplots.AxesSubplot object at 0x7f48dffa7220>,\n",
              "        <matplotlib.axes._subplots.AxesSubplot object at 0x7f48e01639a0>]],\n",
              "      dtype=object)"
            ]
          },
          "metadata": {},
          "execution_count": 342
        },
        {
          "output_type": "display_data",
          "data": {
            "text/plain": [
              "<Figure size 432x288 with 4 Axes>"
            ],
            "image/png": "[encoded data removed]"
          },
          "metadata": {
            "needs_background": "light"
          }
        }
      ],
      "source": [
        "data = df.iloc[:,5:9]\n",
        "data.hist()\n",
        "pyplot.show()\n",
        "# we are checking for a normal distribition here.  The first 3 seems great, we might need to look into column 4."
      ]
    },
    {
      "cell_type": "code",
      "source": [
        "# double checking to make sure these columns don't contain the same values\n",
        "df.iloc[:,5:9].nunique()"
      ],
      "metadata": {
        "colab": {
          "base_uri": "https://localhost:8080/"
        },
        "id": "fU4x8nsWH1J6",
        "outputId": "18f141f5-11c9-47de-d66a-627be6a2742b"
      },
      "execution_count": null,
      "outputs": [
        {
          "output_type": "execute_result",
          "data": {
            "text/plain": [
              "5    3788\n",
              "6    3376\n",
              "7    3789\n",
              "8    3604\n",
              "dtype: int64"
            ]
          },
          "metadata": {},
          "execution_count": 343
        }
      ]
    },
    {
      "cell_type": "markdown",
      "metadata": {
        "id": "UmZzdPsIAw4f"
      },
      "source": [
        "Multivariate Plots\n",
        "---\n",
        "Now we can look at the interactions between the variables. First, let’s look at scatterplots of all pairs of attributes. This can be helpful to spot structured relationships between input variables."
      ]
    },
    {
      "cell_type": "code",
      "execution_count": null,
      "metadata": {
        "colab": {
          "base_uri": "https://localhost:8080/",
          "height": 572
        },
        "id": "33ndDB71A1oc",
        "outputId": "54eadf0e-fc9f-47e8-95cb-0c9ef50f001d"
      },
      "outputs": [
        {
          "output_type": "execute_result",
          "data": {
            "text/plain": [
              "array([[<matplotlib.axes._subplots.AxesSubplot object at 0x7f48e00eb910>,\n",
              "        <matplotlib.axes._subplots.AxesSubplot object at 0x7f48e02659d0>,\n",
              "        <matplotlib.axes._subplots.AxesSubplot object at 0x7f48e026eb20>,\n",
              "        <matplotlib.axes._subplots.AxesSubplot object at 0x7f48df7d8d30>],\n",
              "       [<matplotlib.axes._subplots.AxesSubplot object at 0x7f48e00a4730>,\n",
              "        <matplotlib.axes._subplots.AxesSubplot object at 0x7f48df784a60>,\n",
              "        <matplotlib.axes._subplots.AxesSubplot object at 0x7f48df784b50>,\n",
              "        <matplotlib.axes._subplots.AxesSubplot object at 0x7f48df733fa0>],\n",
              "       [<matplotlib.axes._subplots.AxesSubplot object at 0x7f48df699730>,\n",
              "        <matplotlib.axes._subplots.AxesSubplot object at 0x7f48df6c6b20>,\n",
              "        <matplotlib.axes._subplots.AxesSubplot object at 0x7f48df676f10>,\n",
              "        <matplotlib.axes._subplots.AxesSubplot object at 0x7f48df62d340>],\n",
              "       [<matplotlib.axes._subplots.AxesSubplot object at 0x7f48df5db730>,\n",
              "        <matplotlib.axes._subplots.AxesSubplot object at 0x7f48df608b20>,\n",
              "        <matplotlib.axes._subplots.AxesSubplot object at 0x7f48df5bc580>,\n",
              "        <matplotlib.axes._subplots.AxesSubplot object at 0x7f48df569ca0>]],\n",
              "      dtype=object)"
            ]
          },
          "metadata": {},
          "execution_count": 344
        },
        {
          "output_type": "display_data",
          "data": {
            "text/plain": [
              "<Figure size 432x288 with 16 Axes>"
            ],
            "image/png": "[encoded data removed]"
          },
          "metadata": {
            "needs_background": "light"
          }
        }
      ],
      "source": [
        "# scatter plot matrix\n",
        "scatter_matrix(data)\n",
        "pyplot.show()\n",
        "#Note the diagonal grouping of some pairs of attributes. This suggests a high correlation and a predictable relationship."
      ]
    },
    {
      "cell_type": "markdown",
      "metadata": {
        "id": "otCEmh46JMMn"
      },
      "source": [
        "## Correlations"
      ]
    },
    {
      "cell_type": "code",
      "execution_count": null,
      "metadata": {
        "colab": {
          "base_uri": "https://localhost:8080/",
          "height": 1000
        },
        "id": "-KZHx4VTGGNm",
        "outputId": "be339680-618c-4108-b06d-9b38099f9ce4"
      },
      "outputs": [
        {
          "output_type": "execute_result",
          "data": {
            "text/plain": [
              "<Figure size 1440x1440 with 0 Axes>"
            ]
          },
          "metadata": {},
          "execution_count": 345
        },
        {
          "output_type": "display_data",
          "data": {
            "text/plain": [
              "<Figure size 1440x1440 with 2 Axes>"
            ],
            "image/png": "[encoded data removed]"
          },
          "metadata": {
            "needs_background": "light"
          }
        }
      ],
      "source": [
        "# Not the easiest to read, but for fun lets make a heat map of ALL the correlations for our dataset\n",
        "corrmat = df.corr()\n",
        "top_corr_features = corrmat.index\n",
        "plt.figure(figsize=(20,20))\n",
        "# plot heat map\n",
        "g = sns.heatmap(df[top_corr_features].corr(), annot=False, cmap='RdYlGn')"
      ]
    },
    {
      "cell_type": "code",
      "execution_count": null,
      "metadata": {
        "colab": {
          "base_uri": "https://localhost:8080/",
          "height": 1000
        },
        "id": "gxtfnZe1G9vf",
        "outputId": "4bb2ab01-268c-4b9b-d1cd-5353d553fca0"
      },
      "outputs": [
        {
          "output_type": "execute_result",
          "data": {
            "text/plain": [
              "<Figure size 360x1440 with 0 Axes>"
            ]
          },
          "metadata": {},
          "execution_count": 346
        },
        {
          "output_type": "execute_result",
          "data": {
            "text/plain": [
              "<matplotlib.axes._subplots.AxesSubplot at 0x7f48df4c7820>"
            ]
          },
          "metadata": {},
          "execution_count": 346
        },
        {
          "output_type": "display_data",
          "data": {
            "text/plain": [
              "<Figure size 360x1440 with 2 Axes>"
            ],
            "image/png": "[encoded data removed]"
          },
          "metadata": {
            "needs_background": "light"
          }
        }
      ],
      "source": [
        "# now lets focus on the only important column's correlation, our target variable (Bankrupt) with our features\n",
        "plt.figure(figsize=(5,20))\n",
        "x = corrmat[[0]]\n",
        "x = x.iloc[1:,:]\n",
        "sns.heatmap(x, annot=True,cmap='RdYlGn')"
      ]
    },
    {
      "cell_type": "code",
      "execution_count": null,
      "metadata": {
        "colab": {
          "base_uri": "https://localhost:8080/"
        },
        "id": "dGUb8lgtIMho",
        "outputId": "aa2a2feb-fc93-47ba-88f4-096cb746fda1"
      },
      "outputs": [
        {
          "output_type": "stream",
          "name": "stdout",
          "text": [
            "Top 10 Negative Correlations:             0\n",
            "85 -0.315457\n",
            "2  -0.282941\n",
            "3  -0.273051\n",
            "1  -0.260807\n",
            "38 -0.250161\n",
            "19 -0.219560\n",
            "68 -0.217779\n",
            "43 -0.207857\n",
            "23 -0.201395\n",
            "54 -0.193083\n",
            "Top 10 Positive Correlations:             0\n",
            "79  0.139014\n",
            "70  0.139049\n",
            "94  0.139212\n",
            "78  0.153828\n",
            "66  0.153828\n",
            "90  0.166812\n",
            "84  0.171306\n",
            "40  0.176543\n",
            "60  0.194494\n",
            "37  0.250161\n"
          ]
        }
      ],
      "source": [
        "# now lets look at the top 10 highest and lowest correlations.\n",
        "x = x.sort_values(by=[0])\n",
        "print(\"Top 10 Negative Correlations: \", x[0:10])\n",
        "print(\"Top 10 Positive Correlations: \",x[len(x)-10:])\n"
      ]
    },
    {
      "cell_type": "markdown",
      "metadata": {
        "id": "fUL14-bFDkRQ"
      },
      "source": [
        "# Creating a model\n",
        "\n"
      ]
    },
    {
      "cell_type": "markdown",
      "metadata": {
        "id": "POoBDYujraEM"
      },
      "source": [
        "## Splitting the Data\n",
        "A simple 80/20 split."
      ]
    },
    {
      "cell_type": "code",
      "execution_count": null,
      "metadata": {
        "id": "vCwD6-IKESLp"
      },
      "outputs": [],
      "source": [
        "# Split-out validation dataset\n",
        "X_trainh, X_validationh, Y_trainh, Y_validationh = train_test_split(df_X, df_y, test_size=0.20, random_state=1)"
      ]
    },
    {
      "cell_type": "markdown",
      "metadata": {
        "id": "DRiHS-ivG_6H"
      },
      "source": [
        "## Harness\n",
        "\n",
        "We are going to send our data through a harness to test the Accuracy of 8 different algorithms:\n",
        "1.   Logistic Regression (LR).\n",
        "2.   Linear Discriminant Analysis (LDA).\n",
        "3.   K-Nearest Neighbors (KNN). \n",
        "4.   Classification and Regression Trees (CART).\n",
        "5.   Gaussian Naive Bayes (NB).\n",
        "6.   Support Vector Machine (SVM).\n",
        "7.   XGBoost (XGB).\n",
        "8.   Random Forest (RFC).\n"
      ]
    },
    {
      "cell_type": "code",
      "execution_count": null,
      "metadata": {
        "id": "jely58nyAVpV",
        "colab": {
          "base_uri": "https://localhost:8080/"
        },
        "outputId": "33495678-caea-499a-f302-5a3fb425cb9a"
      },
      "outputs": [
        {
          "output_type": "stream",
          "name": "stdout",
          "text": [
            "Looking in indexes: https://pypi.org/simple, https://us-python.pkg.dev/colab-wheels/public/simple/\n",
            "Requirement already satisfied: catboost in /usr/local/lib/python3.8/dist-packages (1.1.1)\n",
            "Requirement already satisfied: six in /usr/local/lib/python3.8/dist-packages (from catboost) (1.15.0)\n",
            "Requirement already satisfied: numpy>=1.16.0 in /usr/local/lib/python3.8/dist-packages (from catboost) (1.21.6)\n",
            "Requirement already satisfied: scipy in /usr/local/lib/python3.8/dist-packages (from catboost) (1.7.3)\n",
            "Requirement already satisfied: graphviz in /usr/local/lib/python3.8/dist-packages (from catboost) (0.10.1)\n",
            "Requirement already satisfied: pandas>=0.24.0 in /usr/local/lib/python3.8/dist-packages (from catboost) (1.3.5)\n",
            "Requirement already satisfied: matplotlib in /usr/local/lib/python3.8/dist-packages (from catboost) (3.2.2)\n",
            "Requirement already satisfied: plotly in /usr/local/lib/python3.8/dist-packages (from catboost) (5.5.0)\n",
            "Requirement already satisfied: python-dateutil>=2.7.3 in /usr/local/lib/python3.8/dist-packages (from pandas>=0.24.0->catboost) (2.8.2)\n",
            "Requirement already satisfied: pytz>=2017.3 in /usr/local/lib/python3.8/dist-packages (from pandas>=0.24.0->catboost) (2022.6)\n",
            "Requirement already satisfied: pyparsing!=2.0.4,!=2.1.2,!=2.1.6,>=2.0.1 in /usr/local/lib/python3.8/dist-packages (from matplotlib->catboost) (3.0.9)\n",
            "Requirement already satisfied: kiwisolver>=1.0.1 in /usr/local/lib/python3.8/dist-packages (from matplotlib->catboost) (1.4.4)\n",
            "Requirement already satisfied: cycler>=0.10 in /usr/local/lib/python3.8/dist-packages (from matplotlib->catboost) (0.11.0)\n",
            "Requirement already satisfied: tenacity>=6.2.0 in /usr/local/lib/python3.8/dist-packages (from plotly->catboost) (8.1.0)\n"
          ]
        }
      ],
      "source": [
        "# was thinking of using catboost, but in the end it just takes too long\n",
        "!pip install catboost\n",
        "from catboost import CatBoostClassifier\n",
        "# models.append(('CAT', CatBoostClassifier(verbose=0, boosting_type='Plain',leaf_estimation_iterations=1)))"
      ]
    },
    {
      "cell_type": "code",
      "execution_count": null,
      "metadata": {
        "id": "4CJszLonueGr"
      },
      "outputs": [],
      "source": [
        "from xgboost import XGBClassifier\n",
        "from sklearn.ensemble import RandomForestClassifier"
      ]
    },
    {
      "cell_type": "code",
      "execution_count": null,
      "metadata": {
        "colab": {
          "base_uri": "https://localhost:8080/"
        },
        "id": "f8R-HyvPH432",
        "outputId": "9d012c76-0b64-46bb-dafb-199aabc04649"
      },
      "outputs": [
        {
          "output_type": "stream",
          "name": "stdout",
          "text": [
            "LR: 0.966453 accuracy \n",
            "LDA: 0.963701 accuracy \n",
            "KNN: 0.967187 accuracy \n",
            "CART: 0.953804 accuracy \n",
            "NB: 0.061229 accuracy \n",
            "SVM: 0.968836 accuracy \n",
            "XGB: 0.969935 accuracy \n",
            "RFC: 0.970669 accuracy \n"
          ]
        }
      ],
      "source": [
        "# Creating Models\n",
        "models = []\n",
        "models.append(('LR', LogisticRegression(solver='liblinear', multi_class='ovr')))\n",
        "models.append(('LDA', LinearDiscriminantAnalysis()))\n",
        "models.append(('KNN', KNeighborsClassifier()))\n",
        "models.append(('CART', DecisionTreeClassifier()))\n",
        "models.append(('NB', GaussianNB()))\n",
        "models.append(('SVM', SVC(gamma='auto')))\n",
        "models.append(('XGB', XGBClassifier()))\n",
        "models.append(('RFC', RandomForestClassifier()))\n",
        "\n",
        "\n",
        "# evaluate each model based on accuracy score using stratified kfold\n",
        "results = []\n",
        "names = []\n",
        "for name, model in models:\n",
        "\tkfold = StratifiedKFold(n_splits=10, random_state=1, shuffle=True)\n",
        "\tcv_results = cross_val_score(model, X_trainh, Y_trainh, cv=kfold, scoring='accuracy')\n",
        "\tresults.append(cv_results)\n",
        "\tnames.append(name)\n",
        "\tprint('%s: %f accuracy ' % (name, cv_results.mean()))\n",
        "\t# print('%s: %f accuracy (%f) std' % (name, cv_results.mean(), cv_results.std()))\n",
        " \n",
        " "
      ]
    },
    {
      "cell_type": "markdown",
      "metadata": {
        "id": "fqX4awUpIEM0"
      },
      "source": [
        "Select Best Model\n",
        "---\n",
        "Above we have the accuracy scores for our 8 models.  Let's visualize them so we can inform our selection for the best model."
      ]
    },
    {
      "cell_type": "code",
      "execution_count": null,
      "metadata": {
        "colab": {
          "base_uri": "https://localhost:8080/",
          "height": 1000
        },
        "id": "0D7jbGIZI2NU",
        "outputId": "99d80c79-7aad-4001-eb30-f34dbf8ea91e"
      },
      "outputs": [
        {
          "output_type": "execute_result",
          "data": {
            "text/plain": [
              "<Figure size 432x360 with 0 Axes>"
            ]
          },
          "metadata": {},
          "execution_count": 352
        },
        {
          "output_type": "execute_result",
          "data": {
            "text/plain": [
              "{'whiskers': [<matplotlib.lines.Line2D at 0x7f48df025f40>,\n",
              "  <matplotlib.lines.Line2D at 0x7f48df02f2e0>,\n",
              "  <matplotlib.lines.Line2D at 0x7f48df036760>,\n",
              "  <matplotlib.lines.Line2D at 0x7f48df036ac0>,\n",
              "  <matplotlib.lines.Line2D at 0x7f48df03ee50>,\n",
              "  <matplotlib.lines.Line2D at 0x7f48df0481c0>,\n",
              "  <matplotlib.lines.Line2D at 0x7f48defd3520>,\n",
              "  <matplotlib.lines.Line2D at 0x7f48defd3850>,\n",
              "  <matplotlib.lines.Line2D at 0x7f48defdfbb0>,\n",
              "  <matplotlib.lines.Line2D at 0x7f48defdfee0>,\n",
              "  <matplotlib.lines.Line2D at 0x7f48deff5280>,\n",
              "  <matplotlib.lines.Line2D at 0x7f48deff55b0>,\n",
              "  <matplotlib.lines.Line2D at 0x7f48df134550>,\n",
              "  <matplotlib.lines.Line2D at 0x7f48df260a30>,\n",
              "  <matplotlib.lines.Line2D at 0x7f48def91580>,\n",
              "  <matplotlib.lines.Line2D at 0x7f48def918b0>],\n",
              " 'caps': [<matplotlib.lines.Line2D at 0x7f48df02f640>,\n",
              "  <matplotlib.lines.Line2D at 0x7f48df02f9a0>,\n",
              "  <matplotlib.lines.Line2D at 0x7f48df036e20>,\n",
              "  <matplotlib.lines.Line2D at 0x7f48df03e190>,\n",
              "  <matplotlib.lines.Line2D at 0x7f48df0484f0>,\n",
              "  <matplotlib.lines.Line2D at 0x7f48df048820>,\n",
              "  <matplotlib.lines.Line2D at 0x7f48defd3b80>,\n",
              "  <matplotlib.lines.Line2D at 0x7f48defd3eb0>,\n",
              "  <matplotlib.lines.Line2D at 0x7f48defea250>,\n",
              "  <matplotlib.lines.Line2D at 0x7f48defea580>,\n",
              "  <matplotlib.lines.Line2D at 0x7f48deff58e0>,\n",
              "  <matplotlib.lines.Line2D at 0x7f48deff5c10>,\n",
              "  <matplotlib.lines.Line2D at 0x7f48df1207f0>,\n",
              "  <matplotlib.lines.Line2D at 0x7f48defff820>,\n",
              "  <matplotlib.lines.Line2D at 0x7f48def91be0>,\n",
              "  <matplotlib.lines.Line2D at 0x7f48def91f10>],\n",
              " 'boxes': [<matplotlib.lines.Line2D at 0x7f48df025be0>,\n",
              "  <matplotlib.lines.Line2D at 0x7f48df036400>,\n",
              "  <matplotlib.lines.Line2D at 0x7f48df03eb20>,\n",
              "  <matplotlib.lines.Line2D at 0x7f48defd31f0>,\n",
              "  <matplotlib.lines.Line2D at 0x7f48defdf880>,\n",
              "  <matplotlib.lines.Line2D at 0x7f48defeaf10>,\n",
              "  <matplotlib.lines.Line2D at 0x7f48defff5e0>,\n",
              "  <matplotlib.lines.Line2D at 0x7f48def91250>],\n",
              " 'medians': [<matplotlib.lines.Line2D at 0x7f48df02fd00>,\n",
              "  <matplotlib.lines.Line2D at 0x7f48df03e4c0>,\n",
              "  <matplotlib.lines.Line2D at 0x7f48df048b50>,\n",
              "  <matplotlib.lines.Line2D at 0x7f48defdf220>,\n",
              "  <matplotlib.lines.Line2D at 0x7f48defea8b0>,\n",
              "  <matplotlib.lines.Line2D at 0x7f48deff5f40>,\n",
              "  <matplotlib.lines.Line2D at 0x7f48defffbb0>,\n",
              "  <matplotlib.lines.Line2D at 0x7f48def99280>],\n",
              " 'fliers': [<matplotlib.lines.Line2D at 0x7f48df036040>,\n",
              "  <matplotlib.lines.Line2D at 0x7f48df03e790>,\n",
              "  <matplotlib.lines.Line2D at 0x7f48df048e20>,\n",
              "  <matplotlib.lines.Line2D at 0x7f48defdf4f0>,\n",
              "  <matplotlib.lines.Line2D at 0x7f48defeab80>,\n",
              "  <matplotlib.lines.Line2D at 0x7f48defff250>,\n",
              "  <matplotlib.lines.Line2D at 0x7f48defffe80>,\n",
              "  <matplotlib.lines.Line2D at 0x7f48def99550>],\n",
              " 'means': []}"
            ]
          },
          "metadata": {},
          "execution_count": 352
        },
        {
          "output_type": "execute_result",
          "data": {
            "text/plain": [
              "Text(0.5, 1.0, 'Algorithm Comparison')"
            ]
          },
          "metadata": {},
          "execution_count": 352
        },
        {
          "output_type": "display_data",
          "data": {
            "text/plain": [
              "<Figure size 432x360 with 1 Axes>"
            ],
            "image/png": "[encoded data removed]"
          },
          "metadata": {
            "needs_background": "light"
          }
        }
      ],
      "source": [
        "# Compare Accuracies with Box plots\n",
        "pyplot.figure(figsize=(6,5))\n",
        "pyplot.boxplot(results, labels=names)\n",
        "pyplot.title('Algorithm Comparison')\n",
        "pyplot.show()\n",
        "# This isn't the best visualization.  We can clearly see the NB (Naive Bayes) is the worst\n",
        "# maybe if we remove it, we can see the rest better"
      ]
    },
    {
      "cell_type": "code",
      "execution_count": null,
      "metadata": {
        "colab": {
          "base_uri": "https://localhost:8080/",
          "height": 52
        },
        "id": "kNFCDY4eBFgX",
        "outputId": "50bc9b5b-3524-41a6-a462-e574b22b1add"
      },
      "outputs": [
        {
          "output_type": "execute_result",
          "data": {
            "text/plain": [
              "array([0.05128205, 0.06043956, 0.06043956, 0.06227106, 0.06593407,\n",
              "       0.05321101, 0.06788991, 0.06788991, 0.0587156 , 0.06422018])"
            ]
          },
          "metadata": {},
          "execution_count": 353
        },
        {
          "output_type": "execute_result",
          "data": {
            "text/plain": [
              "'NB'"
            ],
            "application/vnd.google.colaboratory.intrinsic+json": {
              "type": "string"
            }
          },
          "metadata": {},
          "execution_count": 353
        }
      ],
      "source": [
        "# removing NB from the results and labels\n",
        "results2, names2 = results, names\n",
        "results2.pop(4)\n",
        "names2.pop(4)"
      ]
    },
    {
      "cell_type": "code",
      "execution_count": null,
      "metadata": {
        "colab": {
          "base_uri": "https://localhost:8080/",
          "height": 1000
        },
        "id": "tRIjWl_QBIDy",
        "outputId": "a5f48175-dca5-4d29-962d-82c72a42212b"
      },
      "outputs": [
        {
          "output_type": "execute_result",
          "data": {
            "text/plain": [
              "<Figure size 432x360 with 0 Axes>"
            ]
          },
          "metadata": {},
          "execution_count": 354
        },
        {
          "output_type": "execute_result",
          "data": {
            "text/plain": [
              "{'whiskers': [<matplotlib.lines.Line2D at 0x7f48def71fa0>,\n",
              "  <matplotlib.lines.Line2D at 0x7f48def81340>,\n",
              "  <matplotlib.lines.Line2D at 0x7f48def8c7c0>,\n",
              "  <matplotlib.lines.Line2D at 0x7f48def8cb20>,\n",
              "  <matplotlib.lines.Line2D at 0x7f48def16eb0>,\n",
              "  <matplotlib.lines.Line2D at 0x7f48def21220>,\n",
              "  <matplotlib.lines.Line2D at 0x7f48def2e580>,\n",
              "  <matplotlib.lines.Line2D at 0x7f48def2e8b0>,\n",
              "  <matplotlib.lines.Line2D at 0x7f48def38c10>,\n",
              "  <matplotlib.lines.Line2D at 0x7f48def38f40>,\n",
              "  <matplotlib.lines.Line2D at 0x7f48deed12e0>,\n",
              "  <matplotlib.lines.Line2D at 0x7f48deed1610>,\n",
              "  <matplotlib.lines.Line2D at 0x7f48deede970>,\n",
              "  <matplotlib.lines.Line2D at 0x7f48deedeca0>],\n",
              " 'caps': [<matplotlib.lines.Line2D at 0x7f48def816a0>,\n",
              "  <matplotlib.lines.Line2D at 0x7f48def81a00>,\n",
              "  <matplotlib.lines.Line2D at 0x7f48def8ce80>,\n",
              "  <matplotlib.lines.Line2D at 0x7f48def161f0>,\n",
              "  <matplotlib.lines.Line2D at 0x7f48def21550>,\n",
              "  <matplotlib.lines.Line2D at 0x7f48def21880>,\n",
              "  <matplotlib.lines.Line2D at 0x7f48def2ebe0>,\n",
              "  <matplotlib.lines.Line2D at 0x7f48def2ef10>,\n",
              "  <matplotlib.lines.Line2D at 0x7f48def442b0>,\n",
              "  <matplotlib.lines.Line2D at 0x7f48def445e0>,\n",
              "  <matplotlib.lines.Line2D at 0x7f48deed1940>,\n",
              "  <matplotlib.lines.Line2D at 0x7f48deed1c70>,\n",
              "  <matplotlib.lines.Line2D at 0x7f48deedefd0>,\n",
              "  <matplotlib.lines.Line2D at 0x7f48deee8340>],\n",
              " 'boxes': [<matplotlib.lines.Line2D at 0x7f48def71c40>,\n",
              "  <matplotlib.lines.Line2D at 0x7f48def8c460>,\n",
              "  <matplotlib.lines.Line2D at 0x7f48def16b80>,\n",
              "  <matplotlib.lines.Line2D at 0x7f48def2e250>,\n",
              "  <matplotlib.lines.Line2D at 0x7f48def388e0>,\n",
              "  <matplotlib.lines.Line2D at 0x7f48def44f70>,\n",
              "  <matplotlib.lines.Line2D at 0x7f48deede640>],\n",
              " 'medians': [<matplotlib.lines.Line2D at 0x7f48def81d60>,\n",
              "  <matplotlib.lines.Line2D at 0x7f48def16520>,\n",
              "  <matplotlib.lines.Line2D at 0x7f48def21bb0>,\n",
              "  <matplotlib.lines.Line2D at 0x7f48def38280>,\n",
              "  <matplotlib.lines.Line2D at 0x7f48def44910>,\n",
              "  <matplotlib.lines.Line2D at 0x7f48deed1fa0>,\n",
              "  <matplotlib.lines.Line2D at 0x7f48deee8670>],\n",
              " 'fliers': [<matplotlib.lines.Line2D at 0x7f48def8c0a0>,\n",
              "  <matplotlib.lines.Line2D at 0x7f48def167f0>,\n",
              "  <matplotlib.lines.Line2D at 0x7f48def21e80>,\n",
              "  <matplotlib.lines.Line2D at 0x7f48def38550>,\n",
              "  <matplotlib.lines.Line2D at 0x7f48def44be0>,\n",
              "  <matplotlib.lines.Line2D at 0x7f48deede2b0>,\n",
              "  <matplotlib.lines.Line2D at 0x7f48deee8940>],\n",
              " 'means': []}"
            ]
          },
          "metadata": {},
          "execution_count": 354
        },
        {
          "output_type": "execute_result",
          "data": {
            "text/plain": [
              "Text(0.5, 1.0, 'Algorithm Accuracy')"
            ]
          },
          "metadata": {},
          "execution_count": 354
        },
        {
          "output_type": "display_data",
          "data": {
            "text/plain": [
              "<Figure size 432x360 with 1 Axes>"
            ],
            "image/png": "[encoded data removed]"
          },
          "metadata": {
            "needs_background": "light"
          }
        }
      ],
      "source": [
        "# Compare Algorithms again minus NB\n",
        "pyplot.figure(figsize=(6,5))\n",
        "pyplot.boxplot(results2, labels=names2)\n",
        "pyplot.title('Algorithm Accuracy')\n",
        "pyplot.show()\n",
        "# Now we can see our top performing models much better "
      ]
    },
    {
      "cell_type": "markdown",
      "metadata": {
        "id": "yErj0M0UBVLd"
      },
      "source": [
        "**Make Predictions**\n",
        "---\n",
        "Let's look at SVM, RFC, and XGB and see how well they make predictions (our most accurate models)."
      ]
    },
    {
      "cell_type": "code",
      "execution_count": null,
      "metadata": {
        "colab": {
          "base_uri": "https://localhost:8080/",
          "height": 75
        },
        "id": "e-32JaACAOXo",
        "outputId": "9382fc8d-0f50-4133-ab4b-d80cf387cfe9"
      },
      "outputs": [
        {
          "output_type": "execute_result",
          "data": {
            "text/plain": [
              "SVC(gamma='auto')"
            ],
            "text/html": [
              "<style>#sk-3de1df35-723f-4b32-b0f0-1ef032165d2a {color: black;background-color: white;}#sk-3de1df35-723f-4b32-b0f0-1ef032165d2a pre{padding: 0;}#sk-3de1df35-723f-4b32-b0f0-1ef032165d2a div.sk-toggleable {background-color: white;}#sk-3de1df35-723f-4b32-b0f0-1ef032165d2a label.sk-toggleable__label {cursor: pointer;display: block;width: 100%;margin-bottom: 0;padding: 0.3em;box-sizing: border-box;text-align: center;}#sk-3de1df35-723f-4b32-b0f0-1ef032165d2a label.sk-toggleable__label-arrow:before {content: \"▸\";float: left;margin-right: 0.25em;color: #696969;}#sk-3de1df35-723f-4b32-b0f0-1ef032165d2a label.sk-toggleable__label-arrow:hover:before {color: black;}#sk-3de1df35-723f-4b32-b0f0-1ef032165d2a div.sk-estimator:hover label.sk-toggleable__label-arrow:before {color: black;}#sk-3de1df35-723f-4b32-b0f0-1ef032165d2a div.sk-toggleable__content {max-height: 0;max-width: 0;overflow: hidden;text-align: left;background-color: #f0f8ff;}#sk-3de1df35-723f-4b32-b0f0-1ef032165d2a div.sk-toggleable__content pre {margin: 0.2em;color: black;border-radius: 0.25em;background-color: #f0f8ff;}#sk-3de1df35-723f-4b32-b0f0-1ef032165d2a input.sk-toggleable__control:checked~div.sk-toggleable__content {max-height: 200px;max-width: 100%;overflow: auto;}#sk-3de1df35-723f-4b32-b0f0-1ef032165d2a input.sk-toggleable__control:checked~label.sk-toggleable__label-arrow:before {content: \"▾\";}#sk-3de1df35-723f-4b32-b0f0-1ef032165d2a div.sk-estimator input.sk-toggleable__control:checked~label.sk-toggleable__label {background-color: #d4ebff;}#sk-3de1df35-723f-4b32-b0f0-1ef032165d2a div.sk-label input.sk-toggleable__control:checked~label.sk-toggleable__label {background-color: #d4ebff;}#sk-3de1df35-723f-4b32-b0f0-1ef032165d2a input.sk-hidden--visually {border: 0;clip: rect(1px 1px 1px 1px);clip: rect(1px, 1px, 1px, 1px);height: 1px;margin: -1px;overflow: hidden;padding: 0;position: absolute;width: 1px;}#sk-3de1df35-723f-4b32-b0f0-1ef032165d2a div.sk-estimator {font-family: monospace;background-color: #f0f8ff;border: 1px dotted black;border-radius: 0.25em;box-sizing: border-box;margin-bottom: 0.5em;}#sk-3de1df35-723f-4b32-b0f0-1ef032165d2a div.sk-estimator:hover {background-color: #d4ebff;}#sk-3de1df35-723f-4b32-b0f0-1ef032165d2a div.sk-parallel-item::after {content: \"\";width: 100%;border-bottom: 1px solid gray;flex-grow: 1;}#sk-3de1df35-723f-4b32-b0f0-1ef032165d2a div.sk-label:hover label.sk-toggleable__label {background-color: #d4ebff;}#sk-3de1df35-723f-4b32-b0f0-1ef032165d2a div.sk-serial::before {content: \"\";position: absolute;border-left: 1px solid gray;box-sizing: border-box;top: 2em;bottom: 0;left: 50%;}#sk-3de1df35-723f-4b32-b0f0-1ef032165d2a div.sk-serial {display: flex;flex-direction: column;align-items: center;background-color: white;padding-right: 0.2em;padding-left: 0.2em;}#sk-3de1df35-723f-4b32-b0f0-1ef032165d2a div.sk-item {z-index: 1;}#sk-3de1df35-723f-4b32-b0f0-1ef032165d2a div.sk-parallel {display: flex;align-items: stretch;justify-content: center;background-color: white;}#sk-3de1df35-723f-4b32-b0f0-1ef032165d2a div.sk-parallel::before {content: \"\";position: absolute;border-left: 1px solid gray;box-sizing: border-box;top: 2em;bottom: 0;left: 50%;}#sk-3de1df35-723f-4b32-b0f0-1ef032165d2a div.sk-parallel-item {display: flex;flex-direction: column;position: relative;background-color: white;}#sk-3de1df35-723f-4b32-b0f0-1ef032165d2a div.sk-parallel-item:first-child::after {align-self: flex-end;width: 50%;}#sk-3de1df35-723f-4b32-b0f0-1ef032165d2a div.sk-parallel-item:last-child::after {align-self: flex-start;width: 50%;}#sk-3de1df35-723f-4b32-b0f0-1ef032165d2a div.sk-parallel-item:only-child::after {width: 0;}#sk-3de1df35-723f-4b32-b0f0-1ef032165d2a div.sk-dashed-wrapped {border: 1px dashed gray;margin: 0 0.4em 0.5em 0.4em;box-sizing: border-box;padding-bottom: 0.4em;background-color: white;position: relative;}#sk-3de1df35-723f-4b32-b0f0-1ef032165d2a div.sk-label label {font-family: monospace;font-weight: bold;background-color: white;display: inline-block;line-height: 1.2em;}#sk-3de1df35-723f-4b32-b0f0-1ef032165d2a div.sk-label-container {position: relative;z-index: 2;text-align: center;}#sk-3de1df35-723f-4b32-b0f0-1ef032165d2a div.sk-container {/* jupyter's `normalize.less` sets `[hidden] { display: none; }` but bootstrap.min.css set `[hidden] { display: none !important; }` so we also need the `!important` here to be able to override the default hidden behavior on the sphinx rendered scikit-learn.org. See: https://github.com/scikit-learn/scikit-learn/issues/21755 */display: inline-block !important;position: relative;}#sk-3de1df35-723f-4b32-b0f0-1ef032165d2a div.sk-text-repr-fallback {display: none;}</style><div id=\"sk-3de1df35-723f-4b32-b0f0-1ef032165d2a\" class=\"sk-top-container\"><div class=\"sk-text-repr-fallback\"><pre>SVC(gamma=&#x27;auto&#x27;)</pre><b>Please rerun this cell to show the HTML repr or trust the notebook.</b></div><div class=\"sk-container\" hidden><div class=\"sk-item\"><div class=\"sk-estimator sk-toggleable\"><input class=\"sk-toggleable__control sk-hidden--visually\" id=\"c9c3ee97-ad46-492f-8151-950cd2471983\" type=\"checkbox\" checked><label for=\"c9c3ee97-ad46-492f-8151-950cd2471983\" class=\"sk-toggleable__label sk-toggleable__label-arrow\">SVC</label><div class=\"sk-toggleable__content\"><pre>SVC(gamma=&#x27;auto&#x27;)</pre></div></div></div></div></div>"
            ]
          },
          "metadata": {},
          "execution_count": 355
        }
      ],
      "source": [
        "# fitting model SVC\n",
        "model = SVC(gamma='auto')\n",
        "model.fit(X_trainh, Y_trainh)\n",
        "predictions = model.predict(X_validationh)"
      ]
    },
    {
      "cell_type": "code",
      "execution_count": null,
      "metadata": {
        "colab": {
          "base_uri": "https://localhost:8080/",
          "height": 75
        },
        "id": "jyorT7ebBh1t",
        "outputId": "c5036a36-1603-4a25-921a-433aee1cfc12"
      },
      "outputs": [
        {
          "output_type": "execute_result",
          "data": {
            "text/plain": [
              "RandomForestClassifier()"
            ],
            "text/html": [
              "<style>#sk-bd2b14fb-07dc-4006-ac55-0b1c224d811c {color: black;background-color: white;}#sk-bd2b14fb-07dc-4006-ac55-0b1c224d811c pre{padding: 0;}#sk-bd2b14fb-07dc-4006-ac55-0b1c224d811c div.sk-toggleable {background-color: white;}#sk-bd2b14fb-07dc-4006-ac55-0b1c224d811c label.sk-toggleable__label {cursor: pointer;display: block;width: 100%;margin-bottom: 0;padding: 0.3em;box-sizing: border-box;text-align: center;}#sk-bd2b14fb-07dc-4006-ac55-0b1c224d811c label.sk-toggleable__label-arrow:before {content: \"▸\";float: left;margin-right: 0.25em;color: #696969;}#sk-bd2b14fb-07dc-4006-ac55-0b1c224d811c label.sk-toggleable__label-arrow:hover:before {color: black;}#sk-bd2b14fb-07dc-4006-ac55-0b1c224d811c div.sk-estimator:hover label.sk-toggleable__label-arrow:before {color: black;}#sk-bd2b14fb-07dc-4006-ac55-0b1c224d811c div.sk-toggleable__content {max-height: 0;max-width: 0;overflow: hidden;text-align: left;background-color: #f0f8ff;}#sk-bd2b14fb-07dc-4006-ac55-0b1c224d811c div.sk-toggleable__content pre {margin: 0.2em;color: black;border-radius: 0.25em;background-color: #f0f8ff;}#sk-bd2b14fb-07dc-4006-ac55-0b1c224d811c input.sk-toggleable__control:checked~div.sk-toggleable__content {max-height: 200px;max-width: 100%;overflow: auto;}#sk-bd2b14fb-07dc-4006-ac55-0b1c224d811c input.sk-toggleable__control:checked~label.sk-toggleable__label-arrow:before {content: \"▾\";}#sk-bd2b14fb-07dc-4006-ac55-0b1c224d811c div.sk-estimator input.sk-toggleable__control:checked~label.sk-toggleable__label {background-color: #d4ebff;}#sk-bd2b14fb-07dc-4006-ac55-0b1c224d811c div.sk-label input.sk-toggleable__control:checked~label.sk-toggleable__label {background-color: #d4ebff;}#sk-bd2b14fb-07dc-4006-ac55-0b1c224d811c input.sk-hidden--visually {border: 0;clip: rect(1px 1px 1px 1px);clip: rect(1px, 1px, 1px, 1px);height: 1px;margin: -1px;overflow: hidden;padding: 0;position: absolute;width: 1px;}#sk-bd2b14fb-07dc-4006-ac55-0b1c224d811c div.sk-estimator {font-family: monospace;background-color: #f0f8ff;border: 1px dotted black;border-radius: 0.25em;box-sizing: border-box;margin-bottom: 0.5em;}#sk-bd2b14fb-07dc-4006-ac55-0b1c224d811c div.sk-estimator:hover {background-color: #d4ebff;}#sk-bd2b14fb-07dc-4006-ac55-0b1c224d811c div.sk-parallel-item::after {content: \"\";width: 100%;border-bottom: 1px solid gray;flex-grow: 1;}#sk-bd2b14fb-07dc-4006-ac55-0b1c224d811c div.sk-label:hover label.sk-toggleable__label {background-color: #d4ebff;}#sk-bd2b14fb-07dc-4006-ac55-0b1c224d811c div.sk-serial::before {content: \"\";position: absolute;border-left: 1px solid gray;box-sizing: border-box;top: 2em;bottom: 0;left: 50%;}#sk-bd2b14fb-07dc-4006-ac55-0b1c224d811c div.sk-serial {display: flex;flex-direction: column;align-items: center;background-color: white;padding-right: 0.2em;padding-left: 0.2em;}#sk-bd2b14fb-07dc-4006-ac55-0b1c224d811c div.sk-item {z-index: 1;}#sk-bd2b14fb-07dc-4006-ac55-0b1c224d811c div.sk-parallel {display: flex;align-items: stretch;justify-content: center;background-color: white;}#sk-bd2b14fb-07dc-4006-ac55-0b1c224d811c div.sk-parallel::before {content: \"\";position: absolute;border-left: 1px solid gray;box-sizing: border-box;top: 2em;bottom: 0;left: 50%;}#sk-bd2b14fb-07dc-4006-ac55-0b1c224d811c div.sk-parallel-item {display: flex;flex-direction: column;position: relative;background-color: white;}#sk-bd2b14fb-07dc-4006-ac55-0b1c224d811c div.sk-parallel-item:first-child::after {align-self: flex-end;width: 50%;}#sk-bd2b14fb-07dc-4006-ac55-0b1c224d811c div.sk-parallel-item:last-child::after {align-self: flex-start;width: 50%;}#sk-bd2b14fb-07dc-4006-ac55-0b1c224d811c div.sk-parallel-item:only-child::after {width: 0;}#sk-bd2b14fb-07dc-4006-ac55-0b1c224d811c div.sk-dashed-wrapped {border: 1px dashed gray;margin: 0 0.4em 0.5em 0.4em;box-sizing: border-box;padding-bottom: 0.4em;background-color: white;position: relative;}#sk-bd2b14fb-07dc-4006-ac55-0b1c224d811c div.sk-label label {font-family: monospace;font-weight: bold;background-color: white;display: inline-block;line-height: 1.2em;}#sk-bd2b14fb-07dc-4006-ac55-0b1c224d811c div.sk-label-container {position: relative;z-index: 2;text-align: center;}#sk-bd2b14fb-07dc-4006-ac55-0b1c224d811c div.sk-container {/* jupyter's `normalize.less` sets `[hidden] { display: none; }` but bootstrap.min.css set `[hidden] { display: none !important; }` so we also need the `!important` here to be able to override the default hidden behavior on the sphinx rendered scikit-learn.org. See: https://github.com/scikit-learn/scikit-learn/issues/21755 */display: inline-block !important;position: relative;}#sk-bd2b14fb-07dc-4006-ac55-0b1c224d811c div.sk-text-repr-fallback {display: none;}</style><div id=\"sk-bd2b14fb-07dc-4006-ac55-0b1c224d811c\" class=\"sk-top-container\"><div class=\"sk-text-repr-fallback\"><pre>RandomForestClassifier()</pre><b>Please rerun this cell to show the HTML repr or trust the notebook.</b></div><div class=\"sk-container\" hidden><div class=\"sk-item\"><div class=\"sk-estimator sk-toggleable\"><input class=\"sk-toggleable__control sk-hidden--visually\" id=\"4f8cbeee-a758-4ec2-805f-98df0c87c5c2\" type=\"checkbox\" checked><label for=\"4f8cbeee-a758-4ec2-805f-98df0c87c5c2\" class=\"sk-toggleable__label sk-toggleable__label-arrow\">RandomForestClassifier</label><div class=\"sk-toggleable__content\"><pre>RandomForestClassifier()</pre></div></div></div></div></div>"
            ]
          },
          "metadata": {},
          "execution_count": 356
        }
      ],
      "source": [
        "# fitting model rfc\n",
        "model_rfc = RandomForestClassifier()\n",
        "model_rfc.fit(X_trainh, Y_trainh)\n",
        "predictions_rfc = model_rfc.predict(X_validationh)"
      ]
    },
    {
      "cell_type": "code",
      "execution_count": null,
      "metadata": {
        "colab": {
          "base_uri": "https://localhost:8080/",
          "height": 75
        },
        "id": "9GBJyX9c3JFG",
        "outputId": "c480c03b-24bd-45b4-fc82-939604b9e630"
      },
      "outputs": [
        {
          "output_type": "execute_result",
          "data": {
            "text/plain": [
              "XGBClassifier()"
            ],
            "text/html": [
              "<style>#sk-9d0022d2-2189-4993-8c4a-13504c69f25d {color: black;background-color: white;}#sk-9d0022d2-2189-4993-8c4a-13504c69f25d pre{padding: 0;}#sk-9d0022d2-2189-4993-8c4a-13504c69f25d div.sk-toggleable {background-color: white;}#sk-9d0022d2-2189-4993-8c4a-13504c69f25d label.sk-toggleable__label {cursor: pointer;display: block;width: 100%;margin-bottom: 0;padding: 0.3em;box-sizing: border-box;text-align: center;}#sk-9d0022d2-2189-4993-8c4a-13504c69f25d label.sk-toggleable__label-arrow:before {content: \"▸\";float: left;margin-right: 0.25em;color: #696969;}#sk-9d0022d2-2189-4993-8c4a-13504c69f25d label.sk-toggleable__label-arrow:hover:before {color: black;}#sk-9d0022d2-2189-4993-8c4a-13504c69f25d div.sk-estimator:hover label.sk-toggleable__label-arrow:before {color: black;}#sk-9d0022d2-2189-4993-8c4a-13504c69f25d div.sk-toggleable__content {max-height: 0;max-width: 0;overflow: hidden;text-align: left;background-color: #f0f8ff;}#sk-9d0022d2-2189-4993-8c4a-13504c69f25d div.sk-toggleable__content pre {margin: 0.2em;color: black;border-radius: 0.25em;background-color: #f0f8ff;}#sk-9d0022d2-2189-4993-8c4a-13504c69f25d input.sk-toggleable__control:checked~div.sk-toggleable__content {max-height: 200px;max-width: 100%;overflow: auto;}#sk-9d0022d2-2189-4993-8c4a-13504c69f25d input.sk-toggleable__control:checked~label.sk-toggleable__label-arrow:before {content: \"▾\";}#sk-9d0022d2-2189-4993-8c4a-13504c69f25d div.sk-estimator input.sk-toggleable__control:checked~label.sk-toggleable__label {background-color: #d4ebff;}#sk-9d0022d2-2189-4993-8c4a-13504c69f25d div.sk-label input.sk-toggleable__control:checked~label.sk-toggleable__label {background-color: #d4ebff;}#sk-9d0022d2-2189-4993-8c4a-13504c69f25d input.sk-hidden--visually {border: 0;clip: rect(1px 1px 1px 1px);clip: rect(1px, 1px, 1px, 1px);height: 1px;margin: -1px;overflow: hidden;padding: 0;position: absolute;width: 1px;}#sk-9d0022d2-2189-4993-8c4a-13504c69f25d div.sk-estimator {font-family: monospace;background-color: #f0f8ff;border: 1px dotted black;border-radius: 0.25em;box-sizing: border-box;margin-bottom: 0.5em;}#sk-9d0022d2-2189-4993-8c4a-13504c69f25d div.sk-estimator:hover {background-color: #d4ebff;}#sk-9d0022d2-2189-4993-8c4a-13504c69f25d div.sk-parallel-item::after {content: \"\";width: 100%;border-bottom: 1px solid gray;flex-grow: 1;}#sk-9d0022d2-2189-4993-8c4a-13504c69f25d div.sk-label:hover label.sk-toggleable__label {background-color: #d4ebff;}#sk-9d0022d2-2189-4993-8c4a-13504c69f25d div.sk-serial::before {content: \"\";position: absolute;border-left: 1px solid gray;box-sizing: border-box;top: 2em;bottom: 0;left: 50%;}#sk-9d0022d2-2189-4993-8c4a-13504c69f25d div.sk-serial {display: flex;flex-direction: column;align-items: center;background-color: white;padding-right: 0.2em;padding-left: 0.2em;}#sk-9d0022d2-2189-4993-8c4a-13504c69f25d div.sk-item {z-index: 1;}#sk-9d0022d2-2189-4993-8c4a-13504c69f25d div.sk-parallel {display: flex;align-items: stretch;justify-content: center;background-color: white;}#sk-9d0022d2-2189-4993-8c4a-13504c69f25d div.sk-parallel::before {content: \"\";position: absolute;border-left: 1px solid gray;box-sizing: border-box;top: 2em;bottom: 0;left: 50%;}#sk-9d0022d2-2189-4993-8c4a-13504c69f25d div.sk-parallel-item {display: flex;flex-direction: column;position: relative;background-color: white;}#sk-9d0022d2-2189-4993-8c4a-13504c69f25d div.sk-parallel-item:first-child::after {align-self: flex-end;width: 50%;}#sk-9d0022d2-2189-4993-8c4a-13504c69f25d div.sk-parallel-item:last-child::after {align-self: flex-start;width: 50%;}#sk-9d0022d2-2189-4993-8c4a-13504c69f25d div.sk-parallel-item:only-child::after {width: 0;}#sk-9d0022d2-2189-4993-8c4a-13504c69f25d div.sk-dashed-wrapped {border: 1px dashed gray;margin: 0 0.4em 0.5em 0.4em;box-sizing: border-box;padding-bottom: 0.4em;background-color: white;position: relative;}#sk-9d0022d2-2189-4993-8c4a-13504c69f25d div.sk-label label {font-family: monospace;font-weight: bold;background-color: white;display: inline-block;line-height: 1.2em;}#sk-9d0022d2-2189-4993-8c4a-13504c69f25d div.sk-label-container {position: relative;z-index: 2;text-align: center;}#sk-9d0022d2-2189-4993-8c4a-13504c69f25d div.sk-container {/* jupyter's `normalize.less` sets `[hidden] { display: none; }` but bootstrap.min.css set `[hidden] { display: none !important; }` so we also need the `!important` here to be able to override the default hidden behavior on the sphinx rendered scikit-learn.org. See: https://github.com/scikit-learn/scikit-learn/issues/21755 */display: inline-block !important;position: relative;}#sk-9d0022d2-2189-4993-8c4a-13504c69f25d div.sk-text-repr-fallback {display: none;}</style><div id=\"sk-9d0022d2-2189-4993-8c4a-13504c69f25d\" class=\"sk-top-container\"><div class=\"sk-text-repr-fallback\"><pre>XGBClassifier()</pre><b>Please rerun this cell to show the HTML repr or trust the notebook.</b></div><div class=\"sk-container\" hidden><div class=\"sk-item\"><div class=\"sk-estimator sk-toggleable\"><input class=\"sk-toggleable__control sk-hidden--visually\" id=\"64a46654-b9c5-4654-807d-be6911281ff6\" type=\"checkbox\" checked><label for=\"64a46654-b9c5-4654-807d-be6911281ff6\" class=\"sk-toggleable__label sk-toggleable__label-arrow\">XGBClassifier</label><div class=\"sk-toggleable__content\"><pre>XGBClassifier()</pre></div></div></div></div></div>"
            ]
          },
          "metadata": {},
          "execution_count": 357
        }
      ],
      "source": [
        "xgb_clf = XGBClassifier()\n",
        "xgb_clf.fit(X_trainh, Y_trainh)\n",
        "predictions_xgb = xgb_clf.predict(X_validationh)"
      ]
    },
    {
      "cell_type": "markdown",
      "metadata": {
        "id": "VWdgf7OVB85h"
      },
      "source": [
        "Evaluate Predictions\n",
        "---\n",
        "Let's look at our confusion matrices and classification reports for our selected models and evaluate how our models did at predicting."
      ]
    },
    {
      "cell_type": "code",
      "execution_count": null,
      "metadata": {
        "colab": {
          "base_uri": "https://localhost:8080/"
        },
        "id": "6h-C8cksCAFp",
        "outputId": "e3d8ad70-1572-421a-f5ee-45a8c8be598d"
      },
      "outputs": [
        {
          "output_type": "stream",
          "name": "stdout",
          "text": [
            "[[1314    0]\n",
            " [  50    0]]\n",
            "              precision    recall  f1-score   support\n",
            "\n",
            "           0       0.96      1.00      0.98      1314\n",
            "           1       0.00      0.00      0.00        50\n",
            "\n",
            "    accuracy                           0.96      1364\n",
            "   macro avg       0.48      0.50      0.49      1364\n",
            "weighted avg       0.93      0.96      0.95      1364\n",
            "\n"
          ]
        },
        {
          "output_type": "stream",
          "name": "stderr",
          "text": [
            "/usr/local/lib/python3.8/dist-packages/sklearn/metrics/_classification.py:1318: UndefinedMetricWarning: Precision and F-score are ill-defined and being set to 0.0 in labels with no predicted samples. Use `zero_division` parameter to control this behavior.\n",
            "  _warn_prf(average, modifier, msg_start, len(result))\n",
            "/usr/local/lib/python3.8/dist-packages/sklearn/metrics/_classification.py:1318: UndefinedMetricWarning: Precision and F-score are ill-defined and being set to 0.0 in labels with no predicted samples. Use `zero_division` parameter to control this behavior.\n",
            "  _warn_prf(average, modifier, msg_start, len(result))\n",
            "/usr/local/lib/python3.8/dist-packages/sklearn/metrics/_classification.py:1318: UndefinedMetricWarning: Precision and F-score are ill-defined and being set to 0.0 in labels with no predicted samples. Use `zero_division` parameter to control this behavior.\n",
            "  _warn_prf(average, modifier, msg_start, len(result))\n"
          ]
        }
      ],
      "source": [
        "# Evaluate predictions for Support Vector Machine\n",
        "print(confusion_matrix(Y_validationh, predictions))\n",
        "print(classification_report(Y_validationh, predictions))"
      ]
    },
    {
      "cell_type": "code",
      "execution_count": null,
      "metadata": {
        "colab": {
          "base_uri": "https://localhost:8080/"
        },
        "id": "NaoHO2dkDJMD",
        "outputId": "186f39e1-dbaa-4aa2-eaba-7bfeeab89ad5"
      },
      "outputs": [
        {
          "output_type": "stream",
          "name": "stdout",
          "text": [
            "[[1310    4]\n",
            " [  42    8]]\n",
            "              precision    recall  f1-score   support\n",
            "\n",
            "           0       0.97      1.00      0.98      1314\n",
            "           1       0.67      0.16      0.26        50\n",
            "\n",
            "    accuracy                           0.97      1364\n",
            "   macro avg       0.82      0.58      0.62      1364\n",
            "weighted avg       0.96      0.97      0.96      1364\n",
            "\n"
          ]
        }
      ],
      "source": [
        "# Evaluate predictions for Random Forest\n",
        "print(confusion_matrix(Y_validationh, predictions_rfc))\n",
        "print(classification_report(Y_validationh, predictions_rfc))"
      ]
    },
    {
      "cell_type": "code",
      "execution_count": null,
      "metadata": {
        "colab": {
          "base_uri": "https://localhost:8080/"
        },
        "id": "IEOq-9a73zrn",
        "outputId": "8c7ef305-0e61-4873-d497-a46289593576"
      },
      "outputs": [
        {
          "output_type": "stream",
          "name": "stdout",
          "text": [
            "[[1312    2]\n",
            " [  39   11]]\n",
            "              precision    recall  f1-score   support\n",
            "\n",
            "           0       0.97      1.00      0.98      1314\n",
            "           1       0.85      0.22      0.35        50\n",
            "\n",
            "    accuracy                           0.97      1364\n",
            "   macro avg       0.91      0.61      0.67      1364\n",
            "weighted avg       0.97      0.97      0.96      1364\n",
            "\n"
          ]
        }
      ],
      "source": [
        "# Evaluate predictions for XGBoost\n",
        "print(confusion_matrix(Y_validationh, predictions_xgb))\n",
        "print(classification_report(Y_validationh, predictions_xgb))"
      ]
    },
    {
      "cell_type": "code",
      "source": [
        "Y_validationh.value_counts(normalize=True)"
      ],
      "metadata": {
        "colab": {
          "base_uri": "https://localhost:8080/"
        },
        "id": "HaU0332U-bNF",
        "outputId": "0ab25c94-2904-4e47-9278-24413b876c39"
      },
      "execution_count": null,
      "outputs": [
        {
          "output_type": "execute_result",
          "data": {
            "text/plain": [
              "0    0.963343\n",
              "1    0.036657\n",
              "Name: 0, dtype: float64"
            ]
          },
          "metadata": {},
          "execution_count": 361
        }
      ]
    },
    {
      "cell_type": "markdown",
      "source": [
        "### Initial Observations:\n",
        "Looking at models solely based on accuracy can be misleading.  The most important part of our model is correctly classifying the Yes class.  The data is very imbalanced, so it's easy to be accurate.  If you simply predicted the majority class (No), your accuracy would be 96%.  Only XGBoost and Random Forest outperform that."
      ],
      "metadata": {
        "id": "Fwd5yVoZZC6q"
      }
    },
    {
      "cell_type": "markdown",
      "metadata": {
        "id": "ddQIpOYABpuQ"
      },
      "source": [
        "## Harness 2 (with Recall of Yes class as metric)"
      ]
    },
    {
      "cell_type": "code",
      "execution_count": null,
      "metadata": {
        "id": "g3SJLlKP-j7R"
      },
      "outputs": [],
      "source": [
        "from sklearn.metrics import make_scorer\n",
        "from sklearn.metrics import recall_score\n",
        "recall_scorer = make_scorer(recall_score, pos_label=1)"
      ]
    },
    {
      "cell_type": "code",
      "execution_count": null,
      "metadata": {
        "colab": {
          "base_uri": "https://localhost:8080/"
        },
        "id": "itKyjyP0-zgh",
        "outputId": "89ee6705-e21f-45d0-9190-7621258dc939"
      },
      "outputs": [
        {
          "output_type": "stream",
          "name": "stdout",
          "text": [
            "LR: 0.000000 recall (0.000000) std\n",
            "LDA: 0.288235 recall (0.071803) std\n",
            "KNN: 0.011765 recall (0.023529) std\n",
            "CART: 0.305882 recall (0.104567) std\n",
            "NB: 0.964706 recall (0.039019) std\n",
            "SVM: 0.000000 recall (0.000000) std\n",
            "XGB: 0.241176 recall (0.092822) std\n",
            "RFC: 0.182353 recall (0.066811) std\n"
          ]
        }
      ],
      "source": [
        "results2 = []\n",
        "names2 = []\n",
        "for name, model in models:\n",
        "\tkfold = StratifiedKFold(n_splits=10, random_state=1, shuffle=True)\n",
        "\tcv_results = cross_val_score(model, X_trainh, Y_trainh, cv=kfold, scoring=recall_scorer)\n",
        "\tresults2.append(cv_results)\n",
        "\tnames2.append(name)\n",
        "\t# print('%s: %f recall ' % (name, cv_results.mean()))\n",
        "\tprint('%s: %f recall (%f) std' % (name, cv_results.mean(), cv_results.std()))"
      ]
    },
    {
      "cell_type": "code",
      "source": [
        "# Compare Algorithms with Box plots\n",
        "pyplot.figure(figsize=(6,5))\n",
        "pyplot.boxplot(results2, labels=names2)\n",
        "pyplot.title('Algorithm Recall-Yes Comparison')\n",
        "pyplot.show()"
      ],
      "metadata": {
        "colab": {
          "base_uri": "https://localhost:8080/",
          "height": 1000
        },
        "id": "kqKvo5CU9d_N",
        "outputId": "037ddfb1-6bf5-463e-d0f1-173d91e2a1ad"
      },
      "execution_count": null,
      "outputs": [
        {
          "output_type": "execute_result",
          "data": {
            "text/plain": [
              "<Figure size 432x360 with 0 Axes>"
            ]
          },
          "metadata": {},
          "execution_count": 364
        },
        {
          "output_type": "execute_result",
          "data": {
            "text/plain": [
              "{'whiskers': [<matplotlib.lines.Line2D at 0x7f48dee83460>,\n",
              "  <matplotlib.lines.Line2D at 0x7f48dee837c0>,\n",
              "  <matplotlib.lines.Line2D at 0x7f48dee8fc40>,\n",
              "  <matplotlib.lines.Line2D at 0x7f48dee8ffa0>,\n",
              "  <matplotlib.lines.Line2D at 0x7f48dee24460>,\n",
              "  <matplotlib.lines.Line2D at 0x7f48dee247c0>,\n",
              "  <matplotlib.lines.Line2D at 0x7f48dee2dc40>,\n",
              "  <matplotlib.lines.Line2D at 0x7f48dee2dfa0>,\n",
              "  <matplotlib.lines.Line2D at 0x7f48dee45460>,\n",
              "  <matplotlib.lines.Line2D at 0x7f48dee457c0>,\n",
              "  <matplotlib.lines.Line2D at 0x7f48dee4fc40>,\n",
              "  <matplotlib.lines.Line2D at 0x7f48dee4ffa0>,\n",
              "  <matplotlib.lines.Line2D at 0x7f48deddbb80>,\n",
              "  <matplotlib.lines.Line2D at 0x7f48deddbee0>,\n",
              "  <matplotlib.lines.Line2D at 0x7f48dedf2280>,\n",
              "  <matplotlib.lines.Line2D at 0x7f48dedf25b0>],\n",
              " 'caps': [<matplotlib.lines.Line2D at 0x7f48dee83b20>,\n",
              "  <matplotlib.lines.Line2D at 0x7f48dee83e80>,\n",
              "  <matplotlib.lines.Line2D at 0x7f48dee1a340>,\n",
              "  <matplotlib.lines.Line2D at 0x7f48dee1a6a0>,\n",
              "  <matplotlib.lines.Line2D at 0x7f48dee24b20>,\n",
              "  <matplotlib.lines.Line2D at 0x7f48dee24e80>,\n",
              "  <matplotlib.lines.Line2D at 0x7f48dee39340>,\n",
              "  <matplotlib.lines.Line2D at 0x7f48dee396a0>,\n",
              "  <matplotlib.lines.Line2D at 0x7f48dee45b20>,\n",
              "  <matplotlib.lines.Line2D at 0x7f48dee45e80>,\n",
              "  <matplotlib.lines.Line2D at 0x7f48deddb340>,\n",
              "  <matplotlib.lines.Line2D at 0x7f48deddb6a0>,\n",
              "  <matplotlib.lines.Line2D at 0x7f48dede6250>,\n",
              "  <matplotlib.lines.Line2D at 0x7f48dede6580>,\n",
              "  <matplotlib.lines.Line2D at 0x7f48dedf28e0>,\n",
              "  <matplotlib.lines.Line2D at 0x7f48dedf2c10>],\n",
              " 'boxes': [<matplotlib.lines.Line2D at 0x7f48dee83100>,\n",
              "  <matplotlib.lines.Line2D at 0x7f48dee8f8e0>,\n",
              "  <matplotlib.lines.Line2D at 0x7f48dee24100>,\n",
              "  <matplotlib.lines.Line2D at 0x7f48dee2d8e0>,\n",
              "  <matplotlib.lines.Line2D at 0x7f48dee45100>,\n",
              "  <matplotlib.lines.Line2D at 0x7f48dee4f8e0>,\n",
              "  <matplotlib.lines.Line2D at 0x7f48e04dabb0>,\n",
              "  <matplotlib.lines.Line2D at 0x7f48dede6f10>],\n",
              " 'medians': [<matplotlib.lines.Line2D at 0x7f48dee8f220>,\n",
              "  <matplotlib.lines.Line2D at 0x7f48dee1aa00>,\n",
              "  <matplotlib.lines.Line2D at 0x7f48dee2d220>,\n",
              "  <matplotlib.lines.Line2D at 0x7f48dee39a00>,\n",
              "  <matplotlib.lines.Line2D at 0x7f48dee4f220>,\n",
              "  <matplotlib.lines.Line2D at 0x7f48deddba00>,\n",
              "  <matplotlib.lines.Line2D at 0x7f48dede68b0>,\n",
              "  <matplotlib.lines.Line2D at 0x7f48dedf2f40>],\n",
              " 'fliers': [<matplotlib.lines.Line2D at 0x7f48dee8f520>,\n",
              "  <matplotlib.lines.Line2D at 0x7f48dee1ad00>,\n",
              "  <matplotlib.lines.Line2D at 0x7f48dee2d520>,\n",
              "  <matplotlib.lines.Line2D at 0x7f48dee39d00>,\n",
              "  <matplotlib.lines.Line2D at 0x7f48dee4f520>,\n",
              "  <matplotlib.lines.Line2D at 0x7f48dee57f10>,\n",
              "  <matplotlib.lines.Line2D at 0x7f48dede6b80>,\n",
              "  <matplotlib.lines.Line2D at 0x7f48dedfc250>],\n",
              " 'means': []}"
            ]
          },
          "metadata": {},
          "execution_count": 364
        },
        {
          "output_type": "execute_result",
          "data": {
            "text/plain": [
              "Text(0.5, 1.0, 'Algorithm Recall-Yes Comparison')"
            ]
          },
          "metadata": {},
          "execution_count": 364
        },
        {
          "output_type": "display_data",
          "data": {
            "text/plain": [
              "<Figure size 432x360 with 1 Axes>"
            ],
            "image/png": "[encoded data removed]"
          },
          "metadata": {
            "needs_background": "light"
          }
        }
      ]
    },
    {
      "cell_type": "code",
      "source": [
        "modelNB = GaussianNB()\n",
        "modelNB.fit(X_trainh, Y_trainh)\n",
        "predictions_NB = modelNB.predict(X_validationh)"
      ],
      "metadata": {
        "colab": {
          "base_uri": "https://localhost:8080/",
          "height": 75
        },
        "id": "o4EmisM9EsV4",
        "outputId": "fbc8cc69-7fb2-494e-c0ff-b97ad8419925"
      },
      "execution_count": null,
      "outputs": [
        {
          "output_type": "execute_result",
          "data": {
            "text/plain": [
              "GaussianNB()"
            ],
            "text/html": [
              "<style>#sk-ad649402-5016-45c9-ba71-d54cb3290d31 {color: black;background-color: white;}#sk-ad649402-5016-45c9-ba71-d54cb3290d31 pre{padding: 0;}#sk-ad649402-5016-45c9-ba71-d54cb3290d31 div.sk-toggleable {background-color: white;}#sk-ad649402-5016-45c9-ba71-d54cb3290d31 label.sk-toggleable__label {cursor: pointer;display: block;width: 100%;margin-bottom: 0;padding: 0.3em;box-sizing: border-box;text-align: center;}#sk-ad649402-5016-45c9-ba71-d54cb3290d31 label.sk-toggleable__label-arrow:before {content: \"▸\";float: left;margin-right: 0.25em;color: #696969;}#sk-ad649402-5016-45c9-ba71-d54cb3290d31 label.sk-toggleable__label-arrow:hover:before {color: black;}#sk-ad649402-5016-45c9-ba71-d54cb3290d31 div.sk-estimator:hover label.sk-toggleable__label-arrow:before {color: black;}#sk-ad649402-5016-45c9-ba71-d54cb3290d31 div.sk-toggleable__content {max-height: 0;max-width: 0;overflow: hidden;text-align: left;background-color: #f0f8ff;}#sk-ad649402-5016-45c9-ba71-d54cb3290d31 div.sk-toggleable__content pre {margin: 0.2em;color: black;border-radius: 0.25em;background-color: #f0f8ff;}#sk-ad649402-5016-45c9-ba71-d54cb3290d31 input.sk-toggleable__control:checked~div.sk-toggleable__content {max-height: 200px;max-width: 100%;overflow: auto;}#sk-ad649402-5016-45c9-ba71-d54cb3290d31 input.sk-toggleable__control:checked~label.sk-toggleable__label-arrow:before {content: \"▾\";}#sk-ad649402-5016-45c9-ba71-d54cb3290d31 div.sk-estimator input.sk-toggleable__control:checked~label.sk-toggleable__label {background-color: #d4ebff;}#sk-ad649402-5016-45c9-ba71-d54cb3290d31 div.sk-label input.sk-toggleable__control:checked~label.sk-toggleable__label {background-color: #d4ebff;}#sk-ad649402-5016-45c9-ba71-d54cb3290d31 input.sk-hidden--visually {border: 0;clip: rect(1px 1px 1px 1px);clip: rect(1px, 1px, 1px, 1px);height: 1px;margin: -1px;overflow: hidden;padding: 0;position: absolute;width: 1px;}#sk-ad649402-5016-45c9-ba71-d54cb3290d31 div.sk-estimator {font-family: monospace;background-color: #f0f8ff;border: 1px dotted black;border-radius: 0.25em;box-sizing: border-box;margin-bottom: 0.5em;}#sk-ad649402-5016-45c9-ba71-d54cb3290d31 div.sk-estimator:hover {background-color: #d4ebff;}#sk-ad649402-5016-45c9-ba71-d54cb3290d31 div.sk-parallel-item::after {content: \"\";width: 100%;border-bottom: 1px solid gray;flex-grow: 1;}#sk-ad649402-5016-45c9-ba71-d54cb3290d31 div.sk-label:hover label.sk-toggleable__label {background-color: #d4ebff;}#sk-ad649402-5016-45c9-ba71-d54cb3290d31 div.sk-serial::before {content: \"\";position: absolute;border-left: 1px solid gray;box-sizing: border-box;top: 2em;bottom: 0;left: 50%;}#sk-ad649402-5016-45c9-ba71-d54cb3290d31 div.sk-serial {display: flex;flex-direction: column;align-items: center;background-color: white;padding-right: 0.2em;padding-left: 0.2em;}#sk-ad649402-5016-45c9-ba71-d54cb3290d31 div.sk-item {z-index: 1;}#sk-ad649402-5016-45c9-ba71-d54cb3290d31 div.sk-parallel {display: flex;align-items: stretch;justify-content: center;background-color: white;}#sk-ad649402-5016-45c9-ba71-d54cb3290d31 div.sk-parallel::before {content: \"\";position: absolute;border-left: 1px solid gray;box-sizing: border-box;top: 2em;bottom: 0;left: 50%;}#sk-ad649402-5016-45c9-ba71-d54cb3290d31 div.sk-parallel-item {display: flex;flex-direction: column;position: relative;background-color: white;}#sk-ad649402-5016-45c9-ba71-d54cb3290d31 div.sk-parallel-item:first-child::after {align-self: flex-end;width: 50%;}#sk-ad649402-5016-45c9-ba71-d54cb3290d31 div.sk-parallel-item:last-child::after {align-self: flex-start;width: 50%;}#sk-ad649402-5016-45c9-ba71-d54cb3290d31 div.sk-parallel-item:only-child::after {width: 0;}#sk-ad649402-5016-45c9-ba71-d54cb3290d31 div.sk-dashed-wrapped {border: 1px dashed gray;margin: 0 0.4em 0.5em 0.4em;box-sizing: border-box;padding-bottom: 0.4em;background-color: white;position: relative;}#sk-ad649402-5016-45c9-ba71-d54cb3290d31 div.sk-label label {font-family: monospace;font-weight: bold;background-color: white;display: inline-block;line-height: 1.2em;}#sk-ad649402-5016-45c9-ba71-d54cb3290d31 div.sk-label-container {position: relative;z-index: 2;text-align: center;}#sk-ad649402-5016-45c9-ba71-d54cb3290d31 div.sk-container {/* jupyter's `normalize.less` sets `[hidden] { display: none; }` but bootstrap.min.css set `[hidden] { display: none !important; }` so we also need the `!important` here to be able to override the default hidden behavior on the sphinx rendered scikit-learn.org. See: https://github.com/scikit-learn/scikit-learn/issues/21755 */display: inline-block !important;position: relative;}#sk-ad649402-5016-45c9-ba71-d54cb3290d31 div.sk-text-repr-fallback {display: none;}</style><div id=\"sk-ad649402-5016-45c9-ba71-d54cb3290d31\" class=\"sk-top-container\"><div class=\"sk-text-repr-fallback\"><pre>GaussianNB()</pre><b>Please rerun this cell to show the HTML repr or trust the notebook.</b></div><div class=\"sk-container\" hidden><div class=\"sk-item\"><div class=\"sk-estimator sk-toggleable\"><input class=\"sk-toggleable__control sk-hidden--visually\" id=\"163d4ef5-3f29-4990-80af-4a01a57e16af\" type=\"checkbox\" checked><label for=\"163d4ef5-3f29-4990-80af-4a01a57e16af\" class=\"sk-toggleable__label sk-toggleable__label-arrow\">GaussianNB</label><div class=\"sk-toggleable__content\"><pre>GaussianNB()</pre></div></div></div></div></div>"
            ]
          },
          "metadata": {},
          "execution_count": 365
        }
      ]
    },
    {
      "cell_type": "code",
      "source": [
        "# Evaluate predictions for NB\n",
        "print(confusion_matrix(Y_validationh, predictions_NB))\n",
        "print(classification_report(Y_validationh, predictions_NB))"
      ],
      "metadata": {
        "colab": {
          "base_uri": "https://localhost:8080/"
        },
        "id": "5LprN1blFD8u",
        "outputId": "6b9f5f1b-fe85-45f7-896b-f26ab193648e"
      },
      "execution_count": null,
      "outputs": [
        {
          "output_type": "stream",
          "name": "stdout",
          "text": [
            "[[  50 1264]\n",
            " [   2   48]]\n",
            "              precision    recall  f1-score   support\n",
            "\n",
            "           0       0.96      0.04      0.07      1314\n",
            "           1       0.04      0.96      0.07        50\n",
            "\n",
            "    accuracy                           0.07      1364\n",
            "   macro avg       0.50      0.50      0.07      1364\n",
            "weighted avg       0.93      0.07      0.07      1364\n",
            "\n"
          ]
        }
      ]
    },
    {
      "cell_type": "markdown",
      "source": [
        "## Most Important Features"
      ],
      "metadata": {
        "id": "OUxUiA1kHP2J"
      }
    },
    {
      "cell_type": "code",
      "execution_count": null,
      "metadata": {
        "id": "zGlanfVlC5Sy"
      },
      "outputs": [],
      "source": [
        "def feature_imp(df, model):\n",
        "    fi = pd.DataFrame()\n",
        "    fi[\"feature\"] = df.columns\n",
        "    fi[\"importance\"] = model.feature_importances_\n",
        "    return fi.sort_values(by=\"importance\", ascending=False)"
      ]
    },
    {
      "cell_type": "code",
      "execution_count": null,
      "metadata": {
        "colab": {
          "base_uri": "https://localhost:8080/",
          "height": 516
        },
        "id": "wPUNNGf3CZZe",
        "outputId": "49a29da4-23d8-45d2-f74a-08ea775f87be"
      },
      "outputs": [
        {
          "output_type": "execute_result",
          "data": {
            "text/plain": [
              "<matplotlib.axes._subplots.AxesSubplot at 0x7f48dedb88e0>"
            ]
          },
          "metadata": {},
          "execution_count": 368
        },
        {
          "output_type": "execute_result",
          "data": {
            "text/plain": [
              "Text(0.5, 1.0, 'Feature Importance according to XGBoost')"
            ]
          },
          "metadata": {},
          "execution_count": 368
        },
        {
          "output_type": "display_data",
          "data": {
            "text/plain": [
              "<Figure size 720x576 with 1 Axes>"
            ],
            "image/png": "[encoded data removed]"
          },
          "metadata": {
            "needs_background": "light"
          }
        }
      ],
      "source": [
        "df_features = feature_imp(df_X, xgb_clf)[:25]\n",
        "df_features.set_index('feature', inplace=True)\n",
        "df_features.plot(kind='barh', figsize=(10, 8))\n",
        "plt.title('Feature Importance according to XGBoost')"
      ]
    },
    {
      "cell_type": "code",
      "execution_count": null,
      "metadata": {
        "colab": {
          "base_uri": "https://localhost:8080/"
        },
        "id": "6HmEz9CfC_5V",
        "outputId": "5824e914-fd21-48b4-fd6b-943d9df6a58f"
      },
      "outputs": [
        {
          "output_type": "execute_result",
          "data": {
            "text/plain": [
              "Int64Index([17, 89, 30, 19, 10, 40, 85, 34, 23, 69, 57, 36, 27,  3, 14,  9, 52,\n",
              "            68, 58, 79, 12, 18, 25, 65,  2],\n",
              "           dtype='int64', name='feature')"
            ]
          },
          "metadata": {},
          "execution_count": 369
        }
      ],
      "source": [
        "df_features.index"
      ]
    },
    {
      "cell_type": "code",
      "execution_count": null,
      "metadata": {
        "id": "6yoTIrYVDFYX",
        "colab": {
          "base_uri": "https://localhost:8080/",
          "height": 270
        },
        "outputId": "d359413d-1d01-4eeb-d659-34453c84ceff"
      },
      "outputs": [
        {
          "output_type": "execute_result",
          "data": {
            "text/plain": [
              "         17        89        30        19        10        40        85  \\\n",
              "0  0.147950  0.827890  0.000327  0.169141  0.780985  0.390284  0.716845   \n",
              "1  0.182251  0.839969  0.000443  0.208944  0.781506  0.376760  0.795297   \n",
              "2  0.177911  0.836774  0.000396  0.180581  0.780284  0.379093  0.774670   \n",
              "3  0.154187  0.834697  0.000382  0.193722  0.781241  0.379743  0.739555   \n",
              "4  0.167502  0.839973  0.000439  0.212537  0.781550  0.375025  0.795016   \n",
              "\n",
              "         34        23        69        57        36        27        3   \\\n",
              "0  0.001208  0.138736  0.002022  0.004094  0.021266  0.688979  0.405750   \n",
              "1  0.004039  0.169918  0.002226  0.014948  0.012502  0.689702  0.516730   \n",
              "2  0.005348  0.142803  0.002060  0.000991  0.021248  0.689470  0.472295   \n",
              "3  0.002896  0.148603  0.001831  0.018851  0.009572  0.689110  0.457733   \n",
              "4  0.003727  0.168412  0.002224  0.014161  0.005150  0.689697  0.522298   \n",
              "\n",
              "         14        9         52        68        58        79          12  \\\n",
              "0  0.000725  0.302646  0.392913  0.903225  0.001997  0.126549         0.0   \n",
              "1  0.000647  0.303556  0.391590  0.931065  0.004136  0.120916         0.0   \n",
              "2  0.000790  0.302035  0.381968  0.909903  0.006302  0.117922  25500000.0   \n",
              "3  0.000449  0.303350  0.378497  0.906902  0.002961  0.120760         0.0   \n",
              "4  0.000686  0.303475  0.394371  0.913850  0.004275  0.110933         0.0   \n",
              "\n",
              "         18        25        65        2   \n",
              "0  0.147950  0.848195  0.721275  0.424389  \n",
              "1  0.182251  0.848088  0.731975  0.538214  \n",
              "2  0.193713  0.848094  0.742729  0.499019  \n",
              "3  0.154187  0.848005  0.729825  0.451265  \n",
              "4  0.167502  0.848258  0.732000  0.538432  "
            ],
            "text/html": [
              "\n",
              "  <div id=\"df-82b16f0d-b99f-4027-84d8-b303a25dc9f6\">\n",
              "    <div class=\"colab-df-container\">\n",
              "      <div>\n",
              "<style scoped>\n",
              "    .dataframe tbody tr th:only-of-type {\n",
              "        vertical-align: middle;\n",
              "    }\n",
              "\n",
              "    .dataframe tbody tr th {\n",
              "        vertical-align: top;\n",
              "    }\n",
              "\n",
              "    .dataframe thead th {\n",
              "        text-align: right;\n",
              "    }\n",
              "</style>\n",
              "<table border=\"1\" class=\"dataframe\">\n",
              "  <thead>\n",
              "    <tr style=\"text-align: right;\">\n",
              "      <th></th>\n",
              "      <th>17</th>\n",
              "      <th>89</th>\n",
              "      <th>30</th>\n",
              "      <th>19</th>\n",
              "      <th>10</th>\n",
              "      <th>40</th>\n",
              "      <th>85</th>\n",
              "      <th>34</th>\n",
              "      <th>23</th>\n",
              "      <th>69</th>\n",
              "      <th>57</th>\n",
              "      <th>36</th>\n",
              "      <th>27</th>\n",
              "      <th>3</th>\n",
              "      <th>14</th>\n",
              "      <th>9</th>\n",
              "      <th>52</th>\n",
              "      <th>68</th>\n",
              "      <th>58</th>\n",
              "      <th>79</th>\n",
              "      <th>12</th>\n",
              "      <th>18</th>\n",
              "      <th>25</th>\n",
              "      <th>65</th>\n",
              "      <th>2</th>\n",
              "    </tr>\n",
              "  </thead>\n",
              "  <tbody>\n",
              "    <tr>\n",
              "      <th>0</th>\n",
              "      <td>0.147950</td>\n",
              "      <td>0.827890</td>\n",
              "      <td>0.000327</td>\n",
              "      <td>0.169141</td>\n",
              "      <td>0.780985</td>\n",
              "      <td>0.390284</td>\n",
              "      <td>0.716845</td>\n",
              "      <td>0.001208</td>\n",
              "      <td>0.138736</td>\n",
              "      <td>0.002022</td>\n",
              "      <td>0.004094</td>\n",
              "      <td>0.021266</td>\n",
              "      <td>0.688979</td>\n",
              "      <td>0.405750</td>\n",
              "      <td>0.000725</td>\n",
              "      <td>0.302646</td>\n",
              "      <td>0.392913</td>\n",
              "      <td>0.903225</td>\n",
              "      <td>0.001997</td>\n",
              "      <td>0.126549</td>\n",
              "      <td>0.0</td>\n",
              "      <td>0.147950</td>\n",
              "      <td>0.848195</td>\n",
              "      <td>0.721275</td>\n",
              "      <td>0.424389</td>\n",
              "    </tr>\n",
              "    <tr>\n",
              "      <th>1</th>\n",
              "      <td>0.182251</td>\n",
              "      <td>0.839969</td>\n",
              "      <td>0.000443</td>\n",
              "      <td>0.208944</td>\n",
              "      <td>0.781506</td>\n",
              "      <td>0.376760</td>\n",
              "      <td>0.795297</td>\n",
              "      <td>0.004039</td>\n",
              "      <td>0.169918</td>\n",
              "      <td>0.002226</td>\n",
              "      <td>0.014948</td>\n",
              "      <td>0.012502</td>\n",
              "      <td>0.689702</td>\n",
              "      <td>0.516730</td>\n",
              "      <td>0.000647</td>\n",
              "      <td>0.303556</td>\n",
              "      <td>0.391590</td>\n",
              "      <td>0.931065</td>\n",
              "      <td>0.004136</td>\n",
              "      <td>0.120916</td>\n",
              "      <td>0.0</td>\n",
              "      <td>0.182251</td>\n",
              "      <td>0.848088</td>\n",
              "      <td>0.731975</td>\n",
              "      <td>0.538214</td>\n",
              "    </tr>\n",
              "    <tr>\n",
              "      <th>2</th>\n",
              "      <td>0.177911</td>\n",
              "      <td>0.836774</td>\n",
              "      <td>0.000396</td>\n",
              "      <td>0.180581</td>\n",
              "      <td>0.780284</td>\n",
              "      <td>0.379093</td>\n",
              "      <td>0.774670</td>\n",
              "      <td>0.005348</td>\n",
              "      <td>0.142803</td>\n",
              "      <td>0.002060</td>\n",
              "      <td>0.000991</td>\n",
              "      <td>0.021248</td>\n",
              "      <td>0.689470</td>\n",
              "      <td>0.472295</td>\n",
              "      <td>0.000790</td>\n",
              "      <td>0.302035</td>\n",
              "      <td>0.381968</td>\n",
              "      <td>0.909903</td>\n",
              "      <td>0.006302</td>\n",
              "      <td>0.117922</td>\n",
              "      <td>25500000.0</td>\n",
              "      <td>0.193713</td>\n",
              "      <td>0.848094</td>\n",
              "      <td>0.742729</td>\n",
              "      <td>0.499019</td>\n",
              "    </tr>\n",
              "    <tr>\n",
              "      <th>3</th>\n",
              "      <td>0.154187</td>\n",
              "      <td>0.834697</td>\n",
              "      <td>0.000382</td>\n",
              "      <td>0.193722</td>\n",
              "      <td>0.781241</td>\n",
              "      <td>0.379743</td>\n",
              "      <td>0.739555</td>\n",
              "      <td>0.002896</td>\n",
              "      <td>0.148603</td>\n",
              "      <td>0.001831</td>\n",
              "      <td>0.018851</td>\n",
              "      <td>0.009572</td>\n",
              "      <td>0.689110</td>\n",
              "      <td>0.457733</td>\n",
              "      <td>0.000449</td>\n",
              "      <td>0.303350</td>\n",
              "      <td>0.378497</td>\n",
              "      <td>0.906902</td>\n",
              "      <td>0.002961</td>\n",
              "      <td>0.120760</td>\n",
              "      <td>0.0</td>\n",
              "      <td>0.154187</td>\n",
              "      <td>0.848005</td>\n",
              "      <td>0.729825</td>\n",
              "      <td>0.451265</td>\n",
              "    </tr>\n",
              "    <tr>\n",
              "      <th>4</th>\n",
              "      <td>0.167502</td>\n",
              "      <td>0.839973</td>\n",
              "      <td>0.000439</td>\n",
              "      <td>0.212537</td>\n",
              "      <td>0.781550</td>\n",
              "      <td>0.375025</td>\n",
              "      <td>0.795016</td>\n",
              "      <td>0.003727</td>\n",
              "      <td>0.168412</td>\n",
              "      <td>0.002224</td>\n",
              "      <td>0.014161</td>\n",
              "      <td>0.005150</td>\n",
              "      <td>0.689697</td>\n",
              "      <td>0.522298</td>\n",
              "      <td>0.000686</td>\n",
              "      <td>0.303475</td>\n",
              "      <td>0.394371</td>\n",
              "      <td>0.913850</td>\n",
              "      <td>0.004275</td>\n",
              "      <td>0.110933</td>\n",
              "      <td>0.0</td>\n",
              "      <td>0.167502</td>\n",
              "      <td>0.848258</td>\n",
              "      <td>0.732000</td>\n",
              "      <td>0.538432</td>\n",
              "    </tr>\n",
              "  </tbody>\n",
              "</table>\n",
              "</div>\n",
              "      <button class=\"colab-df-convert\" onclick=\"convertToInteractive('df-82b16f0d-b99f-4027-84d8-b303a25dc9f6')\"\n",
              "              title=\"Convert this dataframe to an interactive table.\"\n",
              "              style=\"display:none;\">\n",
              "        \n",
              "  <svg xmlns=\"http://www.w3.org/2000/svg\" height=\"24px\"viewBox=\"0 0 24 24\"\n",
              "       width=\"24px\">\n",
              "    <path d=\"M0 0h24v24H0V0z\" fill=\"none\"/>\n",
              "    <path d=\"M18.56 5.44l.94 2.06.94-2.06 2.06-.94-2.06-.94-.94-2.06-.94 2.06-2.06.94zm-11 1L8.5 8.5l.94-2.06 2.06-.94-2.06-.94L8.5 2.5l-.94 2.06-2.06.94zm10 10l.94 2.06.94-2.06 2.06-.94-2.06-.94-.94-2.06-.94 2.06-2.06.94z\"/><path d=\"M17.41 7.96l-1.37-1.37c-.4-.4-.92-.59-1.43-.59-.52 0-1.04.2-1.43.59L10.3 9.45l-7.72 7.72c-.78.78-.78 2.05 0 2.83L4 21.41c.39.39.9.59 1.41.59.51 0 1.02-.2 1.41-.59l7.78-7.78 2.81-2.81c.8-.78.8-2.07 0-2.86zM5.41 20L4 18.59l7.72-7.72 1.47 1.35L5.41 20z\"/>\n",
              "  </svg>\n",
              "      </button>\n",
              "      \n",
              "  <style>\n",
              "    .colab-df-container {\n",
              "      display:flex;\n",
              "      flex-wrap:wrap;\n",
              "      gap: 12px;\n",
              "    }\n",
              "\n",
              "    .colab-df-convert {\n",
              "      background-color: #E8F0FE;\n",
              "      border: none;\n",
              "      border-radius: 50%;\n",
              "      cursor: pointer;\n",
              "      display: none;\n",
              "      fill: #1967D2;\n",
              "      height: 32px;\n",
              "      padding: 0 0 0 0;\n",
              "      width: 32px;\n",
              "    }\n",
              "\n",
              "    .colab-df-convert:hover {\n",
              "      background-color: #E2EBFA;\n",
              "      box-shadow: 0px 1px 2px rgba(60, 64, 67, 0.3), 0px 1px 3px 1px rgba(60, 64, 67, 0.15);\n",
              "      fill: #174EA6;\n",
              "    }\n",
              "\n",
              "    [theme=dark] .colab-df-convert {\n",
              "      background-color: #3B4455;\n",
              "      fill: #D2E3FC;\n",
              "    }\n",
              "\n",
              "    [theme=dark] .colab-df-convert:hover {\n",
              "      background-color: #434B5C;\n",
              "      box-shadow: 0px 1px 3px 1px rgba(0, 0, 0, 0.15);\n",
              "      filter: drop-shadow(0px 1px 2px rgba(0, 0, 0, 0.3));\n",
              "      fill: #FFFFFF;\n",
              "    }\n",
              "  </style>\n",
              "\n",
              "      <script>\n",
              "        const buttonEl =\n",
              "          document.querySelector('#df-82b16f0d-b99f-4027-84d8-b303a25dc9f6 button.colab-df-convert');\n",
              "        buttonEl.style.display =\n",
              "          google.colab.kernel.accessAllowed ? 'block' : 'none';\n",
              "\n",
              "        async function convertToInteractive(key) {\n",
              "          const element = document.querySelector('#df-82b16f0d-b99f-4027-84d8-b303a25dc9f6');\n",
              "          const dataTable =\n",
              "            await google.colab.kernel.invokeFunction('convertToInteractive',\n",
              "                                                     [key], {});\n",
              "          if (!dataTable) return;\n",
              "\n",
              "          const docLinkHtml = 'Like what you see? Visit the ' +\n",
              "            '<a target=\"_blank\" href=https://colab.research.google.com/notebooks/data_table.ipynb>data table notebook</a>'\n",
              "            + ' to learn more about interactive tables.';\n",
              "          element.innerHTML = '';\n",
              "          dataTable['output_type'] = 'display_data';\n",
              "          await google.colab.output.renderOutput(dataTable, element);\n",
              "          const docLink = document.createElement('div');\n",
              "          docLink.innerHTML = docLinkHtml;\n",
              "          element.appendChild(docLink);\n",
              "        }\n",
              "      </script>\n",
              "    </div>\n",
              "  </div>\n",
              "  "
            ]
          },
          "metadata": {},
          "execution_count": 370
        }
      ],
      "source": [
        "# saving the top 25 features in a dataframe in case we need to use them later\n",
        "df_top25 = df[df_features.index]\n",
        "df_top25.head()"
      ]
    },
    {
      "cell_type": "markdown",
      "metadata": {
        "id": "jUwXans0CQDw"
      },
      "source": [
        "Final Observations\n",
        "---\n",
        "\n",
        "- A Dummy Model would predict at 96.3% accuracy.\n",
        "- Most of our models performed at this level, meaning they would be just as accurate simply predicted the majority class (No) every time.\n",
        "- After pulling the classification reports and confusion matrix, we can see that accuracy is not the most meaningful stat for this dataset.\n",
        "- We compared recall scores, and our worst performing model in accuracy had the best recall (Naive Bayes).\n",
        "- Unfortunately NB essentially predicted the minority class every time, resulting in a very low recall for the no class, and low precision for the yes class.\n",
        "- For accuracy, the models that most deserve further analysis are Support Vector Machine, XGBoost, and Random Forest Classifier.\n",
        "- For recall, the models that most deserve further analysis are Linear Discriminate Analysis, Decision Tree, and XGBoost.\n",
        "- XGBoost specifically will be explored later as it appears in both lists."
      ]
    },
    {
      "cell_type": "markdown",
      "metadata": {
        "id": "02oDe6qxB77u"
      },
      "source": [
        "# A Deep Dive - XGBoost\n",
        "## Dealing with Imbalanced Data"
      ]
    },
    {
      "cell_type": "code",
      "execution_count": null,
      "metadata": {
        "id": "bFHjxcIoCdCj"
      },
      "outputs": [],
      "source": [
        "# splitting the data\n",
        "X_train, X_test, y_train, y_test = train_test_split(df_X, df_y, test_size=0.20, random_state=1,stratify=df_y)"
      ]
    },
    {
      "cell_type": "markdown",
      "source": [
        "## Baseline"
      ],
      "metadata": {
        "id": "_yT_fE1YLPTm"
      }
    },
    {
      "cell_type": "code",
      "source": [
        "xgb = XGBClassifier()"
      ],
      "metadata": {
        "id": "Jusaw3GALOtR"
      },
      "execution_count": null,
      "outputs": []
    },
    {
      "cell_type": "code",
      "source": [
        "xgb.fit(X_train, y_train)"
      ],
      "metadata": {
        "colab": {
          "base_uri": "https://localhost:8080/",
          "height": 75
        },
        "id": "e7XGOsBnLcZM",
        "outputId": "945cdd9f-0c4d-475e-fd39-1be6282802ad"
      },
      "execution_count": null,
      "outputs": [
        {
          "output_type": "execute_result",
          "data": {
            "text/plain": [
              "XGBClassifier()"
            ],
            "text/html": [
              "<style>#sk-5269c537-322a-42dc-9d7c-3ba3687b3305 {color: black;background-color: white;}#sk-5269c537-322a-42dc-9d7c-3ba3687b3305 pre{padding: 0;}#sk-5269c537-322a-42dc-9d7c-3ba3687b3305 div.sk-toggleable {background-color: white;}#sk-5269c537-322a-42dc-9d7c-3ba3687b3305 label.sk-toggleable__label {cursor: pointer;display: block;width: 100%;margin-bottom: 0;padding: 0.3em;box-sizing: border-box;text-align: center;}#sk-5269c537-322a-42dc-9d7c-3ba3687b3305 label.sk-toggleable__label-arrow:before {content: \"▸\";float: left;margin-right: 0.25em;color: #696969;}#sk-5269c537-322a-42dc-9d7c-3ba3687b3305 label.sk-toggleable__label-arrow:hover:before {color: black;}#sk-5269c537-322a-42dc-9d7c-3ba3687b3305 div.sk-estimator:hover label.sk-toggleable__label-arrow:before {color: black;}#sk-5269c537-322a-42dc-9d7c-3ba3687b3305 div.sk-toggleable__content {max-height: 0;max-width: 0;overflow: hidden;text-align: left;background-color: #f0f8ff;}#sk-5269c537-322a-42dc-9d7c-3ba3687b3305 div.sk-toggleable__content pre {margin: 0.2em;color: black;border-radius: 0.25em;background-color: #f0f8ff;}#sk-5269c537-322a-42dc-9d7c-3ba3687b3305 input.sk-toggleable__control:checked~div.sk-toggleable__content {max-height: 200px;max-width: 100%;overflow: auto;}#sk-5269c537-322a-42dc-9d7c-3ba3687b3305 input.sk-toggleable__control:checked~label.sk-toggleable__label-arrow:before {content: \"▾\";}#sk-5269c537-322a-42dc-9d7c-3ba3687b3305 div.sk-estimator input.sk-toggleable__control:checked~label.sk-toggleable__label {background-color: #d4ebff;}#sk-5269c537-322a-42dc-9d7c-3ba3687b3305 div.sk-label input.sk-toggleable__control:checked~label.sk-toggleable__label {background-color: #d4ebff;}#sk-5269c537-322a-42dc-9d7c-3ba3687b3305 input.sk-hidden--visually {border: 0;clip: rect(1px 1px 1px 1px);clip: rect(1px, 1px, 1px, 1px);height: 1px;margin: -1px;overflow: hidden;padding: 0;position: absolute;width: 1px;}#sk-5269c537-322a-42dc-9d7c-3ba3687b3305 div.sk-estimator {font-family: monospace;background-color: #f0f8ff;border: 1px dotted black;border-radius: 0.25em;box-sizing: border-box;margin-bottom: 0.5em;}#sk-5269c537-322a-42dc-9d7c-3ba3687b3305 div.sk-estimator:hover {background-color: #d4ebff;}#sk-5269c537-322a-42dc-9d7c-3ba3687b3305 div.sk-parallel-item::after {content: \"\";width: 100%;border-bottom: 1px solid gray;flex-grow: 1;}#sk-5269c537-322a-42dc-9d7c-3ba3687b3305 div.sk-label:hover label.sk-toggleable__label {background-color: #d4ebff;}#sk-5269c537-322a-42dc-9d7c-3ba3687b3305 div.sk-serial::before {content: \"\";position: absolute;border-left: 1px solid gray;box-sizing: border-box;top: 2em;bottom: 0;left: 50%;}#sk-5269c537-322a-42dc-9d7c-3ba3687b3305 div.sk-serial {display: flex;flex-direction: column;align-items: center;background-color: white;padding-right: 0.2em;padding-left: 0.2em;}#sk-5269c537-322a-42dc-9d7c-3ba3687b3305 div.sk-item {z-index: 1;}#sk-5269c537-322a-42dc-9d7c-3ba3687b3305 div.sk-parallel {display: flex;align-items: stretch;justify-content: center;background-color: white;}#sk-5269c537-322a-42dc-9d7c-3ba3687b3305 div.sk-parallel::before {content: \"\";position: absolute;border-left: 1px solid gray;box-sizing: border-box;top: 2em;bottom: 0;left: 50%;}#sk-5269c537-322a-42dc-9d7c-3ba3687b3305 div.sk-parallel-item {display: flex;flex-direction: column;position: relative;background-color: white;}#sk-5269c537-322a-42dc-9d7c-3ba3687b3305 div.sk-parallel-item:first-child::after {align-self: flex-end;width: 50%;}#sk-5269c537-322a-42dc-9d7c-3ba3687b3305 div.sk-parallel-item:last-child::after {align-self: flex-start;width: 50%;}#sk-5269c537-322a-42dc-9d7c-3ba3687b3305 div.sk-parallel-item:only-child::after {width: 0;}#sk-5269c537-322a-42dc-9d7c-3ba3687b3305 div.sk-dashed-wrapped {border: 1px dashed gray;margin: 0 0.4em 0.5em 0.4em;box-sizing: border-box;padding-bottom: 0.4em;background-color: white;position: relative;}#sk-5269c537-322a-42dc-9d7c-3ba3687b3305 div.sk-label label {font-family: monospace;font-weight: bold;background-color: white;display: inline-block;line-height: 1.2em;}#sk-5269c537-322a-42dc-9d7c-3ba3687b3305 div.sk-label-container {position: relative;z-index: 2;text-align: center;}#sk-5269c537-322a-42dc-9d7c-3ba3687b3305 div.sk-container {/* jupyter's `normalize.less` sets `[hidden] { display: none; }` but bootstrap.min.css set `[hidden] { display: none !important; }` so we also need the `!important` here to be able to override the default hidden behavior on the sphinx rendered scikit-learn.org. See: https://github.com/scikit-learn/scikit-learn/issues/21755 */display: inline-block !important;position: relative;}#sk-5269c537-322a-42dc-9d7c-3ba3687b3305 div.sk-text-repr-fallback {display: none;}</style><div id=\"sk-5269c537-322a-42dc-9d7c-3ba3687b3305\" class=\"sk-top-container\"><div class=\"sk-text-repr-fallback\"><pre>XGBClassifier()</pre><b>Please rerun this cell to show the HTML repr or trust the notebook.</b></div><div class=\"sk-container\" hidden><div class=\"sk-item\"><div class=\"sk-estimator sk-toggleable\"><input class=\"sk-toggleable__control sk-hidden--visually\" id=\"5087d257-60b1-44b4-a570-df318c200907\" type=\"checkbox\" checked><label for=\"5087d257-60b1-44b4-a570-df318c200907\" class=\"sk-toggleable__label sk-toggleable__label-arrow\">XGBClassifier</label><div class=\"sk-toggleable__content\"><pre>XGBClassifier()</pre></div></div></div></div></div>"
            ]
          },
          "metadata": {},
          "execution_count": 387
        }
      ]
    },
    {
      "cell_type": "code",
      "source": [
        "pred =xgb.predict(X_test)"
      ],
      "metadata": {
        "id": "CZ2pBD5nLdQl"
      },
      "execution_count": null,
      "outputs": []
    },
    {
      "cell_type": "markdown",
      "source": [
        "### Results:"
      ],
      "metadata": {
        "id": "4dHlYnoCLpje"
      }
    },
    {
      "cell_type": "code",
      "source": [
        "confusion_matrix (y_test, pred)"
      ],
      "metadata": {
        "colab": {
          "base_uri": "https://localhost:8080/"
        },
        "id": "arYgd_PrLjGU",
        "outputId": "a54a3d1b-9768-4ac9-f6f5-b3ec3bf73f6b"
      },
      "execution_count": null,
      "outputs": [
        {
          "output_type": "execute_result",
          "data": {
            "text/plain": [
              "array([[1317,    3],\n",
              "       [  35,    9]])"
            ]
          },
          "metadata": {},
          "execution_count": 389
        }
      ]
    },
    {
      "cell_type": "code",
      "source": [
        "print (classification_report (y_test, pred))"
      ],
      "metadata": {
        "colab": {
          "base_uri": "https://localhost:8080/"
        },
        "id": "OKvH2m-uLjAS",
        "outputId": "fd9ae29f-ebe1-4fd1-8eec-1b1730f65bfb"
      },
      "execution_count": null,
      "outputs": [
        {
          "output_type": "stream",
          "name": "stdout",
          "text": [
            "              precision    recall  f1-score   support\n",
            "\n",
            "           0       0.97      1.00      0.99      1320\n",
            "           1       0.75      0.20      0.32        44\n",
            "\n",
            "    accuracy                           0.97      1364\n",
            "   macro avg       0.86      0.60      0.65      1364\n",
            "weighted avg       0.97      0.97      0.96      1364\n",
            "\n"
          ]
        }
      ]
    },
    {
      "cell_type": "markdown",
      "source": [
        "## Under Sampling"
      ],
      "metadata": {
        "id": "cVup3dj3GGkA"
      }
    },
    {
      "cell_type": "code",
      "source": [
        "# combining data for ease of use\n",
        "trainData = pd.concat([X_train,y_train],axis=1)\n",
        "# finding indexes where bankrupt = 1 (yes)\n",
        "ind = trainData[trainData[0]==1].index\n",
        "# finding indexes of majority class\n",
        "ind1 = trainData[trainData[0]==0].index\n",
        "# separating minority class\n",
        "minData = trainData.loc[ind]\n",
        "# separating majority class\n",
        "majData = trainData.loc[ind1]\n",
        "# Take a random sample equal to length of the minority class to make the data set balanced\n",
        "majSample = majData.sample(n=len(ind),random_state = 123)"
      ],
      "metadata": {
        "id": "gfd08VDMFly2"
      },
      "execution_count": null,
      "outputs": []
    },
    {
      "cell_type": "code",
      "source": [
        "trainData[0].value_counts()"
      ],
      "metadata": {
        "colab": {
          "base_uri": "https://localhost:8080/"
        },
        "id": "KKfbiAoAHBTH",
        "outputId": "05acaee9-52a5-44a9-e1cf-86daf0463843"
      },
      "execution_count": null,
      "outputs": [
        {
          "output_type": "execute_result",
          "data": {
            "text/plain": [
              "0    5279\n",
              "1     176\n",
              "Name: 0, dtype: int64"
            ]
          },
          "metadata": {},
          "execution_count": 392
        }
      ]
    },
    {
      "cell_type": "code",
      "source": [
        "balData = pd.concat([minData,majSample],axis = 0)\n",
        "print('balanced data set shape',balData.shape)"
      ],
      "metadata": {
        "colab": {
          "base_uri": "https://localhost:8080/"
        },
        "id": "d7vp6xODGKDd",
        "outputId": "99362a0c-d68b-4455-9c17-a233ab3ec967"
      },
      "execution_count": null,
      "outputs": [
        {
          "output_type": "stream",
          "name": "stdout",
          "text": [
            "balanced data set shape (352, 95)\n"
          ]
        }
      ]
    },
    {
      "cell_type": "code",
      "source": [
        "# Shuffling the data set\n",
        "from sklearn.utils import shuffle\n",
        "balData = shuffle(balData)"
      ],
      "metadata": {
        "id": "SJ1lJeGjHHCy"
      },
      "execution_count": null,
      "outputs": []
    },
    {
      "cell_type": "code",
      "source": [
        "# Making the new X_train and y_train\n",
        "X_trainNew = balData.iloc[:,:-1]\n",
        "y_trainNew = balData[0]\n"
      ],
      "metadata": {
        "id": "ZYpD_oxhHYqH"
      },
      "execution_count": null,
      "outputs": []
    },
    {
      "cell_type": "code",
      "source": [
        "# Defining New Model\n",
        "xgb_us = XGBClassifier()\n",
        "xgb_us.fit(X_trainNew, y_trainNew)"
      ],
      "metadata": {
        "colab": {
          "base_uri": "https://localhost:8080/",
          "height": 75
        },
        "id": "8B4VNA9SHnH7",
        "outputId": "4ec01945-2228-4c45-9e09-34fbfc9ab059"
      },
      "execution_count": null,
      "outputs": [
        {
          "output_type": "execute_result",
          "data": {
            "text/plain": [
              "XGBClassifier()"
            ],
            "text/html": [
              "<style>#sk-60e3c01f-4e8a-4b14-84c9-db9efe793534 {color: black;background-color: white;}#sk-60e3c01f-4e8a-4b14-84c9-db9efe793534 pre{padding: 0;}#sk-60e3c01f-4e8a-4b14-84c9-db9efe793534 div.sk-toggleable {background-color: white;}#sk-60e3c01f-4e8a-4b14-84c9-db9efe793534 label.sk-toggleable__label {cursor: pointer;display: block;width: 100%;margin-bottom: 0;padding: 0.3em;box-sizing: border-box;text-align: center;}#sk-60e3c01f-4e8a-4b14-84c9-db9efe793534 label.sk-toggleable__label-arrow:before {content: \"▸\";float: left;margin-right: 0.25em;color: #696969;}#sk-60e3c01f-4e8a-4b14-84c9-db9efe793534 label.sk-toggleable__label-arrow:hover:before {color: black;}#sk-60e3c01f-4e8a-4b14-84c9-db9efe793534 div.sk-estimator:hover label.sk-toggleable__label-arrow:before {color: black;}#sk-60e3c01f-4e8a-4b14-84c9-db9efe793534 div.sk-toggleable__content {max-height: 0;max-width: 0;overflow: hidden;text-align: left;background-color: #f0f8ff;}#sk-60e3c01f-4e8a-4b14-84c9-db9efe793534 div.sk-toggleable__content pre {margin: 0.2em;color: black;border-radius: 0.25em;background-color: #f0f8ff;}#sk-60e3c01f-4e8a-4b14-84c9-db9efe793534 input.sk-toggleable__control:checked~div.sk-toggleable__content {max-height: 200px;max-width: 100%;overflow: auto;}#sk-60e3c01f-4e8a-4b14-84c9-db9efe793534 input.sk-toggleable__control:checked~label.sk-toggleable__label-arrow:before {content: \"▾\";}#sk-60e3c01f-4e8a-4b14-84c9-db9efe793534 div.sk-estimator input.sk-toggleable__control:checked~label.sk-toggleable__label {background-color: #d4ebff;}#sk-60e3c01f-4e8a-4b14-84c9-db9efe793534 div.sk-label input.sk-toggleable__control:checked~label.sk-toggleable__label {background-color: #d4ebff;}#sk-60e3c01f-4e8a-4b14-84c9-db9efe793534 input.sk-hidden--visually {border: 0;clip: rect(1px 1px 1px 1px);clip: rect(1px, 1px, 1px, 1px);height: 1px;margin: -1px;overflow: hidden;padding: 0;position: absolute;width: 1px;}#sk-60e3c01f-4e8a-4b14-84c9-db9efe793534 div.sk-estimator {font-family: monospace;background-color: #f0f8ff;border: 1px dotted black;border-radius: 0.25em;box-sizing: border-box;margin-bottom: 0.5em;}#sk-60e3c01f-4e8a-4b14-84c9-db9efe793534 div.sk-estimator:hover {background-color: #d4ebff;}#sk-60e3c01f-4e8a-4b14-84c9-db9efe793534 div.sk-parallel-item::after {content: \"\";width: 100%;border-bottom: 1px solid gray;flex-grow: 1;}#sk-60e3c01f-4e8a-4b14-84c9-db9efe793534 div.sk-label:hover label.sk-toggleable__label {background-color: #d4ebff;}#sk-60e3c01f-4e8a-4b14-84c9-db9efe793534 div.sk-serial::before {content: \"\";position: absolute;border-left: 1px solid gray;box-sizing: border-box;top: 2em;bottom: 0;left: 50%;}#sk-60e3c01f-4e8a-4b14-84c9-db9efe793534 div.sk-serial {display: flex;flex-direction: column;align-items: center;background-color: white;padding-right: 0.2em;padding-left: 0.2em;}#sk-60e3c01f-4e8a-4b14-84c9-db9efe793534 div.sk-item {z-index: 1;}#sk-60e3c01f-4e8a-4b14-84c9-db9efe793534 div.sk-parallel {display: flex;align-items: stretch;justify-content: center;background-color: white;}#sk-60e3c01f-4e8a-4b14-84c9-db9efe793534 div.sk-parallel::before {content: \"\";position: absolute;border-left: 1px solid gray;box-sizing: border-box;top: 2em;bottom: 0;left: 50%;}#sk-60e3c01f-4e8a-4b14-84c9-db9efe793534 div.sk-parallel-item {display: flex;flex-direction: column;position: relative;background-color: white;}#sk-60e3c01f-4e8a-4b14-84c9-db9efe793534 div.sk-parallel-item:first-child::after {align-self: flex-end;width: 50%;}#sk-60e3c01f-4e8a-4b14-84c9-db9efe793534 div.sk-parallel-item:last-child::after {align-self: flex-start;width: 50%;}#sk-60e3c01f-4e8a-4b14-84c9-db9efe793534 div.sk-parallel-item:only-child::after {width: 0;}#sk-60e3c01f-4e8a-4b14-84c9-db9efe793534 div.sk-dashed-wrapped {border: 1px dashed gray;margin: 0 0.4em 0.5em 0.4em;box-sizing: border-box;padding-bottom: 0.4em;background-color: white;position: relative;}#sk-60e3c01f-4e8a-4b14-84c9-db9efe793534 div.sk-label label {font-family: monospace;font-weight: bold;background-color: white;display: inline-block;line-height: 1.2em;}#sk-60e3c01f-4e8a-4b14-84c9-db9efe793534 div.sk-label-container {position: relative;z-index: 2;text-align: center;}#sk-60e3c01f-4e8a-4b14-84c9-db9efe793534 div.sk-container {/* jupyter's `normalize.less` sets `[hidden] { display: none; }` but bootstrap.min.css set `[hidden] { display: none !important; }` so we also need the `!important` here to be able to override the default hidden behavior on the sphinx rendered scikit-learn.org. See: https://github.com/scikit-learn/scikit-learn/issues/21755 */display: inline-block !important;position: relative;}#sk-60e3c01f-4e8a-4b14-84c9-db9efe793534 div.sk-text-repr-fallback {display: none;}</style><div id=\"sk-60e3c01f-4e8a-4b14-84c9-db9efe793534\" class=\"sk-top-container\"><div class=\"sk-text-repr-fallback\"><pre>XGBClassifier()</pre><b>Please rerun this cell to show the HTML repr or trust the notebook.</b></div><div class=\"sk-container\" hidden><div class=\"sk-item\"><div class=\"sk-estimator sk-toggleable\"><input class=\"sk-toggleable__control sk-hidden--visually\" id=\"9bbab9b7-4a5d-4885-bc9d-769d0669959a\" type=\"checkbox\" checked><label for=\"9bbab9b7-4a5d-4885-bc9d-769d0669959a\" class=\"sk-toggleable__label sk-toggleable__label-arrow\">XGBClassifier</label><div class=\"sk-toggleable__content\"><pre>XGBClassifier()</pre></div></div></div></div></div>"
            ]
          },
          "metadata": {},
          "execution_count": 396
        }
      ]
    },
    {
      "cell_type": "code",
      "source": [
        "y_pred2 = xgb_us.predict(X_test)"
      ],
      "metadata": {
        "id": "sxXJMXUxH75K"
      },
      "execution_count": null,
      "outputs": []
    },
    {
      "cell_type": "markdown",
      "source": [
        "### Results:"
      ],
      "metadata": {
        "id": "6eJFS24yJwEg"
      }
    },
    {
      "cell_type": "code",
      "source": [
        "confusion_matrix (y_test, y_pred2)"
      ],
      "metadata": {
        "colab": {
          "base_uri": "https://localhost:8080/"
        },
        "id": "7laOEDuWIBdk",
        "outputId": "62395486-671c-422f-e1eb-a16a62b9d9a2"
      },
      "execution_count": null,
      "outputs": [
        {
          "output_type": "execute_result",
          "data": {
            "text/plain": [
              "array([[1132,  188],\n",
              "       [   5,   39]])"
            ]
          },
          "metadata": {},
          "execution_count": 398
        }
      ]
    },
    {
      "cell_type": "code",
      "source": [
        "print (classification_report (y_test, y_pred2))"
      ],
      "metadata": {
        "colab": {
          "base_uri": "https://localhost:8080/"
        },
        "id": "m7dOi4arIEEX",
        "outputId": "c4d74b34-f82e-49e2-c733-b51b6b38758a"
      },
      "execution_count": null,
      "outputs": [
        {
          "output_type": "stream",
          "name": "stdout",
          "text": [
            "              precision    recall  f1-score   support\n",
            "\n",
            "           0       1.00      0.86      0.92      1320\n",
            "           1       0.17      0.89      0.29        44\n",
            "\n",
            "    accuracy                           0.86      1364\n",
            "   macro avg       0.58      0.87      0.60      1364\n",
            "weighted avg       0.97      0.86      0.90      1364\n",
            "\n"
          ]
        }
      ]
    },
    {
      "cell_type": "markdown",
      "source": [
        "## Over Sampling"
      ],
      "metadata": {
        "id": "MK0euDakITGV"
      }
    },
    {
      "cell_type": "code",
      "source": [
        "!pip install smote-variants"
      ],
      "metadata": {
        "colab": {
          "base_uri": "https://localhost:8080/"
        },
        "id": "jhFBCwkrIPYQ",
        "outputId": "a7b317a2-8471-4397-a215-041584ef0d39"
      },
      "execution_count": null,
      "outputs": [
        {
          "output_type": "stream",
          "name": "stdout",
          "text": [
            "Looking in indexes: https://pypi.org/simple, https://us-python.pkg.dev/colab-wheels/public/simple/\n",
            "Collecting smote-variants\n",
            "  Downloading smote_variants-0.7.1-py3-none-any.whl (407 kB)\n",
            "\u001b[K     |████████████████████████████████| 407 kB 5.9 MB/s \n",
            "\u001b[?25hRequirement already satisfied: keras in /usr/local/lib/python3.8/dist-packages (from smote-variants) (2.9.0)\n",
            "Collecting metric-learn\n",
            "  Downloading metric_learn-0.6.2-py2.py3-none-any.whl (64 kB)\n",
            "\u001b[K     |████████████████████████████████| 64 kB 4.1 MB/s \n",
            "\u001b[?25hRequirement already satisfied: pandas in /usr/local/lib/python3.8/dist-packages (from smote-variants) (1.3.5)\n",
            "Requirement already satisfied: mkl in /usr/local/lib/python3.8/dist-packages (from smote-variants) (2019.0)\n",
            "Requirement already satisfied: scipy in /usr/local/lib/python3.8/dist-packages (from smote-variants) (1.7.3)\n",
            "Collecting statistics\n",
            "  Downloading statistics-1.0.3.5.tar.gz (8.3 kB)\n",
            "Requirement already satisfied: tensorflow in /usr/local/lib/python3.8/dist-packages (from smote-variants) (2.9.2)\n",
            "Requirement already satisfied: joblib in /usr/local/lib/python3.8/dist-packages (from smote-variants) (1.2.0)\n",
            "Requirement already satisfied: seaborn in /usr/local/lib/python3.8/dist-packages (from smote-variants) (0.11.2)\n",
            "Requirement already satisfied: numpy>=1.13.0 in /usr/local/lib/python3.8/dist-packages (from smote-variants) (1.21.6)\n",
            "Requirement already satisfied: scikit-learn in /usr/local/lib/python3.8/dist-packages (from smote-variants) (1.0.2)\n",
            "Collecting minisom\n",
            "  Downloading MiniSom-2.3.0.tar.gz (8.8 kB)\n",
            "Requirement already satisfied: threadpoolctl>=2.0.0 in /usr/local/lib/python3.8/dist-packages (from scikit-learn->smote-variants) (3.1.0)\n",
            "Requirement already satisfied: intel-openmp in /usr/local/lib/python3.8/dist-packages (from mkl->smote-variants) (2022.2.1)\n",
            "Requirement already satisfied: python-dateutil>=2.7.3 in /usr/local/lib/python3.8/dist-packages (from pandas->smote-variants) (2.8.2)\n",
            "Requirement already satisfied: pytz>=2017.3 in /usr/local/lib/python3.8/dist-packages (from pandas->smote-variants) (2022.6)\n",
            "Requirement already satisfied: six>=1.5 in /usr/local/lib/python3.8/dist-packages (from python-dateutil>=2.7.3->pandas->smote-variants) (1.15.0)\n",
            "Requirement already satisfied: matplotlib>=2.2 in /usr/local/lib/python3.8/dist-packages (from seaborn->smote-variants) (3.2.2)\n",
            "Requirement already satisfied: cycler>=0.10 in /usr/local/lib/python3.8/dist-packages (from matplotlib>=2.2->seaborn->smote-variants) (0.11.0)\n",
            "Requirement already satisfied: pyparsing!=2.0.4,!=2.1.2,!=2.1.6,>=2.0.1 in /usr/local/lib/python3.8/dist-packages (from matplotlib>=2.2->seaborn->smote-variants) (3.0.9)\n",
            "Requirement already satisfied: kiwisolver>=1.0.1 in /usr/local/lib/python3.8/dist-packages (from matplotlib>=2.2->seaborn->smote-variants) (1.4.4)\n",
            "Requirement already satisfied: docutils>=0.3 in /usr/local/lib/python3.8/dist-packages (from statistics->smote-variants) (0.17.1)\n",
            "Requirement already satisfied: h5py>=2.9.0 in /usr/local/lib/python3.8/dist-packages (from tensorflow->smote-variants) (3.1.0)\n",
            "Requirement already satisfied: packaging in /usr/local/lib/python3.8/dist-packages (from tensorflow->smote-variants) (21.3)\n",
            "Requirement already satisfied: termcolor>=1.1.0 in /usr/local/lib/python3.8/dist-packages (from tensorflow->smote-variants) (2.1.1)\n",
            "Requirement already satisfied: tensorflow-io-gcs-filesystem>=0.23.1 in /usr/local/lib/python3.8/dist-packages (from tensorflow->smote-variants) (0.28.0)\n",
            "Requirement already satisfied: absl-py>=1.0.0 in /usr/local/lib/python3.8/dist-packages (from tensorflow->smote-variants) (1.3.0)\n",
            "Requirement already satisfied: gast<=0.4.0,>=0.2.1 in /usr/local/lib/python3.8/dist-packages (from tensorflow->smote-variants) (0.4.0)\n",
            "Requirement already satisfied: typing-extensions>=3.6.6 in /usr/local/lib/python3.8/dist-packages (from tensorflow->smote-variants) (4.1.1)\n",
            "Requirement already satisfied: wrapt>=1.11.0 in /usr/local/lib/python3.8/dist-packages (from tensorflow->smote-variants) (1.14.1)\n",
            "Requirement already satisfied: tensorflow-estimator<2.10.0,>=2.9.0rc0 in /usr/local/lib/python3.8/dist-packages (from tensorflow->smote-variants) (2.9.0)\n",
            "Requirement already satisfied: keras-preprocessing>=1.1.1 in /usr/local/lib/python3.8/dist-packages (from tensorflow->smote-variants) (1.1.2)\n",
            "Requirement already satisfied: flatbuffers<2,>=1.12 in /usr/local/lib/python3.8/dist-packages (from tensorflow->smote-variants) (1.12)\n",
            "Requirement already satisfied: opt-einsum>=2.3.2 in /usr/local/lib/python3.8/dist-packages (from tensorflow->smote-variants) (3.3.0)\n",
            "Requirement already satisfied: libclang>=13.0.0 in /usr/local/lib/python3.8/dist-packages (from tensorflow->smote-variants) (14.0.6)\n",
            "Requirement already satisfied: astunparse>=1.6.0 in /usr/local/lib/python3.8/dist-packages (from tensorflow->smote-variants) (1.6.3)\n",
            "Requirement already satisfied: protobuf<3.20,>=3.9.2 in /usr/local/lib/python3.8/dist-packages (from tensorflow->smote-variants) (3.19.6)\n",
            "Requirement already satisfied: setuptools in /usr/local/lib/python3.8/dist-packages (from tensorflow->smote-variants) (57.4.0)\n",
            "Requirement already satisfied: grpcio<2.0,>=1.24.3 in /usr/local/lib/python3.8/dist-packages (from tensorflow->smote-variants) (1.50.0)\n",
            "Requirement already satisfied: google-pasta>=0.1.1 in /usr/local/lib/python3.8/dist-packages (from tensorflow->smote-variants) (0.2.0)\n",
            "Requirement already satisfied: tensorboard<2.10,>=2.9 in /usr/local/lib/python3.8/dist-packages (from tensorflow->smote-variants) (2.9.1)\n",
            "Requirement already satisfied: wheel<1.0,>=0.23.0 in /usr/local/lib/python3.8/dist-packages (from astunparse>=1.6.0->tensorflow->smote-variants) (0.38.4)\n",
            "Requirement already satisfied: google-auth<3,>=1.6.3 in /usr/local/lib/python3.8/dist-packages (from tensorboard<2.10,>=2.9->tensorflow->smote-variants) (2.14.1)\n",
            "Requirement already satisfied: werkzeug>=1.0.1 in /usr/local/lib/python3.8/dist-packages (from tensorboard<2.10,>=2.9->tensorflow->smote-variants) (1.0.1)\n",
            "Requirement already satisfied: markdown>=2.6.8 in /usr/local/lib/python3.8/dist-packages (from tensorboard<2.10,>=2.9->tensorflow->smote-variants) (3.4.1)\n",
            "Requirement already satisfied: tensorboard-plugin-wit>=1.6.0 in /usr/local/lib/python3.8/dist-packages (from tensorboard<2.10,>=2.9->tensorflow->smote-variants) (1.8.1)\n",
            "Requirement already satisfied: requests<3,>=2.21.0 in /usr/local/lib/python3.8/dist-packages (from tensorboard<2.10,>=2.9->tensorflow->smote-variants) (2.23.0)\n",
            "Requirement already satisfied: google-auth-oauthlib<0.5,>=0.4.1 in /usr/local/lib/python3.8/dist-packages (from tensorboard<2.10,>=2.9->tensorflow->smote-variants) (0.4.6)\n",
            "Requirement already satisfied: tensorboard-data-server<0.7.0,>=0.6.0 in /usr/local/lib/python3.8/dist-packages (from tensorboard<2.10,>=2.9->tensorflow->smote-variants) (0.6.1)\n",
            "Requirement already satisfied: cachetools<6.0,>=2.0.0 in /usr/local/lib/python3.8/dist-packages (from google-auth<3,>=1.6.3->tensorboard<2.10,>=2.9->tensorflow->smote-variants) (5.2.0)\n",
            "Requirement already satisfied: rsa<5,>=3.1.4 in /usr/local/lib/python3.8/dist-packages (from google-auth<3,>=1.6.3->tensorboard<2.10,>=2.9->tensorflow->smote-variants) (4.9)\n",
            "Requirement already satisfied: pyasn1-modules>=0.2.1 in /usr/local/lib/python3.8/dist-packages (from google-auth<3,>=1.6.3->tensorboard<2.10,>=2.9->tensorflow->smote-variants) (0.2.8)\n",
            "Requirement already satisfied: requests-oauthlib>=0.7.0 in /usr/local/lib/python3.8/dist-packages (from google-auth-oauthlib<0.5,>=0.4.1->tensorboard<2.10,>=2.9->tensorflow->smote-variants) (1.3.1)\n",
            "Requirement already satisfied: importlib-metadata>=4.4 in /usr/local/lib/python3.8/dist-packages (from markdown>=2.6.8->tensorboard<2.10,>=2.9->tensorflow->smote-variants) (4.13.0)\n",
            "Requirement already satisfied: zipp>=0.5 in /usr/local/lib/python3.8/dist-packages (from importlib-metadata>=4.4->markdown>=2.6.8->tensorboard<2.10,>=2.9->tensorflow->smote-variants) (3.10.0)\n",
            "Requirement already satisfied: pyasn1<0.5.0,>=0.4.6 in /usr/local/lib/python3.8/dist-packages (from pyasn1-modules>=0.2.1->google-auth<3,>=1.6.3->tensorboard<2.10,>=2.9->tensorflow->smote-variants) (0.4.8)\n",
            "Requirement already satisfied: chardet<4,>=3.0.2 in /usr/local/lib/python3.8/dist-packages (from requests<3,>=2.21.0->tensorboard<2.10,>=2.9->tensorflow->smote-variants) (3.0.4)\n",
            "Requirement already satisfied: urllib3!=1.25.0,!=1.25.1,<1.26,>=1.21.1 in /usr/local/lib/python3.8/dist-packages (from requests<3,>=2.21.0->tensorboard<2.10,>=2.9->tensorflow->smote-variants) (1.24.3)\n",
            "Requirement already satisfied: certifi>=2017.4.17 in /usr/local/lib/python3.8/dist-packages (from requests<3,>=2.21.0->tensorboard<2.10,>=2.9->tensorflow->smote-variants) (2022.9.24)\n",
            "Requirement already satisfied: idna<3,>=2.5 in /usr/local/lib/python3.8/dist-packages (from requests<3,>=2.21.0->tensorboard<2.10,>=2.9->tensorflow->smote-variants) (2.10)\n",
            "Requirement already satisfied: oauthlib>=3.0.0 in /usr/local/lib/python3.8/dist-packages (from requests-oauthlib>=0.7.0->google-auth-oauthlib<0.5,>=0.4.1->tensorboard<2.10,>=2.9->tensorflow->smote-variants) (3.2.2)\n",
            "Building wheels for collected packages: minisom, statistics\n",
            "  Building wheel for minisom (setup.py) ... \u001b[?25l\u001b[?25hdone\n",
            "  Created wheel for minisom: filename=MiniSom-2.3.0-py3-none-any.whl size=9016 sha256=3b1f57a6776a061f3693ad112e8c23b14792d07fae1401be5989a3c271fc7c95\n",
            "  Stored in directory: /root/.cache/pip/wheels/6d/4e/9e/a95c14a232a196c22d9c04b221ff5d25461a1a4c55339c61db\n",
            "  Building wheel for statistics (setup.py) ... \u001b[?25l\u001b[?25hdone\n",
            "  Created wheel for statistics: filename=statistics-1.0.3.5-py3-none-any.whl size=7453 sha256=83e3e1aafe16fff600afeb595849b0123925d932af22d6956e210bb6a33b5c6f\n",
            "  Stored in directory: /root/.cache/pip/wheels/36/4b/c7/6af97584669b756c0d60c5ff05d5fb1f533a4e4d96e5ee92b9\n",
            "Successfully built minisom statistics\n",
            "Installing collected packages: statistics, minisom, metric-learn, smote-variants\n",
            "Successfully installed metric-learn-0.6.2 minisom-2.3.0 smote-variants-0.7.1 statistics-1.0.3.5\n"
          ]
        }
      ]
    },
    {
      "cell_type": "code",
      "source": [
        "print(\"Before OverSampling count of yes: {}\".format(sum(y_train==1)))\n",
        "print(\"Before OverSampling count of no: {} \\n\".format(sum(y_train==0)))"
      ],
      "metadata": {
        "colab": {
          "base_uri": "https://localhost:8080/"
        },
        "id": "xIMf3rIEIWde",
        "outputId": "b632235f-2025-492d-a607-1f1c08391eba"
      },
      "execution_count": null,
      "outputs": [
        {
          "output_type": "stream",
          "name": "stdout",
          "text": [
            "Before OverSampling count of yes: 176\n",
            "Before OverSampling count of no: 5279 \n",
            "\n"
          ]
        }
      ]
    },
    {
      "cell_type": "code",
      "source": [
        "import smote_variants as sv\n",
        "\n",
        "# Instantiating the SMOTE class\n",
        "oversampler= sv.SMOTE()\n",
        "\n",
        "# Creating new training set\n",
        "\n",
        "X_train_us, y_train_us = oversampler.sample(np.array(X_train), np.array(y_train))\n",
        "\n",
        "# Shape after oversampling\n",
        "\n",
        "print('After OverSampling, the shape of train_X: {}'.format(X_train_us.shape))\n",
        "print('After OverSampling, the shape of train_y: {} \\n'.format(y_train_us.shape))\n",
        "\n",
        "print(\"After OverSampling, counts of label 'Yes': {}\".format(sum(y_train_us==1)))\n",
        "print(\"After OverSampling, counts of label 'no': {}\".format(sum(y_train_us==0)))"
      ],
      "metadata": {
        "colab": {
          "base_uri": "https://localhost:8080/"
        },
        "id": "DECTNXiCIcwd",
        "outputId": "103dabdc-0e05-40ce-ab45-cf72fa13d2e4"
      },
      "execution_count": null,
      "outputs": [
        {
          "output_type": "stream",
          "name": "stderr",
          "text": [
            "2022-12-02 21:49:16,262:INFO:SMOTE: Running sampling via ('SMOTE', \"{'proportion': 1.0, 'n_neighbors': 5, 'nn_params': {}, 'n_jobs': 1, 'ss_params': {'n_dim': 2, 'simplex_sampling': 'random', 'within_simplex_sampling': 'random', 'gaussian_component': {}}, 'random_state': None, 'class_name': 'SMOTE'}\")\n",
            "INFO:smote_variants:SMOTE: Running sampling via ('SMOTE', \"{'proportion': 1.0, 'n_neighbors': 5, 'nn_params': {}, 'n_jobs': 1, 'ss_params': {'n_dim': 2, 'simplex_sampling': 'random', 'within_simplex_sampling': 'random', 'gaussian_component': {}}, 'random_state': None, 'class_name': 'SMOTE'}\")\n",
            "2022-12-02 21:49:16,269:INFO:NearestNeighborsWithMetricTensor: NN fitting with metric minkowski\n",
            "INFO:smote_variants:NearestNeighborsWithMetricTensor: NN fitting with metric minkowski\n",
            "2022-12-02 21:49:16,275:INFO:NearestNeighborsWithMetricTensor: kneighbors query minkowski\n",
            "INFO:smote_variants:NearestNeighborsWithMetricTensor: kneighbors query minkowski\n",
            "2022-12-02 21:49:16,288:INFO:SMOTE: simplex sampling with n_dim 2\n",
            "INFO:smote_variants:SMOTE: simplex sampling with n_dim 2\n"
          ]
        },
        {
          "output_type": "stream",
          "name": "stdout",
          "text": [
            "After OverSampling, the shape of train_X: (10558, 94)\n",
            "After OverSampling, the shape of train_y: (10558,) \n",
            "\n",
            "After OverSampling, counts of label 'Yes': 5279\n",
            "After OverSampling, counts of label 'no': 5279\n"
          ]
        }
      ]
    },
    {
      "cell_type": "code",
      "source": [
        "# Defining New Model\n",
        "xgb_os = XGBClassifier()\n",
        "xgb_os.fit(X_train_us, y_train_us)"
      ],
      "metadata": {
        "colab": {
          "base_uri": "https://localhost:8080/",
          "height": 75
        },
        "id": "5HwDHUIjJJEN",
        "outputId": "fa357322-733a-4107-c94c-54501f7a345a"
      },
      "execution_count": null,
      "outputs": [
        {
          "output_type": "execute_result",
          "data": {
            "text/plain": [
              "XGBClassifier()"
            ],
            "text/html": [
              "<style>#sk-8aaacbe0-e6fb-4b93-b1cc-5bcedd2f4c9f {color: black;background-color: white;}#sk-8aaacbe0-e6fb-4b93-b1cc-5bcedd2f4c9f pre{padding: 0;}#sk-8aaacbe0-e6fb-4b93-b1cc-5bcedd2f4c9f div.sk-toggleable {background-color: white;}#sk-8aaacbe0-e6fb-4b93-b1cc-5bcedd2f4c9f label.sk-toggleable__label {cursor: pointer;display: block;width: 100%;margin-bottom: 0;padding: 0.3em;box-sizing: border-box;text-align: center;}#sk-8aaacbe0-e6fb-4b93-b1cc-5bcedd2f4c9f label.sk-toggleable__label-arrow:before {content: \"▸\";float: left;margin-right: 0.25em;color: #696969;}#sk-8aaacbe0-e6fb-4b93-b1cc-5bcedd2f4c9f label.sk-toggleable__label-arrow:hover:before {color: black;}#sk-8aaacbe0-e6fb-4b93-b1cc-5bcedd2f4c9f div.sk-estimator:hover label.sk-toggleable__label-arrow:before {color: black;}#sk-8aaacbe0-e6fb-4b93-b1cc-5bcedd2f4c9f div.sk-toggleable__content {max-height: 0;max-width: 0;overflow: hidden;text-align: left;background-color: #f0f8ff;}#sk-8aaacbe0-e6fb-4b93-b1cc-5bcedd2f4c9f div.sk-toggleable__content pre {margin: 0.2em;color: black;border-radius: 0.25em;background-color: #f0f8ff;}#sk-8aaacbe0-e6fb-4b93-b1cc-5bcedd2f4c9f input.sk-toggleable__control:checked~div.sk-toggleable__content {max-height: 200px;max-width: 100%;overflow: auto;}#sk-8aaacbe0-e6fb-4b93-b1cc-5bcedd2f4c9f input.sk-toggleable__control:checked~label.sk-toggleable__label-arrow:before {content: \"▾\";}#sk-8aaacbe0-e6fb-4b93-b1cc-5bcedd2f4c9f div.sk-estimator input.sk-toggleable__control:checked~label.sk-toggleable__label {background-color: #d4ebff;}#sk-8aaacbe0-e6fb-4b93-b1cc-5bcedd2f4c9f div.sk-label input.sk-toggleable__control:checked~label.sk-toggleable__label {background-color: #d4ebff;}#sk-8aaacbe0-e6fb-4b93-b1cc-5bcedd2f4c9f input.sk-hidden--visually {border: 0;clip: rect(1px 1px 1px 1px);clip: rect(1px, 1px, 1px, 1px);height: 1px;margin: -1px;overflow: hidden;padding: 0;position: absolute;width: 1px;}#sk-8aaacbe0-e6fb-4b93-b1cc-5bcedd2f4c9f div.sk-estimator {font-family: monospace;background-color: #f0f8ff;border: 1px dotted black;border-radius: 0.25em;box-sizing: border-box;margin-bottom: 0.5em;}#sk-8aaacbe0-e6fb-4b93-b1cc-5bcedd2f4c9f div.sk-estimator:hover {background-color: #d4ebff;}#sk-8aaacbe0-e6fb-4b93-b1cc-5bcedd2f4c9f div.sk-parallel-item::after {content: \"\";width: 100%;border-bottom: 1px solid gray;flex-grow: 1;}#sk-8aaacbe0-e6fb-4b93-b1cc-5bcedd2f4c9f div.sk-label:hover label.sk-toggleable__label {background-color: #d4ebff;}#sk-8aaacbe0-e6fb-4b93-b1cc-5bcedd2f4c9f div.sk-serial::before {content: \"\";position: absolute;border-left: 1px solid gray;box-sizing: border-box;top: 2em;bottom: 0;left: 50%;}#sk-8aaacbe0-e6fb-4b93-b1cc-5bcedd2f4c9f div.sk-serial {display: flex;flex-direction: column;align-items: center;background-color: white;padding-right: 0.2em;padding-left: 0.2em;}#sk-8aaacbe0-e6fb-4b93-b1cc-5bcedd2f4c9f div.sk-item {z-index: 1;}#sk-8aaacbe0-e6fb-4b93-b1cc-5bcedd2f4c9f div.sk-parallel {display: flex;align-items: stretch;justify-content: center;background-color: white;}#sk-8aaacbe0-e6fb-4b93-b1cc-5bcedd2f4c9f div.sk-parallel::before {content: \"\";position: absolute;border-left: 1px solid gray;box-sizing: border-box;top: 2em;bottom: 0;left: 50%;}#sk-8aaacbe0-e6fb-4b93-b1cc-5bcedd2f4c9f div.sk-parallel-item {display: flex;flex-direction: column;position: relative;background-color: white;}#sk-8aaacbe0-e6fb-4b93-b1cc-5bcedd2f4c9f div.sk-parallel-item:first-child::after {align-self: flex-end;width: 50%;}#sk-8aaacbe0-e6fb-4b93-b1cc-5bcedd2f4c9f div.sk-parallel-item:last-child::after {align-self: flex-start;width: 50%;}#sk-8aaacbe0-e6fb-4b93-b1cc-5bcedd2f4c9f div.sk-parallel-item:only-child::after {width: 0;}#sk-8aaacbe0-e6fb-4b93-b1cc-5bcedd2f4c9f div.sk-dashed-wrapped {border: 1px dashed gray;margin: 0 0.4em 0.5em 0.4em;box-sizing: border-box;padding-bottom: 0.4em;background-color: white;position: relative;}#sk-8aaacbe0-e6fb-4b93-b1cc-5bcedd2f4c9f div.sk-label label {font-family: monospace;font-weight: bold;background-color: white;display: inline-block;line-height: 1.2em;}#sk-8aaacbe0-e6fb-4b93-b1cc-5bcedd2f4c9f div.sk-label-container {position: relative;z-index: 2;text-align: center;}#sk-8aaacbe0-e6fb-4b93-b1cc-5bcedd2f4c9f div.sk-container {/* jupyter's `normalize.less` sets `[hidden] { display: none; }` but bootstrap.min.css set `[hidden] { display: none !important; }` so we also need the `!important` here to be able to override the default hidden behavior on the sphinx rendered scikit-learn.org. See: https://github.com/scikit-learn/scikit-learn/issues/21755 */display: inline-block !important;position: relative;}#sk-8aaacbe0-e6fb-4b93-b1cc-5bcedd2f4c9f div.sk-text-repr-fallback {display: none;}</style><div id=\"sk-8aaacbe0-e6fb-4b93-b1cc-5bcedd2f4c9f\" class=\"sk-top-container\"><div class=\"sk-text-repr-fallback\"><pre>XGBClassifier()</pre><b>Please rerun this cell to show the HTML repr or trust the notebook.</b></div><div class=\"sk-container\" hidden><div class=\"sk-item\"><div class=\"sk-estimator sk-toggleable\"><input class=\"sk-toggleable__control sk-hidden--visually\" id=\"ffa7581a-3f2d-4913-87da-75c1c98791a2\" type=\"checkbox\" checked><label for=\"ffa7581a-3f2d-4913-87da-75c1c98791a2\" class=\"sk-toggleable__label sk-toggleable__label-arrow\">XGBClassifier</label><div class=\"sk-toggleable__content\"><pre>XGBClassifier()</pre></div></div></div></div></div>"
            ]
          },
          "metadata": {},
          "execution_count": 403
        }
      ]
    },
    {
      "cell_type": "code",
      "source": [
        "y_pred3 = xgb_os.predict(np.array(X_test))"
      ],
      "metadata": {
        "id": "GohxbwcjJbPL"
      },
      "execution_count": null,
      "outputs": []
    },
    {
      "cell_type": "markdown",
      "source": [
        "### Results:"
      ],
      "metadata": {
        "id": "cmzVUy3HJtMu"
      }
    },
    {
      "cell_type": "code",
      "source": [
        "confusion_matrix(y_test, y_pred3)"
      ],
      "metadata": {
        "colab": {
          "base_uri": "https://localhost:8080/"
        },
        "id": "xO3-qlfwJgof",
        "outputId": "cd77a57e-d5e7-43f2-9530-e16e2dc8dafe"
      },
      "execution_count": null,
      "outputs": [
        {
          "output_type": "execute_result",
          "data": {
            "text/plain": [
              "array([[1273,   47],\n",
              "       [  19,   25]])"
            ]
          },
          "metadata": {},
          "execution_count": 405
        }
      ]
    },
    {
      "cell_type": "code",
      "source": [
        "print (classification_report (y_test, y_pred3))"
      ],
      "metadata": {
        "colab": {
          "base_uri": "https://localhost:8080/"
        },
        "id": "Uay7hfhjJkdQ",
        "outputId": "6003b84b-5db9-4e41-b4ca-92f9a39c4cd2"
      },
      "execution_count": null,
      "outputs": [
        {
          "output_type": "stream",
          "name": "stdout",
          "text": [
            "              precision    recall  f1-score   support\n",
            "\n",
            "           0       0.99      0.96      0.97      1320\n",
            "           1       0.35      0.57      0.43        44\n",
            "\n",
            "    accuracy                           0.95      1364\n",
            "   macro avg       0.67      0.77      0.70      1364\n",
            "weighted avg       0.96      0.95      0.96      1364\n",
            "\n"
          ]
        }
      ]
    },
    {
      "cell_type": "markdown",
      "source": [
        "## MSMOTE"
      ],
      "metadata": {
        "id": "w7-wqZ1qJ2hl"
      }
    },
    {
      "cell_type": "code",
      "source": [
        "# Instantiating the SMOTE class\n",
        "oversampler= sv.MSMOTE()\n",
        "# Creating new training sts\n",
        "X_train_ms, y_train_ms = oversampler.sample(np.array(X_train), np.array(y_train))"
      ],
      "metadata": {
        "colab": {
          "base_uri": "https://localhost:8080/"
        },
        "id": "Yh0f8YExJsAe",
        "outputId": "8c8b1d3a-5e40-41f9-e8d1-f2dbf937bb95"
      },
      "execution_count": null,
      "outputs": [
        {
          "output_type": "stream",
          "name": "stderr",
          "text": [
            "2022-12-02 21:50:32,293:INFO:MSMOTE: Running sampling via ('MSMOTE', \"{'proportion': 1.0, 'n_neighbors': 5, 'nn_params': {}, 'n_jobs': 1, 'random_state': None, 'class_name': 'MSMOTE'}\")\n",
            "INFO:smote_variants:MSMOTE: Running sampling via ('MSMOTE', \"{'proportion': 1.0, 'n_neighbors': 5, 'nn_params': {}, 'n_jobs': 1, 'random_state': None, 'class_name': 'MSMOTE'}\")\n",
            "2022-12-02 21:50:32,302:INFO:NearestNeighborsWithMetricTensor: NN fitting with metric minkowski\n",
            "INFO:smote_variants:NearestNeighborsWithMetricTensor: NN fitting with metric minkowski\n",
            "2022-12-02 21:50:32,307:INFO:NearestNeighborsWithMetricTensor: kneighbors query minkowski\n",
            "INFO:smote_variants:NearestNeighborsWithMetricTensor: kneighbors query minkowski\n"
          ]
        }
      ]
    },
    {
      "cell_type": "code",
      "source": [
        "# Shape after MSMOTE\n",
        "print('After MSMOTE, the shape of train_X: {}'.format(X_train_ms.shape))\n",
        "print('After MSMOTE, the shape of train_y: {} \\n'.format(y_train_ms.shape))"
      ],
      "metadata": {
        "colab": {
          "base_uri": "https://localhost:8080/"
        },
        "id": "Y5RwYkeXKHVU",
        "outputId": "8cd80fde-99c1-49f7-f137-4c56ab2cec00"
      },
      "execution_count": null,
      "outputs": [
        {
          "output_type": "stream",
          "name": "stdout",
          "text": [
            "After MSMOTE, the shape of train_X: (10558, 94)\n",
            "After MSMOTE, the shape of train_y: (10558,) \n",
            "\n"
          ]
        }
      ]
    },
    {
      "cell_type": "code",
      "source": [
        "xgb_ms =  XGBClassifier()\n",
        "xgb_ms.fit(X_train_ms, y_train_ms)"
      ],
      "metadata": {
        "colab": {
          "base_uri": "https://localhost:8080/",
          "height": 75
        },
        "id": "Nglc6yVuKOFE",
        "outputId": "149905c3-ecbc-4728-85a8-13e51412c6bf"
      },
      "execution_count": null,
      "outputs": [
        {
          "output_type": "execute_result",
          "data": {
            "text/plain": [
              "XGBClassifier()"
            ],
            "text/html": [
              "<style>#sk-3b5b1304-b66e-4667-a6df-f90a79b28281 {color: black;background-color: white;}#sk-3b5b1304-b66e-4667-a6df-f90a79b28281 pre{padding: 0;}#sk-3b5b1304-b66e-4667-a6df-f90a79b28281 div.sk-toggleable {background-color: white;}#sk-3b5b1304-b66e-4667-a6df-f90a79b28281 label.sk-toggleable__label {cursor: pointer;display: block;width: 100%;margin-bottom: 0;padding: 0.3em;box-sizing: border-box;text-align: center;}#sk-3b5b1304-b66e-4667-a6df-f90a79b28281 label.sk-toggleable__label-arrow:before {content: \"▸\";float: left;margin-right: 0.25em;color: #696969;}#sk-3b5b1304-b66e-4667-a6df-f90a79b28281 label.sk-toggleable__label-arrow:hover:before {color: black;}#sk-3b5b1304-b66e-4667-a6df-f90a79b28281 div.sk-estimator:hover label.sk-toggleable__label-arrow:before {color: black;}#sk-3b5b1304-b66e-4667-a6df-f90a79b28281 div.sk-toggleable__content {max-height: 0;max-width: 0;overflow: hidden;text-align: left;background-color: #f0f8ff;}#sk-3b5b1304-b66e-4667-a6df-f90a79b28281 div.sk-toggleable__content pre {margin: 0.2em;color: black;border-radius: 0.25em;background-color: #f0f8ff;}#sk-3b5b1304-b66e-4667-a6df-f90a79b28281 input.sk-toggleable__control:checked~div.sk-toggleable__content {max-height: 200px;max-width: 100%;overflow: auto;}#sk-3b5b1304-b66e-4667-a6df-f90a79b28281 input.sk-toggleable__control:checked~label.sk-toggleable__label-arrow:before {content: \"▾\";}#sk-3b5b1304-b66e-4667-a6df-f90a79b28281 div.sk-estimator input.sk-toggleable__control:checked~label.sk-toggleable__label {background-color: #d4ebff;}#sk-3b5b1304-b66e-4667-a6df-f90a79b28281 div.sk-label input.sk-toggleable__control:checked~label.sk-toggleable__label {background-color: #d4ebff;}#sk-3b5b1304-b66e-4667-a6df-f90a79b28281 input.sk-hidden--visually {border: 0;clip: rect(1px 1px 1px 1px);clip: rect(1px, 1px, 1px, 1px);height: 1px;margin: -1px;overflow: hidden;padding: 0;position: absolute;width: 1px;}#sk-3b5b1304-b66e-4667-a6df-f90a79b28281 div.sk-estimator {font-family: monospace;background-color: #f0f8ff;border: 1px dotted black;border-radius: 0.25em;box-sizing: border-box;margin-bottom: 0.5em;}#sk-3b5b1304-b66e-4667-a6df-f90a79b28281 div.sk-estimator:hover {background-color: #d4ebff;}#sk-3b5b1304-b66e-4667-a6df-f90a79b28281 div.sk-parallel-item::after {content: \"\";width: 100%;border-bottom: 1px solid gray;flex-grow: 1;}#sk-3b5b1304-b66e-4667-a6df-f90a79b28281 div.sk-label:hover label.sk-toggleable__label {background-color: #d4ebff;}#sk-3b5b1304-b66e-4667-a6df-f90a79b28281 div.sk-serial::before {content: \"\";position: absolute;border-left: 1px solid gray;box-sizing: border-box;top: 2em;bottom: 0;left: 50%;}#sk-3b5b1304-b66e-4667-a6df-f90a79b28281 div.sk-serial {display: flex;flex-direction: column;align-items: center;background-color: white;padding-right: 0.2em;padding-left: 0.2em;}#sk-3b5b1304-b66e-4667-a6df-f90a79b28281 div.sk-item {z-index: 1;}#sk-3b5b1304-b66e-4667-a6df-f90a79b28281 div.sk-parallel {display: flex;align-items: stretch;justify-content: center;background-color: white;}#sk-3b5b1304-b66e-4667-a6df-f90a79b28281 div.sk-parallel::before {content: \"\";position: absolute;border-left: 1px solid gray;box-sizing: border-box;top: 2em;bottom: 0;left: 50%;}#sk-3b5b1304-b66e-4667-a6df-f90a79b28281 div.sk-parallel-item {display: flex;flex-direction: column;position: relative;background-color: white;}#sk-3b5b1304-b66e-4667-a6df-f90a79b28281 div.sk-parallel-item:first-child::after {align-self: flex-end;width: 50%;}#sk-3b5b1304-b66e-4667-a6df-f90a79b28281 div.sk-parallel-item:last-child::after {align-self: flex-start;width: 50%;}#sk-3b5b1304-b66e-4667-a6df-f90a79b28281 div.sk-parallel-item:only-child::after {width: 0;}#sk-3b5b1304-b66e-4667-a6df-f90a79b28281 div.sk-dashed-wrapped {border: 1px dashed gray;margin: 0 0.4em 0.5em 0.4em;box-sizing: border-box;padding-bottom: 0.4em;background-color: white;position: relative;}#sk-3b5b1304-b66e-4667-a6df-f90a79b28281 div.sk-label label {font-family: monospace;font-weight: bold;background-color: white;display: inline-block;line-height: 1.2em;}#sk-3b5b1304-b66e-4667-a6df-f90a79b28281 div.sk-label-container {position: relative;z-index: 2;text-align: center;}#sk-3b5b1304-b66e-4667-a6df-f90a79b28281 div.sk-container {/* jupyter's `normalize.less` sets `[hidden] { display: none; }` but bootstrap.min.css set `[hidden] { display: none !important; }` so we also need the `!important` here to be able to override the default hidden behavior on the sphinx rendered scikit-learn.org. See: https://github.com/scikit-learn/scikit-learn/issues/21755 */display: inline-block !important;position: relative;}#sk-3b5b1304-b66e-4667-a6df-f90a79b28281 div.sk-text-repr-fallback {display: none;}</style><div id=\"sk-3b5b1304-b66e-4667-a6df-f90a79b28281\" class=\"sk-top-container\"><div class=\"sk-text-repr-fallback\"><pre>XGBClassifier()</pre><b>Please rerun this cell to show the HTML repr or trust the notebook.</b></div><div class=\"sk-container\" hidden><div class=\"sk-item\"><div class=\"sk-estimator sk-toggleable\"><input class=\"sk-toggleable__control sk-hidden--visually\" id=\"8a8e0f45-568e-4751-afb1-5caee2116fba\" type=\"checkbox\" checked><label for=\"8a8e0f45-568e-4751-afb1-5caee2116fba\" class=\"sk-toggleable__label sk-toggleable__label-arrow\">XGBClassifier</label><div class=\"sk-toggleable__content\"><pre>XGBClassifier()</pre></div></div></div></div></div>"
            ]
          },
          "metadata": {},
          "execution_count": 409
        }
      ]
    },
    {
      "cell_type": "code",
      "source": [
        "y_pred4 = xgb_ms.predict(np.array(X_test))"
      ],
      "metadata": {
        "id": "f70ybXWoKlUl"
      },
      "execution_count": null,
      "outputs": []
    },
    {
      "cell_type": "markdown",
      "source": [
        "### Results:"
      ],
      "metadata": {
        "id": "ouJkwpumMAwt"
      }
    },
    {
      "cell_type": "code",
      "source": [
        "confusion_matrix(y_test, y_pred4)"
      ],
      "metadata": {
        "colab": {
          "base_uri": "https://localhost:8080/"
        },
        "id": "75QxKenwKrQT",
        "outputId": "2b301cc2-b932-4517-d004-2582837a6d98"
      },
      "execution_count": null,
      "outputs": [
        {
          "output_type": "execute_result",
          "data": {
            "text/plain": [
              "array([[1297,   23],\n",
              "       [  27,   17]])"
            ]
          },
          "metadata": {},
          "execution_count": 411
        }
      ]
    },
    {
      "cell_type": "code",
      "source": [
        "print (classification_report (y_test, y_pred4))"
      ],
      "metadata": {
        "colab": {
          "base_uri": "https://localhost:8080/"
        },
        "id": "G2wWOuOnKtuu",
        "outputId": "338f69a2-350f-4f9c-cfb8-aae7bab1091e"
      },
      "execution_count": null,
      "outputs": [
        {
          "output_type": "stream",
          "name": "stdout",
          "text": [
            "              precision    recall  f1-score   support\n",
            "\n",
            "           0       0.98      0.98      0.98      1320\n",
            "           1       0.42      0.39      0.40        44\n",
            "\n",
            "    accuracy                           0.96      1364\n",
            "   macro avg       0.70      0.68      0.69      1364\n",
            "weighted avg       0.96      0.96      0.96      1364\n",
            "\n"
          ]
        }
      ]
    },
    {
      "cell_type": "markdown",
      "source": [
        "## Thoughts:\n",
        "We are going to tune this model even further.  Our goal is to get the highest recall for our yes class as possible, without sacrificing too much precision.  It looks like using the undersampled training set is the way to do this."
      ],
      "metadata": {
        "id": "npXq-pdVKCkm"
      }
    },
    {
      "cell_type": "markdown",
      "source": [
        "## Tuning (Baseline)\n",
        "With the undersampled training data, we set the parameters to commonly used values to be a baseline.  We will tune as many as possible."
      ],
      "metadata": {
        "id": "7Hj8OUJvNV9Q"
      }
    },
    {
      "cell_type": "code",
      "source": [
        "xgb1 = XGBClassifier(\n",
        " learning_rate =0.1,\n",
        " n_estimators=500,\n",
        " max_depth=4,\n",
        " min_child_weight=1,\n",
        " gamma=0,\n",
        " subsample=0.8,\n",
        " colsample_bytree=0.8,\n",
        " objective= 'binary:logistic',\n",
        " nthread=4,\n",
        " scale_pos_weight=1,\n",
        " seed=27)\n"
      ],
      "metadata": {
        "id": "xk5p2dgFMLEV"
      },
      "execution_count": null,
      "outputs": []
    },
    {
      "cell_type": "code",
      "source": [
        "xgb1.fit(X_trainNew, y_trainNew)"
      ],
      "metadata": {
        "colab": {
          "base_uri": "https://localhost:8080/",
          "height": 92
        },
        "id": "JaEl35_QNUni",
        "outputId": "327cdc8b-a7a6-40f1-daaf-96aed19a630f"
      },
      "execution_count": null,
      "outputs": [
        {
          "output_type": "execute_result",
          "data": {
            "text/plain": [
              "XGBClassifier(colsample_bytree=0.8, max_depth=4, n_estimators=500, nthread=4,\n",
              "              seed=27, subsample=0.8)"
            ],
            "text/html": [
              "<style>#sk-e70941cf-00cd-4e48-a80e-1e2da5cf802e {color: black;background-color: white;}#sk-e70941cf-00cd-4e48-a80e-1e2da5cf802e pre{padding: 0;}#sk-e70941cf-00cd-4e48-a80e-1e2da5cf802e div.sk-toggleable {background-color: white;}#sk-e70941cf-00cd-4e48-a80e-1e2da5cf802e label.sk-toggleable__label {cursor: pointer;display: block;width: 100%;margin-bottom: 0;padding: 0.3em;box-sizing: border-box;text-align: center;}#sk-e70941cf-00cd-4e48-a80e-1e2da5cf802e label.sk-toggleable__label-arrow:before {content: \"▸\";float: left;margin-right: 0.25em;color: #696969;}#sk-e70941cf-00cd-4e48-a80e-1e2da5cf802e label.sk-toggleable__label-arrow:hover:before {color: black;}#sk-e70941cf-00cd-4e48-a80e-1e2da5cf802e div.sk-estimator:hover label.sk-toggleable__label-arrow:before {color: black;}#sk-e70941cf-00cd-4e48-a80e-1e2da5cf802e div.sk-toggleable__content {max-height: 0;max-width: 0;overflow: hidden;text-align: left;background-color: #f0f8ff;}#sk-e70941cf-00cd-4e48-a80e-1e2da5cf802e div.sk-toggleable__content pre {margin: 0.2em;color: black;border-radius: 0.25em;background-color: #f0f8ff;}#sk-e70941cf-00cd-4e48-a80e-1e2da5cf802e input.sk-toggleable__control:checked~div.sk-toggleable__content {max-height: 200px;max-width: 100%;overflow: auto;}#sk-e70941cf-00cd-4e48-a80e-1e2da5cf802e input.sk-toggleable__control:checked~label.sk-toggleable__label-arrow:before {content: \"▾\";}#sk-e70941cf-00cd-4e48-a80e-1e2da5cf802e div.sk-estimator input.sk-toggleable__control:checked~label.sk-toggleable__label {background-color: #d4ebff;}#sk-e70941cf-00cd-4e48-a80e-1e2da5cf802e div.sk-label input.sk-toggleable__control:checked~label.sk-toggleable__label {background-color: #d4ebff;}#sk-e70941cf-00cd-4e48-a80e-1e2da5cf802e input.sk-hidden--visually {border: 0;clip: rect(1px 1px 1px 1px);clip: rect(1px, 1px, 1px, 1px);height: 1px;margin: -1px;overflow: hidden;padding: 0;position: absolute;width: 1px;}#sk-e70941cf-00cd-4e48-a80e-1e2da5cf802e div.sk-estimator {font-family: monospace;background-color: #f0f8ff;border: 1px dotted black;border-radius: 0.25em;box-sizing: border-box;margin-bottom: 0.5em;}#sk-e70941cf-00cd-4e48-a80e-1e2da5cf802e div.sk-estimator:hover {background-color: #d4ebff;}#sk-e70941cf-00cd-4e48-a80e-1e2da5cf802e div.sk-parallel-item::after {content: \"\";width: 100%;border-bottom: 1px solid gray;flex-grow: 1;}#sk-e70941cf-00cd-4e48-a80e-1e2da5cf802e div.sk-label:hover label.sk-toggleable__label {background-color: #d4ebff;}#sk-e70941cf-00cd-4e48-a80e-1e2da5cf802e div.sk-serial::before {content: \"\";position: absolute;border-left: 1px solid gray;box-sizing: border-box;top: 2em;bottom: 0;left: 50%;}#sk-e70941cf-00cd-4e48-a80e-1e2da5cf802e div.sk-serial {display: flex;flex-direction: column;align-items: center;background-color: white;padding-right: 0.2em;padding-left: 0.2em;}#sk-e70941cf-00cd-4e48-a80e-1e2da5cf802e div.sk-item {z-index: 1;}#sk-e70941cf-00cd-4e48-a80e-1e2da5cf802e div.sk-parallel {display: flex;align-items: stretch;justify-content: center;background-color: white;}#sk-e70941cf-00cd-4e48-a80e-1e2da5cf802e div.sk-parallel::before {content: \"\";position: absolute;border-left: 1px solid gray;box-sizing: border-box;top: 2em;bottom: 0;left: 50%;}#sk-e70941cf-00cd-4e48-a80e-1e2da5cf802e div.sk-parallel-item {display: flex;flex-direction: column;position: relative;background-color: white;}#sk-e70941cf-00cd-4e48-a80e-1e2da5cf802e div.sk-parallel-item:first-child::after {align-self: flex-end;width: 50%;}#sk-e70941cf-00cd-4e48-a80e-1e2da5cf802e div.sk-parallel-item:last-child::after {align-self: flex-start;width: 50%;}#sk-e70941cf-00cd-4e48-a80e-1e2da5cf802e div.sk-parallel-item:only-child::after {width: 0;}#sk-e70941cf-00cd-4e48-a80e-1e2da5cf802e div.sk-dashed-wrapped {border: 1px dashed gray;margin: 0 0.4em 0.5em 0.4em;box-sizing: border-box;padding-bottom: 0.4em;background-color: white;position: relative;}#sk-e70941cf-00cd-4e48-a80e-1e2da5cf802e div.sk-label label {font-family: monospace;font-weight: bold;background-color: white;display: inline-block;line-height: 1.2em;}#sk-e70941cf-00cd-4e48-a80e-1e2da5cf802e div.sk-label-container {position: relative;z-index: 2;text-align: center;}#sk-e70941cf-00cd-4e48-a80e-1e2da5cf802e div.sk-container {/* jupyter's `normalize.less` sets `[hidden] { display: none; }` but bootstrap.min.css set `[hidden] { display: none !important; }` so we also need the `!important` here to be able to override the default hidden behavior on the sphinx rendered scikit-learn.org. See: https://github.com/scikit-learn/scikit-learn/issues/21755 */display: inline-block !important;position: relative;}#sk-e70941cf-00cd-4e48-a80e-1e2da5cf802e div.sk-text-repr-fallback {display: none;}</style><div id=\"sk-e70941cf-00cd-4e48-a80e-1e2da5cf802e\" class=\"sk-top-container\"><div class=\"sk-text-repr-fallback\"><pre>XGBClassifier(colsample_bytree=0.8, max_depth=4, n_estimators=500, nthread=4,\n",
              "              seed=27, subsample=0.8)</pre><b>Please rerun this cell to show the HTML repr or trust the notebook.</b></div><div class=\"sk-container\" hidden><div class=\"sk-item\"><div class=\"sk-estimator sk-toggleable\"><input class=\"sk-toggleable__control sk-hidden--visually\" id=\"ec8cdc52-9e0e-47df-b584-133bf25a4de1\" type=\"checkbox\" checked><label for=\"ec8cdc52-9e0e-47df-b584-133bf25a4de1\" class=\"sk-toggleable__label sk-toggleable__label-arrow\">XGBClassifier</label><div class=\"sk-toggleable__content\"><pre>XGBClassifier(colsample_bytree=0.8, max_depth=4, n_estimators=500, nthread=4,\n",
              "              seed=27, subsample=0.8)</pre></div></div></div></div></div>"
            ]
          },
          "metadata": {},
          "execution_count": 414
        }
      ]
    },
    {
      "cell_type": "code",
      "source": [
        "y_pred_x1 = xgb1.predict(X_test)"
      ],
      "metadata": {
        "id": "2jEXTSbWNgza"
      },
      "execution_count": null,
      "outputs": []
    },
    {
      "cell_type": "markdown",
      "source": [
        "### Results:"
      ],
      "metadata": {
        "id": "MnAMhzWsPly0"
      }
    },
    {
      "cell_type": "code",
      "source": [
        "confusion_matrix(y_test, y_pred_x1)"
      ],
      "metadata": {
        "colab": {
          "base_uri": "https://localhost:8080/"
        },
        "id": "uzL6eu03Ntlx",
        "outputId": "2f75daa7-939b-4718-bdcd-7b1e3d7373bf"
      },
      "execution_count": null,
      "outputs": [
        {
          "output_type": "execute_result",
          "data": {
            "text/plain": [
              "array([[1124,  196],\n",
              "       [   6,   38]])"
            ]
          },
          "metadata": {},
          "execution_count": 416
        }
      ]
    },
    {
      "cell_type": "code",
      "source": [
        "print (classification_report (y_test, y_pred_x1))"
      ],
      "metadata": {
        "colab": {
          "base_uri": "https://localhost:8080/"
        },
        "id": "nXqt-CLMwO37",
        "outputId": "76facdce-5e2d-42bb-c86a-bbd652ddd61c"
      },
      "execution_count": null,
      "outputs": [
        {
          "output_type": "stream",
          "name": "stdout",
          "text": [
            "              precision    recall  f1-score   support\n",
            "\n",
            "           0       0.99      0.85      0.92      1320\n",
            "           1       0.16      0.86      0.27        44\n",
            "\n",
            "    accuracy                           0.85      1364\n",
            "   macro avg       0.58      0.86      0.60      1364\n",
            "weighted avg       0.97      0.85      0.90      1364\n",
            "\n"
          ]
        }
      ]
    },
    {
      "cell_type": "markdown",
      "source": [
        "## Tuning (maxdepth and minchildweight)"
      ],
      "metadata": {
        "id": "NfIgjRw6T-w8"
      }
    },
    {
      "cell_type": "code",
      "source": [
        "from sklearn.metrics import f1_score\n",
        "f1_scorer = make_scorer(f1_score, pos_label=1)"
      ],
      "metadata": {
        "id": "38xboBUX4ty_"
      },
      "execution_count": null,
      "outputs": []
    },
    {
      "cell_type": "code",
      "source": [
        "from sklearn.model_selection import GridSearchCV"
      ],
      "metadata": {
        "id": "kflM17MlQujL"
      },
      "execution_count": null,
      "outputs": []
    },
    {
      "cell_type": "code",
      "source": [
        "param_test2 = {\n",
        " 'max_depth':[1,2,3,4,5],\n",
        " 'min_child_weight':[1,2,3,4,5]\n",
        "}\n",
        "gsearch2 = GridSearchCV(estimator = XGBClassifier( learning_rate=0.1, n_estimators=500, max_depth=5,\n",
        " min_child_weight=2, gamma=0, subsample=0.8, colsample_bytree=0.8,\n",
        " objective= 'binary:logistic', nthread=4, scale_pos_weight=1,seed=27), \n",
        " param_grid = param_test2, scoring=recall_scorer,n_jobs=4,cv=5)"
      ],
      "metadata": {
        "id": "7edFXgEaPiPJ"
      },
      "execution_count": null,
      "outputs": []
    },
    {
      "cell_type": "code",
      "source": [
        "gsearch2.fit(X_trainNew,y_trainNew)"
      ],
      "metadata": {
        "colab": {
          "base_uri": "https://localhost:8080/",
          "height": 93
        },
        "id": "hs7H0mivQerV",
        "outputId": "0552a1b9-05b6-45c1-9a07-c59815604e98"
      },
      "execution_count": null,
      "outputs": [
        {
          "output_type": "execute_result",
          "data": {
            "text/plain": [
              "GridSearchCV(cv=5,\n",
              "             estimator=XGBClassifier(colsample_bytree=0.8, max_depth=5,\n",
              "                                     min_child_weight=2, n_estimators=500,\n",
              "                                     nthread=4, seed=27, subsample=0.8),\n",
              "             n_jobs=4,\n",
              "             param_grid={'max_depth': [1, 2, 3, 4, 5],\n",
              "                         'min_child_weight': [1, 2, 3, 4, 5]},\n",
              "             scoring=make_scorer(recall_score, pos_label=1))"
            ],
            "text/html": [
              "<style>#sk-6d2d5db1-9a44-4786-9334-50b4c1b407d7 {color: black;background-color: white;}#sk-6d2d5db1-9a44-4786-9334-50b4c1b407d7 pre{padding: 0;}#sk-6d2d5db1-9a44-4786-9334-50b4c1b407d7 div.sk-toggleable {background-color: white;}#sk-6d2d5db1-9a44-4786-9334-50b4c1b407d7 label.sk-toggleable__label {cursor: pointer;display: block;width: 100%;margin-bottom: 0;padding: 0.3em;box-sizing: border-box;text-align: center;}#sk-6d2d5db1-9a44-4786-9334-50b4c1b407d7 label.sk-toggleable__label-arrow:before {content: \"▸\";float: left;margin-right: 0.25em;color: #696969;}#sk-6d2d5db1-9a44-4786-9334-50b4c1b407d7 label.sk-toggleable__label-arrow:hover:before {color: black;}#sk-6d2d5db1-9a44-4786-9334-50b4c1b407d7 div.sk-estimator:hover label.sk-toggleable__label-arrow:before {color: black;}#sk-6d2d5db1-9a44-4786-9334-50b4c1b407d7 div.sk-toggleable__content {max-height: 0;max-width: 0;overflow: hidden;text-align: left;background-color: #f0f8ff;}#sk-6d2d5db1-9a44-4786-9334-50b4c1b407d7 div.sk-toggleable__content pre {margin: 0.2em;color: black;border-radius: 0.25em;background-color: #f0f8ff;}#sk-6d2d5db1-9a44-4786-9334-50b4c1b407d7 input.sk-toggleable__control:checked~div.sk-toggleable__content {max-height: 200px;max-width: 100%;overflow: auto;}#sk-6d2d5db1-9a44-4786-9334-50b4c1b407d7 input.sk-toggleable__control:checked~label.sk-toggleable__label-arrow:before {content: \"▾\";}#sk-6d2d5db1-9a44-4786-9334-50b4c1b407d7 div.sk-estimator input.sk-toggleable__control:checked~label.sk-toggleable__label {background-color: #d4ebff;}#sk-6d2d5db1-9a44-4786-9334-50b4c1b407d7 div.sk-label input.sk-toggleable__control:checked~label.sk-toggleable__label {background-color: #d4ebff;}#sk-6d2d5db1-9a44-4786-9334-50b4c1b407d7 input.sk-hidden--visually {border: 0;clip: rect(1px 1px 1px 1px);clip: rect(1px, 1px, 1px, 1px);height: 1px;margin: -1px;overflow: hidden;padding: 0;position: absolute;width: 1px;}#sk-6d2d5db1-9a44-4786-9334-50b4c1b407d7 div.sk-estimator {font-family: monospace;background-color: #f0f8ff;border: 1px dotted black;border-radius: 0.25em;box-sizing: border-box;margin-bottom: 0.5em;}#sk-6d2d5db1-9a44-4786-9334-50b4c1b407d7 div.sk-estimator:hover {background-color: #d4ebff;}#sk-6d2d5db1-9a44-4786-9334-50b4c1b407d7 div.sk-parallel-item::after {content: \"\";width: 100%;border-bottom: 1px solid gray;flex-grow: 1;}#sk-6d2d5db1-9a44-4786-9334-50b4c1b407d7 div.sk-label:hover label.sk-toggleable__label {background-color: #d4ebff;}#sk-6d2d5db1-9a44-4786-9334-50b4c1b407d7 div.sk-serial::before {content: \"\";position: absolute;border-left: 1px solid gray;box-sizing: border-box;top: 2em;bottom: 0;left: 50%;}#sk-6d2d5db1-9a44-4786-9334-50b4c1b407d7 div.sk-serial {display: flex;flex-direction: column;align-items: center;background-color: white;padding-right: 0.2em;padding-left: 0.2em;}#sk-6d2d5db1-9a44-4786-9334-50b4c1b407d7 div.sk-item {z-index: 1;}#sk-6d2d5db1-9a44-4786-9334-50b4c1b407d7 div.sk-parallel {display: flex;align-items: stretch;justify-content: center;background-color: white;}#sk-6d2d5db1-9a44-4786-9334-50b4c1b407d7 div.sk-parallel::before {content: \"\";position: absolute;border-left: 1px solid gray;box-sizing: border-box;top: 2em;bottom: 0;left: 50%;}#sk-6d2d5db1-9a44-4786-9334-50b4c1b407d7 div.sk-parallel-item {display: flex;flex-direction: column;position: relative;background-color: white;}#sk-6d2d5db1-9a44-4786-9334-50b4c1b407d7 div.sk-parallel-item:first-child::after {align-self: flex-end;width: 50%;}#sk-6d2d5db1-9a44-4786-9334-50b4c1b407d7 div.sk-parallel-item:last-child::after {align-self: flex-start;width: 50%;}#sk-6d2d5db1-9a44-4786-9334-50b4c1b407d7 div.sk-parallel-item:only-child::after {width: 0;}#sk-6d2d5db1-9a44-4786-9334-50b4c1b407d7 div.sk-dashed-wrapped {border: 1px dashed gray;margin: 0 0.4em 0.5em 0.4em;box-sizing: border-box;padding-bottom: 0.4em;background-color: white;position: relative;}#sk-6d2d5db1-9a44-4786-9334-50b4c1b407d7 div.sk-label label {font-family: monospace;font-weight: bold;background-color: white;display: inline-block;line-height: 1.2em;}#sk-6d2d5db1-9a44-4786-9334-50b4c1b407d7 div.sk-label-container {position: relative;z-index: 2;text-align: center;}#sk-6d2d5db1-9a44-4786-9334-50b4c1b407d7 div.sk-container {/* jupyter's `normalize.less` sets `[hidden] { display: none; }` but bootstrap.min.css set `[hidden] { display: none !important; }` so we also need the `!important` here to be able to override the default hidden behavior on the sphinx rendered scikit-learn.org. See: https://github.com/scikit-learn/scikit-learn/issues/21755 */display: inline-block !important;position: relative;}#sk-6d2d5db1-9a44-4786-9334-50b4c1b407d7 div.sk-text-repr-fallback {display: none;}</style><div id=\"sk-6d2d5db1-9a44-4786-9334-50b4c1b407d7\" class=\"sk-top-container\"><div class=\"sk-text-repr-fallback\"><pre>GridSearchCV(cv=5,\n",
              "             estimator=XGBClassifier(colsample_bytree=0.8, max_depth=5,\n",
              "                                     min_child_weight=2, n_estimators=500,\n",
              "                                     nthread=4, seed=27, subsample=0.8),\n",
              "             n_jobs=4,\n",
              "             param_grid={&#x27;max_depth&#x27;: [1, 2, 3, 4, 5],\n",
              "                         &#x27;min_child_weight&#x27;: [1, 2, 3, 4, 5]},\n",
              "             scoring=make_scorer(recall_score, pos_label=1))</pre><b>Please rerun this cell to show the HTML repr or trust the notebook.</b></div><div class=\"sk-container\" hidden><div class=\"sk-item sk-dashed-wrapped\"><div class=\"sk-label-container\"><div class=\"sk-label sk-toggleable\"><input class=\"sk-toggleable__control sk-hidden--visually\" id=\"03b96b90-10ee-41de-be32-606200a06d81\" type=\"checkbox\" ><label for=\"03b96b90-10ee-41de-be32-606200a06d81\" class=\"sk-toggleable__label sk-toggleable__label-arrow\">GridSearchCV</label><div class=\"sk-toggleable__content\"><pre>GridSearchCV(cv=5,\n",
              "             estimator=XGBClassifier(colsample_bytree=0.8, max_depth=5,\n",
              "                                     min_child_weight=2, n_estimators=500,\n",
              "                                     nthread=4, seed=27, subsample=0.8),\n",
              "             n_jobs=4,\n",
              "             param_grid={&#x27;max_depth&#x27;: [1, 2, 3, 4, 5],\n",
              "                         &#x27;min_child_weight&#x27;: [1, 2, 3, 4, 5]},\n",
              "             scoring=make_scorer(recall_score, pos_label=1))</pre></div></div></div><div class=\"sk-parallel\"><div class=\"sk-parallel-item\"><div class=\"sk-item\"><div class=\"sk-serial\"><div class=\"sk-item\"><div class=\"sk-estimator sk-toggleable\"><input class=\"sk-toggleable__control sk-hidden--visually\" id=\"00a23217-e37f-40d8-9cc9-7f5b2526e24a\" type=\"checkbox\" ><label for=\"00a23217-e37f-40d8-9cc9-7f5b2526e24a\" class=\"sk-toggleable__label sk-toggleable__label-arrow\">XGBClassifier</label><div class=\"sk-toggleable__content\"><pre>XGBClassifier(colsample_bytree=0.8, max_depth=5, min_child_weight=2,\n",
              "              n_estimators=500, nthread=4, seed=27, subsample=0.8)</pre></div></div></div></div></div></div></div></div></div></div>"
            ]
          },
          "metadata": {},
          "execution_count": 421
        }
      ]
    },
    {
      "cell_type": "code",
      "source": [
        "gsearch2.best_params_, gsearch2.best_score_"
      ],
      "metadata": {
        "colab": {
          "base_uri": "https://localhost:8080/"
        },
        "id": "cD6QvpVQQ2R2",
        "outputId": "75122e9e-4c40-485c-c7f9-8d1048769a56"
      },
      "execution_count": null,
      "outputs": [
        {
          "output_type": "execute_result",
          "data": {
            "text/plain": [
              "({'max_depth': 4, 'min_child_weight': 1}, 0.8979365079365079)"
            ]
          },
          "metadata": {},
          "execution_count": 422
        }
      ]
    },
    {
      "cell_type": "code",
      "source": [
        "xgb2 = XGBClassifier(\n",
        " learning_rate =0.1,\n",
        " n_estimators=500,\n",
        " max_depth=4,\n",
        " min_child_weight=4,\n",
        " gamma=0,\n",
        " subsample=0.8,\n",
        " colsample_bytree=0.8,\n",
        " objective= 'binary:logistic',\n",
        " nthread=4,\n",
        " scale_pos_weight=1,\n",
        " seed=27)"
      ],
      "metadata": {
        "id": "SyEHck2_Tqsq"
      },
      "execution_count": null,
      "outputs": []
    },
    {
      "cell_type": "code",
      "source": [
        "xgb2.fit(X_trainNew, y_trainNew)"
      ],
      "metadata": {
        "colab": {
          "base_uri": "https://localhost:8080/",
          "height": 92
        },
        "id": "yUmSMspyidKf",
        "outputId": "1b2eeea7-fa3f-416f-f317-21eccff631d3"
      },
      "execution_count": null,
      "outputs": [
        {
          "output_type": "execute_result",
          "data": {
            "text/plain": [
              "XGBClassifier(colsample_bytree=0.8, max_depth=4, min_child_weight=4,\n",
              "              n_estimators=500, nthread=4, seed=27, subsample=0.8)"
            ],
            "text/html": [
              "<style>#sk-8ef4a228-2d96-4a69-8e18-ffdef3f6cf26 {color: black;background-color: white;}#sk-8ef4a228-2d96-4a69-8e18-ffdef3f6cf26 pre{padding: 0;}#sk-8ef4a228-2d96-4a69-8e18-ffdef3f6cf26 div.sk-toggleable {background-color: white;}#sk-8ef4a228-2d96-4a69-8e18-ffdef3f6cf26 label.sk-toggleable__label {cursor: pointer;display: block;width: 100%;margin-bottom: 0;padding: 0.3em;box-sizing: border-box;text-align: center;}#sk-8ef4a228-2d96-4a69-8e18-ffdef3f6cf26 label.sk-toggleable__label-arrow:before {content: \"▸\";float: left;margin-right: 0.25em;color: #696969;}#sk-8ef4a228-2d96-4a69-8e18-ffdef3f6cf26 label.sk-toggleable__label-arrow:hover:before {color: black;}#sk-8ef4a228-2d96-4a69-8e18-ffdef3f6cf26 div.sk-estimator:hover label.sk-toggleable__label-arrow:before {color: black;}#sk-8ef4a228-2d96-4a69-8e18-ffdef3f6cf26 div.sk-toggleable__content {max-height: 0;max-width: 0;overflow: hidden;text-align: left;background-color: #f0f8ff;}#sk-8ef4a228-2d96-4a69-8e18-ffdef3f6cf26 div.sk-toggleable__content pre {margin: 0.2em;color: black;border-radius: 0.25em;background-color: #f0f8ff;}#sk-8ef4a228-2d96-4a69-8e18-ffdef3f6cf26 input.sk-toggleable__control:checked~div.sk-toggleable__content {max-height: 200px;max-width: 100%;overflow: auto;}#sk-8ef4a228-2d96-4a69-8e18-ffdef3f6cf26 input.sk-toggleable__control:checked~label.sk-toggleable__label-arrow:before {content: \"▾\";}#sk-8ef4a228-2d96-4a69-8e18-ffdef3f6cf26 div.sk-estimator input.sk-toggleable__control:checked~label.sk-toggleable__label {background-color: #d4ebff;}#sk-8ef4a228-2d96-4a69-8e18-ffdef3f6cf26 div.sk-label input.sk-toggleable__control:checked~label.sk-toggleable__label {background-color: #d4ebff;}#sk-8ef4a228-2d96-4a69-8e18-ffdef3f6cf26 input.sk-hidden--visually {border: 0;clip: rect(1px 1px 1px 1px);clip: rect(1px, 1px, 1px, 1px);height: 1px;margin: -1px;overflow: hidden;padding: 0;position: absolute;width: 1px;}#sk-8ef4a228-2d96-4a69-8e18-ffdef3f6cf26 div.sk-estimator {font-family: monospace;background-color: #f0f8ff;border: 1px dotted black;border-radius: 0.25em;box-sizing: border-box;margin-bottom: 0.5em;}#sk-8ef4a228-2d96-4a69-8e18-ffdef3f6cf26 div.sk-estimator:hover {background-color: #d4ebff;}#sk-8ef4a228-2d96-4a69-8e18-ffdef3f6cf26 div.sk-parallel-item::after {content: \"\";width: 100%;border-bottom: 1px solid gray;flex-grow: 1;}#sk-8ef4a228-2d96-4a69-8e18-ffdef3f6cf26 div.sk-label:hover label.sk-toggleable__label {background-color: #d4ebff;}#sk-8ef4a228-2d96-4a69-8e18-ffdef3f6cf26 div.sk-serial::before {content: \"\";position: absolute;border-left: 1px solid gray;box-sizing: border-box;top: 2em;bottom: 0;left: 50%;}#sk-8ef4a228-2d96-4a69-8e18-ffdef3f6cf26 div.sk-serial {display: flex;flex-direction: column;align-items: center;background-color: white;padding-right: 0.2em;padding-left: 0.2em;}#sk-8ef4a228-2d96-4a69-8e18-ffdef3f6cf26 div.sk-item {z-index: 1;}#sk-8ef4a228-2d96-4a69-8e18-ffdef3f6cf26 div.sk-parallel {display: flex;align-items: stretch;justify-content: center;background-color: white;}#sk-8ef4a228-2d96-4a69-8e18-ffdef3f6cf26 div.sk-parallel::before {content: \"\";position: absolute;border-left: 1px solid gray;box-sizing: border-box;top: 2em;bottom: 0;left: 50%;}#sk-8ef4a228-2d96-4a69-8e18-ffdef3f6cf26 div.sk-parallel-item {display: flex;flex-direction: column;position: relative;background-color: white;}#sk-8ef4a228-2d96-4a69-8e18-ffdef3f6cf26 div.sk-parallel-item:first-child::after {align-self: flex-end;width: 50%;}#sk-8ef4a228-2d96-4a69-8e18-ffdef3f6cf26 div.sk-parallel-item:last-child::after {align-self: flex-start;width: 50%;}#sk-8ef4a228-2d96-4a69-8e18-ffdef3f6cf26 div.sk-parallel-item:only-child::after {width: 0;}#sk-8ef4a228-2d96-4a69-8e18-ffdef3f6cf26 div.sk-dashed-wrapped {border: 1px dashed gray;margin: 0 0.4em 0.5em 0.4em;box-sizing: border-box;padding-bottom: 0.4em;background-color: white;position: relative;}#sk-8ef4a228-2d96-4a69-8e18-ffdef3f6cf26 div.sk-label label {font-family: monospace;font-weight: bold;background-color: white;display: inline-block;line-height: 1.2em;}#sk-8ef4a228-2d96-4a69-8e18-ffdef3f6cf26 div.sk-label-container {position: relative;z-index: 2;text-align: center;}#sk-8ef4a228-2d96-4a69-8e18-ffdef3f6cf26 div.sk-container {/* jupyter's `normalize.less` sets `[hidden] { display: none; }` but bootstrap.min.css set `[hidden] { display: none !important; }` so we also need the `!important` here to be able to override the default hidden behavior on the sphinx rendered scikit-learn.org. See: https://github.com/scikit-learn/scikit-learn/issues/21755 */display: inline-block !important;position: relative;}#sk-8ef4a228-2d96-4a69-8e18-ffdef3f6cf26 div.sk-text-repr-fallback {display: none;}</style><div id=\"sk-8ef4a228-2d96-4a69-8e18-ffdef3f6cf26\" class=\"sk-top-container\"><div class=\"sk-text-repr-fallback\"><pre>XGBClassifier(colsample_bytree=0.8, max_depth=4, min_child_weight=4,\n",
              "              n_estimators=500, nthread=4, seed=27, subsample=0.8)</pre><b>Please rerun this cell to show the HTML repr or trust the notebook.</b></div><div class=\"sk-container\" hidden><div class=\"sk-item\"><div class=\"sk-estimator sk-toggleable\"><input class=\"sk-toggleable__control sk-hidden--visually\" id=\"71c788b8-7797-4c36-80a5-fd2e3a4233fa\" type=\"checkbox\" checked><label for=\"71c788b8-7797-4c36-80a5-fd2e3a4233fa\" class=\"sk-toggleable__label sk-toggleable__label-arrow\">XGBClassifier</label><div class=\"sk-toggleable__content\"><pre>XGBClassifier(colsample_bytree=0.8, max_depth=4, min_child_weight=4,\n",
              "              n_estimators=500, nthread=4, seed=27, subsample=0.8)</pre></div></div></div></div></div>"
            ]
          },
          "metadata": {},
          "execution_count": 424
        }
      ]
    },
    {
      "cell_type": "code",
      "source": [
        "y_pred_x2 = xgb2.predict(X_test)"
      ],
      "metadata": {
        "id": "WBMEg-1oijmp"
      },
      "execution_count": null,
      "outputs": []
    },
    {
      "cell_type": "markdown",
      "source": [
        "### Results:"
      ],
      "metadata": {
        "id": "MOLG0dXy09ji"
      }
    },
    {
      "cell_type": "code",
      "source": [
        "confusion_matrix(y_test, y_pred_x2)"
      ],
      "metadata": {
        "colab": {
          "base_uri": "https://localhost:8080/"
        },
        "id": "BwxmS0HqilGC",
        "outputId": "72216457-e073-4c97-c855-05d27995897a"
      },
      "execution_count": null,
      "outputs": [
        {
          "output_type": "execute_result",
          "data": {
            "text/plain": [
              "array([[1114,  206],\n",
              "       [   6,   38]])"
            ]
          },
          "metadata": {},
          "execution_count": 426
        }
      ]
    },
    {
      "cell_type": "code",
      "source": [
        "print (classification_report (y_test, y_pred_x2))"
      ],
      "metadata": {
        "colab": {
          "base_uri": "https://localhost:8080/"
        },
        "id": "OUBgMm4B1H6B",
        "outputId": "7b148dbf-6bc6-4907-c8b7-36f9c60a1d48"
      },
      "execution_count": null,
      "outputs": [
        {
          "output_type": "stream",
          "name": "stdout",
          "text": [
            "              precision    recall  f1-score   support\n",
            "\n",
            "           0       0.99      0.84      0.91      1320\n",
            "           1       0.16      0.86      0.26        44\n",
            "\n",
            "    accuracy                           0.84      1364\n",
            "   macro avg       0.58      0.85      0.59      1364\n",
            "weighted avg       0.97      0.84      0.89      1364\n",
            "\n"
          ]
        }
      ]
    },
    {
      "cell_type": "markdown",
      "source": [
        "## Tuning (Gamma)"
      ],
      "metadata": {
        "id": "shZ3CdNvirni"
      }
    },
    {
      "cell_type": "code",
      "source": [
        "param_test3 = {\n",
        " 'gamma':[i/10.0 for i in range(0,5)]\n",
        "}"
      ],
      "metadata": {
        "id": "XdsqmdWCitWb"
      },
      "execution_count": null,
      "outputs": []
    },
    {
      "cell_type": "code",
      "source": [
        "gsearch3 = GridSearchCV(estimator = XGBClassifier( learning_rate =0.1, n_estimators=500, max_depth=4,\n",
        " min_child_weight=4, gamma=0, subsample=0.8, colsample_bytree=0.8,\n",
        " objective= 'binary:logistic', nthread=4, scale_pos_weight=1,seed=27), \n",
        " param_grid = param_test3, scoring=recall_scorer,n_jobs=4,cv=5)"
      ],
      "metadata": {
        "id": "1K70kpLpiwTj"
      },
      "execution_count": null,
      "outputs": []
    },
    {
      "cell_type": "code",
      "source": [
        "gsearch3.fit(X_trainNew, y_trainNew)"
      ],
      "metadata": {
        "colab": {
          "base_uri": "https://localhost:8080/",
          "height": 93
        },
        "id": "ZSzNh4FejA2O",
        "outputId": "c4cdc3c2-d9b5-4e3c-dcc6-83be5fc07e3d"
      },
      "execution_count": null,
      "outputs": [
        {
          "output_type": "execute_result",
          "data": {
            "text/plain": [
              "GridSearchCV(cv=5,\n",
              "             estimator=XGBClassifier(colsample_bytree=0.8, max_depth=4,\n",
              "                                     min_child_weight=4, n_estimators=500,\n",
              "                                     nthread=4, seed=27, subsample=0.8),\n",
              "             n_jobs=4, param_grid={'gamma': [0.0, 0.1, 0.2, 0.3, 0.4]},\n",
              "             scoring=make_scorer(recall_score, pos_label=1))"
            ],
            "text/html": [
              "<style>#sk-f815de10-64cc-4865-ae3f-985d3e718442 {color: black;background-color: white;}#sk-f815de10-64cc-4865-ae3f-985d3e718442 pre{padding: 0;}#sk-f815de10-64cc-4865-ae3f-985d3e718442 div.sk-toggleable {background-color: white;}#sk-f815de10-64cc-4865-ae3f-985d3e718442 label.sk-toggleable__label {cursor: pointer;display: block;width: 100%;margin-bottom: 0;padding: 0.3em;box-sizing: border-box;text-align: center;}#sk-f815de10-64cc-4865-ae3f-985d3e718442 label.sk-toggleable__label-arrow:before {content: \"▸\";float: left;margin-right: 0.25em;color: #696969;}#sk-f815de10-64cc-4865-ae3f-985d3e718442 label.sk-toggleable__label-arrow:hover:before {color: black;}#sk-f815de10-64cc-4865-ae3f-985d3e718442 div.sk-estimator:hover label.sk-toggleable__label-arrow:before {color: black;}#sk-f815de10-64cc-4865-ae3f-985d3e718442 div.sk-toggleable__content {max-height: 0;max-width: 0;overflow: hidden;text-align: left;background-color: #f0f8ff;}#sk-f815de10-64cc-4865-ae3f-985d3e718442 div.sk-toggleable__content pre {margin: 0.2em;color: black;border-radius: 0.25em;background-color: #f0f8ff;}#sk-f815de10-64cc-4865-ae3f-985d3e718442 input.sk-toggleable__control:checked~div.sk-toggleable__content {max-height: 200px;max-width: 100%;overflow: auto;}#sk-f815de10-64cc-4865-ae3f-985d3e718442 input.sk-toggleable__control:checked~label.sk-toggleable__label-arrow:before {content: \"▾\";}#sk-f815de10-64cc-4865-ae3f-985d3e718442 div.sk-estimator input.sk-toggleable__control:checked~label.sk-toggleable__label {background-color: #d4ebff;}#sk-f815de10-64cc-4865-ae3f-985d3e718442 div.sk-label input.sk-toggleable__control:checked~label.sk-toggleable__label {background-color: #d4ebff;}#sk-f815de10-64cc-4865-ae3f-985d3e718442 input.sk-hidden--visually {border: 0;clip: rect(1px 1px 1px 1px);clip: rect(1px, 1px, 1px, 1px);height: 1px;margin: -1px;overflow: hidden;padding: 0;position: absolute;width: 1px;}#sk-f815de10-64cc-4865-ae3f-985d3e718442 div.sk-estimator {font-family: monospace;background-color: #f0f8ff;border: 1px dotted black;border-radius: 0.25em;box-sizing: border-box;margin-bottom: 0.5em;}#sk-f815de10-64cc-4865-ae3f-985d3e718442 div.sk-estimator:hover {background-color: #d4ebff;}#sk-f815de10-64cc-4865-ae3f-985d3e718442 div.sk-parallel-item::after {content: \"\";width: 100%;border-bottom: 1px solid gray;flex-grow: 1;}#sk-f815de10-64cc-4865-ae3f-985d3e718442 div.sk-label:hover label.sk-toggleable__label {background-color: #d4ebff;}#sk-f815de10-64cc-4865-ae3f-985d3e718442 div.sk-serial::before {content: \"\";position: absolute;border-left: 1px solid gray;box-sizing: border-box;top: 2em;bottom: 0;left: 50%;}#sk-f815de10-64cc-4865-ae3f-985d3e718442 div.sk-serial {display: flex;flex-direction: column;align-items: center;background-color: white;padding-right: 0.2em;padding-left: 0.2em;}#sk-f815de10-64cc-4865-ae3f-985d3e718442 div.sk-item {z-index: 1;}#sk-f815de10-64cc-4865-ae3f-985d3e718442 div.sk-parallel {display: flex;align-items: stretch;justify-content: center;background-color: white;}#sk-f815de10-64cc-4865-ae3f-985d3e718442 div.sk-parallel::before {content: \"\";position: absolute;border-left: 1px solid gray;box-sizing: border-box;top: 2em;bottom: 0;left: 50%;}#sk-f815de10-64cc-4865-ae3f-985d3e718442 div.sk-parallel-item {display: flex;flex-direction: column;position: relative;background-color: white;}#sk-f815de10-64cc-4865-ae3f-985d3e718442 div.sk-parallel-item:first-child::after {align-self: flex-end;width: 50%;}#sk-f815de10-64cc-4865-ae3f-985d3e718442 div.sk-parallel-item:last-child::after {align-self: flex-start;width: 50%;}#sk-f815de10-64cc-4865-ae3f-985d3e718442 div.sk-parallel-item:only-child::after {width: 0;}#sk-f815de10-64cc-4865-ae3f-985d3e718442 div.sk-dashed-wrapped {border: 1px dashed gray;margin: 0 0.4em 0.5em 0.4em;box-sizing: border-box;padding-bottom: 0.4em;background-color: white;position: relative;}#sk-f815de10-64cc-4865-ae3f-985d3e718442 div.sk-label label {font-family: monospace;font-weight: bold;background-color: white;display: inline-block;line-height: 1.2em;}#sk-f815de10-64cc-4865-ae3f-985d3e718442 div.sk-label-container {position: relative;z-index: 2;text-align: center;}#sk-f815de10-64cc-4865-ae3f-985d3e718442 div.sk-container {/* jupyter's `normalize.less` sets `[hidden] { display: none; }` but bootstrap.min.css set `[hidden] { display: none !important; }` so we also need the `!important` here to be able to override the default hidden behavior on the sphinx rendered scikit-learn.org. See: https://github.com/scikit-learn/scikit-learn/issues/21755 */display: inline-block !important;position: relative;}#sk-f815de10-64cc-4865-ae3f-985d3e718442 div.sk-text-repr-fallback {display: none;}</style><div id=\"sk-f815de10-64cc-4865-ae3f-985d3e718442\" class=\"sk-top-container\"><div class=\"sk-text-repr-fallback\"><pre>GridSearchCV(cv=5,\n",
              "             estimator=XGBClassifier(colsample_bytree=0.8, max_depth=4,\n",
              "                                     min_child_weight=4, n_estimators=500,\n",
              "                                     nthread=4, seed=27, subsample=0.8),\n",
              "             n_jobs=4, param_grid={&#x27;gamma&#x27;: [0.0, 0.1, 0.2, 0.3, 0.4]},\n",
              "             scoring=make_scorer(recall_score, pos_label=1))</pre><b>Please rerun this cell to show the HTML repr or trust the notebook.</b></div><div class=\"sk-container\" hidden><div class=\"sk-item sk-dashed-wrapped\"><div class=\"sk-label-container\"><div class=\"sk-label sk-toggleable\"><input class=\"sk-toggleable__control sk-hidden--visually\" id=\"5854d48a-fbb5-42d9-b493-946fd14a7b38\" type=\"checkbox\" ><label for=\"5854d48a-fbb5-42d9-b493-946fd14a7b38\" class=\"sk-toggleable__label sk-toggleable__label-arrow\">GridSearchCV</label><div class=\"sk-toggleable__content\"><pre>GridSearchCV(cv=5,\n",
              "             estimator=XGBClassifier(colsample_bytree=0.8, max_depth=4,\n",
              "                                     min_child_weight=4, n_estimators=500,\n",
              "                                     nthread=4, seed=27, subsample=0.8),\n",
              "             n_jobs=4, param_grid={&#x27;gamma&#x27;: [0.0, 0.1, 0.2, 0.3, 0.4]},\n",
              "             scoring=make_scorer(recall_score, pos_label=1))</pre></div></div></div><div class=\"sk-parallel\"><div class=\"sk-parallel-item\"><div class=\"sk-item\"><div class=\"sk-serial\"><div class=\"sk-item\"><div class=\"sk-estimator sk-toggleable\"><input class=\"sk-toggleable__control sk-hidden--visually\" id=\"671fed5d-37ad-4980-99f2-0f9d0d78b17c\" type=\"checkbox\" ><label for=\"671fed5d-37ad-4980-99f2-0f9d0d78b17c\" class=\"sk-toggleable__label sk-toggleable__label-arrow\">XGBClassifier</label><div class=\"sk-toggleable__content\"><pre>XGBClassifier(colsample_bytree=0.8, max_depth=4, min_child_weight=4,\n",
              "              n_estimators=500, nthread=4, seed=27, subsample=0.8)</pre></div></div></div></div></div></div></div></div></div></div>"
            ]
          },
          "metadata": {},
          "execution_count": 430
        }
      ]
    },
    {
      "cell_type": "code",
      "source": [
        "gsearch3.best_params_, gsearch3.best_score_ "
      ],
      "metadata": {
        "colab": {
          "base_uri": "https://localhost:8080/"
        },
        "id": "KpBYk-HnjHL1",
        "outputId": "c6a37135-c485-4e7c-b581-bafbb75ef49b"
      },
      "execution_count": null,
      "outputs": [
        {
          "output_type": "execute_result",
          "data": {
            "text/plain": [
              "({'gamma': 0.2}, 0.8750793650793651)"
            ]
          },
          "metadata": {},
          "execution_count": 431
        }
      ]
    },
    {
      "cell_type": "code",
      "source": [
        "xgb3 = XGBClassifier(\n",
        " learning_rate =0.1,\n",
        " n_estimators=500,\n",
        " max_depth=4,\n",
        " min_child_weight=4,\n",
        " gamma=0.0,\n",
        " subsample=0.8,\n",
        " colsample_bytree=0.8,\n",
        " objective= 'binary:logistic',\n",
        " nthread=4,\n",
        " scale_pos_weight=1,\n",
        " seed=27)"
      ],
      "metadata": {
        "id": "k-DuplU_0CKk"
      },
      "execution_count": null,
      "outputs": []
    },
    {
      "cell_type": "code",
      "source": [
        "xgb3.fit(X_trainNew, y_trainNew)"
      ],
      "metadata": {
        "colab": {
          "base_uri": "https://localhost:8080/",
          "height": 92
        },
        "id": "BgVzSvwY0HhS",
        "outputId": "76c5e3bc-1208-4e0c-b419-ea9082073cd4"
      },
      "execution_count": null,
      "outputs": [
        {
          "output_type": "execute_result",
          "data": {
            "text/plain": [
              "XGBClassifier(colsample_bytree=0.8, gamma=0.0, max_depth=4, min_child_weight=4,\n",
              "              n_estimators=500, nthread=4, seed=27, subsample=0.8)"
            ],
            "text/html": [
              "<style>#sk-e8419b43-d57a-417f-9f2c-b76845d95778 {color: black;background-color: white;}#sk-e8419b43-d57a-417f-9f2c-b76845d95778 pre{padding: 0;}#sk-e8419b43-d57a-417f-9f2c-b76845d95778 div.sk-toggleable {background-color: white;}#sk-e8419b43-d57a-417f-9f2c-b76845d95778 label.sk-toggleable__label {cursor: pointer;display: block;width: 100%;margin-bottom: 0;padding: 0.3em;box-sizing: border-box;text-align: center;}#sk-e8419b43-d57a-417f-9f2c-b76845d95778 label.sk-toggleable__label-arrow:before {content: \"▸\";float: left;margin-right: 0.25em;color: #696969;}#sk-e8419b43-d57a-417f-9f2c-b76845d95778 label.sk-toggleable__label-arrow:hover:before {color: black;}#sk-e8419b43-d57a-417f-9f2c-b76845d95778 div.sk-estimator:hover label.sk-toggleable__label-arrow:before {color: black;}#sk-e8419b43-d57a-417f-9f2c-b76845d95778 div.sk-toggleable__content {max-height: 0;max-width: 0;overflow: hidden;text-align: left;background-color: #f0f8ff;}#sk-e8419b43-d57a-417f-9f2c-b76845d95778 div.sk-toggleable__content pre {margin: 0.2em;color: black;border-radius: 0.25em;background-color: #f0f8ff;}#sk-e8419b43-d57a-417f-9f2c-b76845d95778 input.sk-toggleable__control:checked~div.sk-toggleable__content {max-height: 200px;max-width: 100%;overflow: auto;}#sk-e8419b43-d57a-417f-9f2c-b76845d95778 input.sk-toggleable__control:checked~label.sk-toggleable__label-arrow:before {content: \"▾\";}#sk-e8419b43-d57a-417f-9f2c-b76845d95778 div.sk-estimator input.sk-toggleable__control:checked~label.sk-toggleable__label {background-color: #d4ebff;}#sk-e8419b43-d57a-417f-9f2c-b76845d95778 div.sk-label input.sk-toggleable__control:checked~label.sk-toggleable__label {background-color: #d4ebff;}#sk-e8419b43-d57a-417f-9f2c-b76845d95778 input.sk-hidden--visually {border: 0;clip: rect(1px 1px 1px 1px);clip: rect(1px, 1px, 1px, 1px);height: 1px;margin: -1px;overflow: hidden;padding: 0;position: absolute;width: 1px;}#sk-e8419b43-d57a-417f-9f2c-b76845d95778 div.sk-estimator {font-family: monospace;background-color: #f0f8ff;border: 1px dotted black;border-radius: 0.25em;box-sizing: border-box;margin-bottom: 0.5em;}#sk-e8419b43-d57a-417f-9f2c-b76845d95778 div.sk-estimator:hover {background-color: #d4ebff;}#sk-e8419b43-d57a-417f-9f2c-b76845d95778 div.sk-parallel-item::after {content: \"\";width: 100%;border-bottom: 1px solid gray;flex-grow: 1;}#sk-e8419b43-d57a-417f-9f2c-b76845d95778 div.sk-label:hover label.sk-toggleable__label {background-color: #d4ebff;}#sk-e8419b43-d57a-417f-9f2c-b76845d95778 div.sk-serial::before {content: \"\";position: absolute;border-left: 1px solid gray;box-sizing: border-box;top: 2em;bottom: 0;left: 50%;}#sk-e8419b43-d57a-417f-9f2c-b76845d95778 div.sk-serial {display: flex;flex-direction: column;align-items: center;background-color: white;padding-right: 0.2em;padding-left: 0.2em;}#sk-e8419b43-d57a-417f-9f2c-b76845d95778 div.sk-item {z-index: 1;}#sk-e8419b43-d57a-417f-9f2c-b76845d95778 div.sk-parallel {display: flex;align-items: stretch;justify-content: center;background-color: white;}#sk-e8419b43-d57a-417f-9f2c-b76845d95778 div.sk-parallel::before {content: \"\";position: absolute;border-left: 1px solid gray;box-sizing: border-box;top: 2em;bottom: 0;left: 50%;}#sk-e8419b43-d57a-417f-9f2c-b76845d95778 div.sk-parallel-item {display: flex;flex-direction: column;position: relative;background-color: white;}#sk-e8419b43-d57a-417f-9f2c-b76845d95778 div.sk-parallel-item:first-child::after {align-self: flex-end;width: 50%;}#sk-e8419b43-d57a-417f-9f2c-b76845d95778 div.sk-parallel-item:last-child::after {align-self: flex-start;width: 50%;}#sk-e8419b43-d57a-417f-9f2c-b76845d95778 div.sk-parallel-item:only-child::after {width: 0;}#sk-e8419b43-d57a-417f-9f2c-b76845d95778 div.sk-dashed-wrapped {border: 1px dashed gray;margin: 0 0.4em 0.5em 0.4em;box-sizing: border-box;padding-bottom: 0.4em;background-color: white;position: relative;}#sk-e8419b43-d57a-417f-9f2c-b76845d95778 div.sk-label label {font-family: monospace;font-weight: bold;background-color: white;display: inline-block;line-height: 1.2em;}#sk-e8419b43-d57a-417f-9f2c-b76845d95778 div.sk-label-container {position: relative;z-index: 2;text-align: center;}#sk-e8419b43-d57a-417f-9f2c-b76845d95778 div.sk-container {/* jupyter's `normalize.less` sets `[hidden] { display: none; }` but bootstrap.min.css set `[hidden] { display: none !important; }` so we also need the `!important` here to be able to override the default hidden behavior on the sphinx rendered scikit-learn.org. See: https://github.com/scikit-learn/scikit-learn/issues/21755 */display: inline-block !important;position: relative;}#sk-e8419b43-d57a-417f-9f2c-b76845d95778 div.sk-text-repr-fallback {display: none;}</style><div id=\"sk-e8419b43-d57a-417f-9f2c-b76845d95778\" class=\"sk-top-container\"><div class=\"sk-text-repr-fallback\"><pre>XGBClassifier(colsample_bytree=0.8, gamma=0.0, max_depth=4, min_child_weight=4,\n",
              "              n_estimators=500, nthread=4, seed=27, subsample=0.8)</pre><b>Please rerun this cell to show the HTML repr or trust the notebook.</b></div><div class=\"sk-container\" hidden><div class=\"sk-item\"><div class=\"sk-estimator sk-toggleable\"><input class=\"sk-toggleable__control sk-hidden--visually\" id=\"1ee621c3-1d3d-4284-b631-55d816cd4b97\" type=\"checkbox\" checked><label for=\"1ee621c3-1d3d-4284-b631-55d816cd4b97\" class=\"sk-toggleable__label sk-toggleable__label-arrow\">XGBClassifier</label><div class=\"sk-toggleable__content\"><pre>XGBClassifier(colsample_bytree=0.8, gamma=0.0, max_depth=4, min_child_weight=4,\n",
              "              n_estimators=500, nthread=4, seed=27, subsample=0.8)</pre></div></div></div></div></div>"
            ]
          },
          "metadata": {},
          "execution_count": 433
        }
      ]
    },
    {
      "cell_type": "code",
      "source": [
        "y_pred_x3 = xgb3.predict(X_test)"
      ],
      "metadata": {
        "id": "hCza-pud0QbS"
      },
      "execution_count": null,
      "outputs": []
    },
    {
      "cell_type": "markdown",
      "source": [
        "### Results:"
      ],
      "metadata": {
        "id": "Wo-LZErT0UgG"
      }
    },
    {
      "cell_type": "code",
      "source": [
        "confusion_matrix(y_test, y_pred_x3)"
      ],
      "metadata": {
        "colab": {
          "base_uri": "https://localhost:8080/"
        },
        "id": "4LWf66vy0XjO",
        "outputId": "b89336ef-cb44-4dbe-b3cc-c578f1e0c8a9"
      },
      "execution_count": null,
      "outputs": [
        {
          "output_type": "execute_result",
          "data": {
            "text/plain": [
              "array([[1114,  206],\n",
              "       [   6,   38]])"
            ]
          },
          "metadata": {},
          "execution_count": 435
        }
      ]
    },
    {
      "cell_type": "code",
      "source": [
        "print (classification_report (y_test, y_pred_x3))"
      ],
      "metadata": {
        "id": "ez6bQ-8c5MTO",
        "colab": {
          "base_uri": "https://localhost:8080/"
        },
        "outputId": "4fc191fe-5b78-4498-c045-84257bd6e5cb"
      },
      "execution_count": null,
      "outputs": [
        {
          "output_type": "stream",
          "name": "stdout",
          "text": [
            "              precision    recall  f1-score   support\n",
            "\n",
            "           0       0.99      0.84      0.91      1320\n",
            "           1       0.16      0.86      0.26        44\n",
            "\n",
            "    accuracy                           0.84      1364\n",
            "   macro avg       0.58      0.85      0.59      1364\n",
            "weighted avg       0.97      0.84      0.89      1364\n",
            "\n"
          ]
        }
      ]
    },
    {
      "cell_type": "markdown",
      "source": [
        "## Tuning (subsample and colsample_bytree)"
      ],
      "metadata": {
        "id": "mHC22k-b26AT"
      }
    },
    {
      "cell_type": "code",
      "source": [
        "param_test4 = {\n",
        " 'subsample':[i/10.0 for i in range(6,10)],\n",
        " 'colsample_bytree':[i/10.0 for i in range(6,10)]\n",
        "}"
      ],
      "metadata": {
        "id": "2B5IxSR12wSe"
      },
      "execution_count": null,
      "outputs": []
    },
    {
      "cell_type": "code",
      "source": [
        "gsearch4 = GridSearchCV(estimator = XGBClassifier( learning_rate =0.1, n_estimators=500, max_depth=4,\n",
        " min_child_weight=4, gamma=0, subsample=0.8, colsample_bytree=0.8,\n",
        " objective= 'binary:logistic', nthread=4, scale_pos_weight=1,seed=27), \n",
        " param_grid = param_test4, scoring=recall_scorer,n_jobs=4,cv=5)"
      ],
      "metadata": {
        "id": "EW1JQXNC3qS6"
      },
      "execution_count": null,
      "outputs": []
    },
    {
      "cell_type": "code",
      "source": [
        "gsearch4.fit(X_trainNew, y_trainNew)"
      ],
      "metadata": {
        "colab": {
          "base_uri": "https://localhost:8080/",
          "height": 93
        },
        "id": "xLC__3gY3wqy",
        "outputId": "ef76e890-6ecf-4606-9053-b1f8e8408e76"
      },
      "execution_count": null,
      "outputs": [
        {
          "output_type": "execute_result",
          "data": {
            "text/plain": [
              "GridSearchCV(cv=5,\n",
              "             estimator=XGBClassifier(colsample_bytree=0.8, max_depth=4,\n",
              "                                     min_child_weight=4, n_estimators=500,\n",
              "                                     nthread=4, seed=27, subsample=0.8),\n",
              "             n_jobs=4,\n",
              "             param_grid={'colsample_bytree': [0.6, 0.7, 0.8, 0.9],\n",
              "                         'subsample': [0.6, 0.7, 0.8, 0.9]},\n",
              "             scoring=make_scorer(recall_score, pos_label=1))"
            ],
            "text/html": [
              "<style>#sk-2892afb6-d35e-45b8-b6ab-341f4ac629c4 {color: black;background-color: white;}#sk-2892afb6-d35e-45b8-b6ab-341f4ac629c4 pre{padding: 0;}#sk-2892afb6-d35e-45b8-b6ab-341f4ac629c4 div.sk-toggleable {background-color: white;}#sk-2892afb6-d35e-45b8-b6ab-341f4ac629c4 label.sk-toggleable__label {cursor: pointer;display: block;width: 100%;margin-bottom: 0;padding: 0.3em;box-sizing: border-box;text-align: center;}#sk-2892afb6-d35e-45b8-b6ab-341f4ac629c4 label.sk-toggleable__label-arrow:before {content: \"▸\";float: left;margin-right: 0.25em;color: #696969;}#sk-2892afb6-d35e-45b8-b6ab-341f4ac629c4 label.sk-toggleable__label-arrow:hover:before {color: black;}#sk-2892afb6-d35e-45b8-b6ab-341f4ac629c4 div.sk-estimator:hover label.sk-toggleable__label-arrow:before {color: black;}#sk-2892afb6-d35e-45b8-b6ab-341f4ac629c4 div.sk-toggleable__content {max-height: 0;max-width: 0;overflow: hidden;text-align: left;background-color: #f0f8ff;}#sk-2892afb6-d35e-45b8-b6ab-341f4ac629c4 div.sk-toggleable__content pre {margin: 0.2em;color: black;border-radius: 0.25em;background-color: #f0f8ff;}#sk-2892afb6-d35e-45b8-b6ab-341f4ac629c4 input.sk-toggleable__control:checked~div.sk-toggleable__content {max-height: 200px;max-width: 100%;overflow: auto;}#sk-2892afb6-d35e-45b8-b6ab-341f4ac629c4 input.sk-toggleable__control:checked~label.sk-toggleable__label-arrow:before {content: \"▾\";}#sk-2892afb6-d35e-45b8-b6ab-341f4ac629c4 div.sk-estimator input.sk-toggleable__control:checked~label.sk-toggleable__label {background-color: #d4ebff;}#sk-2892afb6-d35e-45b8-b6ab-341f4ac629c4 div.sk-label input.sk-toggleable__control:checked~label.sk-toggleable__label {background-color: #d4ebff;}#sk-2892afb6-d35e-45b8-b6ab-341f4ac629c4 input.sk-hidden--visually {border: 0;clip: rect(1px 1px 1px 1px);clip: rect(1px, 1px, 1px, 1px);height: 1px;margin: -1px;overflow: hidden;padding: 0;position: absolute;width: 1px;}#sk-2892afb6-d35e-45b8-b6ab-341f4ac629c4 div.sk-estimator {font-family: monospace;background-color: #f0f8ff;border: 1px dotted black;border-radius: 0.25em;box-sizing: border-box;margin-bottom: 0.5em;}#sk-2892afb6-d35e-45b8-b6ab-341f4ac629c4 div.sk-estimator:hover {background-color: #d4ebff;}#sk-2892afb6-d35e-45b8-b6ab-341f4ac629c4 div.sk-parallel-item::after {content: \"\";width: 100%;border-bottom: 1px solid gray;flex-grow: 1;}#sk-2892afb6-d35e-45b8-b6ab-341f4ac629c4 div.sk-label:hover label.sk-toggleable__label {background-color: #d4ebff;}#sk-2892afb6-d35e-45b8-b6ab-341f4ac629c4 div.sk-serial::before {content: \"\";position: absolute;border-left: 1px solid gray;box-sizing: border-box;top: 2em;bottom: 0;left: 50%;}#sk-2892afb6-d35e-45b8-b6ab-341f4ac629c4 div.sk-serial {display: flex;flex-direction: column;align-items: center;background-color: white;padding-right: 0.2em;padding-left: 0.2em;}#sk-2892afb6-d35e-45b8-b6ab-341f4ac629c4 div.sk-item {z-index: 1;}#sk-2892afb6-d35e-45b8-b6ab-341f4ac629c4 div.sk-parallel {display: flex;align-items: stretch;justify-content: center;background-color: white;}#sk-2892afb6-d35e-45b8-b6ab-341f4ac629c4 div.sk-parallel::before {content: \"\";position: absolute;border-left: 1px solid gray;box-sizing: border-box;top: 2em;bottom: 0;left: 50%;}#sk-2892afb6-d35e-45b8-b6ab-341f4ac629c4 div.sk-parallel-item {display: flex;flex-direction: column;position: relative;background-color: white;}#sk-2892afb6-d35e-45b8-b6ab-341f4ac629c4 div.sk-parallel-item:first-child::after {align-self: flex-end;width: 50%;}#sk-2892afb6-d35e-45b8-b6ab-341f4ac629c4 div.sk-parallel-item:last-child::after {align-self: flex-start;width: 50%;}#sk-2892afb6-d35e-45b8-b6ab-341f4ac629c4 div.sk-parallel-item:only-child::after {width: 0;}#sk-2892afb6-d35e-45b8-b6ab-341f4ac629c4 div.sk-dashed-wrapped {border: 1px dashed gray;margin: 0 0.4em 0.5em 0.4em;box-sizing: border-box;padding-bottom: 0.4em;background-color: white;position: relative;}#sk-2892afb6-d35e-45b8-b6ab-341f4ac629c4 div.sk-label label {font-family: monospace;font-weight: bold;background-color: white;display: inline-block;line-height: 1.2em;}#sk-2892afb6-d35e-45b8-b6ab-341f4ac629c4 div.sk-label-container {position: relative;z-index: 2;text-align: center;}#sk-2892afb6-d35e-45b8-b6ab-341f4ac629c4 div.sk-container {/* jupyter's `normalize.less` sets `[hidden] { display: none; }` but bootstrap.min.css set `[hidden] { display: none !important; }` so we also need the `!important` here to be able to override the default hidden behavior on the sphinx rendered scikit-learn.org. See: https://github.com/scikit-learn/scikit-learn/issues/21755 */display: inline-block !important;position: relative;}#sk-2892afb6-d35e-45b8-b6ab-341f4ac629c4 div.sk-text-repr-fallback {display: none;}</style><div id=\"sk-2892afb6-d35e-45b8-b6ab-341f4ac629c4\" class=\"sk-top-container\"><div class=\"sk-text-repr-fallback\"><pre>GridSearchCV(cv=5,\n",
              "             estimator=XGBClassifier(colsample_bytree=0.8, max_depth=4,\n",
              "                                     min_child_weight=4, n_estimators=500,\n",
              "                                     nthread=4, seed=27, subsample=0.8),\n",
              "             n_jobs=4,\n",
              "             param_grid={&#x27;colsample_bytree&#x27;: [0.6, 0.7, 0.8, 0.9],\n",
              "                         &#x27;subsample&#x27;: [0.6, 0.7, 0.8, 0.9]},\n",
              "             scoring=make_scorer(recall_score, pos_label=1))</pre><b>Please rerun this cell to show the HTML repr or trust the notebook.</b></div><div class=\"sk-container\" hidden><div class=\"sk-item sk-dashed-wrapped\"><div class=\"sk-label-container\"><div class=\"sk-label sk-toggleable\"><input class=\"sk-toggleable__control sk-hidden--visually\" id=\"426558bd-ad92-4fec-9d0b-2d1b3ed1785a\" type=\"checkbox\" ><label for=\"426558bd-ad92-4fec-9d0b-2d1b3ed1785a\" class=\"sk-toggleable__label sk-toggleable__label-arrow\">GridSearchCV</label><div class=\"sk-toggleable__content\"><pre>GridSearchCV(cv=5,\n",
              "             estimator=XGBClassifier(colsample_bytree=0.8, max_depth=4,\n",
              "                                     min_child_weight=4, n_estimators=500,\n",
              "                                     nthread=4, seed=27, subsample=0.8),\n",
              "             n_jobs=4,\n",
              "             param_grid={&#x27;colsample_bytree&#x27;: [0.6, 0.7, 0.8, 0.9],\n",
              "                         &#x27;subsample&#x27;: [0.6, 0.7, 0.8, 0.9]},\n",
              "             scoring=make_scorer(recall_score, pos_label=1))</pre></div></div></div><div class=\"sk-parallel\"><div class=\"sk-parallel-item\"><div class=\"sk-item\"><div class=\"sk-serial\"><div class=\"sk-item\"><div class=\"sk-estimator sk-toggleable\"><input class=\"sk-toggleable__control sk-hidden--visually\" id=\"00db610d-5dd0-4d94-b7dc-8451b4d494d3\" type=\"checkbox\" ><label for=\"00db610d-5dd0-4d94-b7dc-8451b4d494d3\" class=\"sk-toggleable__label sk-toggleable__label-arrow\">XGBClassifier</label><div class=\"sk-toggleable__content\"><pre>XGBClassifier(colsample_bytree=0.8, max_depth=4, min_child_weight=4,\n",
              "              n_estimators=500, nthread=4, seed=27, subsample=0.8)</pre></div></div></div></div></div></div></div></div></div></div>"
            ]
          },
          "metadata": {},
          "execution_count": 439
        }
      ]
    },
    {
      "cell_type": "code",
      "source": [
        "gsearch4.best_params_ , gsearch4.best_score_"
      ],
      "metadata": {
        "colab": {
          "base_uri": "https://localhost:8080/"
        },
        "id": "ySfSlRmV30US",
        "outputId": "34569225-b20b-4429-da99-4c225ad838b1"
      },
      "execution_count": null,
      "outputs": [
        {
          "output_type": "execute_result",
          "data": {
            "text/plain": [
              "({'colsample_bytree': 0.9, 'subsample': 0.9}, 0.8977777777777778)"
            ]
          },
          "metadata": {},
          "execution_count": 440
        }
      ]
    },
    {
      "cell_type": "code",
      "source": [
        "param_test5 = {\n",
        " 'subsample':[i/100.0 for i in range(75,90,5)],\n",
        " 'colsample_bytree':[i/100.0 for i in range(75,90,5)]\n",
        "}"
      ],
      "metadata": {
        "id": "exioqvSh1Wih"
      },
      "execution_count": null,
      "outputs": []
    },
    {
      "cell_type": "code",
      "source": [
        "gsearch5 = GridSearchCV(estimator = XGBClassifier( learning_rate =0.1, n_estimators=500, max_depth=4,\n",
        " min_child_weight=4, gamma=0, subsample=0.9, colsample_bytree=0.6,\n",
        " objective= 'binary:logistic', nthread=4, scale_pos_weight=1,seed=27), \n",
        " param_grid = param_test5, scoring=recall_scorer,n_jobs=4,cv=5)"
      ],
      "metadata": {
        "id": "5-wWjElW1Wf-"
      },
      "execution_count": null,
      "outputs": []
    },
    {
      "cell_type": "code",
      "source": [
        "gsearch5.fit(X_trainNew, y_trainNew)"
      ],
      "metadata": {
        "colab": {
          "base_uri": "https://localhost:8080/",
          "height": 93
        },
        "id": "KvzOyCBO1WdQ",
        "outputId": "a4816ff5-b7cd-4a9c-8776-42811f03e926"
      },
      "execution_count": null,
      "outputs": [
        {
          "output_type": "execute_result",
          "data": {
            "text/plain": [
              "GridSearchCV(cv=5,\n",
              "             estimator=XGBClassifier(colsample_bytree=0.6, max_depth=4,\n",
              "                                     min_child_weight=4, n_estimators=500,\n",
              "                                     nthread=4, seed=27, subsample=0.9),\n",
              "             n_jobs=4,\n",
              "             param_grid={'colsample_bytree': [0.75, 0.8, 0.85],\n",
              "                         'subsample': [0.75, 0.8, 0.85]},\n",
              "             scoring=make_scorer(recall_score, pos_label=1))"
            ],
            "text/html": [
              "<style>#sk-8d67a57e-2c69-41f4-bd68-1dd46452bf9a {color: black;background-color: white;}#sk-8d67a57e-2c69-41f4-bd68-1dd46452bf9a pre{padding: 0;}#sk-8d67a57e-2c69-41f4-bd68-1dd46452bf9a div.sk-toggleable {background-color: white;}#sk-8d67a57e-2c69-41f4-bd68-1dd46452bf9a label.sk-toggleable__label {cursor: pointer;display: block;width: 100%;margin-bottom: 0;padding: 0.3em;box-sizing: border-box;text-align: center;}#sk-8d67a57e-2c69-41f4-bd68-1dd46452bf9a label.sk-toggleable__label-arrow:before {content: \"▸\";float: left;margin-right: 0.25em;color: #696969;}#sk-8d67a57e-2c69-41f4-bd68-1dd46452bf9a label.sk-toggleable__label-arrow:hover:before {color: black;}#sk-8d67a57e-2c69-41f4-bd68-1dd46452bf9a div.sk-estimator:hover label.sk-toggleable__label-arrow:before {color: black;}#sk-8d67a57e-2c69-41f4-bd68-1dd46452bf9a div.sk-toggleable__content {max-height: 0;max-width: 0;overflow: hidden;text-align: left;background-color: #f0f8ff;}#sk-8d67a57e-2c69-41f4-bd68-1dd46452bf9a div.sk-toggleable__content pre {margin: 0.2em;color: black;border-radius: 0.25em;background-color: #f0f8ff;}#sk-8d67a57e-2c69-41f4-bd68-1dd46452bf9a input.sk-toggleable__control:checked~div.sk-toggleable__content {max-height: 200px;max-width: 100%;overflow: auto;}#sk-8d67a57e-2c69-41f4-bd68-1dd46452bf9a input.sk-toggleable__control:checked~label.sk-toggleable__label-arrow:before {content: \"▾\";}#sk-8d67a57e-2c69-41f4-bd68-1dd46452bf9a div.sk-estimator input.sk-toggleable__control:checked~label.sk-toggleable__label {background-color: #d4ebff;}#sk-8d67a57e-2c69-41f4-bd68-1dd46452bf9a div.sk-label input.sk-toggleable__control:checked~label.sk-toggleable__label {background-color: #d4ebff;}#sk-8d67a57e-2c69-41f4-bd68-1dd46452bf9a input.sk-hidden--visually {border: 0;clip: rect(1px 1px 1px 1px);clip: rect(1px, 1px, 1px, 1px);height: 1px;margin: -1px;overflow: hidden;padding: 0;position: absolute;width: 1px;}#sk-8d67a57e-2c69-41f4-bd68-1dd46452bf9a div.sk-estimator {font-family: monospace;background-color: #f0f8ff;border: 1px dotted black;border-radius: 0.25em;box-sizing: border-box;margin-bottom: 0.5em;}#sk-8d67a57e-2c69-41f4-bd68-1dd46452bf9a div.sk-estimator:hover {background-color: #d4ebff;}#sk-8d67a57e-2c69-41f4-bd68-1dd46452bf9a div.sk-parallel-item::after {content: \"\";width: 100%;border-bottom: 1px solid gray;flex-grow: 1;}#sk-8d67a57e-2c69-41f4-bd68-1dd46452bf9a div.sk-label:hover label.sk-toggleable__label {background-color: #d4ebff;}#sk-8d67a57e-2c69-41f4-bd68-1dd46452bf9a div.sk-serial::before {content: \"\";position: absolute;border-left: 1px solid gray;box-sizing: border-box;top: 2em;bottom: 0;left: 50%;}#sk-8d67a57e-2c69-41f4-bd68-1dd46452bf9a div.sk-serial {display: flex;flex-direction: column;align-items: center;background-color: white;padding-right: 0.2em;padding-left: 0.2em;}#sk-8d67a57e-2c69-41f4-bd68-1dd46452bf9a div.sk-item {z-index: 1;}#sk-8d67a57e-2c69-41f4-bd68-1dd46452bf9a div.sk-parallel {display: flex;align-items: stretch;justify-content: center;background-color: white;}#sk-8d67a57e-2c69-41f4-bd68-1dd46452bf9a div.sk-parallel::before {content: \"\";position: absolute;border-left: 1px solid gray;box-sizing: border-box;top: 2em;bottom: 0;left: 50%;}#sk-8d67a57e-2c69-41f4-bd68-1dd46452bf9a div.sk-parallel-item {display: flex;flex-direction: column;position: relative;background-color: white;}#sk-8d67a57e-2c69-41f4-bd68-1dd46452bf9a div.sk-parallel-item:first-child::after {align-self: flex-end;width: 50%;}#sk-8d67a57e-2c69-41f4-bd68-1dd46452bf9a div.sk-parallel-item:last-child::after {align-self: flex-start;width: 50%;}#sk-8d67a57e-2c69-41f4-bd68-1dd46452bf9a div.sk-parallel-item:only-child::after {width: 0;}#sk-8d67a57e-2c69-41f4-bd68-1dd46452bf9a div.sk-dashed-wrapped {border: 1px dashed gray;margin: 0 0.4em 0.5em 0.4em;box-sizing: border-box;padding-bottom: 0.4em;background-color: white;position: relative;}#sk-8d67a57e-2c69-41f4-bd68-1dd46452bf9a div.sk-label label {font-family: monospace;font-weight: bold;background-color: white;display: inline-block;line-height: 1.2em;}#sk-8d67a57e-2c69-41f4-bd68-1dd46452bf9a div.sk-label-container {position: relative;z-index: 2;text-align: center;}#sk-8d67a57e-2c69-41f4-bd68-1dd46452bf9a div.sk-container {/* jupyter's `normalize.less` sets `[hidden] { display: none; }` but bootstrap.min.css set `[hidden] { display: none !important; }` so we also need the `!important` here to be able to override the default hidden behavior on the sphinx rendered scikit-learn.org. See: https://github.com/scikit-learn/scikit-learn/issues/21755 */display: inline-block !important;position: relative;}#sk-8d67a57e-2c69-41f4-bd68-1dd46452bf9a div.sk-text-repr-fallback {display: none;}</style><div id=\"sk-8d67a57e-2c69-41f4-bd68-1dd46452bf9a\" class=\"sk-top-container\"><div class=\"sk-text-repr-fallback\"><pre>GridSearchCV(cv=5,\n",
              "             estimator=XGBClassifier(colsample_bytree=0.6, max_depth=4,\n",
              "                                     min_child_weight=4, n_estimators=500,\n",
              "                                     nthread=4, seed=27, subsample=0.9),\n",
              "             n_jobs=4,\n",
              "             param_grid={&#x27;colsample_bytree&#x27;: [0.75, 0.8, 0.85],\n",
              "                         &#x27;subsample&#x27;: [0.75, 0.8, 0.85]},\n",
              "             scoring=make_scorer(recall_score, pos_label=1))</pre><b>Please rerun this cell to show the HTML repr or trust the notebook.</b></div><div class=\"sk-container\" hidden><div class=\"sk-item sk-dashed-wrapped\"><div class=\"sk-label-container\"><div class=\"sk-label sk-toggleable\"><input class=\"sk-toggleable__control sk-hidden--visually\" id=\"f446c0e2-22e0-4777-ac9b-0764b9f79f4e\" type=\"checkbox\" ><label for=\"f446c0e2-22e0-4777-ac9b-0764b9f79f4e\" class=\"sk-toggleable__label sk-toggleable__label-arrow\">GridSearchCV</label><div class=\"sk-toggleable__content\"><pre>GridSearchCV(cv=5,\n",
              "             estimator=XGBClassifier(colsample_bytree=0.6, max_depth=4,\n",
              "                                     min_child_weight=4, n_estimators=500,\n",
              "                                     nthread=4, seed=27, subsample=0.9),\n",
              "             n_jobs=4,\n",
              "             param_grid={&#x27;colsample_bytree&#x27;: [0.75, 0.8, 0.85],\n",
              "                         &#x27;subsample&#x27;: [0.75, 0.8, 0.85]},\n",
              "             scoring=make_scorer(recall_score, pos_label=1))</pre></div></div></div><div class=\"sk-parallel\"><div class=\"sk-parallel-item\"><div class=\"sk-item\"><div class=\"sk-serial\"><div class=\"sk-item\"><div class=\"sk-estimator sk-toggleable\"><input class=\"sk-toggleable__control sk-hidden--visually\" id=\"06a1862a-a162-4f43-b3ca-ac3a0d4774da\" type=\"checkbox\" ><label for=\"06a1862a-a162-4f43-b3ca-ac3a0d4774da\" class=\"sk-toggleable__label sk-toggleable__label-arrow\">XGBClassifier</label><div class=\"sk-toggleable__content\"><pre>XGBClassifier(colsample_bytree=0.6, max_depth=4, min_child_weight=4,\n",
              "              n_estimators=500, nthread=4, seed=27, subsample=0.9)</pre></div></div></div></div></div></div></div></div></div></div>"
            ]
          },
          "metadata": {},
          "execution_count": 443
        }
      ]
    },
    {
      "cell_type": "code",
      "source": [
        "gsearch5.best_params_ , gsearch5.best_score_"
      ],
      "metadata": {
        "colab": {
          "base_uri": "https://localhost:8080/"
        },
        "id": "E-DO93Vm1WaO",
        "outputId": "0de270f0-a1dc-4da6-f84d-a13c1bee5d92"
      },
      "execution_count": null,
      "outputs": [
        {
          "output_type": "execute_result",
          "data": {
            "text/plain": [
              "({'colsample_bytree': 0.85, 'subsample': 0.75}, 0.8977777777777778)"
            ]
          },
          "metadata": {},
          "execution_count": 444
        }
      ]
    },
    {
      "cell_type": "code",
      "source": [
        "xgb5 = XGBClassifier(\n",
        " learning_rate =0.1,\n",
        " n_estimators=500,\n",
        " max_depth=4,\n",
        " min_child_weight=4,\n",
        " gamma=0,\n",
        " subsample=0.8,\n",
        " colsample_bytree=0.8,\n",
        " objective= 'binary:logistic',\n",
        " nthread=4,\n",
        " scale_pos_weight=1,\n",
        " seed=27)"
      ],
      "metadata": {
        "id": "lbvjoATc38if"
      },
      "execution_count": null,
      "outputs": []
    },
    {
      "cell_type": "code",
      "source": [
        "xgb5.fit(X_trainNew, y_trainNew)"
      ],
      "metadata": {
        "colab": {
          "base_uri": "https://localhost:8080/",
          "height": 92
        },
        "id": "QzXltmGh4Gku",
        "outputId": "2c85838d-c711-409b-e484-5b67f03a97c2"
      },
      "execution_count": null,
      "outputs": [
        {
          "output_type": "execute_result",
          "data": {
            "text/plain": [
              "XGBClassifier(colsample_bytree=0.8, max_depth=4, min_child_weight=4,\n",
              "              n_estimators=500, nthread=4, seed=27, subsample=0.8)"
            ],
            "text/html": [
              "<style>#sk-c4d717ea-964d-4b4b-99fc-672a5dec2c49 {color: black;background-color: white;}#sk-c4d717ea-964d-4b4b-99fc-672a5dec2c49 pre{padding: 0;}#sk-c4d717ea-964d-4b4b-99fc-672a5dec2c49 div.sk-toggleable {background-color: white;}#sk-c4d717ea-964d-4b4b-99fc-672a5dec2c49 label.sk-toggleable__label {cursor: pointer;display: block;width: 100%;margin-bottom: 0;padding: 0.3em;box-sizing: border-box;text-align: center;}#sk-c4d717ea-964d-4b4b-99fc-672a5dec2c49 label.sk-toggleable__label-arrow:before {content: \"▸\";float: left;margin-right: 0.25em;color: #696969;}#sk-c4d717ea-964d-4b4b-99fc-672a5dec2c49 label.sk-toggleable__label-arrow:hover:before {color: black;}#sk-c4d717ea-964d-4b4b-99fc-672a5dec2c49 div.sk-estimator:hover label.sk-toggleable__label-arrow:before {color: black;}#sk-c4d717ea-964d-4b4b-99fc-672a5dec2c49 div.sk-toggleable__content {max-height: 0;max-width: 0;overflow: hidden;text-align: left;background-color: #f0f8ff;}#sk-c4d717ea-964d-4b4b-99fc-672a5dec2c49 div.sk-toggleable__content pre {margin: 0.2em;color: black;border-radius: 0.25em;background-color: #f0f8ff;}#sk-c4d717ea-964d-4b4b-99fc-672a5dec2c49 input.sk-toggleable__control:checked~div.sk-toggleable__content {max-height: 200px;max-width: 100%;overflow: auto;}#sk-c4d717ea-964d-4b4b-99fc-672a5dec2c49 input.sk-toggleable__control:checked~label.sk-toggleable__label-arrow:before {content: \"▾\";}#sk-c4d717ea-964d-4b4b-99fc-672a5dec2c49 div.sk-estimator input.sk-toggleable__control:checked~label.sk-toggleable__label {background-color: #d4ebff;}#sk-c4d717ea-964d-4b4b-99fc-672a5dec2c49 div.sk-label input.sk-toggleable__control:checked~label.sk-toggleable__label {background-color: #d4ebff;}#sk-c4d717ea-964d-4b4b-99fc-672a5dec2c49 input.sk-hidden--visually {border: 0;clip: rect(1px 1px 1px 1px);clip: rect(1px, 1px, 1px, 1px);height: 1px;margin: -1px;overflow: hidden;padding: 0;position: absolute;width: 1px;}#sk-c4d717ea-964d-4b4b-99fc-672a5dec2c49 div.sk-estimator {font-family: monospace;background-color: #f0f8ff;border: 1px dotted black;border-radius: 0.25em;box-sizing: border-box;margin-bottom: 0.5em;}#sk-c4d717ea-964d-4b4b-99fc-672a5dec2c49 div.sk-estimator:hover {background-color: #d4ebff;}#sk-c4d717ea-964d-4b4b-99fc-672a5dec2c49 div.sk-parallel-item::after {content: \"\";width: 100%;border-bottom: 1px solid gray;flex-grow: 1;}#sk-c4d717ea-964d-4b4b-99fc-672a5dec2c49 div.sk-label:hover label.sk-toggleable__label {background-color: #d4ebff;}#sk-c4d717ea-964d-4b4b-99fc-672a5dec2c49 div.sk-serial::before {content: \"\";position: absolute;border-left: 1px solid gray;box-sizing: border-box;top: 2em;bottom: 0;left: 50%;}#sk-c4d717ea-964d-4b4b-99fc-672a5dec2c49 div.sk-serial {display: flex;flex-direction: column;align-items: center;background-color: white;padding-right: 0.2em;padding-left: 0.2em;}#sk-c4d717ea-964d-4b4b-99fc-672a5dec2c49 div.sk-item {z-index: 1;}#sk-c4d717ea-964d-4b4b-99fc-672a5dec2c49 div.sk-parallel {display: flex;align-items: stretch;justify-content: center;background-color: white;}#sk-c4d717ea-964d-4b4b-99fc-672a5dec2c49 div.sk-parallel::before {content: \"\";position: absolute;border-left: 1px solid gray;box-sizing: border-box;top: 2em;bottom: 0;left: 50%;}#sk-c4d717ea-964d-4b4b-99fc-672a5dec2c49 div.sk-parallel-item {display: flex;flex-direction: column;position: relative;background-color: white;}#sk-c4d717ea-964d-4b4b-99fc-672a5dec2c49 div.sk-parallel-item:first-child::after {align-self: flex-end;width: 50%;}#sk-c4d717ea-964d-4b4b-99fc-672a5dec2c49 div.sk-parallel-item:last-child::after {align-self: flex-start;width: 50%;}#sk-c4d717ea-964d-4b4b-99fc-672a5dec2c49 div.sk-parallel-item:only-child::after {width: 0;}#sk-c4d717ea-964d-4b4b-99fc-672a5dec2c49 div.sk-dashed-wrapped {border: 1px dashed gray;margin: 0 0.4em 0.5em 0.4em;box-sizing: border-box;padding-bottom: 0.4em;background-color: white;position: relative;}#sk-c4d717ea-964d-4b4b-99fc-672a5dec2c49 div.sk-label label {font-family: monospace;font-weight: bold;background-color: white;display: inline-block;line-height: 1.2em;}#sk-c4d717ea-964d-4b4b-99fc-672a5dec2c49 div.sk-label-container {position: relative;z-index: 2;text-align: center;}#sk-c4d717ea-964d-4b4b-99fc-672a5dec2c49 div.sk-container {/* jupyter's `normalize.less` sets `[hidden] { display: none; }` but bootstrap.min.css set `[hidden] { display: none !important; }` so we also need the `!important` here to be able to override the default hidden behavior on the sphinx rendered scikit-learn.org. See: https://github.com/scikit-learn/scikit-learn/issues/21755 */display: inline-block !important;position: relative;}#sk-c4d717ea-964d-4b4b-99fc-672a5dec2c49 div.sk-text-repr-fallback {display: none;}</style><div id=\"sk-c4d717ea-964d-4b4b-99fc-672a5dec2c49\" class=\"sk-top-container\"><div class=\"sk-text-repr-fallback\"><pre>XGBClassifier(colsample_bytree=0.8, max_depth=4, min_child_weight=4,\n",
              "              n_estimators=500, nthread=4, seed=27, subsample=0.8)</pre><b>Please rerun this cell to show the HTML repr or trust the notebook.</b></div><div class=\"sk-container\" hidden><div class=\"sk-item\"><div class=\"sk-estimator sk-toggleable\"><input class=\"sk-toggleable__control sk-hidden--visually\" id=\"40a6211c-3192-41c2-b7fe-48f9bd258818\" type=\"checkbox\" checked><label for=\"40a6211c-3192-41c2-b7fe-48f9bd258818\" class=\"sk-toggleable__label sk-toggleable__label-arrow\">XGBClassifier</label><div class=\"sk-toggleable__content\"><pre>XGBClassifier(colsample_bytree=0.8, max_depth=4, min_child_weight=4,\n",
              "              n_estimators=500, nthread=4, seed=27, subsample=0.8)</pre></div></div></div></div></div>"
            ]
          },
          "metadata": {},
          "execution_count": 446
        }
      ]
    },
    {
      "cell_type": "code",
      "source": [
        "y_pred_x5 = xgb5.predict(X_test)"
      ],
      "metadata": {
        "id": "lYyM-f6s4JGi"
      },
      "execution_count": null,
      "outputs": []
    },
    {
      "cell_type": "markdown",
      "source": [
        "### Results:"
      ],
      "metadata": {
        "id": "6lI9Wf414bn1"
      }
    },
    {
      "cell_type": "code",
      "source": [
        "confusion_matrix(y_test, y_pred_x5)"
      ],
      "metadata": {
        "colab": {
          "base_uri": "https://localhost:8080/"
        },
        "id": "X__8zD_V4NYd",
        "outputId": "5855f48f-b39f-4fd9-86c9-7e1feb2dd095"
      },
      "execution_count": null,
      "outputs": [
        {
          "output_type": "execute_result",
          "data": {
            "text/plain": [
              "array([[1114,  206],\n",
              "       [   6,   38]])"
            ]
          },
          "metadata": {},
          "execution_count": 448
        }
      ]
    },
    {
      "cell_type": "code",
      "source": [
        "print (classification_report (y_test, y_pred_x5))"
      ],
      "metadata": {
        "colab": {
          "base_uri": "https://localhost:8080/"
        },
        "id": "T_3sAp414Sgh",
        "outputId": "cb365167-1050-4a39-b258-30a84a9baf2f"
      },
      "execution_count": null,
      "outputs": [
        {
          "output_type": "stream",
          "name": "stdout",
          "text": [
            "              precision    recall  f1-score   support\n",
            "\n",
            "           0       0.99      0.84      0.91      1320\n",
            "           1       0.16      0.86      0.26        44\n",
            "\n",
            "    accuracy                           0.84      1364\n",
            "   macro avg       0.58      0.85      0.59      1364\n",
            "weighted avg       0.97      0.84      0.89      1364\n",
            "\n"
          ]
        }
      ]
    },
    {
      "cell_type": "markdown",
      "source": [
        "## Tuning (Regularization Parameters)"
      ],
      "metadata": {
        "id": "ARTtPQdo5m8w"
      }
    },
    {
      "cell_type": "code",
      "source": [
        "param_test6 = {\n",
        " 'reg_alpha':[1e-5, 1e-2, 0.1, 1, 100]\n",
        "}\n",
        "gsearch6 = GridSearchCV(estimator = XGBClassifier( learning_rate =0.1, n_estimators=500, max_depth=4,\n",
        " min_child_weight=4, gamma=0.4, subsample=0.8, colsample_bytree=0.8,\n",
        " objective= 'binary:logistic', nthread=4, scale_pos_weight=1,seed=27), \n",
        " param_grid = param_test6, scoring=recall_scorer,n_jobs=4,cv=5)"
      ],
      "metadata": {
        "id": "CUQ--yFQ5XwR"
      },
      "execution_count": null,
      "outputs": []
    },
    {
      "cell_type": "code",
      "source": [
        "gsearch6.fit(X_trainNew, y_trainNew)"
      ],
      "metadata": {
        "colab": {
          "base_uri": "https://localhost:8080/",
          "height": 93
        },
        "id": "wMElCKr25zg1",
        "outputId": "d83cc964-7339-436c-94e7-2013e5f92a16"
      },
      "execution_count": null,
      "outputs": [
        {
          "output_type": "execute_result",
          "data": {
            "text/plain": [
              "GridSearchCV(cv=5,\n",
              "             estimator=XGBClassifier(colsample_bytree=0.8, gamma=0.4,\n",
              "                                     max_depth=4, min_child_weight=4,\n",
              "                                     n_estimators=500, nthread=4, seed=27,\n",
              "                                     subsample=0.8),\n",
              "             n_jobs=4, param_grid={'reg_alpha': [1e-05, 0.01, 0.1, 1, 100]},\n",
              "             scoring=make_scorer(recall_score, pos_label=1))"
            ],
            "text/html": [
              "<style>#sk-e3c65854-d275-47f3-8206-b79214080a46 {color: black;background-color: white;}#sk-e3c65854-d275-47f3-8206-b79214080a46 pre{padding: 0;}#sk-e3c65854-d275-47f3-8206-b79214080a46 div.sk-toggleable {background-color: white;}#sk-e3c65854-d275-47f3-8206-b79214080a46 label.sk-toggleable__label {cursor: pointer;display: block;width: 100%;margin-bottom: 0;padding: 0.3em;box-sizing: border-box;text-align: center;}#sk-e3c65854-d275-47f3-8206-b79214080a46 label.sk-toggleable__label-arrow:before {content: \"▸\";float: left;margin-right: 0.25em;color: #696969;}#sk-e3c65854-d275-47f3-8206-b79214080a46 label.sk-toggleable__label-arrow:hover:before {color: black;}#sk-e3c65854-d275-47f3-8206-b79214080a46 div.sk-estimator:hover label.sk-toggleable__label-arrow:before {color: black;}#sk-e3c65854-d275-47f3-8206-b79214080a46 div.sk-toggleable__content {max-height: 0;max-width: 0;overflow: hidden;text-align: left;background-color: #f0f8ff;}#sk-e3c65854-d275-47f3-8206-b79214080a46 div.sk-toggleable__content pre {margin: 0.2em;color: black;border-radius: 0.25em;background-color: #f0f8ff;}#sk-e3c65854-d275-47f3-8206-b79214080a46 input.sk-toggleable__control:checked~div.sk-toggleable__content {max-height: 200px;max-width: 100%;overflow: auto;}#sk-e3c65854-d275-47f3-8206-b79214080a46 input.sk-toggleable__control:checked~label.sk-toggleable__label-arrow:before {content: \"▾\";}#sk-e3c65854-d275-47f3-8206-b79214080a46 div.sk-estimator input.sk-toggleable__control:checked~label.sk-toggleable__label {background-color: #d4ebff;}#sk-e3c65854-d275-47f3-8206-b79214080a46 div.sk-label input.sk-toggleable__control:checked~label.sk-toggleable__label {background-color: #d4ebff;}#sk-e3c65854-d275-47f3-8206-b79214080a46 input.sk-hidden--visually {border: 0;clip: rect(1px 1px 1px 1px);clip: rect(1px, 1px, 1px, 1px);height: 1px;margin: -1px;overflow: hidden;padding: 0;position: absolute;width: 1px;}#sk-e3c65854-d275-47f3-8206-b79214080a46 div.sk-estimator {font-family: monospace;background-color: #f0f8ff;border: 1px dotted black;border-radius: 0.25em;box-sizing: border-box;margin-bottom: 0.5em;}#sk-e3c65854-d275-47f3-8206-b79214080a46 div.sk-estimator:hover {background-color: #d4ebff;}#sk-e3c65854-d275-47f3-8206-b79214080a46 div.sk-parallel-item::after {content: \"\";width: 100%;border-bottom: 1px solid gray;flex-grow: 1;}#sk-e3c65854-d275-47f3-8206-b79214080a46 div.sk-label:hover label.sk-toggleable__label {background-color: #d4ebff;}#sk-e3c65854-d275-47f3-8206-b79214080a46 div.sk-serial::before {content: \"\";position: absolute;border-left: 1px solid gray;box-sizing: border-box;top: 2em;bottom: 0;left: 50%;}#sk-e3c65854-d275-47f3-8206-b79214080a46 div.sk-serial {display: flex;flex-direction: column;align-items: center;background-color: white;padding-right: 0.2em;padding-left: 0.2em;}#sk-e3c65854-d275-47f3-8206-b79214080a46 div.sk-item {z-index: 1;}#sk-e3c65854-d275-47f3-8206-b79214080a46 div.sk-parallel {display: flex;align-items: stretch;justify-content: center;background-color: white;}#sk-e3c65854-d275-47f3-8206-b79214080a46 div.sk-parallel::before {content: \"\";position: absolute;border-left: 1px solid gray;box-sizing: border-box;top: 2em;bottom: 0;left: 50%;}#sk-e3c65854-d275-47f3-8206-b79214080a46 div.sk-parallel-item {display: flex;flex-direction: column;position: relative;background-color: white;}#sk-e3c65854-d275-47f3-8206-b79214080a46 div.sk-parallel-item:first-child::after {align-self: flex-end;width: 50%;}#sk-e3c65854-d275-47f3-8206-b79214080a46 div.sk-parallel-item:last-child::after {align-self: flex-start;width: 50%;}#sk-e3c65854-d275-47f3-8206-b79214080a46 div.sk-parallel-item:only-child::after {width: 0;}#sk-e3c65854-d275-47f3-8206-b79214080a46 div.sk-dashed-wrapped {border: 1px dashed gray;margin: 0 0.4em 0.5em 0.4em;box-sizing: border-box;padding-bottom: 0.4em;background-color: white;position: relative;}#sk-e3c65854-d275-47f3-8206-b79214080a46 div.sk-label label {font-family: monospace;font-weight: bold;background-color: white;display: inline-block;line-height: 1.2em;}#sk-e3c65854-d275-47f3-8206-b79214080a46 div.sk-label-container {position: relative;z-index: 2;text-align: center;}#sk-e3c65854-d275-47f3-8206-b79214080a46 div.sk-container {/* jupyter's `normalize.less` sets `[hidden] { display: none; }` but bootstrap.min.css set `[hidden] { display: none !important; }` so we also need the `!important` here to be able to override the default hidden behavior on the sphinx rendered scikit-learn.org. See: https://github.com/scikit-learn/scikit-learn/issues/21755 */display: inline-block !important;position: relative;}#sk-e3c65854-d275-47f3-8206-b79214080a46 div.sk-text-repr-fallback {display: none;}</style><div id=\"sk-e3c65854-d275-47f3-8206-b79214080a46\" class=\"sk-top-container\"><div class=\"sk-text-repr-fallback\"><pre>GridSearchCV(cv=5,\n",
              "             estimator=XGBClassifier(colsample_bytree=0.8, gamma=0.4,\n",
              "                                     max_depth=4, min_child_weight=4,\n",
              "                                     n_estimators=500, nthread=4, seed=27,\n",
              "                                     subsample=0.8),\n",
              "             n_jobs=4, param_grid={&#x27;reg_alpha&#x27;: [1e-05, 0.01, 0.1, 1, 100]},\n",
              "             scoring=make_scorer(recall_score, pos_label=1))</pre><b>Please rerun this cell to show the HTML repr or trust the notebook.</b></div><div class=\"sk-container\" hidden><div class=\"sk-item sk-dashed-wrapped\"><div class=\"sk-label-container\"><div class=\"sk-label sk-toggleable\"><input class=\"sk-toggleable__control sk-hidden--visually\" id=\"dc2fedc7-f682-445c-987e-83347681432b\" type=\"checkbox\" ><label for=\"dc2fedc7-f682-445c-987e-83347681432b\" class=\"sk-toggleable__label sk-toggleable__label-arrow\">GridSearchCV</label><div class=\"sk-toggleable__content\"><pre>GridSearchCV(cv=5,\n",
              "             estimator=XGBClassifier(colsample_bytree=0.8, gamma=0.4,\n",
              "                                     max_depth=4, min_child_weight=4,\n",
              "                                     n_estimators=500, nthread=4, seed=27,\n",
              "                                     subsample=0.8),\n",
              "             n_jobs=4, param_grid={&#x27;reg_alpha&#x27;: [1e-05, 0.01, 0.1, 1, 100]},\n",
              "             scoring=make_scorer(recall_score, pos_label=1))</pre></div></div></div><div class=\"sk-parallel\"><div class=\"sk-parallel-item\"><div class=\"sk-item\"><div class=\"sk-serial\"><div class=\"sk-item\"><div class=\"sk-estimator sk-toggleable\"><input class=\"sk-toggleable__control sk-hidden--visually\" id=\"3b47193d-2ce7-43bc-b0a5-0ea57753ec0c\" type=\"checkbox\" ><label for=\"3b47193d-2ce7-43bc-b0a5-0ea57753ec0c\" class=\"sk-toggleable__label sk-toggleable__label-arrow\">XGBClassifier</label><div class=\"sk-toggleable__content\"><pre>XGBClassifier(colsample_bytree=0.8, gamma=0.4, max_depth=4, min_child_weight=4,\n",
              "              n_estimators=500, nthread=4, seed=27, subsample=0.8)</pre></div></div></div></div></div></div></div></div></div></div>"
            ]
          },
          "metadata": {},
          "execution_count": 451
        }
      ]
    },
    {
      "cell_type": "code",
      "source": [
        "gsearch6.best_params_,gsearch6.best_score_ "
      ],
      "metadata": {
        "colab": {
          "base_uri": "https://localhost:8080/"
        },
        "id": "0MVQLcrk57Nz",
        "outputId": "7aeb38b5-3870-4a55-fa13-4c90fb1f8f87"
      },
      "execution_count": null,
      "outputs": [
        {
          "output_type": "execute_result",
          "data": {
            "text/plain": [
              "({'reg_alpha': 1}, 0.8922222222222222)"
            ]
          },
          "metadata": {},
          "execution_count": 452
        }
      ]
    },
    {
      "cell_type": "code",
      "source": [
        "xgb6 = XGBClassifier(\n",
        " learning_rate =0.1,\n",
        " n_estimators=500,\n",
        " max_depth=4,\n",
        " min_child_weight=4,\n",
        " gamma=0,\n",
        " subsample=0.8,\n",
        " colsample_bytree=0.8,\n",
        " reg_alpha= .0001,\n",
        " objective= 'binary:logistic',\n",
        " nthread=4,\n",
        " scale_pos_weight=1,\n",
        " seed=27)"
      ],
      "metadata": {
        "id": "iWAAREjN6DFY"
      },
      "execution_count": null,
      "outputs": []
    },
    {
      "cell_type": "code",
      "source": [
        "xgb6.fit(X_trainNew, y_trainNew)"
      ],
      "metadata": {
        "colab": {
          "base_uri": "https://localhost:8080/",
          "height": 109
        },
        "id": "f6nFzpal6iVp",
        "outputId": "b2bd3d2d-1bd8-4514-962d-fcd7605ee3e0"
      },
      "execution_count": null,
      "outputs": [
        {
          "output_type": "execute_result",
          "data": {
            "text/plain": [
              "XGBClassifier(colsample_bytree=0.8, max_depth=4, min_child_weight=4,\n",
              "              n_estimators=500, nthread=4, reg_alpha=0.0001, seed=27,\n",
              "              subsample=0.8)"
            ],
            "text/html": [
              "<style>#sk-cad22d12-43f0-49db-beec-c599e61a778c {color: black;background-color: white;}#sk-cad22d12-43f0-49db-beec-c599e61a778c pre{padding: 0;}#sk-cad22d12-43f0-49db-beec-c599e61a778c div.sk-toggleable {background-color: white;}#sk-cad22d12-43f0-49db-beec-c599e61a778c label.sk-toggleable__label {cursor: pointer;display: block;width: 100%;margin-bottom: 0;padding: 0.3em;box-sizing: border-box;text-align: center;}#sk-cad22d12-43f0-49db-beec-c599e61a778c label.sk-toggleable__label-arrow:before {content: \"▸\";float: left;margin-right: 0.25em;color: #696969;}#sk-cad22d12-43f0-49db-beec-c599e61a778c label.sk-toggleable__label-arrow:hover:before {color: black;}#sk-cad22d12-43f0-49db-beec-c599e61a778c div.sk-estimator:hover label.sk-toggleable__label-arrow:before {color: black;}#sk-cad22d12-43f0-49db-beec-c599e61a778c div.sk-toggleable__content {max-height: 0;max-width: 0;overflow: hidden;text-align: left;background-color: #f0f8ff;}#sk-cad22d12-43f0-49db-beec-c599e61a778c div.sk-toggleable__content pre {margin: 0.2em;color: black;border-radius: 0.25em;background-color: #f0f8ff;}#sk-cad22d12-43f0-49db-beec-c599e61a778c input.sk-toggleable__control:checked~div.sk-toggleable__content {max-height: 200px;max-width: 100%;overflow: auto;}#sk-cad22d12-43f0-49db-beec-c599e61a778c input.sk-toggleable__control:checked~label.sk-toggleable__label-arrow:before {content: \"▾\";}#sk-cad22d12-43f0-49db-beec-c599e61a778c div.sk-estimator input.sk-toggleable__control:checked~label.sk-toggleable__label {background-color: #d4ebff;}#sk-cad22d12-43f0-49db-beec-c599e61a778c div.sk-label input.sk-toggleable__control:checked~label.sk-toggleable__label {background-color: #d4ebff;}#sk-cad22d12-43f0-49db-beec-c599e61a778c input.sk-hidden--visually {border: 0;clip: rect(1px 1px 1px 1px);clip: rect(1px, 1px, 1px, 1px);height: 1px;margin: -1px;overflow: hidden;padding: 0;position: absolute;width: 1px;}#sk-cad22d12-43f0-49db-beec-c599e61a778c div.sk-estimator {font-family: monospace;background-color: #f0f8ff;border: 1px dotted black;border-radius: 0.25em;box-sizing: border-box;margin-bottom: 0.5em;}#sk-cad22d12-43f0-49db-beec-c599e61a778c div.sk-estimator:hover {background-color: #d4ebff;}#sk-cad22d12-43f0-49db-beec-c599e61a778c div.sk-parallel-item::after {content: \"\";width: 100%;border-bottom: 1px solid gray;flex-grow: 1;}#sk-cad22d12-43f0-49db-beec-c599e61a778c div.sk-label:hover label.sk-toggleable__label {background-color: #d4ebff;}#sk-cad22d12-43f0-49db-beec-c599e61a778c div.sk-serial::before {content: \"\";position: absolute;border-left: 1px solid gray;box-sizing: border-box;top: 2em;bottom: 0;left: 50%;}#sk-cad22d12-43f0-49db-beec-c599e61a778c div.sk-serial {display: flex;flex-direction: column;align-items: center;background-color: white;padding-right: 0.2em;padding-left: 0.2em;}#sk-cad22d12-43f0-49db-beec-c599e61a778c div.sk-item {z-index: 1;}#sk-cad22d12-43f0-49db-beec-c599e61a778c div.sk-parallel {display: flex;align-items: stretch;justify-content: center;background-color: white;}#sk-cad22d12-43f0-49db-beec-c599e61a778c div.sk-parallel::before {content: \"\";position: absolute;border-left: 1px solid gray;box-sizing: border-box;top: 2em;bottom: 0;left: 50%;}#sk-cad22d12-43f0-49db-beec-c599e61a778c div.sk-parallel-item {display: flex;flex-direction: column;position: relative;background-color: white;}#sk-cad22d12-43f0-49db-beec-c599e61a778c div.sk-parallel-item:first-child::after {align-self: flex-end;width: 50%;}#sk-cad22d12-43f0-49db-beec-c599e61a778c div.sk-parallel-item:last-child::after {align-self: flex-start;width: 50%;}#sk-cad22d12-43f0-49db-beec-c599e61a778c div.sk-parallel-item:only-child::after {width: 0;}#sk-cad22d12-43f0-49db-beec-c599e61a778c div.sk-dashed-wrapped {border: 1px dashed gray;margin: 0 0.4em 0.5em 0.4em;box-sizing: border-box;padding-bottom: 0.4em;background-color: white;position: relative;}#sk-cad22d12-43f0-49db-beec-c599e61a778c div.sk-label label {font-family: monospace;font-weight: bold;background-color: white;display: inline-block;line-height: 1.2em;}#sk-cad22d12-43f0-49db-beec-c599e61a778c div.sk-label-container {position: relative;z-index: 2;text-align: center;}#sk-cad22d12-43f0-49db-beec-c599e61a778c div.sk-container {/* jupyter's `normalize.less` sets `[hidden] { display: none; }` but bootstrap.min.css set `[hidden] { display: none !important; }` so we also need the `!important` here to be able to override the default hidden behavior on the sphinx rendered scikit-learn.org. See: https://github.com/scikit-learn/scikit-learn/issues/21755 */display: inline-block !important;position: relative;}#sk-cad22d12-43f0-49db-beec-c599e61a778c div.sk-text-repr-fallback {display: none;}</style><div id=\"sk-cad22d12-43f0-49db-beec-c599e61a778c\" class=\"sk-top-container\"><div class=\"sk-text-repr-fallback\"><pre>XGBClassifier(colsample_bytree=0.8, max_depth=4, min_child_weight=4,\n",
              "              n_estimators=500, nthread=4, reg_alpha=0.0001, seed=27,\n",
              "              subsample=0.8)</pre><b>Please rerun this cell to show the HTML repr or trust the notebook.</b></div><div class=\"sk-container\" hidden><div class=\"sk-item\"><div class=\"sk-estimator sk-toggleable\"><input class=\"sk-toggleable__control sk-hidden--visually\" id=\"1d8d2193-5f97-42e5-83c2-c8ba4002560b\" type=\"checkbox\" checked><label for=\"1d8d2193-5f97-42e5-83c2-c8ba4002560b\" class=\"sk-toggleable__label sk-toggleable__label-arrow\">XGBClassifier</label><div class=\"sk-toggleable__content\"><pre>XGBClassifier(colsample_bytree=0.8, max_depth=4, min_child_weight=4,\n",
              "              n_estimators=500, nthread=4, reg_alpha=0.0001, seed=27,\n",
              "              subsample=0.8)</pre></div></div></div></div></div>"
            ]
          },
          "metadata": {},
          "execution_count": 454
        }
      ]
    },
    {
      "cell_type": "code",
      "source": [
        "y_pred_x6 = xgb6.predict(X_test)"
      ],
      "metadata": {
        "id": "DzXlixd96lp5"
      },
      "execution_count": null,
      "outputs": []
    },
    {
      "cell_type": "markdown",
      "source": [
        "### Results:"
      ],
      "metadata": {
        "id": "qg-KfXOC6qcI"
      }
    },
    {
      "cell_type": "code",
      "source": [
        "confusion_matrix(y_test, y_pred_x6)"
      ],
      "metadata": {
        "colab": {
          "base_uri": "https://localhost:8080/"
        },
        "id": "fGcbxJFI6pJS",
        "outputId": "0c5629e7-8a18-49d8-a75c-88d81162313b"
      },
      "execution_count": null,
      "outputs": [
        {
          "output_type": "execute_result",
          "data": {
            "text/plain": [
              "array([[1114,  206],\n",
              "       [   6,   38]])"
            ]
          },
          "metadata": {},
          "execution_count": 456
        }
      ]
    },
    {
      "cell_type": "code",
      "source": [
        "print (classification_report (y_test, y_pred_x6))"
      ],
      "metadata": {
        "colab": {
          "base_uri": "https://localhost:8080/"
        },
        "id": "ks0edREU6v3B",
        "outputId": "c53910f1-8c28-439d-e210-c6c15c7d018b"
      },
      "execution_count": null,
      "outputs": [
        {
          "output_type": "stream",
          "name": "stdout",
          "text": [
            "              precision    recall  f1-score   support\n",
            "\n",
            "           0       0.99      0.84      0.91      1320\n",
            "           1       0.16      0.86      0.26        44\n",
            "\n",
            "    accuracy                           0.84      1364\n",
            "   macro avg       0.58      0.85      0.59      1364\n",
            "weighted avg       0.97      0.84      0.89      1364\n",
            "\n"
          ]
        }
      ]
    },
    {
      "cell_type": "markdown",
      "source": [
        "## Tuning (Lowering Learning Rate)"
      ],
      "metadata": {
        "id": "qgvmt6xm7nmu"
      }
    },
    {
      "cell_type": "code",
      "source": [
        "param_test7 = {\n",
        " 'learning_rate':[.01,.03,.05,.1]\n",
        "}\n",
        "gsearch7 = GridSearchCV(estimator = XGBClassifier( learning_rate =0.1, n_estimators=500, max_depth=4,\n",
        " min_child_weight=4, gamma=0, subsample=0.8, colsample_bytree=0.8,\n",
        " objective= 'binary:logistic', nthread=4, scale_pos_weight=1,seed=27), \n",
        " param_grid = param_test7, scoring=recall_scorer,n_jobs=4,cv=5)"
      ],
      "metadata": {
        "id": "fMuQLDFXafTx"
      },
      "execution_count": null,
      "outputs": []
    },
    {
      "cell_type": "code",
      "source": [
        "gsearch7.fit(X_trainNew, y_trainNew)"
      ],
      "metadata": {
        "colab": {
          "base_uri": "https://localhost:8080/",
          "height": 93
        },
        "id": "8Xhhy0OTchFu",
        "outputId": "8fbfb44c-a5a4-4ca7-fbf2-bc4eef52440a"
      },
      "execution_count": null,
      "outputs": [
        {
          "output_type": "execute_result",
          "data": {
            "text/plain": [
              "GridSearchCV(cv=5,\n",
              "             estimator=XGBClassifier(colsample_bytree=0.8, max_depth=4,\n",
              "                                     min_child_weight=4, n_estimators=500,\n",
              "                                     nthread=4, seed=27, subsample=0.8),\n",
              "             n_jobs=4, param_grid={'learning_rate': [0.01, 0.03, 0.05, 0.1]},\n",
              "             scoring=make_scorer(recall_score, pos_label=1))"
            ],
            "text/html": [
              "<style>#sk-febb02f1-e75e-4d44-a0c2-373c3f55371f {color: black;background-color: white;}#sk-febb02f1-e75e-4d44-a0c2-373c3f55371f pre{padding: 0;}#sk-febb02f1-e75e-4d44-a0c2-373c3f55371f div.sk-toggleable {background-color: white;}#sk-febb02f1-e75e-4d44-a0c2-373c3f55371f label.sk-toggleable__label {cursor: pointer;display: block;width: 100%;margin-bottom: 0;padding: 0.3em;box-sizing: border-box;text-align: center;}#sk-febb02f1-e75e-4d44-a0c2-373c3f55371f label.sk-toggleable__label-arrow:before {content: \"▸\";float: left;margin-right: 0.25em;color: #696969;}#sk-febb02f1-e75e-4d44-a0c2-373c3f55371f label.sk-toggleable__label-arrow:hover:before {color: black;}#sk-febb02f1-e75e-4d44-a0c2-373c3f55371f div.sk-estimator:hover label.sk-toggleable__label-arrow:before {color: black;}#sk-febb02f1-e75e-4d44-a0c2-373c3f55371f div.sk-toggleable__content {max-height: 0;max-width: 0;overflow: hidden;text-align: left;background-color: #f0f8ff;}#sk-febb02f1-e75e-4d44-a0c2-373c3f55371f div.sk-toggleable__content pre {margin: 0.2em;color: black;border-radius: 0.25em;background-color: #f0f8ff;}#sk-febb02f1-e75e-4d44-a0c2-373c3f55371f input.sk-toggleable__control:checked~div.sk-toggleable__content {max-height: 200px;max-width: 100%;overflow: auto;}#sk-febb02f1-e75e-4d44-a0c2-373c3f55371f input.sk-toggleable__control:checked~label.sk-toggleable__label-arrow:before {content: \"▾\";}#sk-febb02f1-e75e-4d44-a0c2-373c3f55371f div.sk-estimator input.sk-toggleable__control:checked~label.sk-toggleable__label {background-color: #d4ebff;}#sk-febb02f1-e75e-4d44-a0c2-373c3f55371f div.sk-label input.sk-toggleable__control:checked~label.sk-toggleable__label {background-color: #d4ebff;}#sk-febb02f1-e75e-4d44-a0c2-373c3f55371f input.sk-hidden--visually {border: 0;clip: rect(1px 1px 1px 1px);clip: rect(1px, 1px, 1px, 1px);height: 1px;margin: -1px;overflow: hidden;padding: 0;position: absolute;width: 1px;}#sk-febb02f1-e75e-4d44-a0c2-373c3f55371f div.sk-estimator {font-family: monospace;background-color: #f0f8ff;border: 1px dotted black;border-radius: 0.25em;box-sizing: border-box;margin-bottom: 0.5em;}#sk-febb02f1-e75e-4d44-a0c2-373c3f55371f div.sk-estimator:hover {background-color: #d4ebff;}#sk-febb02f1-e75e-4d44-a0c2-373c3f55371f div.sk-parallel-item::after {content: \"\";width: 100%;border-bottom: 1px solid gray;flex-grow: 1;}#sk-febb02f1-e75e-4d44-a0c2-373c3f55371f div.sk-label:hover label.sk-toggleable__label {background-color: #d4ebff;}#sk-febb02f1-e75e-4d44-a0c2-373c3f55371f div.sk-serial::before {content: \"\";position: absolute;border-left: 1px solid gray;box-sizing: border-box;top: 2em;bottom: 0;left: 50%;}#sk-febb02f1-e75e-4d44-a0c2-373c3f55371f div.sk-serial {display: flex;flex-direction: column;align-items: center;background-color: white;padding-right: 0.2em;padding-left: 0.2em;}#sk-febb02f1-e75e-4d44-a0c2-373c3f55371f div.sk-item {z-index: 1;}#sk-febb02f1-e75e-4d44-a0c2-373c3f55371f div.sk-parallel {display: flex;align-items: stretch;justify-content: center;background-color: white;}#sk-febb02f1-e75e-4d44-a0c2-373c3f55371f div.sk-parallel::before {content: \"\";position: absolute;border-left: 1px solid gray;box-sizing: border-box;top: 2em;bottom: 0;left: 50%;}#sk-febb02f1-e75e-4d44-a0c2-373c3f55371f div.sk-parallel-item {display: flex;flex-direction: column;position: relative;background-color: white;}#sk-febb02f1-e75e-4d44-a0c2-373c3f55371f div.sk-parallel-item:first-child::after {align-self: flex-end;width: 50%;}#sk-febb02f1-e75e-4d44-a0c2-373c3f55371f div.sk-parallel-item:last-child::after {align-self: flex-start;width: 50%;}#sk-febb02f1-e75e-4d44-a0c2-373c3f55371f div.sk-parallel-item:only-child::after {width: 0;}#sk-febb02f1-e75e-4d44-a0c2-373c3f55371f div.sk-dashed-wrapped {border: 1px dashed gray;margin: 0 0.4em 0.5em 0.4em;box-sizing: border-box;padding-bottom: 0.4em;background-color: white;position: relative;}#sk-febb02f1-e75e-4d44-a0c2-373c3f55371f div.sk-label label {font-family: monospace;font-weight: bold;background-color: white;display: inline-block;line-height: 1.2em;}#sk-febb02f1-e75e-4d44-a0c2-373c3f55371f div.sk-label-container {position: relative;z-index: 2;text-align: center;}#sk-febb02f1-e75e-4d44-a0c2-373c3f55371f div.sk-container {/* jupyter's `normalize.less` sets `[hidden] { display: none; }` but bootstrap.min.css set `[hidden] { display: none !important; }` so we also need the `!important` here to be able to override the default hidden behavior on the sphinx rendered scikit-learn.org. See: https://github.com/scikit-learn/scikit-learn/issues/21755 */display: inline-block !important;position: relative;}#sk-febb02f1-e75e-4d44-a0c2-373c3f55371f div.sk-text-repr-fallback {display: none;}</style><div id=\"sk-febb02f1-e75e-4d44-a0c2-373c3f55371f\" class=\"sk-top-container\"><div class=\"sk-text-repr-fallback\"><pre>GridSearchCV(cv=5,\n",
              "             estimator=XGBClassifier(colsample_bytree=0.8, max_depth=4,\n",
              "                                     min_child_weight=4, n_estimators=500,\n",
              "                                     nthread=4, seed=27, subsample=0.8),\n",
              "             n_jobs=4, param_grid={&#x27;learning_rate&#x27;: [0.01, 0.03, 0.05, 0.1]},\n",
              "             scoring=make_scorer(recall_score, pos_label=1))</pre><b>Please rerun this cell to show the HTML repr or trust the notebook.</b></div><div class=\"sk-container\" hidden><div class=\"sk-item sk-dashed-wrapped\"><div class=\"sk-label-container\"><div class=\"sk-label sk-toggleable\"><input class=\"sk-toggleable__control sk-hidden--visually\" id=\"6862a727-6024-4a41-a0ed-ba23fbadab40\" type=\"checkbox\" ><label for=\"6862a727-6024-4a41-a0ed-ba23fbadab40\" class=\"sk-toggleable__label sk-toggleable__label-arrow\">GridSearchCV</label><div class=\"sk-toggleable__content\"><pre>GridSearchCV(cv=5,\n",
              "             estimator=XGBClassifier(colsample_bytree=0.8, max_depth=4,\n",
              "                                     min_child_weight=4, n_estimators=500,\n",
              "                                     nthread=4, seed=27, subsample=0.8),\n",
              "             n_jobs=4, param_grid={&#x27;learning_rate&#x27;: [0.01, 0.03, 0.05, 0.1]},\n",
              "             scoring=make_scorer(recall_score, pos_label=1))</pre></div></div></div><div class=\"sk-parallel\"><div class=\"sk-parallel-item\"><div class=\"sk-item\"><div class=\"sk-serial\"><div class=\"sk-item\"><div class=\"sk-estimator sk-toggleable\"><input class=\"sk-toggleable__control sk-hidden--visually\" id=\"ed78d947-1414-4e19-9da5-4ea157b54b8e\" type=\"checkbox\" ><label for=\"ed78d947-1414-4e19-9da5-4ea157b54b8e\" class=\"sk-toggleable__label sk-toggleable__label-arrow\">XGBClassifier</label><div class=\"sk-toggleable__content\"><pre>XGBClassifier(colsample_bytree=0.8, max_depth=4, min_child_weight=4,\n",
              "              n_estimators=500, nthread=4, seed=27, subsample=0.8)</pre></div></div></div></div></div></div></div></div></div></div>"
            ]
          },
          "metadata": {},
          "execution_count": 459
        }
      ]
    },
    {
      "cell_type": "code",
      "source": [
        "gsearch7.best_params_,gsearch6.best_score_ "
      ],
      "metadata": {
        "colab": {
          "base_uri": "https://localhost:8080/"
        },
        "id": "kHuc-9RIcg64",
        "outputId": "97f5d6a8-789c-4f2b-8d53-7d4fc4e1ec24"
      },
      "execution_count": null,
      "outputs": [
        {
          "output_type": "execute_result",
          "data": {
            "text/plain": [
              "({'learning_rate': 0.03}, 0.8922222222222222)"
            ]
          },
          "metadata": {},
          "execution_count": 460
        }
      ]
    },
    {
      "cell_type": "code",
      "source": [
        "xgb7 = XGBClassifier(\n",
        " learning_rate =0.01,\n",
        " n_estimators=500,\n",
        " max_depth=3,\n",
        " min_child_weight=4,\n",
        " gamma=0,\n",
        " subsample=0.9,\n",
        " colsample_bytree=0.9,\n",
        " objective= 'binary:logistic',\n",
        " nthread=4,\n",
        " scale_pos_weight=1,\n",
        " seed=27)"
      ],
      "metadata": {
        "id": "clsOtAUP66Ao"
      },
      "execution_count": null,
      "outputs": []
    },
    {
      "cell_type": "code",
      "source": [
        "xgb7.fit(X_trainNew, y_trainNew)"
      ],
      "metadata": {
        "colab": {
          "base_uri": "https://localhost:8080/",
          "height": 92
        },
        "id": "jDI21aR17Aga",
        "outputId": "a8a893cc-d305-49ea-e081-783b3500ac6a"
      },
      "execution_count": null,
      "outputs": [
        {
          "output_type": "execute_result",
          "data": {
            "text/plain": [
              "XGBClassifier(colsample_bytree=0.9, learning_rate=0.01, min_child_weight=4,\n",
              "              n_estimators=500, nthread=4, seed=27, subsample=0.9)"
            ],
            "text/html": [
              "<style>#sk-acbb723e-936b-4bf6-8f2d-cc08ce844a95 {color: black;background-color: white;}#sk-acbb723e-936b-4bf6-8f2d-cc08ce844a95 pre{padding: 0;}#sk-acbb723e-936b-4bf6-8f2d-cc08ce844a95 div.sk-toggleable {background-color: white;}#sk-acbb723e-936b-4bf6-8f2d-cc08ce844a95 label.sk-toggleable__label {cursor: pointer;display: block;width: 100%;margin-bottom: 0;padding: 0.3em;box-sizing: border-box;text-align: center;}#sk-acbb723e-936b-4bf6-8f2d-cc08ce844a95 label.sk-toggleable__label-arrow:before {content: \"▸\";float: left;margin-right: 0.25em;color: #696969;}#sk-acbb723e-936b-4bf6-8f2d-cc08ce844a95 label.sk-toggleable__label-arrow:hover:before {color: black;}#sk-acbb723e-936b-4bf6-8f2d-cc08ce844a95 div.sk-estimator:hover label.sk-toggleable__label-arrow:before {color: black;}#sk-acbb723e-936b-4bf6-8f2d-cc08ce844a95 div.sk-toggleable__content {max-height: 0;max-width: 0;overflow: hidden;text-align: left;background-color: #f0f8ff;}#sk-acbb723e-936b-4bf6-8f2d-cc08ce844a95 div.sk-toggleable__content pre {margin: 0.2em;color: black;border-radius: 0.25em;background-color: #f0f8ff;}#sk-acbb723e-936b-4bf6-8f2d-cc08ce844a95 input.sk-toggleable__control:checked~div.sk-toggleable__content {max-height: 200px;max-width: 100%;overflow: auto;}#sk-acbb723e-936b-4bf6-8f2d-cc08ce844a95 input.sk-toggleable__control:checked~label.sk-toggleable__label-arrow:before {content: \"▾\";}#sk-acbb723e-936b-4bf6-8f2d-cc08ce844a95 div.sk-estimator input.sk-toggleable__control:checked~label.sk-toggleable__label {background-color: #d4ebff;}#sk-acbb723e-936b-4bf6-8f2d-cc08ce844a95 div.sk-label input.sk-toggleable__control:checked~label.sk-toggleable__label {background-color: #d4ebff;}#sk-acbb723e-936b-4bf6-8f2d-cc08ce844a95 input.sk-hidden--visually {border: 0;clip: rect(1px 1px 1px 1px);clip: rect(1px, 1px, 1px, 1px);height: 1px;margin: -1px;overflow: hidden;padding: 0;position: absolute;width: 1px;}#sk-acbb723e-936b-4bf6-8f2d-cc08ce844a95 div.sk-estimator {font-family: monospace;background-color: #f0f8ff;border: 1px dotted black;border-radius: 0.25em;box-sizing: border-box;margin-bottom: 0.5em;}#sk-acbb723e-936b-4bf6-8f2d-cc08ce844a95 div.sk-estimator:hover {background-color: #d4ebff;}#sk-acbb723e-936b-4bf6-8f2d-cc08ce844a95 div.sk-parallel-item::after {content: \"\";width: 100%;border-bottom: 1px solid gray;flex-grow: 1;}#sk-acbb723e-936b-4bf6-8f2d-cc08ce844a95 div.sk-label:hover label.sk-toggleable__label {background-color: #d4ebff;}#sk-acbb723e-936b-4bf6-8f2d-cc08ce844a95 div.sk-serial::before {content: \"\";position: absolute;border-left: 1px solid gray;box-sizing: border-box;top: 2em;bottom: 0;left: 50%;}#sk-acbb723e-936b-4bf6-8f2d-cc08ce844a95 div.sk-serial {display: flex;flex-direction: column;align-items: center;background-color: white;padding-right: 0.2em;padding-left: 0.2em;}#sk-acbb723e-936b-4bf6-8f2d-cc08ce844a95 div.sk-item {z-index: 1;}#sk-acbb723e-936b-4bf6-8f2d-cc08ce844a95 div.sk-parallel {display: flex;align-items: stretch;justify-content: center;background-color: white;}#sk-acbb723e-936b-4bf6-8f2d-cc08ce844a95 div.sk-parallel::before {content: \"\";position: absolute;border-left: 1px solid gray;box-sizing: border-box;top: 2em;bottom: 0;left: 50%;}#sk-acbb723e-936b-4bf6-8f2d-cc08ce844a95 div.sk-parallel-item {display: flex;flex-direction: column;position: relative;background-color: white;}#sk-acbb723e-936b-4bf6-8f2d-cc08ce844a95 div.sk-parallel-item:first-child::after {align-self: flex-end;width: 50%;}#sk-acbb723e-936b-4bf6-8f2d-cc08ce844a95 div.sk-parallel-item:last-child::after {align-self: flex-start;width: 50%;}#sk-acbb723e-936b-4bf6-8f2d-cc08ce844a95 div.sk-parallel-item:only-child::after {width: 0;}#sk-acbb723e-936b-4bf6-8f2d-cc08ce844a95 div.sk-dashed-wrapped {border: 1px dashed gray;margin: 0 0.4em 0.5em 0.4em;box-sizing: border-box;padding-bottom: 0.4em;background-color: white;position: relative;}#sk-acbb723e-936b-4bf6-8f2d-cc08ce844a95 div.sk-label label {font-family: monospace;font-weight: bold;background-color: white;display: inline-block;line-height: 1.2em;}#sk-acbb723e-936b-4bf6-8f2d-cc08ce844a95 div.sk-label-container {position: relative;z-index: 2;text-align: center;}#sk-acbb723e-936b-4bf6-8f2d-cc08ce844a95 div.sk-container {/* jupyter's `normalize.less` sets `[hidden] { display: none; }` but bootstrap.min.css set `[hidden] { display: none !important; }` so we also need the `!important` here to be able to override the default hidden behavior on the sphinx rendered scikit-learn.org. See: https://github.com/scikit-learn/scikit-learn/issues/21755 */display: inline-block !important;position: relative;}#sk-acbb723e-936b-4bf6-8f2d-cc08ce844a95 div.sk-text-repr-fallback {display: none;}</style><div id=\"sk-acbb723e-936b-4bf6-8f2d-cc08ce844a95\" class=\"sk-top-container\"><div class=\"sk-text-repr-fallback\"><pre>XGBClassifier(colsample_bytree=0.9, learning_rate=0.01, min_child_weight=4,\n",
              "              n_estimators=500, nthread=4, seed=27, subsample=0.9)</pre><b>Please rerun this cell to show the HTML repr or trust the notebook.</b></div><div class=\"sk-container\" hidden><div class=\"sk-item\"><div class=\"sk-estimator sk-toggleable\"><input class=\"sk-toggleable__control sk-hidden--visually\" id=\"7b0aca52-0b71-4fa8-893d-bf2c298a1d06\" type=\"checkbox\" checked><label for=\"7b0aca52-0b71-4fa8-893d-bf2c298a1d06\" class=\"sk-toggleable__label sk-toggleable__label-arrow\">XGBClassifier</label><div class=\"sk-toggleable__content\"><pre>XGBClassifier(colsample_bytree=0.9, learning_rate=0.01, min_child_weight=4,\n",
              "              n_estimators=500, nthread=4, seed=27, subsample=0.9)</pre></div></div></div></div></div>"
            ]
          },
          "metadata": {},
          "execution_count": 462
        }
      ]
    },
    {
      "cell_type": "code",
      "source": [
        "y_pred_x7 = xgb7.predict(X_test)"
      ],
      "metadata": {
        "id": "gXcubUNe7DXS"
      },
      "execution_count": null,
      "outputs": []
    },
    {
      "cell_type": "markdown",
      "source": [
        "### Results:"
      ],
      "metadata": {
        "id": "FwAjCTZWZVNi"
      }
    },
    {
      "cell_type": "code",
      "source": [
        "confusion_matrix(y_test, y_pred_x7)"
      ],
      "metadata": {
        "colab": {
          "base_uri": "https://localhost:8080/"
        },
        "id": "nR1GAfNx7F3Z",
        "outputId": "9210e2e1-9e20-4d06-d9a0-45bf8faad284"
      },
      "execution_count": null,
      "outputs": [
        {
          "output_type": "execute_result",
          "data": {
            "text/plain": [
              "array([[1122,  198],\n",
              "       [   4,   40]])"
            ]
          },
          "metadata": {},
          "execution_count": 473
        }
      ]
    },
    {
      "cell_type": "code",
      "source": [
        "print (classification_report (y_test, y_pred_x7))"
      ],
      "metadata": {
        "colab": {
          "base_uri": "https://localhost:8080/"
        },
        "id": "KpKOee1R7Hxw",
        "outputId": "a2f5fb4c-b072-4a2c-c0e3-50159c9b17bd"
      },
      "execution_count": null,
      "outputs": [
        {
          "output_type": "stream",
          "name": "stdout",
          "text": [
            "              precision    recall  f1-score   support\n",
            "\n",
            "           0       1.00      0.85      0.92      1320\n",
            "           1       0.17      0.91      0.28        44\n",
            "\n",
            "    accuracy                           0.85      1364\n",
            "   macro avg       0.58      0.88      0.60      1364\n",
            "weighted avg       0.97      0.85      0.90      1364\n",
            "\n"
          ]
        }
      ]
    },
    {
      "cell_type": "markdown",
      "source": [
        "## Final Thoughts on XGBoost\n",
        "- Baseline\n",
        "\n",
        "|Class||Precision||Recall||F1-Score|\n",
        "|-----||---------||------||--------|\n",
        "|Yes||0.75||0.20||0.32 |\n",
        "\n",
        "- After Undersampling\n",
        "\n",
        "|Class||Precision||Recall||F1-Score|\n",
        "|-----||---------||------||--------|\n",
        "|Yes||0.17||0.89||0.29 |\n",
        "\n",
        "- After All That Tuning!\n",
        "\n",
        "|Class||Precision||Recall||F1-Score|\n",
        "|-----||---------||------||--------|\n",
        "|Yes||0.18||0.91||0.30 |\n",
        "\n",
        "<br>\n",
        "\n",
        "1. Undersampling made the biggest difference.\n",
        "2. Tuning was able to both improve precision and recall, but only slightly.\n",
        "3. If we wanted to focus more on precision and f1-score, we could have tuned the over-sampled model.\n",
        "4. Precision was definitely sacrificed for recall.\n",
        "5. If we had chosen to use the over-sampled data, the run times for fitting the models while tuning would have been extremely long.\n",
        "5. In the end our model caught all but 4 companies from our test data that went bankrupt. Our final recall was 91%.\n"
      ],
      "metadata": {
        "id": "_1zWzqjLZZIJ"
      }
    },
    {
      "cell_type": "markdown",
      "source": [
        "# PCA"
      ],
      "metadata": {
        "id": "ApcZd1D6RHxk"
      }
    },
    {
      "cell_type": "markdown",
      "source": [
        "Examining if Principle Component Analysis "
      ],
      "metadata": {
        "id": "XFt4bmpIkLK9"
      }
    },
    {
      "cell_type": "code",
      "source": [
        "from sklearn.pipeline import Pipeline\n",
        "from sklearn.preprocessing import StandardScaler\n",
        "from sklearn.decomposition import PCA"
      ],
      "metadata": {
        "id": "Eja807OWbcNX"
      },
      "execution_count": null,
      "outputs": []
    },
    {
      "cell_type": "code",
      "source": [
        "pca_X = df_X.copy()\n"
      ],
      "metadata": {
        "id": "2jo_KxnX3SxP"
      },
      "execution_count": null,
      "outputs": []
    },
    {
      "cell_type": "code",
      "source": [
        "# In order for PCA to work correctly, any categorical variables need to be removed\n",
        "\n",
        "pca_X.drop(labels=[94], axis=1, inplace = True)"
      ],
      "metadata": {
        "id": "nQ_nvSG_44Wd"
      },
      "execution_count": null,
      "outputs": []
    },
    {
      "cell_type": "code",
      "source": [
        "pca_X.head(1)"
      ],
      "metadata": {
        "colab": {
          "base_uri": "https://localhost:8080/",
          "height": 145
        },
        "id": "ixzwD-oZ5L6p",
        "outputId": "afe67793-05ad-41cb-c73a-4984637b66b1"
      },
      "execution_count": null,
      "outputs": [
        {
          "output_type": "execute_result",
          "data": {
            "text/plain": [
              "         1         2        3         4         5         6         7   \\\n",
              "0  0.370594  0.424389  0.40575  0.601457  0.601457  0.998969  0.796887   \n",
              "\n",
              "         8         9         10        11   12        13        14   15  \\\n",
              "0  0.808809  0.302646  0.780985  0.000126  0.0  0.458143  0.000725  0.0   \n",
              "\n",
              "        16       17       18        19        20       21        22        23  \\\n",
              "0  0.14795  0.14795  0.14795  0.169141  0.311664  0.01756  0.095921  0.138736   \n",
              "\n",
              "         24        25        26        27        28            29        30  \\\n",
              "0  0.022102  0.848195  0.688979  0.688979  0.217535  4.980000e+09  0.000327   \n",
              "\n",
              "       31        32        33        34        35        36        37  \\\n",
              "0  0.2631  0.363725  0.002259  0.001208  0.629951  0.021266  0.207576   \n",
              "\n",
              "         38        39        40        41        42        43        44  \\\n",
              "0  0.792424  0.005024  0.390284  0.006479  0.095885  0.137757  0.398036   \n",
              "\n",
              "         45        46        47        48        49        50        51  \\\n",
              "0  0.086957  0.001814  0.003487  0.000182  0.000117  0.032903  0.034164   \n",
              "\n",
              "         52        53        54        55        56        57        58  \\\n",
              "0  0.392913  0.037135  0.672775  0.166673  0.190643  0.004094  0.001997   \n",
              "\n",
              "         59        60        61       62        63        64        65  \\\n",
              "0  0.000147  0.147308  0.334015  0.27692  0.001036  0.676269  0.721275   \n",
              "\n",
              "         66        67        68        69        70           71  \\\n",
              "0  0.339077  0.025592  0.903225  0.002022  0.064856  701000000.0   \n",
              "\n",
              "             72        73           74        75        76        77  \\\n",
              "0  6.550000e+09  0.593831  458000000.0  0.671568  0.424206  0.676269   \n",
              "\n",
              "         78        79        80        81        82        83       84  \\\n",
              "0  0.339077  0.126549  0.637555  0.458609  0.520382  0.312905  0.11825   \n",
              "\n",
              "         85        86        87        88       89        90        91  \\\n",
              "0  0.716845  0.009219  0.622879  0.601453  0.82789  0.290202  0.026601   \n",
              "\n",
              "        92        93  \n",
              "0  0.56405  0.016469  "
            ],
            "text/html": [
              "\n",
              "  <div id=\"df-09f59635-17e2-40a4-ab8a-3a8abd29da08\">\n",
              "    <div class=\"colab-df-container\">\n",
              "      <div>\n",
              "<style scoped>\n",
              "    .dataframe tbody tr th:only-of-type {\n",
              "        vertical-align: middle;\n",
              "    }\n",
              "\n",
              "    .dataframe tbody tr th {\n",
              "        vertical-align: top;\n",
              "    }\n",
              "\n",
              "    .dataframe thead th {\n",
              "        text-align: right;\n",
              "    }\n",
              "</style>\n",
              "<table border=\"1\" class=\"dataframe\">\n",
              "  <thead>\n",
              "    <tr style=\"text-align: right;\">\n",
              "      <th></th>\n",
              "      <th>1</th>\n",
              "      <th>2</th>\n",
              "      <th>3</th>\n",
              "      <th>4</th>\n",
              "      <th>5</th>\n",
              "      <th>6</th>\n",
              "      <th>7</th>\n",
              "      <th>8</th>\n",
              "      <th>9</th>\n",
              "      <th>10</th>\n",
              "      <th>11</th>\n",
              "      <th>12</th>\n",
              "      <th>13</th>\n",
              "      <th>14</th>\n",
              "      <th>15</th>\n",
              "      <th>16</th>\n",
              "      <th>17</th>\n",
              "      <th>18</th>\n",
              "      <th>19</th>\n",
              "      <th>20</th>\n",
              "      <th>21</th>\n",
              "      <th>22</th>\n",
              "      <th>23</th>\n",
              "      <th>24</th>\n",
              "      <th>25</th>\n",
              "      <th>26</th>\n",
              "      <th>27</th>\n",
              "      <th>28</th>\n",
              "      <th>29</th>\n",
              "      <th>30</th>\n",
              "      <th>31</th>\n",
              "      <th>32</th>\n",
              "      <th>33</th>\n",
              "      <th>34</th>\n",
              "      <th>35</th>\n",
              "      <th>36</th>\n",
              "      <th>37</th>\n",
              "      <th>38</th>\n",
              "      <th>39</th>\n",
              "      <th>40</th>\n",
              "      <th>41</th>\n",
              "      <th>42</th>\n",
              "      <th>43</th>\n",
              "      <th>44</th>\n",
              "      <th>45</th>\n",
              "      <th>46</th>\n",
              "      <th>47</th>\n",
              "      <th>48</th>\n",
              "      <th>49</th>\n",
              "      <th>50</th>\n",
              "      <th>51</th>\n",
              "      <th>52</th>\n",
              "      <th>53</th>\n",
              "      <th>54</th>\n",
              "      <th>55</th>\n",
              "      <th>56</th>\n",
              "      <th>57</th>\n",
              "      <th>58</th>\n",
              "      <th>59</th>\n",
              "      <th>60</th>\n",
              "      <th>61</th>\n",
              "      <th>62</th>\n",
              "      <th>63</th>\n",
              "      <th>64</th>\n",
              "      <th>65</th>\n",
              "      <th>66</th>\n",
              "      <th>67</th>\n",
              "      <th>68</th>\n",
              "      <th>69</th>\n",
              "      <th>70</th>\n",
              "      <th>71</th>\n",
              "      <th>72</th>\n",
              "      <th>73</th>\n",
              "      <th>74</th>\n",
              "      <th>75</th>\n",
              "      <th>76</th>\n",
              "      <th>77</th>\n",
              "      <th>78</th>\n",
              "      <th>79</th>\n",
              "      <th>80</th>\n",
              "      <th>81</th>\n",
              "      <th>82</th>\n",
              "      <th>83</th>\n",
              "      <th>84</th>\n",
              "      <th>85</th>\n",
              "      <th>86</th>\n",
              "      <th>87</th>\n",
              "      <th>88</th>\n",
              "      <th>89</th>\n",
              "      <th>90</th>\n",
              "      <th>91</th>\n",
              "      <th>92</th>\n",
              "      <th>93</th>\n",
              "    </tr>\n",
              "  </thead>\n",
              "  <tbody>\n",
              "    <tr>\n",
              "      <th>0</th>\n",
              "      <td>0.370594</td>\n",
              "      <td>0.424389</td>\n",
              "      <td>0.40575</td>\n",
              "      <td>0.601457</td>\n",
              "      <td>0.601457</td>\n",
              "      <td>0.998969</td>\n",
              "      <td>0.796887</td>\n",
              "      <td>0.808809</td>\n",
              "      <td>0.302646</td>\n",
              "      <td>0.780985</td>\n",
              "      <td>0.000126</td>\n",
              "      <td>0.0</td>\n",
              "      <td>0.458143</td>\n",
              "      <td>0.000725</td>\n",
              "      <td>0.0</td>\n",
              "      <td>0.14795</td>\n",
              "      <td>0.14795</td>\n",
              "      <td>0.14795</td>\n",
              "      <td>0.169141</td>\n",
              "      <td>0.311664</td>\n",
              "      <td>0.01756</td>\n",
              "      <td>0.095921</td>\n",
              "      <td>0.138736</td>\n",
              "      <td>0.022102</td>\n",
              "      <td>0.848195</td>\n",
              "      <td>0.688979</td>\n",
              "      <td>0.688979</td>\n",
              "      <td>0.217535</td>\n",
              "      <td>4.980000e+09</td>\n",
              "      <td>0.000327</td>\n",
              "      <td>0.2631</td>\n",
              "      <td>0.363725</td>\n",
              "      <td>0.002259</td>\n",
              "      <td>0.001208</td>\n",
              "      <td>0.629951</td>\n",
              "      <td>0.021266</td>\n",
              "      <td>0.207576</td>\n",
              "      <td>0.792424</td>\n",
              "      <td>0.005024</td>\n",
              "      <td>0.390284</td>\n",
              "      <td>0.006479</td>\n",
              "      <td>0.095885</td>\n",
              "      <td>0.137757</td>\n",
              "      <td>0.398036</td>\n",
              "      <td>0.086957</td>\n",
              "      <td>0.001814</td>\n",
              "      <td>0.003487</td>\n",
              "      <td>0.000182</td>\n",
              "      <td>0.000117</td>\n",
              "      <td>0.032903</td>\n",
              "      <td>0.034164</td>\n",
              "      <td>0.392913</td>\n",
              "      <td>0.037135</td>\n",
              "      <td>0.672775</td>\n",
              "      <td>0.166673</td>\n",
              "      <td>0.190643</td>\n",
              "      <td>0.004094</td>\n",
              "      <td>0.001997</td>\n",
              "      <td>0.000147</td>\n",
              "      <td>0.147308</td>\n",
              "      <td>0.334015</td>\n",
              "      <td>0.27692</td>\n",
              "      <td>0.001036</td>\n",
              "      <td>0.676269</td>\n",
              "      <td>0.721275</td>\n",
              "      <td>0.339077</td>\n",
              "      <td>0.025592</td>\n",
              "      <td>0.903225</td>\n",
              "      <td>0.002022</td>\n",
              "      <td>0.064856</td>\n",
              "      <td>701000000.0</td>\n",
              "      <td>6.550000e+09</td>\n",
              "      <td>0.593831</td>\n",
              "      <td>458000000.0</td>\n",
              "      <td>0.671568</td>\n",
              "      <td>0.424206</td>\n",
              "      <td>0.676269</td>\n",
              "      <td>0.339077</td>\n",
              "      <td>0.126549</td>\n",
              "      <td>0.637555</td>\n",
              "      <td>0.458609</td>\n",
              "      <td>0.520382</td>\n",
              "      <td>0.312905</td>\n",
              "      <td>0.11825</td>\n",
              "      <td>0.716845</td>\n",
              "      <td>0.009219</td>\n",
              "      <td>0.622879</td>\n",
              "      <td>0.601453</td>\n",
              "      <td>0.82789</td>\n",
              "      <td>0.290202</td>\n",
              "      <td>0.026601</td>\n",
              "      <td>0.56405</td>\n",
              "      <td>0.016469</td>\n",
              "    </tr>\n",
              "  </tbody>\n",
              "</table>\n",
              "</div>\n",
              "      <button class=\"colab-df-convert\" onclick=\"convertToInteractive('df-09f59635-17e2-40a4-ab8a-3a8abd29da08')\"\n",
              "              title=\"Convert this dataframe to an interactive table.\"\n",
              "              style=\"display:none;\">\n",
              "        \n",
              "  <svg xmlns=\"http://www.w3.org/2000/svg\" height=\"24px\"viewBox=\"0 0 24 24\"\n",
              "       width=\"24px\">\n",
              "    <path d=\"M0 0h24v24H0V0z\" fill=\"none\"/>\n",
              "    <path d=\"M18.56 5.44l.94 2.06.94-2.06 2.06-.94-2.06-.94-.94-2.06-.94 2.06-2.06.94zm-11 1L8.5 8.5l.94-2.06 2.06-.94-2.06-.94L8.5 2.5l-.94 2.06-2.06.94zm10 10l.94 2.06.94-2.06 2.06-.94-2.06-.94-.94-2.06-.94 2.06-2.06.94z\"/><path d=\"M17.41 7.96l-1.37-1.37c-.4-.4-.92-.59-1.43-.59-.52 0-1.04.2-1.43.59L10.3 9.45l-7.72 7.72c-.78.78-.78 2.05 0 2.83L4 21.41c.39.39.9.59 1.41.59.51 0 1.02-.2 1.41-.59l7.78-7.78 2.81-2.81c.8-.78.8-2.07 0-2.86zM5.41 20L4 18.59l7.72-7.72 1.47 1.35L5.41 20z\"/>\n",
              "  </svg>\n",
              "      </button>\n",
              "      \n",
              "  <style>\n",
              "    .colab-df-container {\n",
              "      display:flex;\n",
              "      flex-wrap:wrap;\n",
              "      gap: 12px;\n",
              "    }\n",
              "\n",
              "    .colab-df-convert {\n",
              "      background-color: #E8F0FE;\n",
              "      border: none;\n",
              "      border-radius: 50%;\n",
              "      cursor: pointer;\n",
              "      display: none;\n",
              "      fill: #1967D2;\n",
              "      height: 32px;\n",
              "      padding: 0 0 0 0;\n",
              "      width: 32px;\n",
              "    }\n",
              "\n",
              "    .colab-df-convert:hover {\n",
              "      background-color: #E2EBFA;\n",
              "      box-shadow: 0px 1px 2px rgba(60, 64, 67, 0.3), 0px 1px 3px 1px rgba(60, 64, 67, 0.15);\n",
              "      fill: #174EA6;\n",
              "    }\n",
              "\n",
              "    [theme=dark] .colab-df-convert {\n",
              "      background-color: #3B4455;\n",
              "      fill: #D2E3FC;\n",
              "    }\n",
              "\n",
              "    [theme=dark] .colab-df-convert:hover {\n",
              "      background-color: #434B5C;\n",
              "      box-shadow: 0px 1px 3px 1px rgba(0, 0, 0, 0.15);\n",
              "      filter: drop-shadow(0px 1px 2px rgba(0, 0, 0, 0.3));\n",
              "      fill: #FFFFFF;\n",
              "    }\n",
              "  </style>\n",
              "\n",
              "      <script>\n",
              "        const buttonEl =\n",
              "          document.querySelector('#df-09f59635-17e2-40a4-ab8a-3a8abd29da08 button.colab-df-convert');\n",
              "        buttonEl.style.display =\n",
              "          google.colab.kernel.accessAllowed ? 'block' : 'none';\n",
              "\n",
              "        async function convertToInteractive(key) {\n",
              "          const element = document.querySelector('#df-09f59635-17e2-40a4-ab8a-3a8abd29da08');\n",
              "          const dataTable =\n",
              "            await google.colab.kernel.invokeFunction('convertToInteractive',\n",
              "                                                     [key], {});\n",
              "          if (!dataTable) return;\n",
              "\n",
              "          const docLinkHtml = 'Like what you see? Visit the ' +\n",
              "            '<a target=\"_blank\" href=https://colab.research.google.com/notebooks/data_table.ipynb>data table notebook</a>'\n",
              "            + ' to learn more about interactive tables.';\n",
              "          element.innerHTML = '';\n",
              "          dataTable['output_type'] = 'display_data';\n",
              "          await google.colab.output.renderOutput(dataTable, element);\n",
              "          const docLink = document.createElement('div');\n",
              "          docLink.innerHTML = docLinkHtml;\n",
              "          element.appendChild(docLink);\n",
              "        }\n",
              "      </script>\n",
              "    </div>\n",
              "  </div>\n",
              "  "
            ]
          },
          "metadata": {},
          "execution_count": 38
        }
      ]
    },
    {
      "cell_type": "code",
      "source": [
        "X_train_pca, X_test_pca, y_train_pca, y_test_pca = train_test_split(pca_X, df_y, test_size=0.20, random_state=1, stratify= df_y)"
      ],
      "metadata": {
        "id": "8cpYtVwl3_Qw"
      },
      "execution_count": null,
      "outputs": []
    },
    {
      "cell_type": "code",
      "source": [
        "print(y_train_pca.value_counts('Yes'))\n",
        "print(y_test_pca.value_counts('Yes'))"
      ],
      "metadata": {
        "colab": {
          "base_uri": "https://localhost:8080/"
        },
        "id": "jBabZ7rQ517H",
        "outputId": "7f41f25b-91af-4066-edf9-b690e123f49d"
      },
      "execution_count": null,
      "outputs": [
        {
          "output_type": "stream",
          "name": "stdout",
          "text": [
            "0    0.967736\n",
            "1    0.032264\n",
            "Name: 0, dtype: float64\n",
            "0    0.967742\n",
            "1    0.032258\n",
            "Name: 0, dtype: float64\n"
          ]
        }
      ]
    },
    {
      "cell_type": "markdown",
      "source": [
        "Getting scree plot"
      ],
      "metadata": {
        "id": "pH-vkwkv-GCC"
      }
    },
    {
      "cell_type": "code",
      "source": [
        "from sklearn.decomposition import PCA\n",
        "\n",
        "#define PCA model to use\n",
        "pca1 = PCA(.95)\n",
        "\n",
        "#fit PCA model to data\n",
        "pca_fit = pca1.fit(df_X)"
      ],
      "metadata": {
        "id": "aSQjznG598-P"
      },
      "execution_count": null,
      "outputs": []
    },
    {
      "cell_type": "code",
      "source": [
        "import matplotlib.pyplot as plt\n",
        "import numpy as np\n",
        "\n",
        "PC_values = np.arange(pca1.n_components_) + 1\n",
        "plt.plot(PC_values, pca.explained_variance_ratio_, 'o-', linewidth=2, color='blue')\n",
        "plt.title('Scree Plot')\n",
        "plt.xlabel('Principal Component')\n",
        "plt.ylabel('Variance Explained')\n",
        "plt.show()"
      ],
      "metadata": {
        "colab": {
          "base_uri": "https://localhost:8080/",
          "height": 331
        },
        "id": "O14hZxWx-a_t",
        "outputId": "c9ddbce3-761b-47ef-984b-f1841d71e3bf"
      },
      "execution_count": null,
      "outputs": [
        {
          "output_type": "execute_result",
          "data": {
            "text/plain": [
              "[<matplotlib.lines.Line2D at 0x7fe47182aa90>]"
            ]
          },
          "metadata": {},
          "execution_count": 59
        },
        {
          "output_type": "execute_result",
          "data": {
            "text/plain": [
              "Text(0.5, 1.0, 'Scree Plot')"
            ]
          },
          "metadata": {},
          "execution_count": 59
        },
        {
          "output_type": "execute_result",
          "data": {
            "text/plain": [
              "Text(0.5, 0, 'Principal Component')"
            ]
          },
          "metadata": {},
          "execution_count": 59
        },
        {
          "output_type": "execute_result",
          "data": {
            "text/plain": [
              "Text(0, 0.5, 'Variance Explained')"
            ]
          },
          "metadata": {},
          "execution_count": 59
        },
        {
          "output_type": "display_data",
          "data": {
            "text/plain": [
              "<Figure size 432x288 with 1 Axes>"
            ],
            "image/png": "[encoded data removed]"
          },
          "metadata": {
            "needs_background": "light"
          }
        }
      ]
    },
    {
      "cell_type": "code",
      "source": [
        "print(pca1.explained_variance_ratio_)"
      ],
      "metadata": {
        "colab": {
          "base_uri": "https://localhost:8080/"
        },
        "id": "5eR170lm_Fii",
        "outputId": "cd0a134c-9902-46b4-9b0a-c97ea2b56184"
      },
      "execution_count": null,
      "outputs": [
        {
          "output_type": "stream",
          "name": "stdout",
          "text": [
            "[0.22342624 0.15536212 0.1256732  0.12159419 0.10995552 0.09027313\n",
            " 0.08407327 0.06922255]\n"
          ]
        }
      ]
    },
    {
      "cell_type": "markdown",
      "source": [
        "Using PCA to compare algorithm outputs"
      ],
      "metadata": {
        "id": "QkTBJ2YW-AOL"
      }
    },
    {
      "cell_type": "code",
      "source": [
        "from sklearn.metrics import accuracy_score, log_loss\n",
        "from sklearn.neighbors import KNeighborsClassifier\n",
        "from sklearn.svm import SVC, LinearSVC, NuSVC\n",
        "from sklearn.tree import DecisionTreeClassifier\n",
        "from sklearn.ensemble import RandomForestClassifier, AdaBoostClassifier, GradientBoostingClassifier\n",
        "from sklearn.discriminant_analysis import LinearDiscriminantAnalysis\n",
        "from sklearn.discriminant_analysis import QuadraticDiscriminantAnalysis\n",
        "from xgboost import XGBClassifier\n",
        "from sklearn.ensemble import RandomForestClassifier\n",
        "\n",
        "results_pca = []\n",
        "names_pca = []\n",
        "\n",
        "modelsPCA = []\n",
        "modelsPCA.append(('LR', LogisticRegression(solver='liblinear', multi_class='ovr')))\n",
        "modelsPCA.append(('LDA', LinearDiscriminantAnalysis()))\n",
        "modelsPCA.append(('KNN', KNeighborsClassifier()))\n",
        "modelsPCA.append(('CART', DecisionTreeClassifier()))\n",
        "modelsPCA.append(('NB', GaussianNB()))\n",
        "modelsPCA.append(('SVM', SVC(gamma='auto')))\n",
        "modelsPCA.append(('XGB', XGBClassifier()))\n",
        "modelsPCA.append(('RFC', RandomForestClassifier()))\n",
        "    \n",
        "#for classifier in classifiers:\n",
        "for name, model in modelsPCA:\n",
        "  pipe = Pipeline(steps=[('scaler', StandardScaler()), ('pca', PCA(n_components=.95)), ('classifier', model)])\n",
        "  kfold = StratifiedKFold(n_splits=10, random_state=1, shuffle=True)\n",
        "  cv_results = cross_val_score(pipe, X_train_pca, y_train_pca, cv=kfold, scoring='accuracy')\n",
        "  results_pca.append(cv_results)\n",
        "  names_pca.append(name)\n",
        "  print('%s: %f accuracy    (%f) std' % (name, cv_results.mean(), cv_results.std()))\n",
        "  "
      ],
      "metadata": {
        "colab": {
          "base_uri": "https://localhost:8080/"
        },
        "id": "hojjNFEz_Fhd",
        "outputId": "eedb5818-26bd-4df4-b517-bedd1d88f62c"
      },
      "execution_count": null,
      "outputs": [
        {
          "output_type": "stream",
          "name": "stdout",
          "text": [
            "LR: 0.967003 accuracy    (0.004335) std\n",
            "LDA: 0.960403 accuracy    (0.007345) std\n",
            "KNN: 0.968106 accuracy    (0.005675) std\n",
            "CART: 0.946107 accuracy    (0.007095) std\n",
            "NB: 0.925396 accuracy    (0.012008) std\n",
            "SVM: 0.967737 accuracy    (0.000874) std\n",
            "XGB: 0.968652 accuracy    (0.004677) std\n",
            "RFC: 0.968470 accuracy    (0.001958) std\n"
          ]
        }
      ]
    },
    {
      "cell_type": "code",
      "source": [
        "# Listing recall by model instead of just accurcy above\n",
        "\n",
        "for name, model in modelsPCA:\n",
        "  pipe = Pipeline(steps=[('scaler', StandardScaler()), ('pca', PCA(n_components=.95)), ('classifier', model)])\n",
        "  kfold = StratifiedKFold(n_splits=10, random_state=1, shuffle=True)\n",
        "  cv_results = cross_val_score(pipe, X_train_pca, y_train_pca, cv=kfold, scoring='recall')\n",
        "  results_pca.append(cv_results)\n",
        "  names_pca.append(name)\n",
        "  print('%s: %f recall    (%f) std' % (name, cv_results.mean(), cv_results.std()))"
      ],
      "metadata": {
        "colab": {
          "base_uri": "https://localhost:8080/"
        },
        "id": "8EOvWm9mEKLg",
        "outputId": "75ac0677-e898-4f2c-d926-06f2e044af32"
      },
      "execution_count": null,
      "outputs": [
        {
          "output_type": "stream",
          "name": "stdout",
          "text": [
            "LR: 0.159804 recall    (0.066821) std\n",
            "LDA: 0.211111 recall    (0.064408) std\n",
            "KNN: 0.206209 recall    (0.093323) std\n",
            "CART: 0.278431 recall    (0.109062) std\n",
            "NB: 0.165686 recall    (0.081123) std\n",
            "SVM: 0.000000 recall    (0.000000) std\n",
            "XGB: 0.135948 recall    (0.097473) std\n",
            "RFC: 0.046405 recall    (0.068500) std\n"
          ]
        }
      ]
    },
    {
      "cell_type": "code",
      "source": [
        "for name, model in modelsPCA:\n",
        "  pipe = Pipeline(steps=[('scaler', StandardScaler()), ('pca', PCA(n_components=.95)), ('classifier', model)])\n",
        "  kfold = StratifiedKFold(n_splits=10, random_state=1, shuffle=True)\n",
        "  cv_results = cross_val_score(pipe, X_train_pca, y_train_pca, cv=kfold, scoring='f1')\n",
        "  results_pca.append(cv_results)\n",
        "  names_pca.append(name)\n",
        "  print('%s: %f f1    (%f) std' % (name, cv_results.mean(), cv_results.std()))"
      ],
      "metadata": {
        "colab": {
          "base_uri": "https://localhost:8080/"
        },
        "id": "h59pK5Jt6J-b",
        "outputId": "f93975f1-5408-4768-e68d-d71a1eced0a9"
      },
      "execution_count": null,
      "outputs": [
        {
          "output_type": "stream",
          "name": "stdout",
          "text": [
            "LR: 0.235819 f1    (0.093347) std\n",
            "LDA: 0.257455 f1    (0.075929) std\n",
            "KNN: 0.291680 f1    (0.118590) std\n",
            "CART: 0.242966 f1    (0.046150) std\n",
            "NB: 0.125840 f1    (0.058724) std\n",
            "SVM: 0.000000 f1    (0.000000) std\n",
            "XGB: 0.212274 f1    (0.144670) std\n",
            "RFC: 0.061738 f1    (0.066146) std\n"
          ]
        }
      ]
    },
    {
      "cell_type": "code",
      "source": [
        "for name, model in modelsPCA:\n",
        "  pipe = Pipeline(steps=[('scaler', StandardScaler()), ('pca', PCA(n_components=.95)), ('classifier', model)])\n",
        "  pipe.fit(X_train_pca, y_train_pca)\n",
        "  pred = pipe.predict(X_test_pca)\n",
        "  print(confusion_matrix(y_test_pca, pred))\n",
        "  print(classification_report(y_test_pca, pred))"
      ],
      "metadata": {
        "colab": {
          "base_uri": "https://localhost:8080/",
          "height": 1000
        },
        "id": "KzGYw4kBFCiD",
        "outputId": "8c611cf7-f552-4abb-c47b-8a635140d96e"
      },
      "execution_count": null,
      "outputs": [
        {
          "output_type": "execute_result",
          "data": {
            "text/plain": [
              "Pipeline(steps=[('scaler', StandardScaler()), ('pca', PCA(n_components=0.95)),\n",
              "                ('classifier',\n",
              "                 LogisticRegression(multi_class='ovr', solver='liblinear'))])"
            ],
            "text/html": [
              "<style>#sk-e9a78e46-9a31-4548-b6de-7561a86e5e88 {color: black;background-color: white;}#sk-e9a78e46-9a31-4548-b6de-7561a86e5e88 pre{padding: 0;}#sk-e9a78e46-9a31-4548-b6de-7561a86e5e88 div.sk-toggleable {background-color: white;}#sk-e9a78e46-9a31-4548-b6de-7561a86e5e88 label.sk-toggleable__label {cursor: pointer;display: block;width: 100%;margin-bottom: 0;padding: 0.3em;box-sizing: border-box;text-align: center;}#sk-e9a78e46-9a31-4548-b6de-7561a86e5e88 label.sk-toggleable__label-arrow:before {content: \"▸\";float: left;margin-right: 0.25em;color: #696969;}#sk-e9a78e46-9a31-4548-b6de-7561a86e5e88 label.sk-toggleable__label-arrow:hover:before {color: black;}#sk-e9a78e46-9a31-4548-b6de-7561a86e5e88 div.sk-estimator:hover label.sk-toggleable__label-arrow:before {color: black;}#sk-e9a78e46-9a31-4548-b6de-7561a86e5e88 div.sk-toggleable__content {max-height: 0;max-width: 0;overflow: hidden;text-align: left;background-color: #f0f8ff;}#sk-e9a78e46-9a31-4548-b6de-7561a86e5e88 div.sk-toggleable__content pre {margin: 0.2em;color: black;border-radius: 0.25em;background-color: #f0f8ff;}#sk-e9a78e46-9a31-4548-b6de-7561a86e5e88 input.sk-toggleable__control:checked~div.sk-toggleable__content {max-height: 200px;max-width: 100%;overflow: auto;}#sk-e9a78e46-9a31-4548-b6de-7561a86e5e88 input.sk-toggleable__control:checked~label.sk-toggleable__label-arrow:before {content: \"▾\";}#sk-e9a78e46-9a31-4548-b6de-7561a86e5e88 div.sk-estimator input.sk-toggleable__control:checked~label.sk-toggleable__label {background-color: #d4ebff;}#sk-e9a78e46-9a31-4548-b6de-7561a86e5e88 div.sk-label input.sk-toggleable__control:checked~label.sk-toggleable__label {background-color: #d4ebff;}#sk-e9a78e46-9a31-4548-b6de-7561a86e5e88 input.sk-hidden--visually {border: 0;clip: rect(1px 1px 1px 1px);clip: rect(1px, 1px, 1px, 1px);height: 1px;margin: -1px;overflow: hidden;padding: 0;position: absolute;width: 1px;}#sk-e9a78e46-9a31-4548-b6de-7561a86e5e88 div.sk-estimator {font-family: monospace;background-color: #f0f8ff;border: 1px dotted black;border-radius: 0.25em;box-sizing: border-box;margin-bottom: 0.5em;}#sk-e9a78e46-9a31-4548-b6de-7561a86e5e88 div.sk-estimator:hover {background-color: #d4ebff;}#sk-e9a78e46-9a31-4548-b6de-7561a86e5e88 div.sk-parallel-item::after {content: \"\";width: 100%;border-bottom: 1px solid gray;flex-grow: 1;}#sk-e9a78e46-9a31-4548-b6de-7561a86e5e88 div.sk-label:hover label.sk-toggleable__label {background-color: #d4ebff;}#sk-e9a78e46-9a31-4548-b6de-7561a86e5e88 div.sk-serial::before {content: \"\";position: absolute;border-left: 1px solid gray;box-sizing: border-box;top: 2em;bottom: 0;left: 50%;}#sk-e9a78e46-9a31-4548-b6de-7561a86e5e88 div.sk-serial {display: flex;flex-direction: column;align-items: center;background-color: white;padding-right: 0.2em;padding-left: 0.2em;}#sk-e9a78e46-9a31-4548-b6de-7561a86e5e88 div.sk-item {z-index: 1;}#sk-e9a78e46-9a31-4548-b6de-7561a86e5e88 div.sk-parallel {display: flex;align-items: stretch;justify-content: center;background-color: white;}#sk-e9a78e46-9a31-4548-b6de-7561a86e5e88 div.sk-parallel::before {content: \"\";position: absolute;border-left: 1px solid gray;box-sizing: border-box;top: 2em;bottom: 0;left: 50%;}#sk-e9a78e46-9a31-4548-b6de-7561a86e5e88 div.sk-parallel-item {display: flex;flex-direction: column;position: relative;background-color: white;}#sk-e9a78e46-9a31-4548-b6de-7561a86e5e88 div.sk-parallel-item:first-child::after {align-self: flex-end;width: 50%;}#sk-e9a78e46-9a31-4548-b6de-7561a86e5e88 div.sk-parallel-item:last-child::after {align-self: flex-start;width: 50%;}#sk-e9a78e46-9a31-4548-b6de-7561a86e5e88 div.sk-parallel-item:only-child::after {width: 0;}#sk-e9a78e46-9a31-4548-b6de-7561a86e5e88 div.sk-dashed-wrapped {border: 1px dashed gray;margin: 0 0.4em 0.5em 0.4em;box-sizing: border-box;padding-bottom: 0.4em;background-color: white;position: relative;}#sk-e9a78e46-9a31-4548-b6de-7561a86e5e88 div.sk-label label {font-family: monospace;font-weight: bold;background-color: white;display: inline-block;line-height: 1.2em;}#sk-e9a78e46-9a31-4548-b6de-7561a86e5e88 div.sk-label-container {position: relative;z-index: 2;text-align: center;}#sk-e9a78e46-9a31-4548-b6de-7561a86e5e88 div.sk-container {/* jupyter's `normalize.less` sets `[hidden] { display: none; }` but bootstrap.min.css set `[hidden] { display: none !important; }` so we also need the `!important` here to be able to override the default hidden behavior on the sphinx rendered scikit-learn.org. See: https://github.com/scikit-learn/scikit-learn/issues/21755 */display: inline-block !important;position: relative;}#sk-e9a78e46-9a31-4548-b6de-7561a86e5e88 div.sk-text-repr-fallback {display: none;}</style><div id=\"sk-e9a78e46-9a31-4548-b6de-7561a86e5e88\" class=\"sk-top-container\"><div class=\"sk-text-repr-fallback\"><pre>Pipeline(steps=[(&#x27;scaler&#x27;, StandardScaler()), (&#x27;pca&#x27;, PCA(n_components=0.95)),\n",
              "                (&#x27;classifier&#x27;,\n",
              "                 LogisticRegression(multi_class=&#x27;ovr&#x27;, solver=&#x27;liblinear&#x27;))])</pre><b>Please rerun this cell to show the HTML repr or trust the notebook.</b></div><div class=\"sk-container\" hidden><div class=\"sk-item sk-dashed-wrapped\"><div class=\"sk-label-container\"><div class=\"sk-label sk-toggleable\"><input class=\"sk-toggleable__control sk-hidden--visually\" id=\"f638909f-22d4-4be1-a079-638d8457ae8e\" type=\"checkbox\" ><label for=\"f638909f-22d4-4be1-a079-638d8457ae8e\" class=\"sk-toggleable__label sk-toggleable__label-arrow\">Pipeline</label><div class=\"sk-toggleable__content\"><pre>Pipeline(steps=[(&#x27;scaler&#x27;, StandardScaler()), (&#x27;pca&#x27;, PCA(n_components=0.95)),\n",
              "                (&#x27;classifier&#x27;,\n",
              "                 LogisticRegression(multi_class=&#x27;ovr&#x27;, solver=&#x27;liblinear&#x27;))])</pre></div></div></div><div class=\"sk-serial\"><div class=\"sk-item\"><div class=\"sk-estimator sk-toggleable\"><input class=\"sk-toggleable__control sk-hidden--visually\" id=\"4b63df04-f154-4a0e-b10b-8581cff51111\" type=\"checkbox\" ><label for=\"4b63df04-f154-4a0e-b10b-8581cff51111\" class=\"sk-toggleable__label sk-toggleable__label-arrow\">StandardScaler</label><div class=\"sk-toggleable__content\"><pre>StandardScaler()</pre></div></div></div><div class=\"sk-item\"><div class=\"sk-estimator sk-toggleable\"><input class=\"sk-toggleable__control sk-hidden--visually\" id=\"f60441d4-5d6b-4244-b8b2-a8a72282cd41\" type=\"checkbox\" ><label for=\"f60441d4-5d6b-4244-b8b2-a8a72282cd41\" class=\"sk-toggleable__label sk-toggleable__label-arrow\">PCA</label><div class=\"sk-toggleable__content\"><pre>PCA(n_components=0.95)</pre></div></div></div><div class=\"sk-item\"><div class=\"sk-estimator sk-toggleable\"><input class=\"sk-toggleable__control sk-hidden--visually\" id=\"357b7bc2-ce20-4930-8aa4-855851a57cd6\" type=\"checkbox\" ><label for=\"357b7bc2-ce20-4930-8aa4-855851a57cd6\" class=\"sk-toggleable__label sk-toggleable__label-arrow\">LogisticRegression</label><div class=\"sk-toggleable__content\"><pre>LogisticRegression(multi_class=&#x27;ovr&#x27;, solver=&#x27;liblinear&#x27;)</pre></div></div></div></div></div></div></div>"
            ]
          },
          "metadata": {},
          "execution_count": 533
        },
        {
          "output_type": "stream",
          "name": "stdout",
          "text": [
            "[[1312    8]\n",
            " [  36    8]]\n",
            "              precision    recall  f1-score   support\n",
            "\n",
            "           0       0.97      0.99      0.98      1320\n",
            "           1       0.50      0.18      0.27        44\n",
            "\n",
            "    accuracy                           0.97      1364\n",
            "   macro avg       0.74      0.59      0.63      1364\n",
            "weighted avg       0.96      0.97      0.96      1364\n",
            "\n"
          ]
        },
        {
          "output_type": "execute_result",
          "data": {
            "text/plain": [
              "Pipeline(steps=[('scaler', StandardScaler()), ('pca', PCA(n_components=0.95)),\n",
              "                ('classifier', LinearDiscriminantAnalysis())])"
            ],
            "text/html": [
              "<style>#sk-1e68ad6b-0f71-4f39-a755-7a940ee02421 {color: black;background-color: white;}#sk-1e68ad6b-0f71-4f39-a755-7a940ee02421 pre{padding: 0;}#sk-1e68ad6b-0f71-4f39-a755-7a940ee02421 div.sk-toggleable {background-color: white;}#sk-1e68ad6b-0f71-4f39-a755-7a940ee02421 label.sk-toggleable__label {cursor: pointer;display: block;width: 100%;margin-bottom: 0;padding: 0.3em;box-sizing: border-box;text-align: center;}#sk-1e68ad6b-0f71-4f39-a755-7a940ee02421 label.sk-toggleable__label-arrow:before {content: \"▸\";float: left;margin-right: 0.25em;color: #696969;}#sk-1e68ad6b-0f71-4f39-a755-7a940ee02421 label.sk-toggleable__label-arrow:hover:before {color: black;}#sk-1e68ad6b-0f71-4f39-a755-7a940ee02421 div.sk-estimator:hover label.sk-toggleable__label-arrow:before {color: black;}#sk-1e68ad6b-0f71-4f39-a755-7a940ee02421 div.sk-toggleable__content {max-height: 0;max-width: 0;overflow: hidden;text-align: left;background-color: #f0f8ff;}#sk-1e68ad6b-0f71-4f39-a755-7a940ee02421 div.sk-toggleable__content pre {margin: 0.2em;color: black;border-radius: 0.25em;background-color: #f0f8ff;}#sk-1e68ad6b-0f71-4f39-a755-7a940ee02421 input.sk-toggleable__control:checked~div.sk-toggleable__content {max-height: 200px;max-width: 100%;overflow: auto;}#sk-1e68ad6b-0f71-4f39-a755-7a940ee02421 input.sk-toggleable__control:checked~label.sk-toggleable__label-arrow:before {content: \"▾\";}#sk-1e68ad6b-0f71-4f39-a755-7a940ee02421 div.sk-estimator input.sk-toggleable__control:checked~label.sk-toggleable__label {background-color: #d4ebff;}#sk-1e68ad6b-0f71-4f39-a755-7a940ee02421 div.sk-label input.sk-toggleable__control:checked~label.sk-toggleable__label {background-color: #d4ebff;}#sk-1e68ad6b-0f71-4f39-a755-7a940ee02421 input.sk-hidden--visually {border: 0;clip: rect(1px 1px 1px 1px);clip: rect(1px, 1px, 1px, 1px);height: 1px;margin: -1px;overflow: hidden;padding: 0;position: absolute;width: 1px;}#sk-1e68ad6b-0f71-4f39-a755-7a940ee02421 div.sk-estimator {font-family: monospace;background-color: #f0f8ff;border: 1px dotted black;border-radius: 0.25em;box-sizing: border-box;margin-bottom: 0.5em;}#sk-1e68ad6b-0f71-4f39-a755-7a940ee02421 div.sk-estimator:hover {background-color: #d4ebff;}#sk-1e68ad6b-0f71-4f39-a755-7a940ee02421 div.sk-parallel-item::after {content: \"\";width: 100%;border-bottom: 1px solid gray;flex-grow: 1;}#sk-1e68ad6b-0f71-4f39-a755-7a940ee02421 div.sk-label:hover label.sk-toggleable__label {background-color: #d4ebff;}#sk-1e68ad6b-0f71-4f39-a755-7a940ee02421 div.sk-serial::before {content: \"\";position: absolute;border-left: 1px solid gray;box-sizing: border-box;top: 2em;bottom: 0;left: 50%;}#sk-1e68ad6b-0f71-4f39-a755-7a940ee02421 div.sk-serial {display: flex;flex-direction: column;align-items: center;background-color: white;padding-right: 0.2em;padding-left: 0.2em;}#sk-1e68ad6b-0f71-4f39-a755-7a940ee02421 div.sk-item {z-index: 1;}#sk-1e68ad6b-0f71-4f39-a755-7a940ee02421 div.sk-parallel {display: flex;align-items: stretch;justify-content: center;background-color: white;}#sk-1e68ad6b-0f71-4f39-a755-7a940ee02421 div.sk-parallel::before {content: \"\";position: absolute;border-left: 1px solid gray;box-sizing: border-box;top: 2em;bottom: 0;left: 50%;}#sk-1e68ad6b-0f71-4f39-a755-7a940ee02421 div.sk-parallel-item {display: flex;flex-direction: column;position: relative;background-color: white;}#sk-1e68ad6b-0f71-4f39-a755-7a940ee02421 div.sk-parallel-item:first-child::after {align-self: flex-end;width: 50%;}#sk-1e68ad6b-0f71-4f39-a755-7a940ee02421 div.sk-parallel-item:last-child::after {align-self: flex-start;width: 50%;}#sk-1e68ad6b-0f71-4f39-a755-7a940ee02421 div.sk-parallel-item:only-child::after {width: 0;}#sk-1e68ad6b-0f71-4f39-a755-7a940ee02421 div.sk-dashed-wrapped {border: 1px dashed gray;margin: 0 0.4em 0.5em 0.4em;box-sizing: border-box;padding-bottom: 0.4em;background-color: white;position: relative;}#sk-1e68ad6b-0f71-4f39-a755-7a940ee02421 div.sk-label label {font-family: monospace;font-weight: bold;background-color: white;display: inline-block;line-height: 1.2em;}#sk-1e68ad6b-0f71-4f39-a755-7a940ee02421 div.sk-label-container {position: relative;z-index: 2;text-align: center;}#sk-1e68ad6b-0f71-4f39-a755-7a940ee02421 div.sk-container {/* jupyter's `normalize.less` sets `[hidden] { display: none; }` but bootstrap.min.css set `[hidden] { display: none !important; }` so we also need the `!important` here to be able to override the default hidden behavior on the sphinx rendered scikit-learn.org. See: https://github.com/scikit-learn/scikit-learn/issues/21755 */display: inline-block !important;position: relative;}#sk-1e68ad6b-0f71-4f39-a755-7a940ee02421 div.sk-text-repr-fallback {display: none;}</style><div id=\"sk-1e68ad6b-0f71-4f39-a755-7a940ee02421\" class=\"sk-top-container\"><div class=\"sk-text-repr-fallback\"><pre>Pipeline(steps=[(&#x27;scaler&#x27;, StandardScaler()), (&#x27;pca&#x27;, PCA(n_components=0.95)),\n",
              "                (&#x27;classifier&#x27;, LinearDiscriminantAnalysis())])</pre><b>Please rerun this cell to show the HTML repr or trust the notebook.</b></div><div class=\"sk-container\" hidden><div class=\"sk-item sk-dashed-wrapped\"><div class=\"sk-label-container\"><div class=\"sk-label sk-toggleable\"><input class=\"sk-toggleable__control sk-hidden--visually\" id=\"c088d275-c8e8-4484-94b1-246df48e6ae1\" type=\"checkbox\" ><label for=\"c088d275-c8e8-4484-94b1-246df48e6ae1\" class=\"sk-toggleable__label sk-toggleable__label-arrow\">Pipeline</label><div class=\"sk-toggleable__content\"><pre>Pipeline(steps=[(&#x27;scaler&#x27;, StandardScaler()), (&#x27;pca&#x27;, PCA(n_components=0.95)),\n",
              "                (&#x27;classifier&#x27;, LinearDiscriminantAnalysis())])</pre></div></div></div><div class=\"sk-serial\"><div class=\"sk-item\"><div class=\"sk-estimator sk-toggleable\"><input class=\"sk-toggleable__control sk-hidden--visually\" id=\"2d64ab4d-e769-4dc1-b9d1-d1ddcc77dc3c\" type=\"checkbox\" ><label for=\"2d64ab4d-e769-4dc1-b9d1-d1ddcc77dc3c\" class=\"sk-toggleable__label sk-toggleable__label-arrow\">StandardScaler</label><div class=\"sk-toggleable__content\"><pre>StandardScaler()</pre></div></div></div><div class=\"sk-item\"><div class=\"sk-estimator sk-toggleable\"><input class=\"sk-toggleable__control sk-hidden--visually\" id=\"4bc23b6e-ab10-4303-9cfb-488ad3bc4e67\" type=\"checkbox\" ><label for=\"4bc23b6e-ab10-4303-9cfb-488ad3bc4e67\" class=\"sk-toggleable__label sk-toggleable__label-arrow\">PCA</label><div class=\"sk-toggleable__content\"><pre>PCA(n_components=0.95)</pre></div></div></div><div class=\"sk-item\"><div class=\"sk-estimator sk-toggleable\"><input class=\"sk-toggleable__control sk-hidden--visually\" id=\"bf473707-a716-4ab1-bf68-2a1c096fa1b2\" type=\"checkbox\" ><label for=\"bf473707-a716-4ab1-bf68-2a1c096fa1b2\" class=\"sk-toggleable__label sk-toggleable__label-arrow\">LinearDiscriminantAnalysis</label><div class=\"sk-toggleable__content\"><pre>LinearDiscriminantAnalysis()</pre></div></div></div></div></div></div></div>"
            ]
          },
          "metadata": {},
          "execution_count": 533
        },
        {
          "output_type": "stream",
          "name": "stdout",
          "text": [
            "[[1305   15]\n",
            " [  39    5]]\n",
            "              precision    recall  f1-score   support\n",
            "\n",
            "           0       0.97      0.99      0.98      1320\n",
            "           1       0.25      0.11      0.16        44\n",
            "\n",
            "    accuracy                           0.96      1364\n",
            "   macro avg       0.61      0.55      0.57      1364\n",
            "weighted avg       0.95      0.96      0.95      1364\n",
            "\n"
          ]
        },
        {
          "output_type": "execute_result",
          "data": {
            "text/plain": [
              "Pipeline(steps=[('scaler', StandardScaler()), ('pca', PCA(n_components=0.95)),\n",
              "                ('classifier', KNeighborsClassifier())])"
            ],
            "text/html": [
              "<style>#sk-0a1225aa-844a-4346-83cb-422c9f866321 {color: black;background-color: white;}#sk-0a1225aa-844a-4346-83cb-422c9f866321 pre{padding: 0;}#sk-0a1225aa-844a-4346-83cb-422c9f866321 div.sk-toggleable {background-color: white;}#sk-0a1225aa-844a-4346-83cb-422c9f866321 label.sk-toggleable__label {cursor: pointer;display: block;width: 100%;margin-bottom: 0;padding: 0.3em;box-sizing: border-box;text-align: center;}#sk-0a1225aa-844a-4346-83cb-422c9f866321 label.sk-toggleable__label-arrow:before {content: \"▸\";float: left;margin-right: 0.25em;color: #696969;}#sk-0a1225aa-844a-4346-83cb-422c9f866321 label.sk-toggleable__label-arrow:hover:before {color: black;}#sk-0a1225aa-844a-4346-83cb-422c9f866321 div.sk-estimator:hover label.sk-toggleable__label-arrow:before {color: black;}#sk-0a1225aa-844a-4346-83cb-422c9f866321 div.sk-toggleable__content {max-height: 0;max-width: 0;overflow: hidden;text-align: left;background-color: #f0f8ff;}#sk-0a1225aa-844a-4346-83cb-422c9f866321 div.sk-toggleable__content pre {margin: 0.2em;color: black;border-radius: 0.25em;background-color: #f0f8ff;}#sk-0a1225aa-844a-4346-83cb-422c9f866321 input.sk-toggleable__control:checked~div.sk-toggleable__content {max-height: 200px;max-width: 100%;overflow: auto;}#sk-0a1225aa-844a-4346-83cb-422c9f866321 input.sk-toggleable__control:checked~label.sk-toggleable__label-arrow:before {content: \"▾\";}#sk-0a1225aa-844a-4346-83cb-422c9f866321 div.sk-estimator input.sk-toggleable__control:checked~label.sk-toggleable__label {background-color: #d4ebff;}#sk-0a1225aa-844a-4346-83cb-422c9f866321 div.sk-label input.sk-toggleable__control:checked~label.sk-toggleable__label {background-color: #d4ebff;}#sk-0a1225aa-844a-4346-83cb-422c9f866321 input.sk-hidden--visually {border: 0;clip: rect(1px 1px 1px 1px);clip: rect(1px, 1px, 1px, 1px);height: 1px;margin: -1px;overflow: hidden;padding: 0;position: absolute;width: 1px;}#sk-0a1225aa-844a-4346-83cb-422c9f866321 div.sk-estimator {font-family: monospace;background-color: #f0f8ff;border: 1px dotted black;border-radius: 0.25em;box-sizing: border-box;margin-bottom: 0.5em;}#sk-0a1225aa-844a-4346-83cb-422c9f866321 div.sk-estimator:hover {background-color: #d4ebff;}#sk-0a1225aa-844a-4346-83cb-422c9f866321 div.sk-parallel-item::after {content: \"\";width: 100%;border-bottom: 1px solid gray;flex-grow: 1;}#sk-0a1225aa-844a-4346-83cb-422c9f866321 div.sk-label:hover label.sk-toggleable__label {background-color: #d4ebff;}#sk-0a1225aa-844a-4346-83cb-422c9f866321 div.sk-serial::before {content: \"\";position: absolute;border-left: 1px solid gray;box-sizing: border-box;top: 2em;bottom: 0;left: 50%;}#sk-0a1225aa-844a-4346-83cb-422c9f866321 div.sk-serial {display: flex;flex-direction: column;align-items: center;background-color: white;padding-right: 0.2em;padding-left: 0.2em;}#sk-0a1225aa-844a-4346-83cb-422c9f866321 div.sk-item {z-index: 1;}#sk-0a1225aa-844a-4346-83cb-422c9f866321 div.sk-parallel {display: flex;align-items: stretch;justify-content: center;background-color: white;}#sk-0a1225aa-844a-4346-83cb-422c9f866321 div.sk-parallel::before {content: \"\";position: absolute;border-left: 1px solid gray;box-sizing: border-box;top: 2em;bottom: 0;left: 50%;}#sk-0a1225aa-844a-4346-83cb-422c9f866321 div.sk-parallel-item {display: flex;flex-direction: column;position: relative;background-color: white;}#sk-0a1225aa-844a-4346-83cb-422c9f866321 div.sk-parallel-item:first-child::after {align-self: flex-end;width: 50%;}#sk-0a1225aa-844a-4346-83cb-422c9f866321 div.sk-parallel-item:last-child::after {align-self: flex-start;width: 50%;}#sk-0a1225aa-844a-4346-83cb-422c9f866321 div.sk-parallel-item:only-child::after {width: 0;}#sk-0a1225aa-844a-4346-83cb-422c9f866321 div.sk-dashed-wrapped {border: 1px dashed gray;margin: 0 0.4em 0.5em 0.4em;box-sizing: border-box;padding-bottom: 0.4em;background-color: white;position: relative;}#sk-0a1225aa-844a-4346-83cb-422c9f866321 div.sk-label label {font-family: monospace;font-weight: bold;background-color: white;display: inline-block;line-height: 1.2em;}#sk-0a1225aa-844a-4346-83cb-422c9f866321 div.sk-label-container {position: relative;z-index: 2;text-align: center;}#sk-0a1225aa-844a-4346-83cb-422c9f866321 div.sk-container {/* jupyter's `normalize.less` sets `[hidden] { display: none; }` but bootstrap.min.css set `[hidden] { display: none !important; }` so we also need the `!important` here to be able to override the default hidden behavior on the sphinx rendered scikit-learn.org. See: https://github.com/scikit-learn/scikit-learn/issues/21755 */display: inline-block !important;position: relative;}#sk-0a1225aa-844a-4346-83cb-422c9f866321 div.sk-text-repr-fallback {display: none;}</style><div id=\"sk-0a1225aa-844a-4346-83cb-422c9f866321\" class=\"sk-top-container\"><div class=\"sk-text-repr-fallback\"><pre>Pipeline(steps=[(&#x27;scaler&#x27;, StandardScaler()), (&#x27;pca&#x27;, PCA(n_components=0.95)),\n",
              "                (&#x27;classifier&#x27;, KNeighborsClassifier())])</pre><b>Please rerun this cell to show the HTML repr or trust the notebook.</b></div><div class=\"sk-container\" hidden><div class=\"sk-item sk-dashed-wrapped\"><div class=\"sk-label-container\"><div class=\"sk-label sk-toggleable\"><input class=\"sk-toggleable__control sk-hidden--visually\" id=\"9c89f5e8-027a-46ff-a634-15ba5810023f\" type=\"checkbox\" ><label for=\"9c89f5e8-027a-46ff-a634-15ba5810023f\" class=\"sk-toggleable__label sk-toggleable__label-arrow\">Pipeline</label><div class=\"sk-toggleable__content\"><pre>Pipeline(steps=[(&#x27;scaler&#x27;, StandardScaler()), (&#x27;pca&#x27;, PCA(n_components=0.95)),\n",
              "                (&#x27;classifier&#x27;, KNeighborsClassifier())])</pre></div></div></div><div class=\"sk-serial\"><div class=\"sk-item\"><div class=\"sk-estimator sk-toggleable\"><input class=\"sk-toggleable__control sk-hidden--visually\" id=\"2887ee29-6fef-457d-b3a0-ac3a69c7db94\" type=\"checkbox\" ><label for=\"2887ee29-6fef-457d-b3a0-ac3a69c7db94\" class=\"sk-toggleable__label sk-toggleable__label-arrow\">StandardScaler</label><div class=\"sk-toggleable__content\"><pre>StandardScaler()</pre></div></div></div><div class=\"sk-item\"><div class=\"sk-estimator sk-toggleable\"><input class=\"sk-toggleable__control sk-hidden--visually\" id=\"7f4def2d-96da-47fe-9844-7a34ad5b73db\" type=\"checkbox\" ><label for=\"7f4def2d-96da-47fe-9844-7a34ad5b73db\" class=\"sk-toggleable__label sk-toggleable__label-arrow\">PCA</label><div class=\"sk-toggleable__content\"><pre>PCA(n_components=0.95)</pre></div></div></div><div class=\"sk-item\"><div class=\"sk-estimator sk-toggleable\"><input class=\"sk-toggleable__control sk-hidden--visually\" id=\"830f84d3-2084-4878-a39d-73f69b80ee7b\" type=\"checkbox\" ><label for=\"830f84d3-2084-4878-a39d-73f69b80ee7b\" class=\"sk-toggleable__label sk-toggleable__label-arrow\">KNeighborsClassifier</label><div class=\"sk-toggleable__content\"><pre>KNeighborsClassifier()</pre></div></div></div></div></div></div></div>"
            ]
          },
          "metadata": {},
          "execution_count": 533
        },
        {
          "output_type": "stream",
          "name": "stdout",
          "text": [
            "[[1315    5]\n",
            " [  36    8]]\n",
            "              precision    recall  f1-score   support\n",
            "\n",
            "           0       0.97      1.00      0.98      1320\n",
            "           1       0.62      0.18      0.28        44\n",
            "\n",
            "    accuracy                           0.97      1364\n",
            "   macro avg       0.79      0.59      0.63      1364\n",
            "weighted avg       0.96      0.97      0.96      1364\n",
            "\n"
          ]
        },
        {
          "output_type": "execute_result",
          "data": {
            "text/plain": [
              "Pipeline(steps=[('scaler', StandardScaler()), ('pca', PCA(n_components=0.95)),\n",
              "                ('classifier', DecisionTreeClassifier())])"
            ],
            "text/html": [
              "<style>#sk-19dbd176-fd22-491e-8b8b-c06fe5427a33 {color: black;background-color: white;}#sk-19dbd176-fd22-491e-8b8b-c06fe5427a33 pre{padding: 0;}#sk-19dbd176-fd22-491e-8b8b-c06fe5427a33 div.sk-toggleable {background-color: white;}#sk-19dbd176-fd22-491e-8b8b-c06fe5427a33 label.sk-toggleable__label {cursor: pointer;display: block;width: 100%;margin-bottom: 0;padding: 0.3em;box-sizing: border-box;text-align: center;}#sk-19dbd176-fd22-491e-8b8b-c06fe5427a33 label.sk-toggleable__label-arrow:before {content: \"▸\";float: left;margin-right: 0.25em;color: #696969;}#sk-19dbd176-fd22-491e-8b8b-c06fe5427a33 label.sk-toggleable__label-arrow:hover:before {color: black;}#sk-19dbd176-fd22-491e-8b8b-c06fe5427a33 div.sk-estimator:hover label.sk-toggleable__label-arrow:before {color: black;}#sk-19dbd176-fd22-491e-8b8b-c06fe5427a33 div.sk-toggleable__content {max-height: 0;max-width: 0;overflow: hidden;text-align: left;background-color: #f0f8ff;}#sk-19dbd176-fd22-491e-8b8b-c06fe5427a33 div.sk-toggleable__content pre {margin: 0.2em;color: black;border-radius: 0.25em;background-color: #f0f8ff;}#sk-19dbd176-fd22-491e-8b8b-c06fe5427a33 input.sk-toggleable__control:checked~div.sk-toggleable__content {max-height: 200px;max-width: 100%;overflow: auto;}#sk-19dbd176-fd22-491e-8b8b-c06fe5427a33 input.sk-toggleable__control:checked~label.sk-toggleable__label-arrow:before {content: \"▾\";}#sk-19dbd176-fd22-491e-8b8b-c06fe5427a33 div.sk-estimator input.sk-toggleable__control:checked~label.sk-toggleable__label {background-color: #d4ebff;}#sk-19dbd176-fd22-491e-8b8b-c06fe5427a33 div.sk-label input.sk-toggleable__control:checked~label.sk-toggleable__label {background-color: #d4ebff;}#sk-19dbd176-fd22-491e-8b8b-c06fe5427a33 input.sk-hidden--visually {border: 0;clip: rect(1px 1px 1px 1px);clip: rect(1px, 1px, 1px, 1px);height: 1px;margin: -1px;overflow: hidden;padding: 0;position: absolute;width: 1px;}#sk-19dbd176-fd22-491e-8b8b-c06fe5427a33 div.sk-estimator {font-family: monospace;background-color: #f0f8ff;border: 1px dotted black;border-radius: 0.25em;box-sizing: border-box;margin-bottom: 0.5em;}#sk-19dbd176-fd22-491e-8b8b-c06fe5427a33 div.sk-estimator:hover {background-color: #d4ebff;}#sk-19dbd176-fd22-491e-8b8b-c06fe5427a33 div.sk-parallel-item::after {content: \"\";width: 100%;border-bottom: 1px solid gray;flex-grow: 1;}#sk-19dbd176-fd22-491e-8b8b-c06fe5427a33 div.sk-label:hover label.sk-toggleable__label {background-color: #d4ebff;}#sk-19dbd176-fd22-491e-8b8b-c06fe5427a33 div.sk-serial::before {content: \"\";position: absolute;border-left: 1px solid gray;box-sizing: border-box;top: 2em;bottom: 0;left: 50%;}#sk-19dbd176-fd22-491e-8b8b-c06fe5427a33 div.sk-serial {display: flex;flex-direction: column;align-items: center;background-color: white;padding-right: 0.2em;padding-left: 0.2em;}#sk-19dbd176-fd22-491e-8b8b-c06fe5427a33 div.sk-item {z-index: 1;}#sk-19dbd176-fd22-491e-8b8b-c06fe5427a33 div.sk-parallel {display: flex;align-items: stretch;justify-content: center;background-color: white;}#sk-19dbd176-fd22-491e-8b8b-c06fe5427a33 div.sk-parallel::before {content: \"\";position: absolute;border-left: 1px solid gray;box-sizing: border-box;top: 2em;bottom: 0;left: 50%;}#sk-19dbd176-fd22-491e-8b8b-c06fe5427a33 div.sk-parallel-item {display: flex;flex-direction: column;position: relative;background-color: white;}#sk-19dbd176-fd22-491e-8b8b-c06fe5427a33 div.sk-parallel-item:first-child::after {align-self: flex-end;width: 50%;}#sk-19dbd176-fd22-491e-8b8b-c06fe5427a33 div.sk-parallel-item:last-child::after {align-self: flex-start;width: 50%;}#sk-19dbd176-fd22-491e-8b8b-c06fe5427a33 div.sk-parallel-item:only-child::after {width: 0;}#sk-19dbd176-fd22-491e-8b8b-c06fe5427a33 div.sk-dashed-wrapped {border: 1px dashed gray;margin: 0 0.4em 0.5em 0.4em;box-sizing: border-box;padding-bottom: 0.4em;background-color: white;position: relative;}#sk-19dbd176-fd22-491e-8b8b-c06fe5427a33 div.sk-label label {font-family: monospace;font-weight: bold;background-color: white;display: inline-block;line-height: 1.2em;}#sk-19dbd176-fd22-491e-8b8b-c06fe5427a33 div.sk-label-container {position: relative;z-index: 2;text-align: center;}#sk-19dbd176-fd22-491e-8b8b-c06fe5427a33 div.sk-container {/* jupyter's `normalize.less` sets `[hidden] { display: none; }` but bootstrap.min.css set `[hidden] { display: none !important; }` so we also need the `!important` here to be able to override the default hidden behavior on the sphinx rendered scikit-learn.org. See: https://github.com/scikit-learn/scikit-learn/issues/21755 */display: inline-block !important;position: relative;}#sk-19dbd176-fd22-491e-8b8b-c06fe5427a33 div.sk-text-repr-fallback {display: none;}</style><div id=\"sk-19dbd176-fd22-491e-8b8b-c06fe5427a33\" class=\"sk-top-container\"><div class=\"sk-text-repr-fallback\"><pre>Pipeline(steps=[(&#x27;scaler&#x27;, StandardScaler()), (&#x27;pca&#x27;, PCA(n_components=0.95)),\n",
              "                (&#x27;classifier&#x27;, DecisionTreeClassifier())])</pre><b>Please rerun this cell to show the HTML repr or trust the notebook.</b></div><div class=\"sk-container\" hidden><div class=\"sk-item sk-dashed-wrapped\"><div class=\"sk-label-container\"><div class=\"sk-label sk-toggleable\"><input class=\"sk-toggleable__control sk-hidden--visually\" id=\"9c184c00-0381-44fb-bdb6-83b7b49452e1\" type=\"checkbox\" ><label for=\"9c184c00-0381-44fb-bdb6-83b7b49452e1\" class=\"sk-toggleable__label sk-toggleable__label-arrow\">Pipeline</label><div class=\"sk-toggleable__content\"><pre>Pipeline(steps=[(&#x27;scaler&#x27;, StandardScaler()), (&#x27;pca&#x27;, PCA(n_components=0.95)),\n",
              "                (&#x27;classifier&#x27;, DecisionTreeClassifier())])</pre></div></div></div><div class=\"sk-serial\"><div class=\"sk-item\"><div class=\"sk-estimator sk-toggleable\"><input class=\"sk-toggleable__control sk-hidden--visually\" id=\"14bdd24e-3860-421b-9dad-f9bf7347e528\" type=\"checkbox\" ><label for=\"14bdd24e-3860-421b-9dad-f9bf7347e528\" class=\"sk-toggleable__label sk-toggleable__label-arrow\">StandardScaler</label><div class=\"sk-toggleable__content\"><pre>StandardScaler()</pre></div></div></div><div class=\"sk-item\"><div class=\"sk-estimator sk-toggleable\"><input class=\"sk-toggleable__control sk-hidden--visually\" id=\"27629fec-3946-4992-a494-3268a0a91972\" type=\"checkbox\" ><label for=\"27629fec-3946-4992-a494-3268a0a91972\" class=\"sk-toggleable__label sk-toggleable__label-arrow\">PCA</label><div class=\"sk-toggleable__content\"><pre>PCA(n_components=0.95)</pre></div></div></div><div class=\"sk-item\"><div class=\"sk-estimator sk-toggleable\"><input class=\"sk-toggleable__control sk-hidden--visually\" id=\"2ed37a67-82ff-4e88-881f-d1d2a0d6a52f\" type=\"checkbox\" ><label for=\"2ed37a67-82ff-4e88-881f-d1d2a0d6a52f\" class=\"sk-toggleable__label sk-toggleable__label-arrow\">DecisionTreeClassifier</label><div class=\"sk-toggleable__content\"><pre>DecisionTreeClassifier()</pre></div></div></div></div></div></div></div>"
            ]
          },
          "metadata": {},
          "execution_count": 533
        },
        {
          "output_type": "stream",
          "name": "stdout",
          "text": [
            "[[1283   37]\n",
            " [  35    9]]\n",
            "              precision    recall  f1-score   support\n",
            "\n",
            "           0       0.97      0.97      0.97      1320\n",
            "           1       0.20      0.20      0.20        44\n",
            "\n",
            "    accuracy                           0.95      1364\n",
            "   macro avg       0.58      0.59      0.59      1364\n",
            "weighted avg       0.95      0.95      0.95      1364\n",
            "\n"
          ]
        },
        {
          "output_type": "execute_result",
          "data": {
            "text/plain": [
              "Pipeline(steps=[('scaler', StandardScaler()), ('pca', PCA(n_components=0.95)),\n",
              "                ('classifier', GaussianNB())])"
            ],
            "text/html": [
              "<style>#sk-5cabbc14-080b-4b0b-a3a4-00e1cfcfd977 {color: black;background-color: white;}#sk-5cabbc14-080b-4b0b-a3a4-00e1cfcfd977 pre{padding: 0;}#sk-5cabbc14-080b-4b0b-a3a4-00e1cfcfd977 div.sk-toggleable {background-color: white;}#sk-5cabbc14-080b-4b0b-a3a4-00e1cfcfd977 label.sk-toggleable__label {cursor: pointer;display: block;width: 100%;margin-bottom: 0;padding: 0.3em;box-sizing: border-box;text-align: center;}#sk-5cabbc14-080b-4b0b-a3a4-00e1cfcfd977 label.sk-toggleable__label-arrow:before {content: \"▸\";float: left;margin-right: 0.25em;color: #696969;}#sk-5cabbc14-080b-4b0b-a3a4-00e1cfcfd977 label.sk-toggleable__label-arrow:hover:before {color: black;}#sk-5cabbc14-080b-4b0b-a3a4-00e1cfcfd977 div.sk-estimator:hover label.sk-toggleable__label-arrow:before {color: black;}#sk-5cabbc14-080b-4b0b-a3a4-00e1cfcfd977 div.sk-toggleable__content {max-height: 0;max-width: 0;overflow: hidden;text-align: left;background-color: #f0f8ff;}#sk-5cabbc14-080b-4b0b-a3a4-00e1cfcfd977 div.sk-toggleable__content pre {margin: 0.2em;color: black;border-radius: 0.25em;background-color: #f0f8ff;}#sk-5cabbc14-080b-4b0b-a3a4-00e1cfcfd977 input.sk-toggleable__control:checked~div.sk-toggleable__content {max-height: 200px;max-width: 100%;overflow: auto;}#sk-5cabbc14-080b-4b0b-a3a4-00e1cfcfd977 input.sk-toggleable__control:checked~label.sk-toggleable__label-arrow:before {content: \"▾\";}#sk-5cabbc14-080b-4b0b-a3a4-00e1cfcfd977 div.sk-estimator input.sk-toggleable__control:checked~label.sk-toggleable__label {background-color: #d4ebff;}#sk-5cabbc14-080b-4b0b-a3a4-00e1cfcfd977 div.sk-label input.sk-toggleable__control:checked~label.sk-toggleable__label {background-color: #d4ebff;}#sk-5cabbc14-080b-4b0b-a3a4-00e1cfcfd977 input.sk-hidden--visually {border: 0;clip: rect(1px 1px 1px 1px);clip: rect(1px, 1px, 1px, 1px);height: 1px;margin: -1px;overflow: hidden;padding: 0;position: absolute;width: 1px;}#sk-5cabbc14-080b-4b0b-a3a4-00e1cfcfd977 div.sk-estimator {font-family: monospace;background-color: #f0f8ff;border: 1px dotted black;border-radius: 0.25em;box-sizing: border-box;margin-bottom: 0.5em;}#sk-5cabbc14-080b-4b0b-a3a4-00e1cfcfd977 div.sk-estimator:hover {background-color: #d4ebff;}#sk-5cabbc14-080b-4b0b-a3a4-00e1cfcfd977 div.sk-parallel-item::after {content: \"\";width: 100%;border-bottom: 1px solid gray;flex-grow: 1;}#sk-5cabbc14-080b-4b0b-a3a4-00e1cfcfd977 div.sk-label:hover label.sk-toggleable__label {background-color: #d4ebff;}#sk-5cabbc14-080b-4b0b-a3a4-00e1cfcfd977 div.sk-serial::before {content: \"\";position: absolute;border-left: 1px solid gray;box-sizing: border-box;top: 2em;bottom: 0;left: 50%;}#sk-5cabbc14-080b-4b0b-a3a4-00e1cfcfd977 div.sk-serial {display: flex;flex-direction: column;align-items: center;background-color: white;padding-right: 0.2em;padding-left: 0.2em;}#sk-5cabbc14-080b-4b0b-a3a4-00e1cfcfd977 div.sk-item {z-index: 1;}#sk-5cabbc14-080b-4b0b-a3a4-00e1cfcfd977 div.sk-parallel {display: flex;align-items: stretch;justify-content: center;background-color: white;}#sk-5cabbc14-080b-4b0b-a3a4-00e1cfcfd977 div.sk-parallel::before {content: \"\";position: absolute;border-left: 1px solid gray;box-sizing: border-box;top: 2em;bottom: 0;left: 50%;}#sk-5cabbc14-080b-4b0b-a3a4-00e1cfcfd977 div.sk-parallel-item {display: flex;flex-direction: column;position: relative;background-color: white;}#sk-5cabbc14-080b-4b0b-a3a4-00e1cfcfd977 div.sk-parallel-item:first-child::after {align-self: flex-end;width: 50%;}#sk-5cabbc14-080b-4b0b-a3a4-00e1cfcfd977 div.sk-parallel-item:last-child::after {align-self: flex-start;width: 50%;}#sk-5cabbc14-080b-4b0b-a3a4-00e1cfcfd977 div.sk-parallel-item:only-child::after {width: 0;}#sk-5cabbc14-080b-4b0b-a3a4-00e1cfcfd977 div.sk-dashed-wrapped {border: 1px dashed gray;margin: 0 0.4em 0.5em 0.4em;box-sizing: border-box;padding-bottom: 0.4em;background-color: white;position: relative;}#sk-5cabbc14-080b-4b0b-a3a4-00e1cfcfd977 div.sk-label label {font-family: monospace;font-weight: bold;background-color: white;display: inline-block;line-height: 1.2em;}#sk-5cabbc14-080b-4b0b-a3a4-00e1cfcfd977 div.sk-label-container {position: relative;z-index: 2;text-align: center;}#sk-5cabbc14-080b-4b0b-a3a4-00e1cfcfd977 div.sk-container {/* jupyter's `normalize.less` sets `[hidden] { display: none; }` but bootstrap.min.css set `[hidden] { display: none !important; }` so we also need the `!important` here to be able to override the default hidden behavior on the sphinx rendered scikit-learn.org. See: https://github.com/scikit-learn/scikit-learn/issues/21755 */display: inline-block !important;position: relative;}#sk-5cabbc14-080b-4b0b-a3a4-00e1cfcfd977 div.sk-text-repr-fallback {display: none;}</style><div id=\"sk-5cabbc14-080b-4b0b-a3a4-00e1cfcfd977\" class=\"sk-top-container\"><div class=\"sk-text-repr-fallback\"><pre>Pipeline(steps=[(&#x27;scaler&#x27;, StandardScaler()), (&#x27;pca&#x27;, PCA(n_components=0.95)),\n",
              "                (&#x27;classifier&#x27;, GaussianNB())])</pre><b>Please rerun this cell to show the HTML repr or trust the notebook.</b></div><div class=\"sk-container\" hidden><div class=\"sk-item sk-dashed-wrapped\"><div class=\"sk-label-container\"><div class=\"sk-label sk-toggleable\"><input class=\"sk-toggleable__control sk-hidden--visually\" id=\"a3588d4a-9836-475f-80d4-c4653dc90a60\" type=\"checkbox\" ><label for=\"a3588d4a-9836-475f-80d4-c4653dc90a60\" class=\"sk-toggleable__label sk-toggleable__label-arrow\">Pipeline</label><div class=\"sk-toggleable__content\"><pre>Pipeline(steps=[(&#x27;scaler&#x27;, StandardScaler()), (&#x27;pca&#x27;, PCA(n_components=0.95)),\n",
              "                (&#x27;classifier&#x27;, GaussianNB())])</pre></div></div></div><div class=\"sk-serial\"><div class=\"sk-item\"><div class=\"sk-estimator sk-toggleable\"><input class=\"sk-toggleable__control sk-hidden--visually\" id=\"065cbccc-06b7-4b2c-90f8-765038a794b8\" type=\"checkbox\" ><label for=\"065cbccc-06b7-4b2c-90f8-765038a794b8\" class=\"sk-toggleable__label sk-toggleable__label-arrow\">StandardScaler</label><div class=\"sk-toggleable__content\"><pre>StandardScaler()</pre></div></div></div><div class=\"sk-item\"><div class=\"sk-estimator sk-toggleable\"><input class=\"sk-toggleable__control sk-hidden--visually\" id=\"13757a86-73f6-4bc0-9c08-77a75c08d240\" type=\"checkbox\" ><label for=\"13757a86-73f6-4bc0-9c08-77a75c08d240\" class=\"sk-toggleable__label sk-toggleable__label-arrow\">PCA</label><div class=\"sk-toggleable__content\"><pre>PCA(n_components=0.95)</pre></div></div></div><div class=\"sk-item\"><div class=\"sk-estimator sk-toggleable\"><input class=\"sk-toggleable__control sk-hidden--visually\" id=\"fe243b27-3f36-4e52-8dfa-6852fc6f3927\" type=\"checkbox\" ><label for=\"fe243b27-3f36-4e52-8dfa-6852fc6f3927\" class=\"sk-toggleable__label sk-toggleable__label-arrow\">GaussianNB</label><div class=\"sk-toggleable__content\"><pre>GaussianNB()</pre></div></div></div></div></div></div></div>"
            ]
          },
          "metadata": {},
          "execution_count": 533
        },
        {
          "output_type": "stream",
          "name": "stdout",
          "text": [
            "[[1252   68]\n",
            " [  34   10]]\n",
            "              precision    recall  f1-score   support\n",
            "\n",
            "           0       0.97      0.95      0.96      1320\n",
            "           1       0.13      0.23      0.16        44\n",
            "\n",
            "    accuracy                           0.93      1364\n",
            "   macro avg       0.55      0.59      0.56      1364\n",
            "weighted avg       0.95      0.93      0.94      1364\n",
            "\n"
          ]
        },
        {
          "output_type": "execute_result",
          "data": {
            "text/plain": [
              "Pipeline(steps=[('scaler', StandardScaler()), ('pca', PCA(n_components=0.95)),\n",
              "                ('classifier', SVC(gamma='auto'))])"
            ],
            "text/html": [
              "<style>#sk-0632e42f-f874-47c2-bf2e-ea129edf2b04 {color: black;background-color: white;}#sk-0632e42f-f874-47c2-bf2e-ea129edf2b04 pre{padding: 0;}#sk-0632e42f-f874-47c2-bf2e-ea129edf2b04 div.sk-toggleable {background-color: white;}#sk-0632e42f-f874-47c2-bf2e-ea129edf2b04 label.sk-toggleable__label {cursor: pointer;display: block;width: 100%;margin-bottom: 0;padding: 0.3em;box-sizing: border-box;text-align: center;}#sk-0632e42f-f874-47c2-bf2e-ea129edf2b04 label.sk-toggleable__label-arrow:before {content: \"▸\";float: left;margin-right: 0.25em;color: #696969;}#sk-0632e42f-f874-47c2-bf2e-ea129edf2b04 label.sk-toggleable__label-arrow:hover:before {color: black;}#sk-0632e42f-f874-47c2-bf2e-ea129edf2b04 div.sk-estimator:hover label.sk-toggleable__label-arrow:before {color: black;}#sk-0632e42f-f874-47c2-bf2e-ea129edf2b04 div.sk-toggleable__content {max-height: 0;max-width: 0;overflow: hidden;text-align: left;background-color: #f0f8ff;}#sk-0632e42f-f874-47c2-bf2e-ea129edf2b04 div.sk-toggleable__content pre {margin: 0.2em;color: black;border-radius: 0.25em;background-color: #f0f8ff;}#sk-0632e42f-f874-47c2-bf2e-ea129edf2b04 input.sk-toggleable__control:checked~div.sk-toggleable__content {max-height: 200px;max-width: 100%;overflow: auto;}#sk-0632e42f-f874-47c2-bf2e-ea129edf2b04 input.sk-toggleable__control:checked~label.sk-toggleable__label-arrow:before {content: \"▾\";}#sk-0632e42f-f874-47c2-bf2e-ea129edf2b04 div.sk-estimator input.sk-toggleable__control:checked~label.sk-toggleable__label {background-color: #d4ebff;}#sk-0632e42f-f874-47c2-bf2e-ea129edf2b04 div.sk-label input.sk-toggleable__control:checked~label.sk-toggleable__label {background-color: #d4ebff;}#sk-0632e42f-f874-47c2-bf2e-ea129edf2b04 input.sk-hidden--visually {border: 0;clip: rect(1px 1px 1px 1px);clip: rect(1px, 1px, 1px, 1px);height: 1px;margin: -1px;overflow: hidden;padding: 0;position: absolute;width: 1px;}#sk-0632e42f-f874-47c2-bf2e-ea129edf2b04 div.sk-estimator {font-family: monospace;background-color: #f0f8ff;border: 1px dotted black;border-radius: 0.25em;box-sizing: border-box;margin-bottom: 0.5em;}#sk-0632e42f-f874-47c2-bf2e-ea129edf2b04 div.sk-estimator:hover {background-color: #d4ebff;}#sk-0632e42f-f874-47c2-bf2e-ea129edf2b04 div.sk-parallel-item::after {content: \"\";width: 100%;border-bottom: 1px solid gray;flex-grow: 1;}#sk-0632e42f-f874-47c2-bf2e-ea129edf2b04 div.sk-label:hover label.sk-toggleable__label {background-color: #d4ebff;}#sk-0632e42f-f874-47c2-bf2e-ea129edf2b04 div.sk-serial::before {content: \"\";position: absolute;border-left: 1px solid gray;box-sizing: border-box;top: 2em;bottom: 0;left: 50%;}#sk-0632e42f-f874-47c2-bf2e-ea129edf2b04 div.sk-serial {display: flex;flex-direction: column;align-items: center;background-color: white;padding-right: 0.2em;padding-left: 0.2em;}#sk-0632e42f-f874-47c2-bf2e-ea129edf2b04 div.sk-item {z-index: 1;}#sk-0632e42f-f874-47c2-bf2e-ea129edf2b04 div.sk-parallel {display: flex;align-items: stretch;justify-content: center;background-color: white;}#sk-0632e42f-f874-47c2-bf2e-ea129edf2b04 div.sk-parallel::before {content: \"\";position: absolute;border-left: 1px solid gray;box-sizing: border-box;top: 2em;bottom: 0;left: 50%;}#sk-0632e42f-f874-47c2-bf2e-ea129edf2b04 div.sk-parallel-item {display: flex;flex-direction: column;position: relative;background-color: white;}#sk-0632e42f-f874-47c2-bf2e-ea129edf2b04 div.sk-parallel-item:first-child::after {align-self: flex-end;width: 50%;}#sk-0632e42f-f874-47c2-bf2e-ea129edf2b04 div.sk-parallel-item:last-child::after {align-self: flex-start;width: 50%;}#sk-0632e42f-f874-47c2-bf2e-ea129edf2b04 div.sk-parallel-item:only-child::after {width: 0;}#sk-0632e42f-f874-47c2-bf2e-ea129edf2b04 div.sk-dashed-wrapped {border: 1px dashed gray;margin: 0 0.4em 0.5em 0.4em;box-sizing: border-box;padding-bottom: 0.4em;background-color: white;position: relative;}#sk-0632e42f-f874-47c2-bf2e-ea129edf2b04 div.sk-label label {font-family: monospace;font-weight: bold;background-color: white;display: inline-block;line-height: 1.2em;}#sk-0632e42f-f874-47c2-bf2e-ea129edf2b04 div.sk-label-container {position: relative;z-index: 2;text-align: center;}#sk-0632e42f-f874-47c2-bf2e-ea129edf2b04 div.sk-container {/* jupyter's `normalize.less` sets `[hidden] { display: none; }` but bootstrap.min.css set `[hidden] { display: none !important; }` so we also need the `!important` here to be able to override the default hidden behavior on the sphinx rendered scikit-learn.org. See: https://github.com/scikit-learn/scikit-learn/issues/21755 */display: inline-block !important;position: relative;}#sk-0632e42f-f874-47c2-bf2e-ea129edf2b04 div.sk-text-repr-fallback {display: none;}</style><div id=\"sk-0632e42f-f874-47c2-bf2e-ea129edf2b04\" class=\"sk-top-container\"><div class=\"sk-text-repr-fallback\"><pre>Pipeline(steps=[(&#x27;scaler&#x27;, StandardScaler()), (&#x27;pca&#x27;, PCA(n_components=0.95)),\n",
              "                (&#x27;classifier&#x27;, SVC(gamma=&#x27;auto&#x27;))])</pre><b>Please rerun this cell to show the HTML repr or trust the notebook.</b></div><div class=\"sk-container\" hidden><div class=\"sk-item sk-dashed-wrapped\"><div class=\"sk-label-container\"><div class=\"sk-label sk-toggleable\"><input class=\"sk-toggleable__control sk-hidden--visually\" id=\"47b4a701-5101-48e0-b483-3eee7d42f0ac\" type=\"checkbox\" ><label for=\"47b4a701-5101-48e0-b483-3eee7d42f0ac\" class=\"sk-toggleable__label sk-toggleable__label-arrow\">Pipeline</label><div class=\"sk-toggleable__content\"><pre>Pipeline(steps=[(&#x27;scaler&#x27;, StandardScaler()), (&#x27;pca&#x27;, PCA(n_components=0.95)),\n",
              "                (&#x27;classifier&#x27;, SVC(gamma=&#x27;auto&#x27;))])</pre></div></div></div><div class=\"sk-serial\"><div class=\"sk-item\"><div class=\"sk-estimator sk-toggleable\"><input class=\"sk-toggleable__control sk-hidden--visually\" id=\"f723585c-8142-4905-a0d8-2e1c9005d5b6\" type=\"checkbox\" ><label for=\"f723585c-8142-4905-a0d8-2e1c9005d5b6\" class=\"sk-toggleable__label sk-toggleable__label-arrow\">StandardScaler</label><div class=\"sk-toggleable__content\"><pre>StandardScaler()</pre></div></div></div><div class=\"sk-item\"><div class=\"sk-estimator sk-toggleable\"><input class=\"sk-toggleable__control sk-hidden--visually\" id=\"867e0e82-5744-4c62-b66c-f3186deeb7a1\" type=\"checkbox\" ><label for=\"867e0e82-5744-4c62-b66c-f3186deeb7a1\" class=\"sk-toggleable__label sk-toggleable__label-arrow\">PCA</label><div class=\"sk-toggleable__content\"><pre>PCA(n_components=0.95)</pre></div></div></div><div class=\"sk-item\"><div class=\"sk-estimator sk-toggleable\"><input class=\"sk-toggleable__control sk-hidden--visually\" id=\"f323678a-801a-4ece-bab2-72bfbef40d60\" type=\"checkbox\" ><label for=\"f323678a-801a-4ece-bab2-72bfbef40d60\" class=\"sk-toggleable__label sk-toggleable__label-arrow\">SVC</label><div class=\"sk-toggleable__content\"><pre>SVC(gamma=&#x27;auto&#x27;)</pre></div></div></div></div></div></div></div>"
            ]
          },
          "metadata": {},
          "execution_count": 533
        },
        {
          "output_type": "stream",
          "name": "stdout",
          "text": [
            "[[1320    0]\n",
            " [  43    1]]\n",
            "              precision    recall  f1-score   support\n",
            "\n",
            "           0       0.97      1.00      0.98      1320\n",
            "           1       1.00      0.02      0.04        44\n",
            "\n",
            "    accuracy                           0.97      1364\n",
            "   macro avg       0.98      0.51      0.51      1364\n",
            "weighted avg       0.97      0.97      0.95      1364\n",
            "\n"
          ]
        },
        {
          "output_type": "execute_result",
          "data": {
            "text/plain": [
              "Pipeline(steps=[('scaler', StandardScaler()), ('pca', PCA(n_components=0.95)),\n",
              "                ('classifier', XGBClassifier())])"
            ],
            "text/html": [
              "<style>#sk-4f28bf9b-4ba2-4d1f-9a3f-0016c404199f {color: black;background-color: white;}#sk-4f28bf9b-4ba2-4d1f-9a3f-0016c404199f pre{padding: 0;}#sk-4f28bf9b-4ba2-4d1f-9a3f-0016c404199f div.sk-toggleable {background-color: white;}#sk-4f28bf9b-4ba2-4d1f-9a3f-0016c404199f label.sk-toggleable__label {cursor: pointer;display: block;width: 100%;margin-bottom: 0;padding: 0.3em;box-sizing: border-box;text-align: center;}#sk-4f28bf9b-4ba2-4d1f-9a3f-0016c404199f label.sk-toggleable__label-arrow:before {content: \"▸\";float: left;margin-right: 0.25em;color: #696969;}#sk-4f28bf9b-4ba2-4d1f-9a3f-0016c404199f label.sk-toggleable__label-arrow:hover:before {color: black;}#sk-4f28bf9b-4ba2-4d1f-9a3f-0016c404199f div.sk-estimator:hover label.sk-toggleable__label-arrow:before {color: black;}#sk-4f28bf9b-4ba2-4d1f-9a3f-0016c404199f div.sk-toggleable__content {max-height: 0;max-width: 0;overflow: hidden;text-align: left;background-color: #f0f8ff;}#sk-4f28bf9b-4ba2-4d1f-9a3f-0016c404199f div.sk-toggleable__content pre {margin: 0.2em;color: black;border-radius: 0.25em;background-color: #f0f8ff;}#sk-4f28bf9b-4ba2-4d1f-9a3f-0016c404199f input.sk-toggleable__control:checked~div.sk-toggleable__content {max-height: 200px;max-width: 100%;overflow: auto;}#sk-4f28bf9b-4ba2-4d1f-9a3f-0016c404199f input.sk-toggleable__control:checked~label.sk-toggleable__label-arrow:before {content: \"▾\";}#sk-4f28bf9b-4ba2-4d1f-9a3f-0016c404199f div.sk-estimator input.sk-toggleable__control:checked~label.sk-toggleable__label {background-color: #d4ebff;}#sk-4f28bf9b-4ba2-4d1f-9a3f-0016c404199f div.sk-label input.sk-toggleable__control:checked~label.sk-toggleable__label {background-color: #d4ebff;}#sk-4f28bf9b-4ba2-4d1f-9a3f-0016c404199f input.sk-hidden--visually {border: 0;clip: rect(1px 1px 1px 1px);clip: rect(1px, 1px, 1px, 1px);height: 1px;margin: -1px;overflow: hidden;padding: 0;position: absolute;width: 1px;}#sk-4f28bf9b-4ba2-4d1f-9a3f-0016c404199f div.sk-estimator {font-family: monospace;background-color: #f0f8ff;border: 1px dotted black;border-radius: 0.25em;box-sizing: border-box;margin-bottom: 0.5em;}#sk-4f28bf9b-4ba2-4d1f-9a3f-0016c404199f div.sk-estimator:hover {background-color: #d4ebff;}#sk-4f28bf9b-4ba2-4d1f-9a3f-0016c404199f div.sk-parallel-item::after {content: \"\";width: 100%;border-bottom: 1px solid gray;flex-grow: 1;}#sk-4f28bf9b-4ba2-4d1f-9a3f-0016c404199f div.sk-label:hover label.sk-toggleable__label {background-color: #d4ebff;}#sk-4f28bf9b-4ba2-4d1f-9a3f-0016c404199f div.sk-serial::before {content: \"\";position: absolute;border-left: 1px solid gray;box-sizing: border-box;top: 2em;bottom: 0;left: 50%;}#sk-4f28bf9b-4ba2-4d1f-9a3f-0016c404199f div.sk-serial {display: flex;flex-direction: column;align-items: center;background-color: white;padding-right: 0.2em;padding-left: 0.2em;}#sk-4f28bf9b-4ba2-4d1f-9a3f-0016c404199f div.sk-item {z-index: 1;}#sk-4f28bf9b-4ba2-4d1f-9a3f-0016c404199f div.sk-parallel {display: flex;align-items: stretch;justify-content: center;background-color: white;}#sk-4f28bf9b-4ba2-4d1f-9a3f-0016c404199f div.sk-parallel::before {content: \"\";position: absolute;border-left: 1px solid gray;box-sizing: border-box;top: 2em;bottom: 0;left: 50%;}#sk-4f28bf9b-4ba2-4d1f-9a3f-0016c404199f div.sk-parallel-item {display: flex;flex-direction: column;position: relative;background-color: white;}#sk-4f28bf9b-4ba2-4d1f-9a3f-0016c404199f div.sk-parallel-item:first-child::after {align-self: flex-end;width: 50%;}#sk-4f28bf9b-4ba2-4d1f-9a3f-0016c404199f div.sk-parallel-item:last-child::after {align-self: flex-start;width: 50%;}#sk-4f28bf9b-4ba2-4d1f-9a3f-0016c404199f div.sk-parallel-item:only-child::after {width: 0;}#sk-4f28bf9b-4ba2-4d1f-9a3f-0016c404199f div.sk-dashed-wrapped {border: 1px dashed gray;margin: 0 0.4em 0.5em 0.4em;box-sizing: border-box;padding-bottom: 0.4em;background-color: white;position: relative;}#sk-4f28bf9b-4ba2-4d1f-9a3f-0016c404199f div.sk-label label {font-family: monospace;font-weight: bold;background-color: white;display: inline-block;line-height: 1.2em;}#sk-4f28bf9b-4ba2-4d1f-9a3f-0016c404199f div.sk-label-container {position: relative;z-index: 2;text-align: center;}#sk-4f28bf9b-4ba2-4d1f-9a3f-0016c404199f div.sk-container {/* jupyter's `normalize.less` sets `[hidden] { display: none; }` but bootstrap.min.css set `[hidden] { display: none !important; }` so we also need the `!important` here to be able to override the default hidden behavior on the sphinx rendered scikit-learn.org. See: https://github.com/scikit-learn/scikit-learn/issues/21755 */display: inline-block !important;position: relative;}#sk-4f28bf9b-4ba2-4d1f-9a3f-0016c404199f div.sk-text-repr-fallback {display: none;}</style><div id=\"sk-4f28bf9b-4ba2-4d1f-9a3f-0016c404199f\" class=\"sk-top-container\"><div class=\"sk-text-repr-fallback\"><pre>Pipeline(steps=[(&#x27;scaler&#x27;, StandardScaler()), (&#x27;pca&#x27;, PCA(n_components=0.95)),\n",
              "                (&#x27;classifier&#x27;, XGBClassifier())])</pre><b>Please rerun this cell to show the HTML repr or trust the notebook.</b></div><div class=\"sk-container\" hidden><div class=\"sk-item sk-dashed-wrapped\"><div class=\"sk-label-container\"><div class=\"sk-label sk-toggleable\"><input class=\"sk-toggleable__control sk-hidden--visually\" id=\"f1da2303-b55a-4764-a19e-f6dccfc78480\" type=\"checkbox\" ><label for=\"f1da2303-b55a-4764-a19e-f6dccfc78480\" class=\"sk-toggleable__label sk-toggleable__label-arrow\">Pipeline</label><div class=\"sk-toggleable__content\"><pre>Pipeline(steps=[(&#x27;scaler&#x27;, StandardScaler()), (&#x27;pca&#x27;, PCA(n_components=0.95)),\n",
              "                (&#x27;classifier&#x27;, XGBClassifier())])</pre></div></div></div><div class=\"sk-serial\"><div class=\"sk-item\"><div class=\"sk-estimator sk-toggleable\"><input class=\"sk-toggleable__control sk-hidden--visually\" id=\"9c4375db-a323-4071-9bd5-012645bc7b6f\" type=\"checkbox\" ><label for=\"9c4375db-a323-4071-9bd5-012645bc7b6f\" class=\"sk-toggleable__label sk-toggleable__label-arrow\">StandardScaler</label><div class=\"sk-toggleable__content\"><pre>StandardScaler()</pre></div></div></div><div class=\"sk-item\"><div class=\"sk-estimator sk-toggleable\"><input class=\"sk-toggleable__control sk-hidden--visually\" id=\"f5760cde-6f82-48eb-a791-21803864d621\" type=\"checkbox\" ><label for=\"f5760cde-6f82-48eb-a791-21803864d621\" class=\"sk-toggleable__label sk-toggleable__label-arrow\">PCA</label><div class=\"sk-toggleable__content\"><pre>PCA(n_components=0.95)</pre></div></div></div><div class=\"sk-item\"><div class=\"sk-estimator sk-toggleable\"><input class=\"sk-toggleable__control sk-hidden--visually\" id=\"e23ac35e-cd74-4442-9f26-409c581b57da\" type=\"checkbox\" ><label for=\"e23ac35e-cd74-4442-9f26-409c581b57da\" class=\"sk-toggleable__label sk-toggleable__label-arrow\">XGBClassifier</label><div class=\"sk-toggleable__content\"><pre>XGBClassifier()</pre></div></div></div></div></div></div></div>"
            ]
          },
          "metadata": {},
          "execution_count": 533
        },
        {
          "output_type": "stream",
          "name": "stdout",
          "text": [
            "[[1311    9]\n",
            " [  39    5]]\n",
            "              precision    recall  f1-score   support\n",
            "\n",
            "           0       0.97      0.99      0.98      1320\n",
            "           1       0.36      0.11      0.17        44\n",
            "\n",
            "    accuracy                           0.96      1364\n",
            "   macro avg       0.66      0.55      0.58      1364\n",
            "weighted avg       0.95      0.96      0.96      1364\n",
            "\n"
          ]
        },
        {
          "output_type": "execute_result",
          "data": {
            "text/plain": [
              "Pipeline(steps=[('scaler', StandardScaler()), ('pca', PCA(n_components=0.95)),\n",
              "                ('classifier', RandomForestClassifier())])"
            ],
            "text/html": [
              "<style>#sk-113aee95-d0ae-4cad-a0d8-8c74b1797dd6 {color: black;background-color: white;}#sk-113aee95-d0ae-4cad-a0d8-8c74b1797dd6 pre{padding: 0;}#sk-113aee95-d0ae-4cad-a0d8-8c74b1797dd6 div.sk-toggleable {background-color: white;}#sk-113aee95-d0ae-4cad-a0d8-8c74b1797dd6 label.sk-toggleable__label {cursor: pointer;display: block;width: 100%;margin-bottom: 0;padding: 0.3em;box-sizing: border-box;text-align: center;}#sk-113aee95-d0ae-4cad-a0d8-8c74b1797dd6 label.sk-toggleable__label-arrow:before {content: \"▸\";float: left;margin-right: 0.25em;color: #696969;}#sk-113aee95-d0ae-4cad-a0d8-8c74b1797dd6 label.sk-toggleable__label-arrow:hover:before {color: black;}#sk-113aee95-d0ae-4cad-a0d8-8c74b1797dd6 div.sk-estimator:hover label.sk-toggleable__label-arrow:before {color: black;}#sk-113aee95-d0ae-4cad-a0d8-8c74b1797dd6 div.sk-toggleable__content {max-height: 0;max-width: 0;overflow: hidden;text-align: left;background-color: #f0f8ff;}#sk-113aee95-d0ae-4cad-a0d8-8c74b1797dd6 div.sk-toggleable__content pre {margin: 0.2em;color: black;border-radius: 0.25em;background-color: #f0f8ff;}#sk-113aee95-d0ae-4cad-a0d8-8c74b1797dd6 input.sk-toggleable__control:checked~div.sk-toggleable__content {max-height: 200px;max-width: 100%;overflow: auto;}#sk-113aee95-d0ae-4cad-a0d8-8c74b1797dd6 input.sk-toggleable__control:checked~label.sk-toggleable__label-arrow:before {content: \"▾\";}#sk-113aee95-d0ae-4cad-a0d8-8c74b1797dd6 div.sk-estimator input.sk-toggleable__control:checked~label.sk-toggleable__label {background-color: #d4ebff;}#sk-113aee95-d0ae-4cad-a0d8-8c74b1797dd6 div.sk-label input.sk-toggleable__control:checked~label.sk-toggleable__label {background-color: #d4ebff;}#sk-113aee95-d0ae-4cad-a0d8-8c74b1797dd6 input.sk-hidden--visually {border: 0;clip: rect(1px 1px 1px 1px);clip: rect(1px, 1px, 1px, 1px);height: 1px;margin: -1px;overflow: hidden;padding: 0;position: absolute;width: 1px;}#sk-113aee95-d0ae-4cad-a0d8-8c74b1797dd6 div.sk-estimator {font-family: monospace;background-color: #f0f8ff;border: 1px dotted black;border-radius: 0.25em;box-sizing: border-box;margin-bottom: 0.5em;}#sk-113aee95-d0ae-4cad-a0d8-8c74b1797dd6 div.sk-estimator:hover {background-color: #d4ebff;}#sk-113aee95-d0ae-4cad-a0d8-8c74b1797dd6 div.sk-parallel-item::after {content: \"\";width: 100%;border-bottom: 1px solid gray;flex-grow: 1;}#sk-113aee95-d0ae-4cad-a0d8-8c74b1797dd6 div.sk-label:hover label.sk-toggleable__label {background-color: #d4ebff;}#sk-113aee95-d0ae-4cad-a0d8-8c74b1797dd6 div.sk-serial::before {content: \"\";position: absolute;border-left: 1px solid gray;box-sizing: border-box;top: 2em;bottom: 0;left: 50%;}#sk-113aee95-d0ae-4cad-a0d8-8c74b1797dd6 div.sk-serial {display: flex;flex-direction: column;align-items: center;background-color: white;padding-right: 0.2em;padding-left: 0.2em;}#sk-113aee95-d0ae-4cad-a0d8-8c74b1797dd6 div.sk-item {z-index: 1;}#sk-113aee95-d0ae-4cad-a0d8-8c74b1797dd6 div.sk-parallel {display: flex;align-items: stretch;justify-content: center;background-color: white;}#sk-113aee95-d0ae-4cad-a0d8-8c74b1797dd6 div.sk-parallel::before {content: \"\";position: absolute;border-left: 1px solid gray;box-sizing: border-box;top: 2em;bottom: 0;left: 50%;}#sk-113aee95-d0ae-4cad-a0d8-8c74b1797dd6 div.sk-parallel-item {display: flex;flex-direction: column;position: relative;background-color: white;}#sk-113aee95-d0ae-4cad-a0d8-8c74b1797dd6 div.sk-parallel-item:first-child::after {align-self: flex-end;width: 50%;}#sk-113aee95-d0ae-4cad-a0d8-8c74b1797dd6 div.sk-parallel-item:last-child::after {align-self: flex-start;width: 50%;}#sk-113aee95-d0ae-4cad-a0d8-8c74b1797dd6 div.sk-parallel-item:only-child::after {width: 0;}#sk-113aee95-d0ae-4cad-a0d8-8c74b1797dd6 div.sk-dashed-wrapped {border: 1px dashed gray;margin: 0 0.4em 0.5em 0.4em;box-sizing: border-box;padding-bottom: 0.4em;background-color: white;position: relative;}#sk-113aee95-d0ae-4cad-a0d8-8c74b1797dd6 div.sk-label label {font-family: monospace;font-weight: bold;background-color: white;display: inline-block;line-height: 1.2em;}#sk-113aee95-d0ae-4cad-a0d8-8c74b1797dd6 div.sk-label-container {position: relative;z-index: 2;text-align: center;}#sk-113aee95-d0ae-4cad-a0d8-8c74b1797dd6 div.sk-container {/* jupyter's `normalize.less` sets `[hidden] { display: none; }` but bootstrap.min.css set `[hidden] { display: none !important; }` so we also need the `!important` here to be able to override the default hidden behavior on the sphinx rendered scikit-learn.org. See: https://github.com/scikit-learn/scikit-learn/issues/21755 */display: inline-block !important;position: relative;}#sk-113aee95-d0ae-4cad-a0d8-8c74b1797dd6 div.sk-text-repr-fallback {display: none;}</style><div id=\"sk-113aee95-d0ae-4cad-a0d8-8c74b1797dd6\" class=\"sk-top-container\"><div class=\"sk-text-repr-fallback\"><pre>Pipeline(steps=[(&#x27;scaler&#x27;, StandardScaler()), (&#x27;pca&#x27;, PCA(n_components=0.95)),\n",
              "                (&#x27;classifier&#x27;, RandomForestClassifier())])</pre><b>Please rerun this cell to show the HTML repr or trust the notebook.</b></div><div class=\"sk-container\" hidden><div class=\"sk-item sk-dashed-wrapped\"><div class=\"sk-label-container\"><div class=\"sk-label sk-toggleable\"><input class=\"sk-toggleable__control sk-hidden--visually\" id=\"17011120-a8ab-4617-8f12-1cb558190e4e\" type=\"checkbox\" ><label for=\"17011120-a8ab-4617-8f12-1cb558190e4e\" class=\"sk-toggleable__label sk-toggleable__label-arrow\">Pipeline</label><div class=\"sk-toggleable__content\"><pre>Pipeline(steps=[(&#x27;scaler&#x27;, StandardScaler()), (&#x27;pca&#x27;, PCA(n_components=0.95)),\n",
              "                (&#x27;classifier&#x27;, RandomForestClassifier())])</pre></div></div></div><div class=\"sk-serial\"><div class=\"sk-item\"><div class=\"sk-estimator sk-toggleable\"><input class=\"sk-toggleable__control sk-hidden--visually\" id=\"46e76c4a-5551-4b86-aaa9-f439f2b6d5e9\" type=\"checkbox\" ><label for=\"46e76c4a-5551-4b86-aaa9-f439f2b6d5e9\" class=\"sk-toggleable__label sk-toggleable__label-arrow\">StandardScaler</label><div class=\"sk-toggleable__content\"><pre>StandardScaler()</pre></div></div></div><div class=\"sk-item\"><div class=\"sk-estimator sk-toggleable\"><input class=\"sk-toggleable__control sk-hidden--visually\" id=\"863bfed7-bf04-43ba-9c10-330050f09d88\" type=\"checkbox\" ><label for=\"863bfed7-bf04-43ba-9c10-330050f09d88\" class=\"sk-toggleable__label sk-toggleable__label-arrow\">PCA</label><div class=\"sk-toggleable__content\"><pre>PCA(n_components=0.95)</pre></div></div></div><div class=\"sk-item\"><div class=\"sk-estimator sk-toggleable\"><input class=\"sk-toggleable__control sk-hidden--visually\" id=\"fbc92263-95a0-4caa-aa61-d50f9db0ca5e\" type=\"checkbox\" ><label for=\"fbc92263-95a0-4caa-aa61-d50f9db0ca5e\" class=\"sk-toggleable__label sk-toggleable__label-arrow\">RandomForestClassifier</label><div class=\"sk-toggleable__content\"><pre>RandomForestClassifier()</pre></div></div></div></div></div></div></div>"
            ]
          },
          "metadata": {},
          "execution_count": 533
        },
        {
          "output_type": "stream",
          "name": "stdout",
          "text": [
            "[[1316    4]\n",
            " [  41    3]]\n",
            "              precision    recall  f1-score   support\n",
            "\n",
            "           0       0.97      1.00      0.98      1320\n",
            "           1       0.43      0.07      0.12        44\n",
            "\n",
            "    accuracy                           0.97      1364\n",
            "   macro avg       0.70      0.53      0.55      1364\n",
            "weighted avg       0.95      0.97      0.96      1364\n",
            "\n"
          ]
        }
      ]
    },
    {
      "cell_type": "markdown",
      "source": [
        "# SMOTE plus PCA"
      ],
      "metadata": {
        "id": "L0-q1ZLjIEuP"
      }
    },
    {
      "cell_type": "code",
      "source": [
        "print(\"Before OverSampling count of Bankrupt: {}\".format(sum(y_train_pca ==1)))\n",
        "print(\"Before OverSampling count of not Bankrupt: {} \\n\".format(sum(y_train_pca ==0)))"
      ],
      "metadata": {
        "colab": {
          "base_uri": "https://localhost:8080/"
        },
        "id": "5o0KV4XUID--",
        "outputId": "c6a078a0-dd46-4f98-ead9-7072b8ab6af6"
      },
      "execution_count": null,
      "outputs": [
        {
          "output_type": "stream",
          "name": "stdout",
          "text": [
            "Before OverSampling count of Bankrupt: 176\n",
            "Before OverSampling count of not Bankrupt: 5279 \n",
            "\n"
          ]
        }
      ]
    },
    {
      "cell_type": "code",
      "source": [
        "import smote_variants as sv\n",
        "\n",
        "# Instantiating the SMOTE class\n",
        "oversampler= sv.SMOTE()\n",
        "\n",
        "X_train_ov_pca, y_train_ov_pca = oversampler.sample(np.array(X_train_pca), np.array(y_train_pca))\n",
        "\n",
        "# Shape after oversampling\n",
        "\n",
        "print('After OverSampling, the shape of train_X: {}'.format(X_train_ov_pca.shape))\n",
        "print('After OverSampling, the shape of train_y: {} \\n'.format(y_train_ov_pca.shape))\n",
        "\n",
        "print(\"After OverSampling, counts of label 'Yes': {}\".format(sum(y_train_ov_pca==1)))\n",
        "print(\"After OverSampling, counts of label 'no': {}\".format(sum(y_train_ov_pca==0)))"
      ],
      "metadata": {
        "colab": {
          "base_uri": "https://localhost:8080/"
        },
        "id": "0C6vEPjBIuPA",
        "outputId": "9f0413dc-263a-4d6e-91be-c2bbc334a143"
      },
      "execution_count": null,
      "outputs": [
        {
          "output_type": "stream",
          "name": "stderr",
          "text": [
            "2022-12-03 12:23:15,634:INFO:SMOTE: Running sampling via ('SMOTE', \"{'proportion': 1.0, 'n_neighbors': 5, 'nn_params': {}, 'n_jobs': 1, 'ss_params': {'n_dim': 2, 'simplex_sampling': 'random', 'within_simplex_sampling': 'random', 'gaussian_component': {}}, 'random_state': None, 'class_name': 'SMOTE'}\")\n",
            "INFO:smote_variants:SMOTE: Running sampling via ('SMOTE', \"{'proportion': 1.0, 'n_neighbors': 5, 'nn_params': {}, 'n_jobs': 1, 'ss_params': {'n_dim': 2, 'simplex_sampling': 'random', 'within_simplex_sampling': 'random', 'gaussian_component': {}}, 'random_state': None, 'class_name': 'SMOTE'}\")\n",
            "2022-12-03 12:23:15,654:INFO:NearestNeighborsWithMetricTensor: NN fitting with metric minkowski\n",
            "INFO:smote_variants:NearestNeighborsWithMetricTensor: NN fitting with metric minkowski\n",
            "2022-12-03 12:23:15,661:INFO:NearestNeighborsWithMetricTensor: kneighbors query minkowski\n",
            "INFO:smote_variants:NearestNeighborsWithMetricTensor: kneighbors query minkowski\n",
            "2022-12-03 12:23:15,711:INFO:SMOTE: simplex sampling with n_dim 2\n",
            "INFO:smote_variants:SMOTE: simplex sampling with n_dim 2\n"
          ]
        },
        {
          "output_type": "stream",
          "name": "stdout",
          "text": [
            "After OverSampling, the shape of train_X: (10558, 93)\n",
            "After OverSampling, the shape of train_y: (10558,) \n",
            "\n",
            "After OverSampling, counts of label 'Yes': 5279\n",
            "After OverSampling, counts of label 'no': 5279\n"
          ]
        }
      ]
    },
    {
      "cell_type": "code",
      "source": [
        "for name, model in modelsPCA:\n",
        "  pipe = Pipeline(steps=[('scaler', StandardScaler()), ('pca', PCA(n_components=.95)), ('classifier', model)])\n",
        "  kfold = StratifiedKFold(n_splits=10, random_state=1, shuffle=True)\n",
        "  cv_results = cross_val_score(pipe, X_train_ov_pca, y_train_ov_pca, cv=kfold, scoring='accuracy')\n",
        "  results_pca.append(cv_results)\n",
        "  names_pca.append(name)\n",
        "  print('%s: %f accuracy   (%f) std' % (name, cv_results.mean(), cv_results.std()))"
      ],
      "metadata": {
        "colab": {
          "base_uri": "https://localhost:8080/"
        },
        "id": "TJBYIiUbNnt8",
        "outputId": "a069699a-5c78-43d3-ea33-1205f22d85d8"
      },
      "execution_count": null,
      "outputs": [
        {
          "output_type": "stream",
          "name": "stdout",
          "text": [
            "LR: 0.903108 accuracy   (0.006697) std\n",
            "LDA: 0.892689 accuracy   (0.007741) std\n",
            "KNN: 0.946202 accuracy   (0.006862) std\n",
            "CART: 0.948002 accuracy   (0.003728) std\n",
            "NB: 0.537793 accuracy   (0.015311) std\n",
            "SVM: 0.965524 accuracy   (0.004173) std\n",
            "XGB: 0.947245 accuracy   (0.006609) std\n",
            "RFC: 0.981342 accuracy   (0.003387) std\n"
          ]
        }
      ]
    },
    {
      "cell_type": "code",
      "source": [
        "for name, model in modelsPCA:\n",
        "  pipe = Pipeline(steps=[('scaler', StandardScaler()), ('pca', PCA(n_components=.95)), ('classifier', model)])\n",
        "  kfold = StratifiedKFold(n_splits=10, random_state=1, shuffle=True)\n",
        "  cv_results = cross_val_score(pipe, X_train_ov_pca, y_train_ov_pca, cv=kfold, scoring='precision')\n",
        "  results_pca.append(cv_results)\n",
        "  names_pca.append(name)\n",
        "  print('%s: %f precision   (%f) std' % (name, cv_results.mean(), cv_results.std()))"
      ],
      "metadata": {
        "colab": {
          "base_uri": "https://localhost:8080/"
        },
        "id": "_XxhmGelIo-8",
        "outputId": "e0f75f87-4927-40af-99bb-a6903477252f"
      },
      "execution_count": null,
      "outputs": [
        {
          "output_type": "stream",
          "name": "stdout",
          "text": [
            "LR: 0.891657 precision   (0.011890) std\n",
            "LDA: 0.864594 precision   (0.011049) std\n",
            "KNN: 0.903411 precision   (0.011263) std\n",
            "CART: 0.931009 precision   (0.006201) std\n",
            "NB: 0.521519 precision   (0.008947) std\n",
            "SVM: 0.946517 precision   (0.008767) std\n",
            "XGB: 0.924096 precision   (0.008536) std\n",
            "RFC: 0.966905 precision   (0.004902) std\n"
          ]
        }
      ]
    },
    {
      "cell_type": "code",
      "source": [
        "for name, model in modelsPCA:\n",
        "  pipe = Pipeline(steps=[('scaler', StandardScaler()), ('pca', PCA(n_components=.95)), ('classifier', model)])\n",
        "  kfold = StratifiedKFold(n_splits=10, random_state=1, shuffle=True)\n",
        "  cv_results = cross_val_score(pipe, X_train_ov_pca, y_train_ov_pca, cv=kfold, scoring='recall')\n",
        "  results_pca.append(cv_results)\n",
        "  names_pca.append(name)\n",
        "  print('%s: %f recall   (%f) std' % (name, cv_results.mean(), cv_results.std()))"
      ],
      "metadata": {
        "colab": {
          "base_uri": "https://localhost:8080/"
        },
        "id": "qAxW7lBzNpMe",
        "outputId": "bdd72a1a-f244-49b4-c3d4-4807631db7db"
      },
      "execution_count": null,
      "outputs": [
        {
          "output_type": "stream",
          "name": "stdout",
          "text": [
            "LR: 0.917977 recall   (0.007486) std\n",
            "LDA: 0.931429 recall   (0.007829) std\n",
            "KNN: 0.999431 recall   (0.000868) std\n",
            "CART: 0.965525 recall   (0.004379) std\n",
            "NB: 0.917976 recall   (0.012571) std\n",
            "SVM: 0.986930 recall   (0.004970) std\n",
            "XGB: 0.974617 recall   (0.007772) std\n",
            "RFC: 0.995643 recall   (0.002942) std\n"
          ]
        }
      ]
    },
    {
      "cell_type": "code",
      "source": [
        "for name, model in modelsPCA:\n",
        "  pipe = Pipeline(steps=[('scaler', StandardScaler()), ('pca', PCA(n_components=.95)), ('classifier', model)])\n",
        "  kfold = StratifiedKFold(n_splits=10, random_state=1, shuffle=True)\n",
        "  cv_results = cross_val_score(pipe, X_train_ov_pca, y_train_ov_pca, cv=kfold, scoring='f1')\n",
        "  results_pca.append(cv_results)\n",
        "  names_pca.append(name)\n",
        "  print('%s: %f f1   (%f) std' % (name, cv_results.mean(), cv_results.std()))"
      ],
      "metadata": {
        "colab": {
          "base_uri": "https://localhost:8080/"
        },
        "id": "sy7iZOpBV2Ht",
        "outputId": "f6e06d80-3888-4043-b3fe-239fd64ab7b4"
      },
      "execution_count": null,
      "outputs": [
        {
          "output_type": "stream",
          "name": "stdout",
          "text": [
            "LR: 0.904554 f1   (0.006077) std\n",
            "LDA: 0.896716 f1   (0.007029) std\n",
            "KNN: 0.948961 f1   (0.006189) std\n",
            "CART: 0.947756 f1   (0.004843) std\n",
            "NB: 0.665137 f1   (0.010142) std\n",
            "SVM: 0.966263 f1   (0.003947) std\n",
            "XGB: 0.948656 f1   (0.006377) std\n",
            "RFC: 0.980948 f1   (0.003512) std\n"
          ]
        }
      ]
    }
  ],
  "metadata": {
    "colab": {
      "provenance": [],
      "toc_visible": true,
      "collapsed_sections": [
        "T0Pfigti9wsQ",
        "jOL_MighsGj1",
        "Is9ZXipXskbz",
        "kxg4fMIDtDcs",
        "y52S4f4fyRab",
        "LDo9yP9Z_d3Q",
        "UmZzdPsIAw4f",
        "otCEmh46JMMn",
        "Fwd5yVoZZC6q",
        "jUwXans0CQDw",
        "02oDe6qxB77u",
        "_yT_fE1YLPTm",
        "4dHlYnoCLpje",
        "cVup3dj3GGkA",
        "6eJFS24yJwEg",
        "MK0euDakITGV",
        "cmzVUy3HJtMu",
        "w7-wqZ1qJ2hl",
        "ouJkwpumMAwt",
        "npXq-pdVKCkm",
        "7Hj8OUJvNV9Q",
        "MnAMhzWsPly0",
        "NfIgjRw6T-w8",
        "MOLG0dXy09ji",
        "shZ3CdNvirni",
        "Wo-LZErT0UgG",
        "mHC22k-b26AT",
        "6lI9Wf414bn1",
        "ARTtPQdo5m8w",
        "qg-KfXOC6qcI",
        "qgvmt6xm7nmu",
        "FwAjCTZWZVNi",
        "_1zWzqjLZZIJ",
        "ApcZd1D6RHxk",
        "L0-q1ZLjIEuP"
      ]
    },
    "kernelspec": {
      "display_name": "Python 3",
      "name": "python3"
    },
    "language_info": {
      "name": "python"
    }
  },
  "nbformat": 4,
  "nbformat_minor": 0
}