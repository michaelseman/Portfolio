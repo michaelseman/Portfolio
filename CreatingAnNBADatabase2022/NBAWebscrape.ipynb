{
  "nbformat": 4,
  "nbformat_minor": 0,
  "metadata": {
    "colab": {
      "provenance": [],
      "collapsed_sections": []
    },
    "kernelspec": {
      "name": "python3",
      "display_name": "Python 3"
    },
    "language_info": {
      "name": "python"
    }
  },
  "cells": [
    {
      "cell_type": "markdown",
      "source": [
        "# 2021/2022 NBA Player Data Webscrape\n",
        "This is the code using beautiful soup library to webscrape and obtain NBA player data.\n",
        "I was at first going to attempt scrape directly from the web, but found it easier to just edit and save the HTM file due to click down menus being required to obtain all the records So I just deleted that html code, saved the htm file and scraped from that.\n",
        "Here's the link to the website where the data was found https://www.nba.com/players"
      ],
      "metadata": {
        "id": "cU0_SBreOjAE"
      }
    },
    {
      "cell_type": "code",
      "source": [
        "import requests\n",
        "from bs4 import BeautifulSoup"
      ],
      "metadata": {
        "id": "JL3wPZCWOhf8"
      },
      "execution_count": null,
      "outputs": []
    },
    {
      "cell_type": "code",
      "execution_count": null,
      "metadata": {
        "id": "qc97Oda-OeSi"
      },
      "outputs": [],
      "source": [
        "\n",
        "\n",
        "\n",
        "\n",
        "players = []\n",
        "\n",
        "# URL = \"https://www.nba.com/players\"\n",
        "# page = requests.get(URL)\n",
        "with open('PLAYERS.htm') as page:\n",
        "    outfile = open('playerdata.csv','w')\n",
        "\n",
        "    soup = BeautifulSoup(page, \"html.parser\")\n",
        "    table = soup.find(class_=\"players-list\")\n",
        "    tbody = table.find(\"tbody\")\n",
        "    rows = tbody.find_all(\"tr\")\n",
        "    counter = 0\n",
        "    for row in rows:\n",
        "        tds = row.find_all(\"td\")\n",
        "        name = tds[0].find_all(\"p\")\n",
        "        # print(name[0].string + \" \" + name[1].string)\n",
        "        outfile.write(name[0].string + \",\" + name[1].string+',')\n",
        "        for number in range(1,8):\n",
        "            if number < 7:\n",
        "                try:\n",
        "                    outfile.write(tds[number].string+',')\n",
        "                except TypeError:\n",
        "                    outfile.write('None,')\n",
        "            else:\n",
        "                outfile.write(tds[number].string)\n",
        "        outfile.write('\\n')\n"
      ]
    }
  ]
}
